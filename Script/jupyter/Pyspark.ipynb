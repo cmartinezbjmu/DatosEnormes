{
 "cells": [
  {
   "cell_type": "code",
   "execution_count": 107,
   "metadata": {},
   "outputs": [],
   "source": [
    "import pyspark\n",
    "import pandas as pd\n",
    "import pyspark\n",
    "from pyspark import SparkContext\n",
    "#sc = SparkContext()"
   ]
  },
  {
   "cell_type": "code",
   "execution_count": 120,
   "metadata": {},
   "outputs": [],
   "source": [
    "from pymongo import MongoClient, errors\n",
    "from pyspark.ml.feature import RegexTokenizer, CountVectorizer\n",
    "from pyspark.ml.classification import LogisticRegression\n",
    "import pandas_profiling"
   ]
  },
  {
   "cell_type": "code",
   "execution_count": 121,
   "metadata": {},
   "outputs": [
    {
     "name": "stdout",
     "output_type": "stream",
     "text": [
      "721\n"
     ]
    }
   ],
   "source": [
    "while True:\n",
    "    try:\n",
    "        client = MongoClient(\"mongodb://bigdata-mongodb-04.virtual.uniandes.edu.co:8087/\", retryWrites=False, serverSelectionTimeoutMS=10, connectTimeoutMS=20000)\n",
    "        client.server_info() # force connection on a request as the\n",
    "    except errors.ServerSelectionTimeoutError as err:\n",
    "        print(err)\n",
    "    finally:\n",
    "        if client.server_info():            \n",
    "            break\n",
    "\n",
    "database = client[\"Grupo03\"]\n",
    "collection = database[\"COL_dataset\"]\n",
    "query = {}\n",
    "query[\"emocion\"] = {\n",
    "\n",
    "    u\"$ne\": u\"\"\n",
    "\n",
    "}\n",
    "query[\"$and\"] = [\n",
    "\n",
    "    {\n",
    "\n",
    "        u\"emocion\": {\n",
    "\n",
    "            u\"$exists\": True\n",
    "\n",
    "        }\n",
    "\n",
    "    }\n",
    "\n",
    "]\n",
    "\n",
    "cursor = collection.find(query)\n",
    "data = []\n",
    "\n",
    "for doc in cursor:\n",
    "    try:\n",
    "        data.append([doc['id'], doc['user'].lower(), doc['tweet'].lower(), doc['id_reply_or_quote'],\n",
    "                     doc['user_replier'].lower(), doc['reply_or_quote'].lower(), doc['emocion'], \n",
    "                     doc['tendencia'], doc['coherencia']])\n",
    "        \n",
    "    except KeyError as e:        \n",
    "        data.append([doc['id'], doc['user'].lower(), doc['tweet'].lower(), doc['id_reply_or_quote'],\n",
    "                     doc['user_replier'].lower(), doc['reply_or_quote'].lower(), doc['emocion'], doc['tendencia'], ''])\n",
    "        continue\n",
    "\n",
    "    \n",
    "client.close()\n",
    "   \n",
    "print(len(data))\n"
   ]
  },
  {
   "cell_type": "code",
   "execution_count": 122,
   "metadata": {},
   "outputs": [
    {
     "data": {
      "text/html": [
       "<div>\n",
       "<style scoped>\n",
       "    .dataframe tbody tr th:only-of-type {\n",
       "        vertical-align: middle;\n",
       "    }\n",
       "\n",
       "    .dataframe tbody tr th {\n",
       "        vertical-align: top;\n",
       "    }\n",
       "\n",
       "    .dataframe thead th {\n",
       "        text-align: right;\n",
       "    }\n",
       "</style>\n",
       "<table border=\"1\" class=\"dataframe\">\n",
       "  <thead>\n",
       "    <tr style=\"text-align: right;\">\n",
       "      <th></th>\n",
       "      <th>reply_or_quote</th>\n",
       "      <th>emocion</th>\n",
       "    </tr>\n",
       "  </thead>\n",
       "  <tbody>\n",
       "    <tr>\n",
       "      <th>0</th>\n",
       "      <td>@claudialopez @infopresidencia @bogota claudia...</td>\n",
       "      <td>3</td>\n",
       "    </tr>\n",
       "    <tr>\n",
       "      <th>1</th>\n",
       "      <td>@claudialopez @infopresidencia @bogota dios la...</td>\n",
       "      <td>1</td>\n",
       "    </tr>\n",
       "    <tr>\n",
       "      <th>2</th>\n",
       "      <td>@claudialopez @infopresidencia @bogota no clau...</td>\n",
       "      <td>3</td>\n",
       "    </tr>\n",
       "    <tr>\n",
       "      <th>3</th>\n",
       "      <td>@claudialopez @infopresidencia @bogota esas ba...</td>\n",
       "      <td>3</td>\n",
       "    </tr>\n",
       "    <tr>\n",
       "      <th>4</th>\n",
       "      <td>@claudialopez @infopresidencia @bogota ayuda!\\...</td>\n",
       "      <td>2</td>\n",
       "    </tr>\n",
       "  </tbody>\n",
       "</table>\n",
       "</div>"
      ],
      "text/plain": [
       "                                      reply_or_quote  emocion\n",
       "0  @claudialopez @infopresidencia @bogota claudia...        3\n",
       "1  @claudialopez @infopresidencia @bogota dios la...        1\n",
       "2  @claudialopez @infopresidencia @bogota no clau...        3\n",
       "3  @claudialopez @infopresidencia @bogota esas ba...        3\n",
       "4  @claudialopez @infopresidencia @bogota ayuda!\\...        2"
      ]
     },
     "execution_count": 122,
     "metadata": {},
     "output_type": "execute_result"
    }
   ],
   "source": [
    "df = pd.DataFrame(data,columns=['id', 'user', 'tweet', 'id_reply_or_quote', 'user_replier',\n",
    "                                'reply_or_quote', 'emocion', 'tendencia', 'coherencia'])\n",
    "df.head()\n",
    "clean_df = df.drop(['id', 'user', 'tweet', 'id_reply_or_quote', 'user_replier',\n",
    "        'tendencia', 'coherencia'], 1)\n",
    "clean_df.head()"
   ]
  },
  {
   "cell_type": "code",
   "execution_count": 123,
   "metadata": {},
   "outputs": [],
   "source": [
    "y = clean_df['emocion']\n",
    "X = clean_df.drop(columns=['emocion'], axis=1)\n"
   ]
  },
  {
   "cell_type": "code",
   "execution_count": 124,
   "metadata": {},
   "outputs": [
    {
     "data": {
      "application/vnd.jupyter.widget-view+json": {
       "model_id": "12efdaa727e547b19ea8d672cbe48136",
       "version_major": 2,
       "version_minor": 0
      },
      "text/plain": [
       "Tab(children=(HTML(value='<div id=\"overview-content\" class=\"row variable spacing\">\\n    <div class=\"row\">\\n   …"
      ]
     },
     "metadata": {},
     "output_type": "display_data"
    },
    {
     "data": {
      "text/html": [
       "Report generated with <a href=\"https://github.com/pandas-profiling/pandas-profiling\">pandas-profiling</a>."
      ],
      "text/plain": [
       "<IPython.core.display.HTML object>"
      ]
     },
     "metadata": {},
     "output_type": "display_data"
    },
    {
     "data": {
      "text/plain": []
     },
     "execution_count": 124,
     "metadata": {},
     "output_type": "execute_result"
    }
   ],
   "source": [
    "pandas_profiling.ProfileReport(clean_df)"
   ]
  },
  {
   "cell_type": "code",
   "execution_count": 125,
   "metadata": {},
   "outputs": [],
   "source": [
    "from pyspark.sql import SparkSession\n",
    "from pyspark.sql.types import *\n",
    "\n",
    "spark = SparkSession.builder.appName('pandasToSparkDF').getOrCreate()\n",
    "\n",
    "mySchema = StructType([ StructField(\"reply_or_quote\", StringType(), True)\\\n",
    "                       ,StructField(\"emocion\", IntegerType(), True)])"
   ]
  },
  {
   "cell_type": "code",
   "execution_count": 126,
   "metadata": {},
   "outputs": [],
   "source": [
    "df = spark.createDataFrame(clean_df,schema=mySchema)"
   ]
  },
  {
   "cell_type": "code",
   "execution_count": 127,
   "metadata": {},
   "outputs": [],
   "source": [
    "from pyspark.ml.feature import RegexTokenizer, StopWordsRemover, CountVectorizer\n",
    "from pyspark.ml.classification import LogisticRegression"
   ]
  },
  {
   "cell_type": "code",
   "execution_count": 128,
   "metadata": {},
   "outputs": [],
   "source": [
    "# regular expression tokenizer\n",
    "regexTokenizer = RegexTokenizer(inputCol=\"reply_or_quote\", outputCol=\"words\", pattern=\"\\\\W\")"
   ]
  },
  {
   "cell_type": "code",
   "execution_count": 129,
   "metadata": {},
   "outputs": [],
   "source": [
    "# bag of words count\n",
    "countVectors = CountVectorizer(inputCol=\"words\", outputCol=\"features\", vocabSize=10000, minDF=5)"
   ]
  },
  {
   "cell_type": "code",
   "execution_count": 130,
   "metadata": {},
   "outputs": [
    {
     "name": "stdout",
     "output_type": "stream",
     "text": [
      "+--------------------+-------+--------------------+--------------------+-----+\n",
      "|      reply_or_quote|emocion|               words|            features|label|\n",
      "+--------------------+-------+--------------------+--------------------+-----+\n",
      "|@claudialopez @in...|      3|[claudialopez, in...|(413,[0,2,6,9,20,...|  0.0|\n",
      "|@claudialopez @in...|      1|[claudialopez, in...|(413,[3,4,24,72,1...|  3.0|\n",
      "|@claudialopez @in...|      3|[claudialopez, in...|(413,[1,4,5,6,8,9...|  0.0|\n",
      "|@claudialopez @in...|      3|[claudialopez, in...|(413,[0,1,4,6,7,9...|  0.0|\n",
      "|@claudialopez @in...|      2|[claudialopez, in...|(413,[24,31,35,36...|  4.0|\n",
      "|@claudialopez los...|      0|[claudialopez, lo...|(413,[0,4,5,10,24...|  1.0|\n",
      "|@claudialopez #in...|      2|[claudialopez, in...|(413,[0,4,5,6,7,9...|  4.0|\n",
      "|@claudialopez y e...|      4|[claudialopez, y,...|(413,[4,5,24],[1....|  2.0|\n",
      "|@claudialopez @bo...|      0|[claudialopez, bo...|(413,[5,8,12,16,2...|  1.0|\n",
      "|@claudialopez muy...|      3|[claudialopez, mu...|(413,[0,1,2,3,4,5...|  0.0|\n",
      "|@claudialopez alc...|      3|[claudialopez, al...|(413,[1,2,4,5,7,1...|  0.0|\n",
      "|@claudialopez ade...|      5|[claudialopez, ad...|(413,[0,14,24,31,...|  5.0|\n",
      "|@claudialopez a l...|      3|[claudialopez, a,...|(413,[1,2,3,4,5,6...|  0.0|\n",
      "|@claudialopez bue...|      2|[claudialopez, bu...|(413,[0,1,2,3,4,5...|  4.0|\n",
      "|@claudialopez @iv...|      3|[claudialopez, iv...|(413,[0,2,3,4,5,7...|  0.0|\n",
      "|@claudialopez señ...|      2|[claudialopez, se...|(413,[0,1,2,3,4,8...|  4.0|\n",
      "|@claudialopez se ...|      5|[claudialopez, se...|(413,[7,8,24,98,2...|  5.0|\n",
      "|@claudialopez alc...|      3|[claudialopez, al...|(413,[1,2,3,4,5,9...|  0.0|\n",
      "|@claudialopez des...|      2|[claudialopez, de...|(413,[1,6,13,24,4...|  4.0|\n",
      "|@claudialopez jef...|      4|[claudialopez, je...|(413,[0,1,2,5,6,7...|  2.0|\n",
      "+--------------------+-------+--------------------+--------------------+-----+\n",
      "only showing top 20 rows\n",
      "\n"
     ]
    }
   ],
   "source": [
    "from pyspark.ml import Pipeline\n",
    "from pyspark.ml.feature import OneHotEncoder, StringIndexer, VectorAssembler\n",
    "label_stringIdx = StringIndexer(inputCol = \"emocion\", outputCol = \"label\")\n",
    "pipeline = Pipeline(stages=[regexTokenizer, countVectors, label_stringIdx])\n",
    "# Fit the pipeline to training documents.\n",
    "pipelineFit = pipeline.fit(df)\n",
    "dataset = pipelineFit.transform(df)\n",
    "dataset.show(20)"
   ]
  },
  {
   "cell_type": "code",
   "execution_count": 131,
   "metadata": {},
   "outputs": [
    {
     "name": "stdout",
     "output_type": "stream",
     "text": [
      "Training Dataset Count: 513\n",
      "Test Dataset Count: 208\n"
     ]
    }
   ],
   "source": [
    "# set seed for reproducibility\n",
    "(trainingData, testData) = dataset.randomSplit([0.7, 0.3], seed = 100)\n",
    "print(\"Training Dataset Count: \" + str(trainingData.count()))\n",
    "print(\"Test Dataset Count: \" + str(testData.count()))"
   ]
  },
  {
   "cell_type": "markdown",
   "metadata": {},
   "source": [
    "### Logistic Regression using Count Vector Features"
   ]
  },
  {
   "cell_type": "code",
   "execution_count": 132,
   "metadata": {},
   "outputs": [
    {
     "name": "stdout",
     "output_type": "stream",
     "text": [
      "+------------------------------+-------+------------------------------+-----+----------+\n",
      "|                reply_or_quote|emocion|                   probability|label|prediction|\n",
      "+------------------------------+-------+------------------------------+-----+----------+\n",
      "|@bluradioco ahí está pintad...|      3|[0.981413237043641,0.001486...|  0.0|       0.0|\n",
      "|@bluradioco deben ir a luch...|      0|[0.301938811166103,0.431392...|  1.0|       1.0|\n",
      "|@bluradioco jajajaja que ne...|      0|[0.4821385195332191,0.20609...|  1.0|       0.0|\n",
      "|@bluradioco no será mejor q...|      3|[0.6813223137409922,0.02489...|  0.0|       0.0|\n",
      "|@bluradioco soy programador...|      4|[0.3070022258133353,0.15729...|  2.0|       2.0|\n",
      "|@bluradioco 😴😴😴😴...soña...|      3|[0.5700957777159859,0.11889...|  0.0|       0.0|\n",
      "|@claudialopez #ingresosolid...|      2|[0.6406634774622589,0.03300...|  4.0|       0.0|\n",
      "|@claudialopez @infopresiden...|      2|[0.44956851424285377,0.2514...|  4.0|       0.0|\n",
      "|@claudialopez @infopresiden...|      3|[0.527572802012451,0.023017...|  0.0|       0.0|\n",
      "|@claudialopez @ivanduque ha...|      3|[0.355708947275187,0.072261...|  0.0|       0.0|\n",
      "+------------------------------+-------+------------------------------+-----+----------+\n",
      "only showing top 10 rows\n",
      "\n"
     ]
    }
   ],
   "source": [
    "lr = LogisticRegression(maxIter=20, regParam=0.3, elasticNetParam=0)\n",
    "lrModel = lr.fit(trainingData)\n",
    "predictions = lrModel.transform(testData)\n",
    "predictions.select(\"reply_or_quote\",\"emocion\",\"probability\",\"label\",\"prediction\") \\\n",
    "    .show(n = 10, truncate = 30)"
   ]
  },
  {
   "cell_type": "code",
   "execution_count": 133,
   "metadata": {},
   "outputs": [
    {
     "data": {
      "text/plain": [
       "0.46849692346565486"
      ]
     },
     "execution_count": 133,
     "metadata": {},
     "output_type": "execute_result"
    }
   ],
   "source": [
    "from pyspark.ml.evaluation import MulticlassClassificationEvaluator\n",
    "evaluator = MulticlassClassificationEvaluator(predictionCol=\"prediction\")\n",
    "evaluator.evaluate(predictions)"
   ]
  },
  {
   "cell_type": "markdown",
   "metadata": {},
   "source": [
    "### Logistic Regression using TF-IDF Features"
   ]
  },
  {
   "cell_type": "code",
   "execution_count": 134,
   "metadata": {},
   "outputs": [
    {
     "name": "stdout",
     "output_type": "stream",
     "text": [
      "+------------------------------+-------+------------------------------+-----+----------+\n",
      "|                reply_or_quote|emocion|                   probability|label|prediction|\n",
      "+------------------------------+-------+------------------------------+-----+----------+\n",
      "|@bluradioco ahí está pintad...|      3|[0.9738740618449296,0.00179...|  0.0|       0.0|\n",
      "|@bluradioco deben ir a luch...|      0|[0.28400268665066625,0.4250...|  1.0|       1.0|\n",
      "|@bluradioco jajajaja que ne...|      0|[0.5225992416620454,0.19014...|  1.0|       0.0|\n",
      "|@bluradioco no será mejor q...|      3|[0.7850959001310596,0.01432...|  0.0|       0.0|\n",
      "|@bluradioco soy programador...|      4|[0.2832846494805151,0.08087...|  2.0|       2.0|\n",
      "|@bluradioco 😴😴😴😴...soña...|      3|[0.4998536812712038,0.15643...|  0.0|       0.0|\n",
      "|@claudialopez #ingresosolid...|      2|[0.7140672229936277,0.03754...|  4.0|       0.0|\n",
      "|@claudialopez @infopresiden...|      2|[0.4563980494350243,0.27192...|  4.0|       0.0|\n",
      "|@claudialopez @infopresiden...|      3|[0.7191730567730312,0.03129...|  0.0|       0.0|\n",
      "|@claudialopez @ivanduque ha...|      3|[0.2505525089462211,0.06694...|  0.0|       2.0|\n",
      "+------------------------------+-------+------------------------------+-----+----------+\n",
      "only showing top 10 rows\n",
      "\n"
     ]
    }
   ],
   "source": [
    "from pyspark.ml.feature import HashingTF, IDF\n",
    "hashingTF = HashingTF(inputCol=\"words\", outputCol=\"rawFeatures\", numFeatures=10000)\n",
    "idf = IDF(inputCol=\"rawFeatures\", outputCol=\"features\", minDocFreq=5) #minDocFreq: remove sparse terms\n",
    "pipeline = Pipeline(stages=[regexTokenizer, hashingTF, idf, label_stringIdx])\n",
    "pipelineFit = pipeline.fit(df)\n",
    "dataset = pipelineFit.transform(df)\n",
    "(trainingData, testData) = dataset.randomSplit([0.7, 0.3], seed = 100)\n",
    "lr = LogisticRegression(maxIter=20, regParam=0.3, elasticNetParam=0)\n",
    "lrModel = lr.fit(trainingData)\n",
    "predictions = lrModel.transform(testData)\n",
    "predictions.select(\"reply_or_quote\",\"emocion\",\"probability\",\"label\",\"prediction\") \\\n",
    "    .show(n = 10, truncate = 30)"
   ]
  },
  {
   "cell_type": "code",
   "execution_count": 135,
   "metadata": {},
   "outputs": [
    {
     "data": {
      "text/plain": [
       "0.45225172596919805"
      ]
     },
     "execution_count": 135,
     "metadata": {},
     "output_type": "execute_result"
    }
   ],
   "source": [
    "evaluator = MulticlassClassificationEvaluator(predictionCol=\"prediction\")\n",
    "evaluator.evaluate(predictions)"
   ]
  },
  {
   "cell_type": "markdown",
   "metadata": {},
   "source": [
    "### Cross Validation"
   ]
  },
  {
   "cell_type": "code",
   "execution_count": 136,
   "metadata": {},
   "outputs": [
    {
     "data": {
      "text/plain": [
       "0.46849692346565486"
      ]
     },
     "execution_count": 136,
     "metadata": {},
     "output_type": "execute_result"
    }
   ],
   "source": [
    "pipeline = Pipeline(stages=[regexTokenizer, countVectors, label_stringIdx])\n",
    "pipelineFit = pipeline.fit(df)\n",
    "dataset = pipelineFit.transform(df)\n",
    "(trainingData, testData) = dataset.randomSplit([0.7, 0.3], seed = 100)\n",
    "lr = LogisticRegression(maxIter=20, regParam=0.3, elasticNetParam=0)\n",
    "from pyspark.ml.tuning import ParamGridBuilder, CrossValidator\n",
    "# Create ParamGrid for Cross Validation\n",
    "paramGrid = (ParamGridBuilder()\n",
    "             .addGrid(lr.regParam, [0.1, 0.3, 0.5]) # regularization parameter\n",
    "             .addGrid(lr.elasticNetParam, [0.0, 0.1, 0.2]) # Elastic Net Parameter (Ridge = 0)\n",
    "#            .addGrid(model.maxIter, [10, 20, 50]) #Number of iterations\n",
    "#            .addGrid(idf.numFeatures, [10, 100, 1000]) # Number of features\n",
    "             .build())\n",
    "# Create 5-fold CrossValidator\n",
    "cv = CrossValidator(estimator=lr, \\\n",
    "                    estimatorParamMaps=paramGrid, \\\n",
    "                    evaluator=evaluator, \\\n",
    "                    numFolds=5)\n",
    "cvModel = cv.fit(trainingData)\n",
    "\n",
    "predictions = cvModel.transform(testData)\n",
    "# Evaluate best model\n",
    "evaluator = MulticlassClassificationEvaluator(predictionCol=\"prediction\")\n",
    "evaluator.evaluate(predictions)"
   ]
  },
  {
   "cell_type": "markdown",
   "metadata": {},
   "source": [
    "### Naive Bayes"
   ]
  },
  {
   "cell_type": "code",
   "execution_count": 137,
   "metadata": {},
   "outputs": [
    {
     "name": "stdout",
     "output_type": "stream",
     "text": [
      "+------------------------------+-------+------------------------------+-----+----------+\n",
      "|                reply_or_quote|emocion|                   probability|label|prediction|\n",
      "+------------------------------+-------+------------------------------+-----+----------+\n",
      "|@bluradioco ahí está pintad...|      3|[0.9999551453093772,1.32431...|  0.0|       0.0|\n",
      "|@bluradioco deben ir a luch...|      0|[0.6075805747763934,0.18318...|  1.0|       0.0|\n",
      "|@bluradioco jajajaja que ne...|      0|[0.657115505000501,0.084000...|  1.0|       0.0|\n",
      "|@bluradioco no será mejor q...|      3|[0.9938092612442766,5.00574...|  0.0|       0.0|\n",
      "|@bluradioco soy programador...|      4|[0.3902241687730766,0.01997...|  2.0|       2.0|\n",
      "|@bluradioco 😴😴😴😴...soña...|      3|[0.7800847653448444,0.02052...|  0.0|       0.0|\n",
      "|@claudialopez #ingresosolid...|      2|[0.02329271124543518,6.9134...|  4.0|       4.0|\n",
      "|@claudialopez @infopresiden...|      2|[0.39830484123541954,0.2771...|  4.0|       0.0|\n",
      "|@claudialopez @infopresiden...|      3|[0.2685749112702982,0.12016...|  0.0|       2.0|\n",
      "|@claudialopez @ivanduque ha...|      3|[0.2113015932953373,0.03900...|  0.0|       4.0|\n",
      "+------------------------------+-------+------------------------------+-----+----------+\n",
      "only showing top 10 rows\n",
      "\n"
     ]
    }
   ],
   "source": [
    "from pyspark.ml.classification import NaiveBayes\n",
    "nb = NaiveBayes(smoothing=1)\n",
    "model = nb.fit(trainingData)\n",
    "predictions = model.transform(testData)\n",
    "predictions.select(\"reply_or_quote\",\"emocion\",\"probability\",\"label\",\"prediction\") \\\n",
    "    .show(n = 10, truncate = 30)"
   ]
  },
  {
   "cell_type": "code",
   "execution_count": 138,
   "metadata": {},
   "outputs": [
    {
     "data": {
      "text/plain": [
       "0.47131565401689235"
      ]
     },
     "execution_count": 138,
     "metadata": {},
     "output_type": "execute_result"
    }
   ],
   "source": [
    "evaluator = MulticlassClassificationEvaluator(predictionCol=\"prediction\")\n",
    "evaluator.evaluate(predictions)"
   ]
  },
  {
   "cell_type": "markdown",
   "metadata": {},
   "source": [
    "### Random Forest"
   ]
  },
  {
   "cell_type": "code",
   "execution_count": 139,
   "metadata": {},
   "outputs": [
    {
     "name": "stdout",
     "output_type": "stream",
     "text": [
      "+------------------------------+-------+------------------------------+-----+----------+\n",
      "|                reply_or_quote|emocion|                   probability|label|prediction|\n",
      "+------------------------------+-------+------------------------------+-----+----------+\n",
      "|@bluradioco ahí está pintad...|      3|[0.5917470123122784,0.16490...|  0.0|       0.0|\n",
      "|@bluradioco deben ir a luch...|      0|[0.5735002666769805,0.18079...|  1.0|       0.0|\n",
      "|@bluradioco jajajaja que ne...|      0|[0.5610412374169625,0.17916...|  1.0|       0.0|\n",
      "|@bluradioco no será mejor q...|      3|[0.5595072883479089,0.18078...|  0.0|       0.0|\n",
      "|@bluradioco soy programador...|      4|[0.546845871057056,0.174658...|  2.0|       0.0|\n",
      "|@bluradioco 😴😴😴😴...soña...|      3|[0.5610412374169625,0.17916...|  0.0|       0.0|\n",
      "|@claudialopez #ingresosolid...|      2|[0.4989342178430342,0.17855...|  4.0|       0.0|\n",
      "|@claudialopez @infopresiden...|      2|[0.5168220721495833,0.19583...|  4.0|       0.0|\n",
      "|@claudialopez @infopresiden...|      3|[0.43588536264076416,0.1968...|  0.0|       0.0|\n",
      "|@claudialopez @ivanduque ha...|      3|[0.5021477378976406,0.18714...|  0.0|       0.0|\n",
      "+------------------------------+-------+------------------------------+-----+----------+\n",
      "only showing top 10 rows\n",
      "\n"
     ]
    }
   ],
   "source": [
    "from pyspark.ml.classification import RandomForestClassifier\n",
    "rf = RandomForestClassifier(labelCol=\"label\", \\\n",
    "                            featuresCol=\"features\", \\\n",
    "                            numTrees = 100, \\\n",
    "                            maxDepth = 4, \\\n",
    "                            maxBins = 32)\n",
    "# Train model with Training Data\n",
    "rfModel = rf.fit(trainingData)\n",
    "predictions = rfModel.transform(testData)\n",
    "predictions.select(\"reply_or_quote\",\"emocion\",\"probability\",\"label\",\"prediction\") \\\n",
    "    .show(n = 10, truncate = 30)"
   ]
  },
  {
   "cell_type": "code",
   "execution_count": 140,
   "metadata": {},
   "outputs": [
    {
     "data": {
      "text/plain": [
       "0.3174321633059497"
      ]
     },
     "execution_count": 140,
     "metadata": {},
     "output_type": "execute_result"
    }
   ],
   "source": [
    "evaluator = MulticlassClassificationEvaluator(predictionCol=\"prediction\")\n",
    "evaluator.evaluate(predictions)"
   ]
  }
 ],
 "metadata": {
  "kernelspec": {
   "display_name": "Python 3",
   "language": "python",
   "name": "python3"
  },
  "language_info": {
   "codemirror_mode": {
    "name": "ipython",
    "version": 3
   },
   "file_extension": ".py",
   "mimetype": "text/x-python",
   "name": "python",
   "nbconvert_exporter": "python",
   "pygments_lexer": "ipython3",
   "version": "3.7.6"
  }
 },
 "nbformat": 4,
 "nbformat_minor": 2
}
