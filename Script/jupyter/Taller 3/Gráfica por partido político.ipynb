{
 "cells": [
  {
   "cell_type": "code",
   "execution_count": 2,
   "metadata": {},
   "outputs": [
    {
     "data": {
      "application/vnd.plotly.v1+json": {
       "config": {
        "plotlyServerURL": "https://plot.ly"
       },
       "data": [
        {
         "branchvalues": "total",
         "domain": {
          "x": [
           0,
           1
          ],
          "y": [
           0,
           1
          ]
         },
         "hovertemplate": "labels=%{label}<br>total_bill=%{value}<br>parent=%{parent}<br>id=%{id}<extra></extra>",
         "ids": [
          "Fri/Female",
          "Sat/Female",
          "Sun/Female",
          "Thur/Female",
          "Fri/Male",
          "Sat/Male",
          "Sun/Male",
          "Thur/Male",
          "Fri",
          "Sat",
          "Sun",
          "Thur"
         ],
         "labels": [
          "Female",
          "Female",
          "Female",
          "Female",
          "Male",
          "Male",
          "Male",
          "Male",
          "Fri",
          "Sat",
          "Sun",
          "Thur"
         ],
         "name": "",
         "parents": [
          "Fri",
          "Sat",
          "Sun",
          "Thur",
          "Fri",
          "Sat",
          "Sun",
          "Thur",
          "",
          "",
          "",
          ""
         ],
         "type": "treemap",
         "values": [
          127.31,
          551.0499999999998,
          357.69999999999993,
          534.89,
          198.57,
          1227.3499999999997,
          1269.46,
          561.4399999999999,
          325.87999999999994,
          1778.3999999999996,
          1627.1600000000003,
          1096.3299999999997
         ]
        }
       ],
       "layout": {
        "legend": {
         "tracegroupgap": 0
        },
        "margin": {
         "t": 60
        },
        "template": {
         "data": {
          "bar": [
           {
            "error_x": {
             "color": "#2a3f5f"
            },
            "error_y": {
             "color": "#2a3f5f"
            },
            "marker": {
             "line": {
              "color": "#E5ECF6",
              "width": 0.5
             }
            },
            "type": "bar"
           }
          ],
          "barpolar": [
           {
            "marker": {
             "line": {
              "color": "#E5ECF6",
              "width": 0.5
             }
            },
            "type": "barpolar"
           }
          ],
          "carpet": [
           {
            "aaxis": {
             "endlinecolor": "#2a3f5f",
             "gridcolor": "white",
             "linecolor": "white",
             "minorgridcolor": "white",
             "startlinecolor": "#2a3f5f"
            },
            "baxis": {
             "endlinecolor": "#2a3f5f",
             "gridcolor": "white",
             "linecolor": "white",
             "minorgridcolor": "white",
             "startlinecolor": "#2a3f5f"
            },
            "type": "carpet"
           }
          ],
          "choropleth": [
           {
            "colorbar": {
             "outlinewidth": 0,
             "ticks": ""
            },
            "type": "choropleth"
           }
          ],
          "contour": [
           {
            "colorbar": {
             "outlinewidth": 0,
             "ticks": ""
            },
            "colorscale": [
             [
              0,
              "#0d0887"
             ],
             [
              0.1111111111111111,
              "#46039f"
             ],
             [
              0.2222222222222222,
              "#7201a8"
             ],
             [
              0.3333333333333333,
              "#9c179e"
             ],
             [
              0.4444444444444444,
              "#bd3786"
             ],
             [
              0.5555555555555556,
              "#d8576b"
             ],
             [
              0.6666666666666666,
              "#ed7953"
             ],
             [
              0.7777777777777778,
              "#fb9f3a"
             ],
             [
              0.8888888888888888,
              "#fdca26"
             ],
             [
              1,
              "#f0f921"
             ]
            ],
            "type": "contour"
           }
          ],
          "contourcarpet": [
           {
            "colorbar": {
             "outlinewidth": 0,
             "ticks": ""
            },
            "type": "contourcarpet"
           }
          ],
          "heatmap": [
           {
            "colorbar": {
             "outlinewidth": 0,
             "ticks": ""
            },
            "colorscale": [
             [
              0,
              "#0d0887"
             ],
             [
              0.1111111111111111,
              "#46039f"
             ],
             [
              0.2222222222222222,
              "#7201a8"
             ],
             [
              0.3333333333333333,
              "#9c179e"
             ],
             [
              0.4444444444444444,
              "#bd3786"
             ],
             [
              0.5555555555555556,
              "#d8576b"
             ],
             [
              0.6666666666666666,
              "#ed7953"
             ],
             [
              0.7777777777777778,
              "#fb9f3a"
             ],
             [
              0.8888888888888888,
              "#fdca26"
             ],
             [
              1,
              "#f0f921"
             ]
            ],
            "type": "heatmap"
           }
          ],
          "heatmapgl": [
           {
            "colorbar": {
             "outlinewidth": 0,
             "ticks": ""
            },
            "colorscale": [
             [
              0,
              "#0d0887"
             ],
             [
              0.1111111111111111,
              "#46039f"
             ],
             [
              0.2222222222222222,
              "#7201a8"
             ],
             [
              0.3333333333333333,
              "#9c179e"
             ],
             [
              0.4444444444444444,
              "#bd3786"
             ],
             [
              0.5555555555555556,
              "#d8576b"
             ],
             [
              0.6666666666666666,
              "#ed7953"
             ],
             [
              0.7777777777777778,
              "#fb9f3a"
             ],
             [
              0.8888888888888888,
              "#fdca26"
             ],
             [
              1,
              "#f0f921"
             ]
            ],
            "type": "heatmapgl"
           }
          ],
          "histogram": [
           {
            "marker": {
             "colorbar": {
              "outlinewidth": 0,
              "ticks": ""
             }
            },
            "type": "histogram"
           }
          ],
          "histogram2d": [
           {
            "colorbar": {
             "outlinewidth": 0,
             "ticks": ""
            },
            "colorscale": [
             [
              0,
              "#0d0887"
             ],
             [
              0.1111111111111111,
              "#46039f"
             ],
             [
              0.2222222222222222,
              "#7201a8"
             ],
             [
              0.3333333333333333,
              "#9c179e"
             ],
             [
              0.4444444444444444,
              "#bd3786"
             ],
             [
              0.5555555555555556,
              "#d8576b"
             ],
             [
              0.6666666666666666,
              "#ed7953"
             ],
             [
              0.7777777777777778,
              "#fb9f3a"
             ],
             [
              0.8888888888888888,
              "#fdca26"
             ],
             [
              1,
              "#f0f921"
             ]
            ],
            "type": "histogram2d"
           }
          ],
          "histogram2dcontour": [
           {
            "colorbar": {
             "outlinewidth": 0,
             "ticks": ""
            },
            "colorscale": [
             [
              0,
              "#0d0887"
             ],
             [
              0.1111111111111111,
              "#46039f"
             ],
             [
              0.2222222222222222,
              "#7201a8"
             ],
             [
              0.3333333333333333,
              "#9c179e"
             ],
             [
              0.4444444444444444,
              "#bd3786"
             ],
             [
              0.5555555555555556,
              "#d8576b"
             ],
             [
              0.6666666666666666,
              "#ed7953"
             ],
             [
              0.7777777777777778,
              "#fb9f3a"
             ],
             [
              0.8888888888888888,
              "#fdca26"
             ],
             [
              1,
              "#f0f921"
             ]
            ],
            "type": "histogram2dcontour"
           }
          ],
          "mesh3d": [
           {
            "colorbar": {
             "outlinewidth": 0,
             "ticks": ""
            },
            "type": "mesh3d"
           }
          ],
          "parcoords": [
           {
            "line": {
             "colorbar": {
              "outlinewidth": 0,
              "ticks": ""
             }
            },
            "type": "parcoords"
           }
          ],
          "pie": [
           {
            "automargin": true,
            "type": "pie"
           }
          ],
          "scatter": [
           {
            "marker": {
             "colorbar": {
              "outlinewidth": 0,
              "ticks": ""
             }
            },
            "type": "scatter"
           }
          ],
          "scatter3d": [
           {
            "line": {
             "colorbar": {
              "outlinewidth": 0,
              "ticks": ""
             }
            },
            "marker": {
             "colorbar": {
              "outlinewidth": 0,
              "ticks": ""
             }
            },
            "type": "scatter3d"
           }
          ],
          "scattercarpet": [
           {
            "marker": {
             "colorbar": {
              "outlinewidth": 0,
              "ticks": ""
             }
            },
            "type": "scattercarpet"
           }
          ],
          "scattergeo": [
           {
            "marker": {
             "colorbar": {
              "outlinewidth": 0,
              "ticks": ""
             }
            },
            "type": "scattergeo"
           }
          ],
          "scattergl": [
           {
            "marker": {
             "colorbar": {
              "outlinewidth": 0,
              "ticks": ""
             }
            },
            "type": "scattergl"
           }
          ],
          "scattermapbox": [
           {
            "marker": {
             "colorbar": {
              "outlinewidth": 0,
              "ticks": ""
             }
            },
            "type": "scattermapbox"
           }
          ],
          "scatterpolar": [
           {
            "marker": {
             "colorbar": {
              "outlinewidth": 0,
              "ticks": ""
             }
            },
            "type": "scatterpolar"
           }
          ],
          "scatterpolargl": [
           {
            "marker": {
             "colorbar": {
              "outlinewidth": 0,
              "ticks": ""
             }
            },
            "type": "scatterpolargl"
           }
          ],
          "scatterternary": [
           {
            "marker": {
             "colorbar": {
              "outlinewidth": 0,
              "ticks": ""
             }
            },
            "type": "scatterternary"
           }
          ],
          "surface": [
           {
            "colorbar": {
             "outlinewidth": 0,
             "ticks": ""
            },
            "colorscale": [
             [
              0,
              "#0d0887"
             ],
             [
              0.1111111111111111,
              "#46039f"
             ],
             [
              0.2222222222222222,
              "#7201a8"
             ],
             [
              0.3333333333333333,
              "#9c179e"
             ],
             [
              0.4444444444444444,
              "#bd3786"
             ],
             [
              0.5555555555555556,
              "#d8576b"
             ],
             [
              0.6666666666666666,
              "#ed7953"
             ],
             [
              0.7777777777777778,
              "#fb9f3a"
             ],
             [
              0.8888888888888888,
              "#fdca26"
             ],
             [
              1,
              "#f0f921"
             ]
            ],
            "type": "surface"
           }
          ],
          "table": [
           {
            "cells": {
             "fill": {
              "color": "#EBF0F8"
             },
             "line": {
              "color": "white"
             }
            },
            "header": {
             "fill": {
              "color": "#C8D4E3"
             },
             "line": {
              "color": "white"
             }
            },
            "type": "table"
           }
          ]
         },
         "layout": {
          "annotationdefaults": {
           "arrowcolor": "#2a3f5f",
           "arrowhead": 0,
           "arrowwidth": 1
          },
          "coloraxis": {
           "colorbar": {
            "outlinewidth": 0,
            "ticks": ""
           }
          },
          "colorscale": {
           "diverging": [
            [
             0,
             "#8e0152"
            ],
            [
             0.1,
             "#c51b7d"
            ],
            [
             0.2,
             "#de77ae"
            ],
            [
             0.3,
             "#f1b6da"
            ],
            [
             0.4,
             "#fde0ef"
            ],
            [
             0.5,
             "#f7f7f7"
            ],
            [
             0.6,
             "#e6f5d0"
            ],
            [
             0.7,
             "#b8e186"
            ],
            [
             0.8,
             "#7fbc41"
            ],
            [
             0.9,
             "#4d9221"
            ],
            [
             1,
             "#276419"
            ]
           ],
           "sequential": [
            [
             0,
             "#0d0887"
            ],
            [
             0.1111111111111111,
             "#46039f"
            ],
            [
             0.2222222222222222,
             "#7201a8"
            ],
            [
             0.3333333333333333,
             "#9c179e"
            ],
            [
             0.4444444444444444,
             "#bd3786"
            ],
            [
             0.5555555555555556,
             "#d8576b"
            ],
            [
             0.6666666666666666,
             "#ed7953"
            ],
            [
             0.7777777777777778,
             "#fb9f3a"
            ],
            [
             0.8888888888888888,
             "#fdca26"
            ],
            [
             1,
             "#f0f921"
            ]
           ],
           "sequentialminus": [
            [
             0,
             "#0d0887"
            ],
            [
             0.1111111111111111,
             "#46039f"
            ],
            [
             0.2222222222222222,
             "#7201a8"
            ],
            [
             0.3333333333333333,
             "#9c179e"
            ],
            [
             0.4444444444444444,
             "#bd3786"
            ],
            [
             0.5555555555555556,
             "#d8576b"
            ],
            [
             0.6666666666666666,
             "#ed7953"
            ],
            [
             0.7777777777777778,
             "#fb9f3a"
            ],
            [
             0.8888888888888888,
             "#fdca26"
            ],
            [
             1,
             "#f0f921"
            ]
           ]
          },
          "colorway": [
           "#636efa",
           "#EF553B",
           "#00cc96",
           "#ab63fa",
           "#FFA15A",
           "#19d3f3",
           "#FF6692",
           "#B6E880",
           "#FF97FF",
           "#FECB52"
          ],
          "font": {
           "color": "#2a3f5f"
          },
          "geo": {
           "bgcolor": "white",
           "lakecolor": "white",
           "landcolor": "#E5ECF6",
           "showlakes": true,
           "showland": true,
           "subunitcolor": "white"
          },
          "hoverlabel": {
           "align": "left"
          },
          "hovermode": "closest",
          "mapbox": {
           "style": "light"
          },
          "paper_bgcolor": "white",
          "plot_bgcolor": "#E5ECF6",
          "polar": {
           "angularaxis": {
            "gridcolor": "white",
            "linecolor": "white",
            "ticks": ""
           },
           "bgcolor": "#E5ECF6",
           "radialaxis": {
            "gridcolor": "white",
            "linecolor": "white",
            "ticks": ""
           }
          },
          "scene": {
           "xaxis": {
            "backgroundcolor": "#E5ECF6",
            "gridcolor": "white",
            "gridwidth": 2,
            "linecolor": "white",
            "showbackground": true,
            "ticks": "",
            "zerolinecolor": "white"
           },
           "yaxis": {
            "backgroundcolor": "#E5ECF6",
            "gridcolor": "white",
            "gridwidth": 2,
            "linecolor": "white",
            "showbackground": true,
            "ticks": "",
            "zerolinecolor": "white"
           },
           "zaxis": {
            "backgroundcolor": "#E5ECF6",
            "gridcolor": "white",
            "gridwidth": 2,
            "linecolor": "white",
            "showbackground": true,
            "ticks": "",
            "zerolinecolor": "white"
           }
          },
          "shapedefaults": {
           "line": {
            "color": "#2a3f5f"
           }
          },
          "ternary": {
           "aaxis": {
            "gridcolor": "white",
            "linecolor": "white",
            "ticks": ""
           },
           "baxis": {
            "gridcolor": "white",
            "linecolor": "white",
            "ticks": ""
           },
           "bgcolor": "#E5ECF6",
           "caxis": {
            "gridcolor": "white",
            "linecolor": "white",
            "ticks": ""
           }
          },
          "title": {
           "x": 0.05
          },
          "xaxis": {
           "automargin": true,
           "gridcolor": "white",
           "linecolor": "white",
           "ticks": "",
           "title": {
            "standoff": 15
           },
           "zerolinecolor": "white",
           "zerolinewidth": 2
          },
          "yaxis": {
           "automargin": true,
           "gridcolor": "white",
           "linecolor": "white",
           "ticks": "",
           "title": {
            "standoff": 15
           },
           "zerolinecolor": "white",
           "zerolinewidth": 2
          }
         }
        }
       }
      },
      "text/html": [
       "<div>\n",
       "        \n",
       "        \n",
       "            <div id=\"13e80847-6c7c-4b4a-83ca-e28ad7590f26\" class=\"plotly-graph-div\" style=\"height:525px; width:100%;\"></div>\n",
       "            <script type=\"text/javascript\">\n",
       "                require([\"plotly\"], function(Plotly) {\n",
       "                    window.PLOTLYENV=window.PLOTLYENV || {};\n",
       "                    \n",
       "                if (document.getElementById(\"13e80847-6c7c-4b4a-83ca-e28ad7590f26\")) {\n",
       "                    Plotly.newPlot(\n",
       "                        '13e80847-6c7c-4b4a-83ca-e28ad7590f26',\n",
       "                        [{\"branchvalues\": \"total\", \"domain\": {\"x\": [0.0, 1.0], \"y\": [0.0, 1.0]}, \"hovertemplate\": \"labels=%{label}<br>total_bill=%{value}<br>parent=%{parent}<br>id=%{id}<extra></extra>\", \"ids\": [\"Fri/Female\", \"Sat/Female\", \"Sun/Female\", \"Thur/Female\", \"Fri/Male\", \"Sat/Male\", \"Sun/Male\", \"Thur/Male\", \"Fri\", \"Sat\", \"Sun\", \"Thur\"], \"labels\": [\"Female\", \"Female\", \"Female\", \"Female\", \"Male\", \"Male\", \"Male\", \"Male\", \"Fri\", \"Sat\", \"Sun\", \"Thur\"], \"name\": \"\", \"parents\": [\"Fri\", \"Sat\", \"Sun\", \"Thur\", \"Fri\", \"Sat\", \"Sun\", \"Thur\", \"\", \"\", \"\", \"\"], \"type\": \"treemap\", \"values\": [127.31, 551.0499999999998, 357.69999999999993, 534.89, 198.57, 1227.3499999999997, 1269.46, 561.4399999999999, 325.87999999999994, 1778.3999999999996, 1627.1600000000003, 1096.3299999999997]}],\n",
       "                        {\"legend\": {\"tracegroupgap\": 0}, \"margin\": {\"t\": 60}, \"template\": {\"data\": {\"bar\": [{\"error_x\": {\"color\": \"#2a3f5f\"}, \"error_y\": {\"color\": \"#2a3f5f\"}, \"marker\": {\"line\": {\"color\": \"#E5ECF6\", \"width\": 0.5}}, \"type\": \"bar\"}], \"barpolar\": [{\"marker\": {\"line\": {\"color\": \"#E5ECF6\", \"width\": 0.5}}, \"type\": \"barpolar\"}], \"carpet\": [{\"aaxis\": {\"endlinecolor\": \"#2a3f5f\", \"gridcolor\": \"white\", \"linecolor\": \"white\", \"minorgridcolor\": \"white\", \"startlinecolor\": \"#2a3f5f\"}, \"baxis\": {\"endlinecolor\": \"#2a3f5f\", \"gridcolor\": \"white\", \"linecolor\": \"white\", \"minorgridcolor\": \"white\", \"startlinecolor\": \"#2a3f5f\"}, \"type\": \"carpet\"}], \"choropleth\": [{\"colorbar\": {\"outlinewidth\": 0, \"ticks\": \"\"}, \"type\": \"choropleth\"}], \"contour\": [{\"colorbar\": {\"outlinewidth\": 0, \"ticks\": \"\"}, \"colorscale\": [[0.0, \"#0d0887\"], [0.1111111111111111, \"#46039f\"], [0.2222222222222222, \"#7201a8\"], [0.3333333333333333, \"#9c179e\"], [0.4444444444444444, \"#bd3786\"], [0.5555555555555556, \"#d8576b\"], [0.6666666666666666, \"#ed7953\"], [0.7777777777777778, \"#fb9f3a\"], [0.8888888888888888, \"#fdca26\"], [1.0, \"#f0f921\"]], \"type\": \"contour\"}], \"contourcarpet\": [{\"colorbar\": {\"outlinewidth\": 0, \"ticks\": \"\"}, \"type\": \"contourcarpet\"}], \"heatmap\": [{\"colorbar\": {\"outlinewidth\": 0, \"ticks\": \"\"}, \"colorscale\": [[0.0, \"#0d0887\"], [0.1111111111111111, \"#46039f\"], [0.2222222222222222, \"#7201a8\"], [0.3333333333333333, \"#9c179e\"], [0.4444444444444444, \"#bd3786\"], [0.5555555555555556, \"#d8576b\"], [0.6666666666666666, \"#ed7953\"], [0.7777777777777778, \"#fb9f3a\"], [0.8888888888888888, \"#fdca26\"], [1.0, \"#f0f921\"]], \"type\": \"heatmap\"}], \"heatmapgl\": [{\"colorbar\": {\"outlinewidth\": 0, \"ticks\": \"\"}, \"colorscale\": [[0.0, \"#0d0887\"], [0.1111111111111111, \"#46039f\"], [0.2222222222222222, \"#7201a8\"], [0.3333333333333333, \"#9c179e\"], [0.4444444444444444, \"#bd3786\"], [0.5555555555555556, \"#d8576b\"], [0.6666666666666666, \"#ed7953\"], [0.7777777777777778, \"#fb9f3a\"], [0.8888888888888888, \"#fdca26\"], [1.0, \"#f0f921\"]], \"type\": \"heatmapgl\"}], \"histogram\": [{\"marker\": {\"colorbar\": {\"outlinewidth\": 0, \"ticks\": \"\"}}, \"type\": \"histogram\"}], \"histogram2d\": [{\"colorbar\": {\"outlinewidth\": 0, \"ticks\": \"\"}, \"colorscale\": [[0.0, \"#0d0887\"], [0.1111111111111111, \"#46039f\"], [0.2222222222222222, \"#7201a8\"], [0.3333333333333333, \"#9c179e\"], [0.4444444444444444, \"#bd3786\"], [0.5555555555555556, \"#d8576b\"], [0.6666666666666666, \"#ed7953\"], [0.7777777777777778, \"#fb9f3a\"], [0.8888888888888888, \"#fdca26\"], [1.0, \"#f0f921\"]], \"type\": \"histogram2d\"}], \"histogram2dcontour\": [{\"colorbar\": {\"outlinewidth\": 0, \"ticks\": \"\"}, \"colorscale\": [[0.0, \"#0d0887\"], [0.1111111111111111, \"#46039f\"], [0.2222222222222222, \"#7201a8\"], [0.3333333333333333, \"#9c179e\"], [0.4444444444444444, \"#bd3786\"], [0.5555555555555556, \"#d8576b\"], [0.6666666666666666, \"#ed7953\"], [0.7777777777777778, \"#fb9f3a\"], [0.8888888888888888, \"#fdca26\"], [1.0, \"#f0f921\"]], \"type\": \"histogram2dcontour\"}], \"mesh3d\": [{\"colorbar\": {\"outlinewidth\": 0, \"ticks\": \"\"}, \"type\": \"mesh3d\"}], \"parcoords\": [{\"line\": {\"colorbar\": {\"outlinewidth\": 0, \"ticks\": \"\"}}, \"type\": \"parcoords\"}], \"pie\": [{\"automargin\": true, \"type\": \"pie\"}], \"scatter\": [{\"marker\": {\"colorbar\": {\"outlinewidth\": 0, \"ticks\": \"\"}}, \"type\": \"scatter\"}], \"scatter3d\": [{\"line\": {\"colorbar\": {\"outlinewidth\": 0, \"ticks\": \"\"}}, \"marker\": {\"colorbar\": {\"outlinewidth\": 0, \"ticks\": \"\"}}, \"type\": \"scatter3d\"}], \"scattercarpet\": [{\"marker\": {\"colorbar\": {\"outlinewidth\": 0, \"ticks\": \"\"}}, \"type\": \"scattercarpet\"}], \"scattergeo\": [{\"marker\": {\"colorbar\": {\"outlinewidth\": 0, \"ticks\": \"\"}}, \"type\": \"scattergeo\"}], \"scattergl\": [{\"marker\": {\"colorbar\": {\"outlinewidth\": 0, \"ticks\": \"\"}}, \"type\": \"scattergl\"}], \"scattermapbox\": [{\"marker\": {\"colorbar\": {\"outlinewidth\": 0, \"ticks\": \"\"}}, \"type\": \"scattermapbox\"}], \"scatterpolar\": [{\"marker\": {\"colorbar\": {\"outlinewidth\": 0, \"ticks\": \"\"}}, \"type\": \"scatterpolar\"}], \"scatterpolargl\": [{\"marker\": {\"colorbar\": {\"outlinewidth\": 0, \"ticks\": \"\"}}, \"type\": \"scatterpolargl\"}], \"scatterternary\": [{\"marker\": {\"colorbar\": {\"outlinewidth\": 0, \"ticks\": \"\"}}, \"type\": \"scatterternary\"}], \"surface\": [{\"colorbar\": {\"outlinewidth\": 0, \"ticks\": \"\"}, \"colorscale\": [[0.0, \"#0d0887\"], [0.1111111111111111, \"#46039f\"], [0.2222222222222222, \"#7201a8\"], [0.3333333333333333, \"#9c179e\"], [0.4444444444444444, \"#bd3786\"], [0.5555555555555556, \"#d8576b\"], [0.6666666666666666, \"#ed7953\"], [0.7777777777777778, \"#fb9f3a\"], [0.8888888888888888, \"#fdca26\"], [1.0, \"#f0f921\"]], \"type\": \"surface\"}], \"table\": [{\"cells\": {\"fill\": {\"color\": \"#EBF0F8\"}, \"line\": {\"color\": \"white\"}}, \"header\": {\"fill\": {\"color\": \"#C8D4E3\"}, \"line\": {\"color\": \"white\"}}, \"type\": \"table\"}]}, \"layout\": {\"annotationdefaults\": {\"arrowcolor\": \"#2a3f5f\", \"arrowhead\": 0, \"arrowwidth\": 1}, \"coloraxis\": {\"colorbar\": {\"outlinewidth\": 0, \"ticks\": \"\"}}, \"colorscale\": {\"diverging\": [[0, \"#8e0152\"], [0.1, \"#c51b7d\"], [0.2, \"#de77ae\"], [0.3, \"#f1b6da\"], [0.4, \"#fde0ef\"], [0.5, \"#f7f7f7\"], [0.6, \"#e6f5d0\"], [0.7, \"#b8e186\"], [0.8, \"#7fbc41\"], [0.9, \"#4d9221\"], [1, \"#276419\"]], \"sequential\": [[0.0, \"#0d0887\"], [0.1111111111111111, \"#46039f\"], [0.2222222222222222, \"#7201a8\"], [0.3333333333333333, \"#9c179e\"], [0.4444444444444444, \"#bd3786\"], [0.5555555555555556, \"#d8576b\"], [0.6666666666666666, \"#ed7953\"], [0.7777777777777778, \"#fb9f3a\"], [0.8888888888888888, \"#fdca26\"], [1.0, \"#f0f921\"]], \"sequentialminus\": [[0.0, \"#0d0887\"], [0.1111111111111111, \"#46039f\"], [0.2222222222222222, \"#7201a8\"], [0.3333333333333333, \"#9c179e\"], [0.4444444444444444, \"#bd3786\"], [0.5555555555555556, \"#d8576b\"], [0.6666666666666666, \"#ed7953\"], [0.7777777777777778, \"#fb9f3a\"], [0.8888888888888888, \"#fdca26\"], [1.0, \"#f0f921\"]]}, \"colorway\": [\"#636efa\", \"#EF553B\", \"#00cc96\", \"#ab63fa\", \"#FFA15A\", \"#19d3f3\", \"#FF6692\", \"#B6E880\", \"#FF97FF\", \"#FECB52\"], \"font\": {\"color\": \"#2a3f5f\"}, \"geo\": {\"bgcolor\": \"white\", \"lakecolor\": \"white\", \"landcolor\": \"#E5ECF6\", \"showlakes\": true, \"showland\": true, \"subunitcolor\": \"white\"}, \"hoverlabel\": {\"align\": \"left\"}, \"hovermode\": \"closest\", \"mapbox\": {\"style\": \"light\"}, \"paper_bgcolor\": \"white\", \"plot_bgcolor\": \"#E5ECF6\", \"polar\": {\"angularaxis\": {\"gridcolor\": \"white\", \"linecolor\": \"white\", \"ticks\": \"\"}, \"bgcolor\": \"#E5ECF6\", \"radialaxis\": {\"gridcolor\": \"white\", \"linecolor\": \"white\", \"ticks\": \"\"}}, \"scene\": {\"xaxis\": {\"backgroundcolor\": \"#E5ECF6\", \"gridcolor\": \"white\", \"gridwidth\": 2, \"linecolor\": \"white\", \"showbackground\": true, \"ticks\": \"\", \"zerolinecolor\": \"white\"}, \"yaxis\": {\"backgroundcolor\": \"#E5ECF6\", \"gridcolor\": \"white\", \"gridwidth\": 2, \"linecolor\": \"white\", \"showbackground\": true, \"ticks\": \"\", \"zerolinecolor\": \"white\"}, \"zaxis\": {\"backgroundcolor\": \"#E5ECF6\", \"gridcolor\": \"white\", \"gridwidth\": 2, \"linecolor\": \"white\", \"showbackground\": true, \"ticks\": \"\", \"zerolinecolor\": \"white\"}}, \"shapedefaults\": {\"line\": {\"color\": \"#2a3f5f\"}}, \"ternary\": {\"aaxis\": {\"gridcolor\": \"white\", \"linecolor\": \"white\", \"ticks\": \"\"}, \"baxis\": {\"gridcolor\": \"white\", \"linecolor\": \"white\", \"ticks\": \"\"}, \"bgcolor\": \"#E5ECF6\", \"caxis\": {\"gridcolor\": \"white\", \"linecolor\": \"white\", \"ticks\": \"\"}}, \"title\": {\"x\": 0.05}, \"xaxis\": {\"automargin\": true, \"gridcolor\": \"white\", \"linecolor\": \"white\", \"ticks\": \"\", \"title\": {\"standoff\": 15}, \"zerolinecolor\": \"white\", \"zerolinewidth\": 2}, \"yaxis\": {\"automargin\": true, \"gridcolor\": \"white\", \"linecolor\": \"white\", \"ticks\": \"\", \"title\": {\"standoff\": 15}, \"zerolinecolor\": \"white\", \"zerolinewidth\": 2}}}},\n",
       "                        {\"responsive\": true}\n",
       "                    ).then(function(){\n",
       "                            \n",
       "var gd = document.getElementById('13e80847-6c7c-4b4a-83ca-e28ad7590f26');\n",
       "var x = new MutationObserver(function (mutations, observer) {{\n",
       "        var display = window.getComputedStyle(gd).display;\n",
       "        if (!display || display === 'none') {{\n",
       "            console.log([gd, 'removed!']);\n",
       "            Plotly.purge(gd);\n",
       "            observer.disconnect();\n",
       "        }}\n",
       "}});\n",
       "\n",
       "// Listen for the removal of the full notebook cells\n",
       "var notebookContainer = gd.closest('#notebook-container');\n",
       "if (notebookContainer) {{\n",
       "    x.observe(notebookContainer, {childList: true});\n",
       "}}\n",
       "\n",
       "// Listen for the clearing of the current output cell\n",
       "var outputEl = gd.closest('.output');\n",
       "if (outputEl) {{\n",
       "    x.observe(outputEl, {childList: true});\n",
       "}}\n",
       "\n",
       "                        })\n",
       "                };\n",
       "                });\n",
       "            </script>\n",
       "        </div>"
      ]
     },
     "metadata": {},
     "output_type": "display_data"
    }
   ],
   "source": [
    "import plotly.express as px\n",
    "df = px.data.tips()\n",
    "fig = px.treemap(df, path=['day', 'sex'], values='total_bill')\n",
    "fig.show()"
   ]
  },
  {
   "cell_type": "code",
   "execution_count": 8,
   "metadata": {},
   "outputs": [
    {
     "name": "stdout",
     "output_type": "stream",
     "text": [
      "   total_bill   tip     sex smoker  day    time  size\n",
      "0       16.99  1.01  Female     No  Sun  Dinner     2\n",
      "1       10.34  1.66    Male     No  Sun  Dinner     3\n",
      "2       21.01  3.50    Male     No  Sun  Dinner     3\n",
      "3       23.68  3.31    Male     No  Sun  Dinner     2\n",
      "4       24.59  3.61  Female     No  Sun  Dinner     4\n"
     ]
    }
   ],
   "source": [
    "print(df.head())"
   ]
  },
  {
   "cell_type": "code",
   "execution_count": 19,
   "metadata": {},
   "outputs": [],
   "source": [
    "import pandas as pd\n",
    "politicos = ['Jorge Enrique Robledo', 'Carlos Gaviria Díaz', 'Gustavo Petro', 'Gustavo Petro', 'Jesús Bernal Amorocho', 'Camilo Romero (político)', 'Luis Carlos Avellaneda', 'Mauricio Ospina', 'Guillermo Asprilla', 'Clara López', 'Germán Navas Talero', 'Iván Moreno Rojas', 'Jaime Dussán', 'Samuel Moreno', 'Aurelio Suárez Montoya', 'Gloria Cuartas', 'María Mercedes Maldonado', 'Senén Niño', 'Venus Albeiro Silva', 'Gloria Inés Ramírez', 'Edison Lucio Torres', 'Jorge Eliécer Guevara', 'Iván Cepeda', 'Parmenio Cuéllar', 'Alexander López Maya', 'Angélica Lozano', 'Alirio Uribe Muñoz', 'Jesús Alberto Castilla', 'Víctor Correa Vélez', 'Julio César Mancera']\n",
    "partido = ['Polo_Democrático_Alternativo', 'Polo_Democrático_Alternativo', 'Polo_Democrático_Alternativo', 'Movimiento_Progresistas', 'Polo_Democrático_Alternativo', 'Polo_Democrático_Alternativo', 'Polo_Democrático_Alternativo', 'Polo_Democrático_Alternativo', 'Movimiento_Progresistas', 'Polo_Democrático_Alternativo', 'Polo_Democrático_Alternativo', 'Polo_Democrático_Alternativo', 'Polo_Democrático_Alternativo', 'Polo_Democrático_Alternativo', 'Polo_Democrático_Alternativo', 'Polo_Democrático_Alternativo', 'Movimiento_Progresistas', 'Polo_Democrático_Alternativo', 'Polo_Democrático_Alternativo', 'Polo_Democrático_Alternativo', 'Polo_Democrático_Alternativo', 'Polo_Democrático_Alternativo', 'Polo_Democrático_Alternativo', 'Polo_Democrático_Alternativo', 'Polo_Democrático_Alternativo', 'Movimiento_Progresistas', 'Polo_Democrático_Alternativo', 'Polo_Democrático_Alternativo', 'Polo_Democrático_Alternativo', 'Polo_Democrático_Alternativo']"
   ]
  },
  {
   "cell_type": "code",
   "execution_count": 20,
   "metadata": {},
   "outputs": [],
   "source": [
    "data = []\n",
    "for i in range(len(politicos)):\n",
    "    data.append([politicos[i], partido[i], 1])"
   ]
  },
  {
   "cell_type": "code",
   "execution_count": 21,
   "metadata": {},
   "outputs": [
    {
     "data": {
      "text/html": [
       "<div>\n",
       "<style scoped>\n",
       "    .dataframe tbody tr th:only-of-type {\n",
       "        vertical-align: middle;\n",
       "    }\n",
       "\n",
       "    .dataframe tbody tr th {\n",
       "        vertical-align: top;\n",
       "    }\n",
       "\n",
       "    .dataframe thead th {\n",
       "        text-align: right;\n",
       "    }\n",
       "</style>\n",
       "<table border=\"1\" class=\"dataframe\">\n",
       "  <thead>\n",
       "    <tr style=\"text-align: right;\">\n",
       "      <th></th>\n",
       "      <th>politico</th>\n",
       "      <th>partido</th>\n",
       "      <th>cantidad</th>\n",
       "      <th>influencer</th>\n",
       "    </tr>\n",
       "  </thead>\n",
       "  <tbody>\n",
       "    <tr>\n",
       "      <td>0</td>\n",
       "      <td>Jorge Enrique Robledo</td>\n",
       "      <td>Polo_Democrático_Alternativo</td>\n",
       "      <td>1</td>\n",
       "      <td>Gustavo Petro</td>\n",
       "    </tr>\n",
       "    <tr>\n",
       "      <td>1</td>\n",
       "      <td>Carlos Gaviria Díaz</td>\n",
       "      <td>Polo_Democrático_Alternativo</td>\n",
       "      <td>1</td>\n",
       "      <td>Gustavo Petro</td>\n",
       "    </tr>\n",
       "    <tr>\n",
       "      <td>2</td>\n",
       "      <td>Gustavo Petro</td>\n",
       "      <td>Polo_Democrático_Alternativo</td>\n",
       "      <td>1</td>\n",
       "      <td>Gustavo Petro</td>\n",
       "    </tr>\n",
       "    <tr>\n",
       "      <td>3</td>\n",
       "      <td>Gustavo Petro</td>\n",
       "      <td>Movimiento_Progresistas</td>\n",
       "      <td>1</td>\n",
       "      <td>Gustavo Petro</td>\n",
       "    </tr>\n",
       "    <tr>\n",
       "      <td>4</td>\n",
       "      <td>Jesús Bernal Amorocho</td>\n",
       "      <td>Polo_Democrático_Alternativo</td>\n",
       "      <td>1</td>\n",
       "      <td>Gustavo Petro</td>\n",
       "    </tr>\n",
       "  </tbody>\n",
       "</table>\n",
       "</div>"
      ],
      "text/plain": [
       "                politico                       partido  cantidad  \\\n",
       "0  Jorge Enrique Robledo  Polo_Democrático_Alternativo         1   \n",
       "1    Carlos Gaviria Díaz  Polo_Democrático_Alternativo         1   \n",
       "2          Gustavo Petro  Polo_Democrático_Alternativo         1   \n",
       "3          Gustavo Petro       Movimiento_Progresistas         1   \n",
       "4  Jesús Bernal Amorocho  Polo_Democrático_Alternativo         1   \n",
       "\n",
       "      influencer  \n",
       "0  Gustavo Petro  \n",
       "1  Gustavo Petro  \n",
       "2  Gustavo Petro  \n",
       "3  Gustavo Petro  \n",
       "4  Gustavo Petro  "
      ]
     },
     "execution_count": 21,
     "metadata": {},
     "output_type": "execute_result"
    }
   ],
   "source": [
    "df = pd.DataFrame(data,columns=['politico', 'partido', 'cantidad'])\n",
    "df[\"influencer\"] = \"Gustavo Petro\"\n",
    "df.head()"
   ]
  },
  {
   "cell_type": "code",
   "execution_count": 22,
   "metadata": {},
   "outputs": [
    {
     "data": {
      "application/vnd.plotly.v1+json": {
       "config": {
        "plotlyServerURL": "https://plot.ly"
       },
       "data": [
        {
         "branchvalues": "total",
         "domain": {
          "x": [
           0,
           1
          ],
          "y": [
           0,
           1
          ]
         },
         "hovertemplate": "labels=%{label}<br>cantidad=%{value}<br>parent=%{parent}<br>id=%{id}<extra></extra>",
         "ids": [
          "Gustavo Petro/Polo_Democrático_Alternativo/Alexander López Maya",
          "Gustavo Petro/Polo_Democrático_Alternativo/Alirio Uribe Muñoz",
          "Gustavo Petro/Movimiento_Progresistas/Angélica Lozano",
          "Gustavo Petro/Polo_Democrático_Alternativo/Aurelio Suárez Montoya",
          "Gustavo Petro/Polo_Democrático_Alternativo/Camilo Romero (político)",
          "Gustavo Petro/Polo_Democrático_Alternativo/Carlos Gaviria Díaz",
          "Gustavo Petro/Polo_Democrático_Alternativo/Clara López",
          "Gustavo Petro/Polo_Democrático_Alternativo/Edison Lucio Torres",
          "Gustavo Petro/Polo_Democrático_Alternativo/Germán Navas Talero",
          "Gustavo Petro/Polo_Democrático_Alternativo/Gloria Cuartas",
          "Gustavo Petro/Polo_Democrático_Alternativo/Gloria Inés Ramírez",
          "Gustavo Petro/Movimiento_Progresistas/Guillermo Asprilla",
          "Gustavo Petro/Movimiento_Progresistas/Gustavo Petro",
          "Gustavo Petro/Polo_Democrático_Alternativo/Gustavo Petro",
          "Gustavo Petro/Polo_Democrático_Alternativo/Iván Cepeda",
          "Gustavo Petro/Polo_Democrático_Alternativo/Iván Moreno Rojas",
          "Gustavo Petro/Polo_Democrático_Alternativo/Jaime Dussán",
          "Gustavo Petro/Polo_Democrático_Alternativo/Jesús Alberto Castilla",
          "Gustavo Petro/Polo_Democrático_Alternativo/Jesús Bernal Amorocho",
          "Gustavo Petro/Polo_Democrático_Alternativo/Jorge Eliécer Guevara",
          "Gustavo Petro/Polo_Democrático_Alternativo/Jorge Enrique Robledo",
          "Gustavo Petro/Polo_Democrático_Alternativo/Julio César Mancera",
          "Gustavo Petro/Polo_Democrático_Alternativo/Luis Carlos Avellaneda",
          "Gustavo Petro/Movimiento_Progresistas/María Mercedes Maldonado",
          "Gustavo Petro/Polo_Democrático_Alternativo/Mauricio Ospina",
          "Gustavo Petro/Polo_Democrático_Alternativo/Parmenio Cuéllar",
          "Gustavo Petro/Polo_Democrático_Alternativo/Samuel Moreno",
          "Gustavo Petro/Polo_Democrático_Alternativo/Senén Niño",
          "Gustavo Petro/Polo_Democrático_Alternativo/Venus Albeiro Silva",
          "Gustavo Petro/Polo_Democrático_Alternativo/Víctor Correa Vélez",
          "Gustavo Petro/Movimiento_Progresistas",
          "Gustavo Petro/Polo_Democrático_Alternativo",
          "Gustavo Petro"
         ],
         "labels": [
          "Alexander López Maya",
          "Alirio Uribe Muñoz",
          "Angélica Lozano",
          "Aurelio Suárez Montoya",
          "Camilo Romero (político)",
          "Carlos Gaviria Díaz",
          "Clara López",
          "Edison Lucio Torres",
          "Germán Navas Talero",
          "Gloria Cuartas",
          "Gloria Inés Ramírez",
          "Guillermo Asprilla",
          "Gustavo Petro",
          "Gustavo Petro",
          "Iván Cepeda",
          "Iván Moreno Rojas",
          "Jaime Dussán",
          "Jesús Alberto Castilla",
          "Jesús Bernal Amorocho",
          "Jorge Eliécer Guevara",
          "Jorge Enrique Robledo",
          "Julio César Mancera",
          "Luis Carlos Avellaneda",
          "María Mercedes Maldonado",
          "Mauricio Ospina",
          "Parmenio Cuéllar",
          "Samuel Moreno",
          "Senén Niño",
          "Venus Albeiro Silva",
          "Víctor Correa Vélez",
          "Movimiento_Progresistas",
          "Polo_Democrático_Alternativo",
          "Gustavo Petro"
         ],
         "name": "",
         "parents": [
          "Gustavo Petro/Polo_Democrático_Alternativo",
          "Gustavo Petro/Polo_Democrático_Alternativo",
          "Gustavo Petro/Movimiento_Progresistas",
          "Gustavo Petro/Polo_Democrático_Alternativo",
          "Gustavo Petro/Polo_Democrático_Alternativo",
          "Gustavo Petro/Polo_Democrático_Alternativo",
          "Gustavo Petro/Polo_Democrático_Alternativo",
          "Gustavo Petro/Polo_Democrático_Alternativo",
          "Gustavo Petro/Polo_Democrático_Alternativo",
          "Gustavo Petro/Polo_Democrático_Alternativo",
          "Gustavo Petro/Polo_Democrático_Alternativo",
          "Gustavo Petro/Movimiento_Progresistas",
          "Gustavo Petro/Movimiento_Progresistas",
          "Gustavo Petro/Polo_Democrático_Alternativo",
          "Gustavo Petro/Polo_Democrático_Alternativo",
          "Gustavo Petro/Polo_Democrático_Alternativo",
          "Gustavo Petro/Polo_Democrático_Alternativo",
          "Gustavo Petro/Polo_Democrático_Alternativo",
          "Gustavo Petro/Polo_Democrático_Alternativo",
          "Gustavo Petro/Polo_Democrático_Alternativo",
          "Gustavo Petro/Polo_Democrático_Alternativo",
          "Gustavo Petro/Polo_Democrático_Alternativo",
          "Gustavo Petro/Polo_Democrático_Alternativo",
          "Gustavo Petro/Movimiento_Progresistas",
          "Gustavo Petro/Polo_Democrático_Alternativo",
          "Gustavo Petro/Polo_Democrático_Alternativo",
          "Gustavo Petro/Polo_Democrático_Alternativo",
          "Gustavo Petro/Polo_Democrático_Alternativo",
          "Gustavo Petro/Polo_Democrático_Alternativo",
          "Gustavo Petro/Polo_Democrático_Alternativo",
          "Gustavo Petro",
          "Gustavo Petro",
          ""
         ],
         "type": "treemap",
         "values": [
          1,
          1,
          1,
          1,
          1,
          1,
          1,
          1,
          1,
          1,
          1,
          1,
          1,
          1,
          1,
          1,
          1,
          1,
          1,
          1,
          1,
          1,
          1,
          1,
          1,
          1,
          1,
          1,
          1,
          1,
          4,
          26,
          30
         ]
        }
       ],
       "layout": {
        "legend": {
         "tracegroupgap": 0
        },
        "margin": {
         "t": 60
        },
        "template": {
         "data": {
          "bar": [
           {
            "error_x": {
             "color": "#2a3f5f"
            },
            "error_y": {
             "color": "#2a3f5f"
            },
            "marker": {
             "line": {
              "color": "#E5ECF6",
              "width": 0.5
             }
            },
            "type": "bar"
           }
          ],
          "barpolar": [
           {
            "marker": {
             "line": {
              "color": "#E5ECF6",
              "width": 0.5
             }
            },
            "type": "barpolar"
           }
          ],
          "carpet": [
           {
            "aaxis": {
             "endlinecolor": "#2a3f5f",
             "gridcolor": "white",
             "linecolor": "white",
             "minorgridcolor": "white",
             "startlinecolor": "#2a3f5f"
            },
            "baxis": {
             "endlinecolor": "#2a3f5f",
             "gridcolor": "white",
             "linecolor": "white",
             "minorgridcolor": "white",
             "startlinecolor": "#2a3f5f"
            },
            "type": "carpet"
           }
          ],
          "choropleth": [
           {
            "colorbar": {
             "outlinewidth": 0,
             "ticks": ""
            },
            "type": "choropleth"
           }
          ],
          "contour": [
           {
            "colorbar": {
             "outlinewidth": 0,
             "ticks": ""
            },
            "colorscale": [
             [
              0,
              "#0d0887"
             ],
             [
              0.1111111111111111,
              "#46039f"
             ],
             [
              0.2222222222222222,
              "#7201a8"
             ],
             [
              0.3333333333333333,
              "#9c179e"
             ],
             [
              0.4444444444444444,
              "#bd3786"
             ],
             [
              0.5555555555555556,
              "#d8576b"
             ],
             [
              0.6666666666666666,
              "#ed7953"
             ],
             [
              0.7777777777777778,
              "#fb9f3a"
             ],
             [
              0.8888888888888888,
              "#fdca26"
             ],
             [
              1,
              "#f0f921"
             ]
            ],
            "type": "contour"
           }
          ],
          "contourcarpet": [
           {
            "colorbar": {
             "outlinewidth": 0,
             "ticks": ""
            },
            "type": "contourcarpet"
           }
          ],
          "heatmap": [
           {
            "colorbar": {
             "outlinewidth": 0,
             "ticks": ""
            },
            "colorscale": [
             [
              0,
              "#0d0887"
             ],
             [
              0.1111111111111111,
              "#46039f"
             ],
             [
              0.2222222222222222,
              "#7201a8"
             ],
             [
              0.3333333333333333,
              "#9c179e"
             ],
             [
              0.4444444444444444,
              "#bd3786"
             ],
             [
              0.5555555555555556,
              "#d8576b"
             ],
             [
              0.6666666666666666,
              "#ed7953"
             ],
             [
              0.7777777777777778,
              "#fb9f3a"
             ],
             [
              0.8888888888888888,
              "#fdca26"
             ],
             [
              1,
              "#f0f921"
             ]
            ],
            "type": "heatmap"
           }
          ],
          "heatmapgl": [
           {
            "colorbar": {
             "outlinewidth": 0,
             "ticks": ""
            },
            "colorscale": [
             [
              0,
              "#0d0887"
             ],
             [
              0.1111111111111111,
              "#46039f"
             ],
             [
              0.2222222222222222,
              "#7201a8"
             ],
             [
              0.3333333333333333,
              "#9c179e"
             ],
             [
              0.4444444444444444,
              "#bd3786"
             ],
             [
              0.5555555555555556,
              "#d8576b"
             ],
             [
              0.6666666666666666,
              "#ed7953"
             ],
             [
              0.7777777777777778,
              "#fb9f3a"
             ],
             [
              0.8888888888888888,
              "#fdca26"
             ],
             [
              1,
              "#f0f921"
             ]
            ],
            "type": "heatmapgl"
           }
          ],
          "histogram": [
           {
            "marker": {
             "colorbar": {
              "outlinewidth": 0,
              "ticks": ""
             }
            },
            "type": "histogram"
           }
          ],
          "histogram2d": [
           {
            "colorbar": {
             "outlinewidth": 0,
             "ticks": ""
            },
            "colorscale": [
             [
              0,
              "#0d0887"
             ],
             [
              0.1111111111111111,
              "#46039f"
             ],
             [
              0.2222222222222222,
              "#7201a8"
             ],
             [
              0.3333333333333333,
              "#9c179e"
             ],
             [
              0.4444444444444444,
              "#bd3786"
             ],
             [
              0.5555555555555556,
              "#d8576b"
             ],
             [
              0.6666666666666666,
              "#ed7953"
             ],
             [
              0.7777777777777778,
              "#fb9f3a"
             ],
             [
              0.8888888888888888,
              "#fdca26"
             ],
             [
              1,
              "#f0f921"
             ]
            ],
            "type": "histogram2d"
           }
          ],
          "histogram2dcontour": [
           {
            "colorbar": {
             "outlinewidth": 0,
             "ticks": ""
            },
            "colorscale": [
             [
              0,
              "#0d0887"
             ],
             [
              0.1111111111111111,
              "#46039f"
             ],
             [
              0.2222222222222222,
              "#7201a8"
             ],
             [
              0.3333333333333333,
              "#9c179e"
             ],
             [
              0.4444444444444444,
              "#bd3786"
             ],
             [
              0.5555555555555556,
              "#d8576b"
             ],
             [
              0.6666666666666666,
              "#ed7953"
             ],
             [
              0.7777777777777778,
              "#fb9f3a"
             ],
             [
              0.8888888888888888,
              "#fdca26"
             ],
             [
              1,
              "#f0f921"
             ]
            ],
            "type": "histogram2dcontour"
           }
          ],
          "mesh3d": [
           {
            "colorbar": {
             "outlinewidth": 0,
             "ticks": ""
            },
            "type": "mesh3d"
           }
          ],
          "parcoords": [
           {
            "line": {
             "colorbar": {
              "outlinewidth": 0,
              "ticks": ""
             }
            },
            "type": "parcoords"
           }
          ],
          "pie": [
           {
            "automargin": true,
            "type": "pie"
           }
          ],
          "scatter": [
           {
            "marker": {
             "colorbar": {
              "outlinewidth": 0,
              "ticks": ""
             }
            },
            "type": "scatter"
           }
          ],
          "scatter3d": [
           {
            "line": {
             "colorbar": {
              "outlinewidth": 0,
              "ticks": ""
             }
            },
            "marker": {
             "colorbar": {
              "outlinewidth": 0,
              "ticks": ""
             }
            },
            "type": "scatter3d"
           }
          ],
          "scattercarpet": [
           {
            "marker": {
             "colorbar": {
              "outlinewidth": 0,
              "ticks": ""
             }
            },
            "type": "scattercarpet"
           }
          ],
          "scattergeo": [
           {
            "marker": {
             "colorbar": {
              "outlinewidth": 0,
              "ticks": ""
             }
            },
            "type": "scattergeo"
           }
          ],
          "scattergl": [
           {
            "marker": {
             "colorbar": {
              "outlinewidth": 0,
              "ticks": ""
             }
            },
            "type": "scattergl"
           }
          ],
          "scattermapbox": [
           {
            "marker": {
             "colorbar": {
              "outlinewidth": 0,
              "ticks": ""
             }
            },
            "type": "scattermapbox"
           }
          ],
          "scatterpolar": [
           {
            "marker": {
             "colorbar": {
              "outlinewidth": 0,
              "ticks": ""
             }
            },
            "type": "scatterpolar"
           }
          ],
          "scatterpolargl": [
           {
            "marker": {
             "colorbar": {
              "outlinewidth": 0,
              "ticks": ""
             }
            },
            "type": "scatterpolargl"
           }
          ],
          "scatterternary": [
           {
            "marker": {
             "colorbar": {
              "outlinewidth": 0,
              "ticks": ""
             }
            },
            "type": "scatterternary"
           }
          ],
          "surface": [
           {
            "colorbar": {
             "outlinewidth": 0,
             "ticks": ""
            },
            "colorscale": [
             [
              0,
              "#0d0887"
             ],
             [
              0.1111111111111111,
              "#46039f"
             ],
             [
              0.2222222222222222,
              "#7201a8"
             ],
             [
              0.3333333333333333,
              "#9c179e"
             ],
             [
              0.4444444444444444,
              "#bd3786"
             ],
             [
              0.5555555555555556,
              "#d8576b"
             ],
             [
              0.6666666666666666,
              "#ed7953"
             ],
             [
              0.7777777777777778,
              "#fb9f3a"
             ],
             [
              0.8888888888888888,
              "#fdca26"
             ],
             [
              1,
              "#f0f921"
             ]
            ],
            "type": "surface"
           }
          ],
          "table": [
           {
            "cells": {
             "fill": {
              "color": "#EBF0F8"
             },
             "line": {
              "color": "white"
             }
            },
            "header": {
             "fill": {
              "color": "#C8D4E3"
             },
             "line": {
              "color": "white"
             }
            },
            "type": "table"
           }
          ]
         },
         "layout": {
          "annotationdefaults": {
           "arrowcolor": "#2a3f5f",
           "arrowhead": 0,
           "arrowwidth": 1
          },
          "coloraxis": {
           "colorbar": {
            "outlinewidth": 0,
            "ticks": ""
           }
          },
          "colorscale": {
           "diverging": [
            [
             0,
             "#8e0152"
            ],
            [
             0.1,
             "#c51b7d"
            ],
            [
             0.2,
             "#de77ae"
            ],
            [
             0.3,
             "#f1b6da"
            ],
            [
             0.4,
             "#fde0ef"
            ],
            [
             0.5,
             "#f7f7f7"
            ],
            [
             0.6,
             "#e6f5d0"
            ],
            [
             0.7,
             "#b8e186"
            ],
            [
             0.8,
             "#7fbc41"
            ],
            [
             0.9,
             "#4d9221"
            ],
            [
             1,
             "#276419"
            ]
           ],
           "sequential": [
            [
             0,
             "#0d0887"
            ],
            [
             0.1111111111111111,
             "#46039f"
            ],
            [
             0.2222222222222222,
             "#7201a8"
            ],
            [
             0.3333333333333333,
             "#9c179e"
            ],
            [
             0.4444444444444444,
             "#bd3786"
            ],
            [
             0.5555555555555556,
             "#d8576b"
            ],
            [
             0.6666666666666666,
             "#ed7953"
            ],
            [
             0.7777777777777778,
             "#fb9f3a"
            ],
            [
             0.8888888888888888,
             "#fdca26"
            ],
            [
             1,
             "#f0f921"
            ]
           ],
           "sequentialminus": [
            [
             0,
             "#0d0887"
            ],
            [
             0.1111111111111111,
             "#46039f"
            ],
            [
             0.2222222222222222,
             "#7201a8"
            ],
            [
             0.3333333333333333,
             "#9c179e"
            ],
            [
             0.4444444444444444,
             "#bd3786"
            ],
            [
             0.5555555555555556,
             "#d8576b"
            ],
            [
             0.6666666666666666,
             "#ed7953"
            ],
            [
             0.7777777777777778,
             "#fb9f3a"
            ],
            [
             0.8888888888888888,
             "#fdca26"
            ],
            [
             1,
             "#f0f921"
            ]
           ]
          },
          "colorway": [
           "#636efa",
           "#EF553B",
           "#00cc96",
           "#ab63fa",
           "#FFA15A",
           "#19d3f3",
           "#FF6692",
           "#B6E880",
           "#FF97FF",
           "#FECB52"
          ],
          "font": {
           "color": "#2a3f5f"
          },
          "geo": {
           "bgcolor": "white",
           "lakecolor": "white",
           "landcolor": "#E5ECF6",
           "showlakes": true,
           "showland": true,
           "subunitcolor": "white"
          },
          "hoverlabel": {
           "align": "left"
          },
          "hovermode": "closest",
          "mapbox": {
           "style": "light"
          },
          "paper_bgcolor": "white",
          "plot_bgcolor": "#E5ECF6",
          "polar": {
           "angularaxis": {
            "gridcolor": "white",
            "linecolor": "white",
            "ticks": ""
           },
           "bgcolor": "#E5ECF6",
           "radialaxis": {
            "gridcolor": "white",
            "linecolor": "white",
            "ticks": ""
           }
          },
          "scene": {
           "xaxis": {
            "backgroundcolor": "#E5ECF6",
            "gridcolor": "white",
            "gridwidth": 2,
            "linecolor": "white",
            "showbackground": true,
            "ticks": "",
            "zerolinecolor": "white"
           },
           "yaxis": {
            "backgroundcolor": "#E5ECF6",
            "gridcolor": "white",
            "gridwidth": 2,
            "linecolor": "white",
            "showbackground": true,
            "ticks": "",
            "zerolinecolor": "white"
           },
           "zaxis": {
            "backgroundcolor": "#E5ECF6",
            "gridcolor": "white",
            "gridwidth": 2,
            "linecolor": "white",
            "showbackground": true,
            "ticks": "",
            "zerolinecolor": "white"
           }
          },
          "shapedefaults": {
           "line": {
            "color": "#2a3f5f"
           }
          },
          "ternary": {
           "aaxis": {
            "gridcolor": "white",
            "linecolor": "white",
            "ticks": ""
           },
           "baxis": {
            "gridcolor": "white",
            "linecolor": "white",
            "ticks": ""
           },
           "bgcolor": "#E5ECF6",
           "caxis": {
            "gridcolor": "white",
            "linecolor": "white",
            "ticks": ""
           }
          },
          "title": {
           "x": 0.05
          },
          "xaxis": {
           "automargin": true,
           "gridcolor": "white",
           "linecolor": "white",
           "ticks": "",
           "title": {
            "standoff": 15
           },
           "zerolinecolor": "white",
           "zerolinewidth": 2
          },
          "yaxis": {
           "automargin": true,
           "gridcolor": "white",
           "linecolor": "white",
           "ticks": "",
           "title": {
            "standoff": 15
           },
           "zerolinecolor": "white",
           "zerolinewidth": 2
          }
         }
        }
       }
      },
      "text/html": [
       "<div>\n",
       "        \n",
       "        \n",
       "            <div id=\"86d59816-3a92-43e3-a0e5-537c50a483ab\" class=\"plotly-graph-div\" style=\"height:525px; width:100%;\"></div>\n",
       "            <script type=\"text/javascript\">\n",
       "                require([\"plotly\"], function(Plotly) {\n",
       "                    window.PLOTLYENV=window.PLOTLYENV || {};\n",
       "                    \n",
       "                if (document.getElementById(\"86d59816-3a92-43e3-a0e5-537c50a483ab\")) {\n",
       "                    Plotly.newPlot(\n",
       "                        '86d59816-3a92-43e3-a0e5-537c50a483ab',\n",
       "                        [{\"branchvalues\": \"total\", \"domain\": {\"x\": [0.0, 1.0], \"y\": [0.0, 1.0]}, \"hovertemplate\": \"labels=%{label}<br>cantidad=%{value}<br>parent=%{parent}<br>id=%{id}<extra></extra>\", \"ids\": [\"Gustavo Petro/Polo_Democr\\u00e1tico_Alternativo/Alexander L\\u00f3pez Maya\", \"Gustavo Petro/Polo_Democr\\u00e1tico_Alternativo/Alirio Uribe Mu\\u00f1oz\", \"Gustavo Petro/Movimiento_Progresistas/Ang\\u00e9lica Lozano\", \"Gustavo Petro/Polo_Democr\\u00e1tico_Alternativo/Aurelio Su\\u00e1rez Montoya\", \"Gustavo Petro/Polo_Democr\\u00e1tico_Alternativo/Camilo Romero (pol\\u00edtico)\", \"Gustavo Petro/Polo_Democr\\u00e1tico_Alternativo/Carlos Gaviria D\\u00edaz\", \"Gustavo Petro/Polo_Democr\\u00e1tico_Alternativo/Clara L\\u00f3pez\", \"Gustavo Petro/Polo_Democr\\u00e1tico_Alternativo/Edison Lucio Torres\", \"Gustavo Petro/Polo_Democr\\u00e1tico_Alternativo/Germ\\u00e1n Navas Talero\", \"Gustavo Petro/Polo_Democr\\u00e1tico_Alternativo/Gloria Cuartas\", \"Gustavo Petro/Polo_Democr\\u00e1tico_Alternativo/Gloria In\\u00e9s Ram\\u00edrez\", \"Gustavo Petro/Movimiento_Progresistas/Guillermo Asprilla\", \"Gustavo Petro/Movimiento_Progresistas/Gustavo Petro\", \"Gustavo Petro/Polo_Democr\\u00e1tico_Alternativo/Gustavo Petro\", \"Gustavo Petro/Polo_Democr\\u00e1tico_Alternativo/Iv\\u00e1n Cepeda\", \"Gustavo Petro/Polo_Democr\\u00e1tico_Alternativo/Iv\\u00e1n Moreno Rojas\", \"Gustavo Petro/Polo_Democr\\u00e1tico_Alternativo/Jaime Duss\\u00e1n\", \"Gustavo Petro/Polo_Democr\\u00e1tico_Alternativo/Jes\\u00fas Alberto Castilla\", \"Gustavo Petro/Polo_Democr\\u00e1tico_Alternativo/Jes\\u00fas Bernal Amorocho\", \"Gustavo Petro/Polo_Democr\\u00e1tico_Alternativo/Jorge Eli\\u00e9cer Guevara\", \"Gustavo Petro/Polo_Democr\\u00e1tico_Alternativo/Jorge Enrique Robledo\", \"Gustavo Petro/Polo_Democr\\u00e1tico_Alternativo/Julio C\\u00e9sar Mancera\", \"Gustavo Petro/Polo_Democr\\u00e1tico_Alternativo/Luis Carlos Avellaneda\", \"Gustavo Petro/Movimiento_Progresistas/Mar\\u00eda Mercedes Maldonado\", \"Gustavo Petro/Polo_Democr\\u00e1tico_Alternativo/Mauricio Ospina\", \"Gustavo Petro/Polo_Democr\\u00e1tico_Alternativo/Parmenio Cu\\u00e9llar\", \"Gustavo Petro/Polo_Democr\\u00e1tico_Alternativo/Samuel Moreno\", \"Gustavo Petro/Polo_Democr\\u00e1tico_Alternativo/Sen\\u00e9n Ni\\u00f1o\", \"Gustavo Petro/Polo_Democr\\u00e1tico_Alternativo/Venus Albeiro Silva\", \"Gustavo Petro/Polo_Democr\\u00e1tico_Alternativo/V\\u00edctor Correa V\\u00e9lez\", \"Gustavo Petro/Movimiento_Progresistas\", \"Gustavo Petro/Polo_Democr\\u00e1tico_Alternativo\", \"Gustavo Petro\"], \"labels\": [\"Alexander L\\u00f3pez Maya\", \"Alirio Uribe Mu\\u00f1oz\", \"Ang\\u00e9lica Lozano\", \"Aurelio Su\\u00e1rez Montoya\", \"Camilo Romero (pol\\u00edtico)\", \"Carlos Gaviria D\\u00edaz\", \"Clara L\\u00f3pez\", \"Edison Lucio Torres\", \"Germ\\u00e1n Navas Talero\", \"Gloria Cuartas\", \"Gloria In\\u00e9s Ram\\u00edrez\", \"Guillermo Asprilla\", \"Gustavo Petro\", \"Gustavo Petro\", \"Iv\\u00e1n Cepeda\", \"Iv\\u00e1n Moreno Rojas\", \"Jaime Duss\\u00e1n\", \"Jes\\u00fas Alberto Castilla\", \"Jes\\u00fas Bernal Amorocho\", \"Jorge Eli\\u00e9cer Guevara\", \"Jorge Enrique Robledo\", \"Julio C\\u00e9sar Mancera\", \"Luis Carlos Avellaneda\", \"Mar\\u00eda Mercedes Maldonado\", \"Mauricio Ospina\", \"Parmenio Cu\\u00e9llar\", \"Samuel Moreno\", \"Sen\\u00e9n Ni\\u00f1o\", \"Venus Albeiro Silva\", \"V\\u00edctor Correa V\\u00e9lez\", \"Movimiento_Progresistas\", \"Polo_Democr\\u00e1tico_Alternativo\", \"Gustavo Petro\"], \"name\": \"\", \"parents\": [\"Gustavo Petro/Polo_Democr\\u00e1tico_Alternativo\", \"Gustavo Petro/Polo_Democr\\u00e1tico_Alternativo\", \"Gustavo Petro/Movimiento_Progresistas\", \"Gustavo Petro/Polo_Democr\\u00e1tico_Alternativo\", \"Gustavo Petro/Polo_Democr\\u00e1tico_Alternativo\", \"Gustavo Petro/Polo_Democr\\u00e1tico_Alternativo\", \"Gustavo Petro/Polo_Democr\\u00e1tico_Alternativo\", \"Gustavo Petro/Polo_Democr\\u00e1tico_Alternativo\", \"Gustavo Petro/Polo_Democr\\u00e1tico_Alternativo\", \"Gustavo Petro/Polo_Democr\\u00e1tico_Alternativo\", \"Gustavo Petro/Polo_Democr\\u00e1tico_Alternativo\", \"Gustavo Petro/Movimiento_Progresistas\", \"Gustavo Petro/Movimiento_Progresistas\", \"Gustavo Petro/Polo_Democr\\u00e1tico_Alternativo\", \"Gustavo Petro/Polo_Democr\\u00e1tico_Alternativo\", \"Gustavo Petro/Polo_Democr\\u00e1tico_Alternativo\", \"Gustavo Petro/Polo_Democr\\u00e1tico_Alternativo\", \"Gustavo Petro/Polo_Democr\\u00e1tico_Alternativo\", \"Gustavo Petro/Polo_Democr\\u00e1tico_Alternativo\", \"Gustavo Petro/Polo_Democr\\u00e1tico_Alternativo\", \"Gustavo Petro/Polo_Democr\\u00e1tico_Alternativo\", \"Gustavo Petro/Polo_Democr\\u00e1tico_Alternativo\", \"Gustavo Petro/Polo_Democr\\u00e1tico_Alternativo\", \"Gustavo Petro/Movimiento_Progresistas\", \"Gustavo Petro/Polo_Democr\\u00e1tico_Alternativo\", \"Gustavo Petro/Polo_Democr\\u00e1tico_Alternativo\", \"Gustavo Petro/Polo_Democr\\u00e1tico_Alternativo\", \"Gustavo Petro/Polo_Democr\\u00e1tico_Alternativo\", \"Gustavo Petro/Polo_Democr\\u00e1tico_Alternativo\", \"Gustavo Petro/Polo_Democr\\u00e1tico_Alternativo\", \"Gustavo Petro\", \"Gustavo Petro\", \"\"], \"type\": \"treemap\", \"values\": [1, 1, 1, 1, 1, 1, 1, 1, 1, 1, 1, 1, 1, 1, 1, 1, 1, 1, 1, 1, 1, 1, 1, 1, 1, 1, 1, 1, 1, 1, 4, 26, 30]}],\n",
       "                        {\"legend\": {\"tracegroupgap\": 0}, \"margin\": {\"t\": 60}, \"template\": {\"data\": {\"bar\": [{\"error_x\": {\"color\": \"#2a3f5f\"}, \"error_y\": {\"color\": \"#2a3f5f\"}, \"marker\": {\"line\": {\"color\": \"#E5ECF6\", \"width\": 0.5}}, \"type\": \"bar\"}], \"barpolar\": [{\"marker\": {\"line\": {\"color\": \"#E5ECF6\", \"width\": 0.5}}, \"type\": \"barpolar\"}], \"carpet\": [{\"aaxis\": {\"endlinecolor\": \"#2a3f5f\", \"gridcolor\": \"white\", \"linecolor\": \"white\", \"minorgridcolor\": \"white\", \"startlinecolor\": \"#2a3f5f\"}, \"baxis\": {\"endlinecolor\": \"#2a3f5f\", \"gridcolor\": \"white\", \"linecolor\": \"white\", \"minorgridcolor\": \"white\", \"startlinecolor\": \"#2a3f5f\"}, \"type\": \"carpet\"}], \"choropleth\": [{\"colorbar\": {\"outlinewidth\": 0, \"ticks\": \"\"}, \"type\": \"choropleth\"}], \"contour\": [{\"colorbar\": {\"outlinewidth\": 0, \"ticks\": \"\"}, \"colorscale\": [[0.0, \"#0d0887\"], [0.1111111111111111, \"#46039f\"], [0.2222222222222222, \"#7201a8\"], [0.3333333333333333, \"#9c179e\"], [0.4444444444444444, \"#bd3786\"], [0.5555555555555556, \"#d8576b\"], [0.6666666666666666, \"#ed7953\"], [0.7777777777777778, \"#fb9f3a\"], [0.8888888888888888, \"#fdca26\"], [1.0, \"#f0f921\"]], \"type\": \"contour\"}], \"contourcarpet\": [{\"colorbar\": {\"outlinewidth\": 0, \"ticks\": \"\"}, \"type\": \"contourcarpet\"}], \"heatmap\": [{\"colorbar\": {\"outlinewidth\": 0, \"ticks\": \"\"}, \"colorscale\": [[0.0, \"#0d0887\"], [0.1111111111111111, \"#46039f\"], [0.2222222222222222, \"#7201a8\"], [0.3333333333333333, \"#9c179e\"], [0.4444444444444444, \"#bd3786\"], [0.5555555555555556, \"#d8576b\"], [0.6666666666666666, \"#ed7953\"], [0.7777777777777778, \"#fb9f3a\"], [0.8888888888888888, \"#fdca26\"], [1.0, \"#f0f921\"]], \"type\": \"heatmap\"}], \"heatmapgl\": [{\"colorbar\": {\"outlinewidth\": 0, \"ticks\": \"\"}, \"colorscale\": [[0.0, \"#0d0887\"], [0.1111111111111111, \"#46039f\"], [0.2222222222222222, \"#7201a8\"], [0.3333333333333333, \"#9c179e\"], [0.4444444444444444, \"#bd3786\"], [0.5555555555555556, \"#d8576b\"], [0.6666666666666666, \"#ed7953\"], [0.7777777777777778, \"#fb9f3a\"], [0.8888888888888888, \"#fdca26\"], [1.0, \"#f0f921\"]], \"type\": \"heatmapgl\"}], \"histogram\": [{\"marker\": {\"colorbar\": {\"outlinewidth\": 0, \"ticks\": \"\"}}, \"type\": \"histogram\"}], \"histogram2d\": [{\"colorbar\": {\"outlinewidth\": 0, \"ticks\": \"\"}, \"colorscale\": [[0.0, \"#0d0887\"], [0.1111111111111111, \"#46039f\"], [0.2222222222222222, \"#7201a8\"], [0.3333333333333333, \"#9c179e\"], [0.4444444444444444, \"#bd3786\"], [0.5555555555555556, \"#d8576b\"], [0.6666666666666666, \"#ed7953\"], [0.7777777777777778, \"#fb9f3a\"], [0.8888888888888888, \"#fdca26\"], [1.0, \"#f0f921\"]], \"type\": \"histogram2d\"}], \"histogram2dcontour\": [{\"colorbar\": {\"outlinewidth\": 0, \"ticks\": \"\"}, \"colorscale\": [[0.0, \"#0d0887\"], [0.1111111111111111, \"#46039f\"], [0.2222222222222222, \"#7201a8\"], [0.3333333333333333, \"#9c179e\"], [0.4444444444444444, \"#bd3786\"], [0.5555555555555556, \"#d8576b\"], [0.6666666666666666, \"#ed7953\"], [0.7777777777777778, \"#fb9f3a\"], [0.8888888888888888, \"#fdca26\"], [1.0, \"#f0f921\"]], \"type\": \"histogram2dcontour\"}], \"mesh3d\": [{\"colorbar\": {\"outlinewidth\": 0, \"ticks\": \"\"}, \"type\": \"mesh3d\"}], \"parcoords\": [{\"line\": {\"colorbar\": {\"outlinewidth\": 0, \"ticks\": \"\"}}, \"type\": \"parcoords\"}], \"pie\": [{\"automargin\": true, \"type\": \"pie\"}], \"scatter\": [{\"marker\": {\"colorbar\": {\"outlinewidth\": 0, \"ticks\": \"\"}}, \"type\": \"scatter\"}], \"scatter3d\": [{\"line\": {\"colorbar\": {\"outlinewidth\": 0, \"ticks\": \"\"}}, \"marker\": {\"colorbar\": {\"outlinewidth\": 0, \"ticks\": \"\"}}, \"type\": \"scatter3d\"}], \"scattercarpet\": [{\"marker\": {\"colorbar\": {\"outlinewidth\": 0, \"ticks\": \"\"}}, \"type\": \"scattercarpet\"}], \"scattergeo\": [{\"marker\": {\"colorbar\": {\"outlinewidth\": 0, \"ticks\": \"\"}}, \"type\": \"scattergeo\"}], \"scattergl\": [{\"marker\": {\"colorbar\": {\"outlinewidth\": 0, \"ticks\": \"\"}}, \"type\": \"scattergl\"}], \"scattermapbox\": [{\"marker\": {\"colorbar\": {\"outlinewidth\": 0, \"ticks\": \"\"}}, \"type\": \"scattermapbox\"}], \"scatterpolar\": [{\"marker\": {\"colorbar\": {\"outlinewidth\": 0, \"ticks\": \"\"}}, \"type\": \"scatterpolar\"}], \"scatterpolargl\": [{\"marker\": {\"colorbar\": {\"outlinewidth\": 0, \"ticks\": \"\"}}, \"type\": \"scatterpolargl\"}], \"scatterternary\": [{\"marker\": {\"colorbar\": {\"outlinewidth\": 0, \"ticks\": \"\"}}, \"type\": \"scatterternary\"}], \"surface\": [{\"colorbar\": {\"outlinewidth\": 0, \"ticks\": \"\"}, \"colorscale\": [[0.0, \"#0d0887\"], [0.1111111111111111, \"#46039f\"], [0.2222222222222222, \"#7201a8\"], [0.3333333333333333, \"#9c179e\"], [0.4444444444444444, \"#bd3786\"], [0.5555555555555556, \"#d8576b\"], [0.6666666666666666, \"#ed7953\"], [0.7777777777777778, \"#fb9f3a\"], [0.8888888888888888, \"#fdca26\"], [1.0, \"#f0f921\"]], \"type\": \"surface\"}], \"table\": [{\"cells\": {\"fill\": {\"color\": \"#EBF0F8\"}, \"line\": {\"color\": \"white\"}}, \"header\": {\"fill\": {\"color\": \"#C8D4E3\"}, \"line\": {\"color\": \"white\"}}, \"type\": \"table\"}]}, \"layout\": {\"annotationdefaults\": {\"arrowcolor\": \"#2a3f5f\", \"arrowhead\": 0, \"arrowwidth\": 1}, \"coloraxis\": {\"colorbar\": {\"outlinewidth\": 0, \"ticks\": \"\"}}, \"colorscale\": {\"diverging\": [[0, \"#8e0152\"], [0.1, \"#c51b7d\"], [0.2, \"#de77ae\"], [0.3, \"#f1b6da\"], [0.4, \"#fde0ef\"], [0.5, \"#f7f7f7\"], [0.6, \"#e6f5d0\"], [0.7, \"#b8e186\"], [0.8, \"#7fbc41\"], [0.9, \"#4d9221\"], [1, \"#276419\"]], \"sequential\": [[0.0, \"#0d0887\"], [0.1111111111111111, \"#46039f\"], [0.2222222222222222, \"#7201a8\"], [0.3333333333333333, \"#9c179e\"], [0.4444444444444444, \"#bd3786\"], [0.5555555555555556, \"#d8576b\"], [0.6666666666666666, \"#ed7953\"], [0.7777777777777778, \"#fb9f3a\"], [0.8888888888888888, \"#fdca26\"], [1.0, \"#f0f921\"]], \"sequentialminus\": [[0.0, \"#0d0887\"], [0.1111111111111111, \"#46039f\"], [0.2222222222222222, \"#7201a8\"], [0.3333333333333333, \"#9c179e\"], [0.4444444444444444, \"#bd3786\"], [0.5555555555555556, \"#d8576b\"], [0.6666666666666666, \"#ed7953\"], [0.7777777777777778, \"#fb9f3a\"], [0.8888888888888888, \"#fdca26\"], [1.0, \"#f0f921\"]]}, \"colorway\": [\"#636efa\", \"#EF553B\", \"#00cc96\", \"#ab63fa\", \"#FFA15A\", \"#19d3f3\", \"#FF6692\", \"#B6E880\", \"#FF97FF\", \"#FECB52\"], \"font\": {\"color\": \"#2a3f5f\"}, \"geo\": {\"bgcolor\": \"white\", \"lakecolor\": \"white\", \"landcolor\": \"#E5ECF6\", \"showlakes\": true, \"showland\": true, \"subunitcolor\": \"white\"}, \"hoverlabel\": {\"align\": \"left\"}, \"hovermode\": \"closest\", \"mapbox\": {\"style\": \"light\"}, \"paper_bgcolor\": \"white\", \"plot_bgcolor\": \"#E5ECF6\", \"polar\": {\"angularaxis\": {\"gridcolor\": \"white\", \"linecolor\": \"white\", \"ticks\": \"\"}, \"bgcolor\": \"#E5ECF6\", \"radialaxis\": {\"gridcolor\": \"white\", \"linecolor\": \"white\", \"ticks\": \"\"}}, \"scene\": {\"xaxis\": {\"backgroundcolor\": \"#E5ECF6\", \"gridcolor\": \"white\", \"gridwidth\": 2, \"linecolor\": \"white\", \"showbackground\": true, \"ticks\": \"\", \"zerolinecolor\": \"white\"}, \"yaxis\": {\"backgroundcolor\": \"#E5ECF6\", \"gridcolor\": \"white\", \"gridwidth\": 2, \"linecolor\": \"white\", \"showbackground\": true, \"ticks\": \"\", \"zerolinecolor\": \"white\"}, \"zaxis\": {\"backgroundcolor\": \"#E5ECF6\", \"gridcolor\": \"white\", \"gridwidth\": 2, \"linecolor\": \"white\", \"showbackground\": true, \"ticks\": \"\", \"zerolinecolor\": \"white\"}}, \"shapedefaults\": {\"line\": {\"color\": \"#2a3f5f\"}}, \"ternary\": {\"aaxis\": {\"gridcolor\": \"white\", \"linecolor\": \"white\", \"ticks\": \"\"}, \"baxis\": {\"gridcolor\": \"white\", \"linecolor\": \"white\", \"ticks\": \"\"}, \"bgcolor\": \"#E5ECF6\", \"caxis\": {\"gridcolor\": \"white\", \"linecolor\": \"white\", \"ticks\": \"\"}}, \"title\": {\"x\": 0.05}, \"xaxis\": {\"automargin\": true, \"gridcolor\": \"white\", \"linecolor\": \"white\", \"ticks\": \"\", \"title\": {\"standoff\": 15}, \"zerolinecolor\": \"white\", \"zerolinewidth\": 2}, \"yaxis\": {\"automargin\": true, \"gridcolor\": \"white\", \"linecolor\": \"white\", \"ticks\": \"\", \"title\": {\"standoff\": 15}, \"zerolinecolor\": \"white\", \"zerolinewidth\": 2}}}},\n",
       "                        {\"responsive\": true}\n",
       "                    ).then(function(){\n",
       "                            \n",
       "var gd = document.getElementById('86d59816-3a92-43e3-a0e5-537c50a483ab');\n",
       "var x = new MutationObserver(function (mutations, observer) {{\n",
       "        var display = window.getComputedStyle(gd).display;\n",
       "        if (!display || display === 'none') {{\n",
       "            console.log([gd, 'removed!']);\n",
       "            Plotly.purge(gd);\n",
       "            observer.disconnect();\n",
       "        }}\n",
       "}});\n",
       "\n",
       "// Listen for the removal of the full notebook cells\n",
       "var notebookContainer = gd.closest('#notebook-container');\n",
       "if (notebookContainer) {{\n",
       "    x.observe(notebookContainer, {childList: true});\n",
       "}}\n",
       "\n",
       "// Listen for the clearing of the current output cell\n",
       "var outputEl = gd.closest('.output');\n",
       "if (outputEl) {{\n",
       "    x.observe(outputEl, {childList: true});\n",
       "}}\n",
       "\n",
       "                        })\n",
       "                };\n",
       "                });\n",
       "            </script>\n",
       "        </div>"
      ]
     },
     "metadata": {},
     "output_type": "display_data"
    }
   ],
   "source": [
    "fig = px.treemap(df, path=['influencer', 'partido', 'politico'], values='cantidad')\n",
    "fig.show()"
   ]
  },
  {
   "cell_type": "markdown",
   "metadata": {},
   "source": [
    "# Network"
   ]
  },
  {
   "cell_type": "code",
   "execution_count": 405,
   "metadata": {},
   "outputs": [],
   "source": [
    "politicos = ['Jorge_Enrique_Robledo', 'Carlos_Gaviria_Díaz', 'Gustavo_Petro', 'Gustavo_Petro', 'Jesús_Bernal_Amorocho', 'Camilo_Romero_(político)', 'Luis_Carlos_Avellaneda', 'Mauricio_Ospina', 'Guillermo_Asprilla', 'Clara_López', 'Germán_Navas_Talero', 'Iván_Moreno_Rojas', 'Jaime_Dussán', 'Samuel_Moreno', 'Aurelio_Suárez_Montoya', 'Gloria_Cuartas', 'María_Mercedes_Maldonado', 'Senén_Niño', 'Venus_Albeiro_Silva', 'Gloria_Inés_Ramírez', 'Edison_Lucio_Torres', 'Jorge_Eliécer_Guevara', 'Iván_Cepeda', 'Parmenio_Cuéllar', 'Alexander_López_Maya', 'Angélica_Lozano', 'Alirio_Uribe_Muñoz', 'Jesús_Alberto_Castilla', 'Víctor_Correa_Vélez', 'Julio_César_Mancera']"
   ]
  },
  {
   "cell_type": "code",
   "execution_count": 406,
   "metadata": {},
   "outputs": [
    {
     "name": "stdout",
     "output_type": "stream",
     "text": [
      "[[0, 'Jorge_Enrique_Robledo'], [1, 'Carlos_Gaviria_Díaz'], [2, 'Gustavo_Petro'], [3, 'Jesús_Bernal_Amorocho'], [4, 'Camilo_Romero_(político)'], [5, 'Luis_Carlos_Avellaneda'], [6, 'Mauricio_Ospina'], [7, 'Guillermo_Asprilla'], [8, 'Clara_López'], [9, 'Germán_Navas_Talero'], [10, 'Iván_Moreno_Rojas'], [11, 'Jaime_Dussán'], [12, 'Samuel_Moreno'], [13, 'Aurelio_Suárez_Montoya'], [14, 'Gloria_Cuartas'], [15, 'María_Mercedes_Maldonado'], [16, 'Senén_Niño'], [17, 'Venus_Albeiro_Silva'], [18, 'Gloria_Inés_Ramírez'], [19, 'Edison_Lucio_Torres'], [20, 'Jorge_Eliécer_Guevara'], [21, 'Iván_Cepeda'], [22, 'Parmenio_Cuéllar'], [23, 'Alexander_López_Maya'], [24, 'Angélica_Lozano'], [25, 'Alirio_Uribe_Muñoz'], [26, 'Jesús_Alberto_Castilla'], [27, 'Víctor_Correa_Vélez'], [28, 'Julio_César_Mancera']]\n",
      "2\n"
     ]
    }
   ],
   "source": [
    "influencer = 'Gustavo_Petro'\n",
    "filtrado = []\n",
    "politicos = list(dict.fromkeys(politicos))\n",
    "for politico in range(len(politicos)):\n",
    "    if politicos[politico] == influencer:\n",
    "        id_influencer = politico\n",
    "    filtrado.append([politico, politicos[politico]])\n",
    "print(filtrado)\n",
    "print(id_influencer)"
   ]
  },
  {
   "cell_type": "code",
   "execution_count": 407,
   "metadata": {},
   "outputs": [
    {
     "name": "stdout",
     "output_type": "stream",
     "text": [
      "[(0.5372049176367056, 0.5724757502560481), (0.6427965230351121, 0.47359974288030937), (0.6117812465889452, 0.5084957021229127), (0.5769120161773951, 0.522101074743773), (0.6036391672883142, 0.6840548412429993), (0.6946472891999492, 0.5945317481864699), (0.5676015354589506, 0.6451284760771867), (0.5611253549491279, 0.5480159978138974), (0.6954169522231669, 0.5587539765628767), (0.7033940488312304, 0.7712205307125091), (0.8377885092843279, 0.7851321061331763), (0.698331561197978, 0.8956041269834919), (0.8647436786674619, 0.846967240667102), (0.7168827152676156, 0.819202325181732), (0.7136124667463564, 0.76640149629159), (0.8025742251355151, 0.015928325915816832), (0.6255141822446515, 0.015974393663188424), (0.8111196050620213, 0.12654187502826075), (0.6737191749037673, 0.0619391375350562), (0.7036842189068541, 0.16572892312434284), (0.7592864313764017, 0.17301754531857394), (0.7168827152676156, 0.819202325181732), (0.698331561197978, 0.8956041269834919), (0.6566074866261258, 0.951009221660064), (0.971880190271333, 0.6015018726319005), (0.9984017106665685, 0.698966016488582), (0.9402403937242769, 0.6485663327578048), (0.8927770119786564, 0.6953886403926387), (0.9533135141695321, 0.7731397236073495)]\n"
     ]
    }
   ],
   "source": [
    "G = nx.random_geometric_graph(150, 0.125)\n",
    "posicion = []\n",
    "i = len(filtrado)\n",
    "j = 0\n",
    "for edge in G.edges():\n",
    "    x0, y0 = G.nodes[edge[1]]['pos']\n",
    "    if j < i:\n",
    "        posicion.append((x0, y0))\n",
    "        j += 1\n",
    "print(posicion)    "
   ]
  },
  {
   "cell_type": "code",
   "execution_count": 408,
   "metadata": {},
   "outputs": [
    {
     "name": "stdout",
     "output_type": "stream",
     "text": [
      "29\n",
      "(0.6117812465889452, 0.5084957021229127)\n",
      "[(0.5372049176367056, 0.5724757502560481), (0.6427965230351121, 0.47359974288030937), (0.6117812465889452, 0.5084957021229127), (0.5769120161773951, 0.522101074743773), (0.6036391672883142, 0.6840548412429993), (0.6946472891999492, 0.5945317481864699), (0.5676015354589506, 0.6451284760771867), (0.5611253549491279, 0.5480159978138974), (0.6954169522231669, 0.5587539765628767), (0.7033940488312304, 0.7712205307125091), (0.8377885092843279, 0.7851321061331763), (0.698331561197978, 0.8956041269834919), (0.8647436786674619, 0.846967240667102), (0.7168827152676156, 0.819202325181732), (0.7136124667463564, 0.76640149629159), (0.8025742251355151, 0.015928325915816832), (0.6255141822446515, 0.015974393663188424), (0.8111196050620213, 0.12654187502826075), (0.6737191749037673, 0.0619391375350562), (0.7036842189068541, 0.16572892312434284), (0.7592864313764017, 0.17301754531857394), (0.7168827152676156, 0.819202325181732), (0.698331561197978, 0.8956041269834919), (0.6566074866261258, 0.951009221660064), (0.971880190271333, 0.6015018726319005), (0.9984017106665685, 0.698966016488582), (0.9402403937242769, 0.6485663327578048), (0.8927770119786564, 0.6953886403926387), (0.9533135141695321, 0.7731397236073495)]\n",
      "[(0.5372049176367056, 0.5724757502560481), (0.6427965230351121, 0.47359974288030937), (0.6117812465889452, 0.5084957021229127), (0.5769120161773951, 0.522101074743773), (0.6036391672883142, 0.6840548412429993), (0.6946472891999492, 0.5945317481864699), (0.5676015354589506, 0.6451284760771867), (0.5611253549491279, 0.5480159978138974), (0.6954169522231669, 0.5587539765628767), (0.7033940488312304, 0.7712205307125091), (0.8377885092843279, 0.7851321061331763), (0.698331561197978, 0.8956041269834919), (0.8647436786674619, 0.846967240667102), (0.7168827152676156, 0.819202325181732), (0.7136124667463564, 0.76640149629159), (0.8025742251355151, 0.015928325915816832), (0.6255141822446515, 0.015974393663188424), (0.8111196050620213, 0.12654187502826075), (0.6737191749037673, 0.0619391375350562), (0.7036842189068541, 0.16572892312434284), (0.7592864313764017, 0.17301754531857394), (0.7168827152676156, 0.819202325181732), (0.698331561197978, 0.8956041269834919), (0.6566074866261258, 0.951009221660064), (0.971880190271333, 0.6015018726319005), (0.9984017106665685, 0.698966016488582), (0.9402403937242769, 0.6485663327578048), (0.8927770119786564, 0.6953886403926387), (0.9533135141695321, 0.7731397236073495)]\n"
     ]
    },
    {
     "data": {
      "text/html": [
       "<div>\n",
       "<style scoped>\n",
       "    .dataframe tbody tr th:only-of-type {\n",
       "        vertical-align: middle;\n",
       "    }\n",
       "\n",
       "    .dataframe tbody tr th {\n",
       "        vertical-align: top;\n",
       "    }\n",
       "\n",
       "    .dataframe thead th {\n",
       "        text-align: right;\n",
       "    }\n",
       "</style>\n",
       "<table border=\"1\" class=\"dataframe\">\n",
       "  <thead>\n",
       "    <tr style=\"text-align: right;\">\n",
       "      <th></th>\n",
       "      <th>id</th>\n",
       "      <th>politico</th>\n",
       "      <th>posicion</th>\n",
       "    </tr>\n",
       "  </thead>\n",
       "  <tbody>\n",
       "    <tr>\n",
       "      <td>0</td>\n",
       "      <td>0</td>\n",
       "      <td>Jorge_Enrique_Robledo</td>\n",
       "      <td>(0.5372049176367056, 0.5724757502560481)</td>\n",
       "    </tr>\n",
       "    <tr>\n",
       "      <td>1</td>\n",
       "      <td>1</td>\n",
       "      <td>Carlos_Gaviria_Díaz</td>\n",
       "      <td>(0.6427965230351121, 0.47359974288030937)</td>\n",
       "    </tr>\n",
       "    <tr>\n",
       "      <td>2</td>\n",
       "      <td>2</td>\n",
       "      <td>Gustavo_Petro</td>\n",
       "      <td>(0.6117812465889452, 0.5084957021229127)</td>\n",
       "    </tr>\n",
       "    <tr>\n",
       "      <td>3</td>\n",
       "      <td>3</td>\n",
       "      <td>Jesús_Bernal_Amorocho</td>\n",
       "      <td>(0.5769120161773951, 0.522101074743773)</td>\n",
       "    </tr>\n",
       "    <tr>\n",
       "      <td>4</td>\n",
       "      <td>4</td>\n",
       "      <td>Camilo_Romero_(político)</td>\n",
       "      <td>(0.6036391672883142, 0.6840548412429993)</td>\n",
       "    </tr>\n",
       "  </tbody>\n",
       "</table>\n",
       "</div>"
      ],
      "text/plain": [
       "   id                  politico                                   posicion\n",
       "0   0     Jorge_Enrique_Robledo   (0.5372049176367056, 0.5724757502560481)\n",
       "1   1       Carlos_Gaviria_Díaz  (0.6427965230351121, 0.47359974288030937)\n",
       "2   2             Gustavo_Petro   (0.6117812465889452, 0.5084957021229127)\n",
       "3   3     Jesús_Bernal_Amorocho    (0.5769120161773951, 0.522101074743773)\n",
       "4   4  Camilo_Romero_(político)   (0.6036391672883142, 0.6840548412429993)"
      ]
     },
     "execution_count": 408,
     "metadata": {},
     "output_type": "execute_result"
    }
   ],
   "source": [
    "posicion_influencer = posicion[id_influencer]\n",
    "df = pd.DataFrame(filtrado,columns=['id', 'politico'])\n",
    "print(len(posicion))\n",
    "df['posicion'] = posicion\n",
    "print(posicion_influencer)\n",
    "posiciones_todos = posicion\n",
    "print(posiciones_todos)\n",
    "#posicion.pop(id_influencer)\n",
    "print(posiciones_todos)\n",
    "df.head()\n"
   ]
  },
  {
   "cell_type": "code",
   "execution_count": 409,
   "metadata": {},
   "outputs": [
    {
     "name": "stdout",
     "output_type": "stream",
     "text": [
      "(0.679577489639296, 0.5947590939918125)\n"
     ]
    }
   ],
   "source": [
    "destino = []\n",
    "cantidad = []\n",
    "print(posiciones_influencer)\n",
    "for politico in range(len(politicos)):\n",
    "    if politico == id_influencer:\n",
    "        destino.append(posicion)\n",
    "        cantidad.append(len(posicion))\n",
    "    else:\n",
    "        destino.append(posicion_influencer)\n",
    "        cantidad.append(1)\n"
   ]
  },
  {
   "cell_type": "code",
   "execution_count": 410,
   "metadata": {},
   "outputs": [
    {
     "name": "stdout",
     "output_type": "stream",
     "text": [
      "[(0.5372049176367056, 0.5724757502560481), (0.6427965230351121, 0.47359974288030937), (0.6117812465889452, 0.5084957021229127), (0.5769120161773951, 0.522101074743773), (0.6036391672883142, 0.6840548412429993), (0.6946472891999492, 0.5945317481864699), (0.5676015354589506, 0.6451284760771867), (0.5611253549491279, 0.5480159978138974), (0.6954169522231669, 0.5587539765628767), (0.7033940488312304, 0.7712205307125091), (0.8377885092843279, 0.7851321061331763), (0.698331561197978, 0.8956041269834919), (0.8647436786674619, 0.846967240667102), (0.7168827152676156, 0.819202325181732), (0.7136124667463564, 0.76640149629159), (0.8025742251355151, 0.015928325915816832), (0.6255141822446515, 0.015974393663188424), (0.8111196050620213, 0.12654187502826075), (0.6737191749037673, 0.0619391375350562), (0.7036842189068541, 0.16572892312434284), (0.7592864313764017, 0.17301754531857394), (0.7168827152676156, 0.819202325181732), (0.698331561197978, 0.8956041269834919), (0.6566074866261258, 0.951009221660064), (0.971880190271333, 0.6015018726319005), (0.9984017106665685, 0.698966016488582), (0.9402403937242769, 0.6485663327578048), (0.8927770119786564, 0.6953886403926387), (0.9533135141695321, 0.7731397236073495)]\n"
     ]
    }
   ],
   "source": [
    "df['destino'] = destino\n",
    "df['cantidad'] = cantidad\n",
    "subsetDataFrame = df[df['id'] == id_influencer]\n",
    "posiciones = subsetDataFrame['destino'].values[0]\n",
    "print(posiciones)"
   ]
  },
  {
   "cell_type": "code",
   "execution_count": 411,
   "metadata": {},
   "outputs": [
    {
     "name": "stdout",
     "output_type": "stream",
     "text": [
      "Edges\n",
      "0.5372049176367056 0.5724757502560481\n",
      "0.6117812465889452 0.5084957021229127\n",
      "0.6427965230351121 0.47359974288030937\n",
      "0.6117812465889452 0.5084957021229127\n",
      "0.6117812465889452 0.5084957021229127\n",
      "0.6117812465889452 0.5084957021229127\n",
      "0.5769120161773951 0.522101074743773\n",
      "0.6117812465889452 0.5084957021229127\n",
      "0.6036391672883142 0.6840548412429993\n",
      "0.6117812465889452 0.5084957021229127\n",
      "0.6946472891999492 0.5945317481864699\n",
      "0.6117812465889452 0.5084957021229127\n",
      "0.5676015354589506 0.6451284760771867\n",
      "0.6117812465889452 0.5084957021229127\n",
      "0.5611253549491279 0.5480159978138974\n",
      "0.6117812465889452 0.5084957021229127\n",
      "0.6954169522231669 0.5587539765628767\n",
      "0.6117812465889452 0.5084957021229127\n",
      "0.7033940488312304 0.7712205307125091\n",
      "0.6117812465889452 0.5084957021229127\n",
      "0.8377885092843279 0.7851321061331763\n",
      "0.6117812465889452 0.5084957021229127\n",
      "0.698331561197978 0.8956041269834919\n",
      "0.6117812465889452 0.5084957021229127\n",
      "0.8647436786674619 0.846967240667102\n",
      "0.6117812465889452 0.5084957021229127\n",
      "0.7168827152676156 0.819202325181732\n",
      "0.6117812465889452 0.5084957021229127\n",
      "0.7136124667463564 0.76640149629159\n",
      "0.6117812465889452 0.5084957021229127\n",
      "0.8025742251355151 0.015928325915816832\n",
      "0.6117812465889452 0.5084957021229127\n",
      "0.6255141822446515 0.015974393663188424\n",
      "0.6117812465889452 0.5084957021229127\n",
      "0.8111196050620213 0.12654187502826075\n",
      "0.6117812465889452 0.5084957021229127\n",
      "0.6737191749037673 0.0619391375350562\n",
      "0.6117812465889452 0.5084957021229127\n",
      "0.7036842189068541 0.16572892312434284\n",
      "0.6117812465889452 0.5084957021229127\n",
      "0.7592864313764017 0.17301754531857394\n",
      "0.6117812465889452 0.5084957021229127\n",
      "0.7168827152676156 0.819202325181732\n",
      "0.6117812465889452 0.5084957021229127\n",
      "0.698331561197978 0.8956041269834919\n",
      "0.6117812465889452 0.5084957021229127\n",
      "0.6566074866261258 0.951009221660064\n",
      "0.6117812465889452 0.5084957021229127\n",
      "0.971880190271333 0.6015018726319005\n",
      "0.6117812465889452 0.5084957021229127\n",
      "0.9984017106665685 0.698966016488582\n",
      "0.6117812465889452 0.5084957021229127\n",
      "0.9402403937242769 0.6485663327578048\n",
      "0.6117812465889452 0.5084957021229127\n",
      "0.8927770119786564 0.6953886403926387\n",
      "0.6117812465889452 0.5084957021229127\n",
      "0.9533135141695321 0.7731397236073495\n",
      "0.6117812465889452 0.5084957021229127\n",
      "Nodos\n",
      "0.5372049176367056 0.5724757502560481\n",
      "0.6427965230351121 0.47359974288030937\n",
      "0.6117812465889452 0.5084957021229127\n",
      "0.5769120161773951 0.522101074743773\n",
      "0.6036391672883142 0.6840548412429993\n",
      "0.6946472891999492 0.5945317481864699\n",
      "0.5676015354589506 0.6451284760771867\n",
      "0.5611253549491279 0.5480159978138974\n",
      "0.6954169522231669 0.5587539765628767\n",
      "0.7033940488312304 0.7712205307125091\n",
      "0.8377885092843279 0.7851321061331763\n",
      "0.698331561197978 0.8956041269834919\n",
      "0.8647436786674619 0.846967240667102\n",
      "0.7168827152676156 0.819202325181732\n",
      "0.7136124667463564 0.76640149629159\n",
      "0.8025742251355151 0.015928325915816832\n",
      "0.6255141822446515 0.015974393663188424\n",
      "0.8111196050620213 0.12654187502826075\n",
      "0.6737191749037673 0.0619391375350562\n",
      "0.7036842189068541 0.16572892312434284\n",
      "0.7592864313764017 0.17301754531857394\n",
      "0.7168827152676156 0.819202325181732\n",
      "0.698331561197978 0.8956041269834919\n",
      "0.6566074866261258 0.951009221660064\n",
      "0.971880190271333 0.6015018726319005\n",
      "0.9984017106665685 0.698966016488582\n",
      "0.9402403937242769 0.6485663327578048\n",
      "0.8927770119786564 0.6953886403926387\n",
      "0.9533135141695321 0.7731397236073495\n"
     ]
    }
   ],
   "source": [
    "edge_x = []\n",
    "edge_y = []\n",
    "   \n",
    "print('Edges')\n",
    "for edge in posiciones_todos:\n",
    "    x0, y0 = edge\n",
    "    x1, y1 = posicion_influencer[0], posicion_influencer[1]\n",
    "    \n",
    "    print(x0, y0)\n",
    "    print(x1, y1)    \n",
    "    \n",
    "    edge_x.append(x0)\n",
    "    edge_x.append(x1)\n",
    "    edge_x.append(None)\n",
    "    edge_y.append(y0)\n",
    "    edge_y.append(y1)\n",
    "    edge_y.append(None)\n",
    "\n",
    "edge_trace = go.Scatter(\n",
    "    x=edge_x, y=edge_y,\n",
    "    line=dict(width=0.5, color='#888'),\n",
    "    hoverinfo='none',\n",
    "    mode='lines')\n",
    "\n",
    "node_x = []\n",
    "node_y = []\n",
    "print('Nodos')\n",
    "for node in posiciones_todos:\n",
    "    x, y = node\n",
    "    print(x, y)\n",
    "    node_x.append(x)\n",
    "    node_y.append(y)\n",
    "\n",
    "node_trace = go.Scatter(\n",
    "    x=node_x, y=node_y,\n",
    "    mode='markers',\n",
    "    hoverinfo='text',\n",
    "    marker=dict(\n",
    "        showscale=True,\n",
    "        # colorscale options\n",
    "        #'Greys' | 'YlGnBu' | 'Greens' | 'YlOrRd' | 'Bluered' | 'RdBu' |\n",
    "        #'Reds' | 'Blues' | 'Picnic' | 'Rainbow' | 'Portland' | 'Jet' |\n",
    "        #'Hot' | 'Blackbody' | 'Earth' | 'Electric' | 'Viridis' |\n",
    "        colorscale='YlGnBu',\n",
    "        reversescale=True,\n",
    "        color=[],\n",
    "        size=10,\n",
    "        colorbar=dict(\n",
    "            thickness=15,\n",
    "            title='Node Connections',\n",
    "            xanchor='left',\n",
    "            titleside='right'\n",
    "        ),\n",
    "        line_width=2))"
   ]
  },
  {
   "cell_type": "code",
   "execution_count": 412,
   "metadata": {},
   "outputs": [],
   "source": [
    "node_trace.marker.color = cantidad\n",
    "node_trace.text = ['Jorge Enrique Robledo', 'Carlos Gaviria Díaz', 'Gustavo Petro', 'Jesús Bernal Amorocho', 'Camilo Romero (político)', 'Luis Carlos Avellaneda', 'Mauricio Ospina', 'Guillermo Asprilla', 'Clara López', 'Germán Navas Talero', 'Iván Moreno Rojas', 'Jaime Dussán', 'Samuel Moreno', 'Aurelio Suárez Montoya', 'Gloria Cuartas', 'María Mercedes Maldonado', 'Senén Niño', 'Venus Albeiro Silva', 'Gloria Inés Ramírez', 'Edison Lucio Torres', 'Jorge Eliécer Guevara', 'Iván Cepeda', 'Parmenio Cuéllar', 'Alexander López Maya', 'Angélica Lozano', 'Alirio Uribe Muñoz', 'Jesús Alberto Castilla', 'Víctor Correa Vélez', 'Julio César Mancera']"
   ]
  },
  {
   "cell_type": "code",
   "execution_count": 413,
   "metadata": {
    "scrolled": false
   },
   "outputs": [
    {
     "data": {
      "application/vnd.plotly.v1+json": {
       "config": {
        "plotlyServerURL": "https://plot.ly"
       },
       "data": [
        {
         "hoverinfo": "none",
         "line": {
          "color": "#888",
          "width": 0.5
         },
         "mode": "lines",
         "type": "scatter",
         "x": [
          0.5372049176367056,
          0.6117812465889452,
          null,
          0.6427965230351121,
          0.6117812465889452,
          null,
          0.6117812465889452,
          0.6117812465889452,
          null,
          0.5769120161773951,
          0.6117812465889452,
          null,
          0.6036391672883142,
          0.6117812465889452,
          null,
          0.6946472891999492,
          0.6117812465889452,
          null,
          0.5676015354589506,
          0.6117812465889452,
          null,
          0.5611253549491279,
          0.6117812465889452,
          null,
          0.6954169522231669,
          0.6117812465889452,
          null,
          0.7033940488312304,
          0.6117812465889452,
          null,
          0.8377885092843279,
          0.6117812465889452,
          null,
          0.698331561197978,
          0.6117812465889452,
          null,
          0.8647436786674619,
          0.6117812465889452,
          null,
          0.7168827152676156,
          0.6117812465889452,
          null,
          0.7136124667463564,
          0.6117812465889452,
          null,
          0.8025742251355151,
          0.6117812465889452,
          null,
          0.6255141822446515,
          0.6117812465889452,
          null,
          0.8111196050620213,
          0.6117812465889452,
          null,
          0.6737191749037673,
          0.6117812465889452,
          null,
          0.7036842189068541,
          0.6117812465889452,
          null,
          0.7592864313764017,
          0.6117812465889452,
          null,
          0.7168827152676156,
          0.6117812465889452,
          null,
          0.698331561197978,
          0.6117812465889452,
          null,
          0.6566074866261258,
          0.6117812465889452,
          null,
          0.971880190271333,
          0.6117812465889452,
          null,
          0.9984017106665685,
          0.6117812465889452,
          null,
          0.9402403937242769,
          0.6117812465889452,
          null,
          0.8927770119786564,
          0.6117812465889452,
          null,
          0.9533135141695321,
          0.6117812465889452,
          null
         ],
         "y": [
          0.5724757502560481,
          0.5084957021229127,
          null,
          0.47359974288030937,
          0.5084957021229127,
          null,
          0.5084957021229127,
          0.5084957021229127,
          null,
          0.522101074743773,
          0.5084957021229127,
          null,
          0.6840548412429993,
          0.5084957021229127,
          null,
          0.5945317481864699,
          0.5084957021229127,
          null,
          0.6451284760771867,
          0.5084957021229127,
          null,
          0.5480159978138974,
          0.5084957021229127,
          null,
          0.5587539765628767,
          0.5084957021229127,
          null,
          0.7712205307125091,
          0.5084957021229127,
          null,
          0.7851321061331763,
          0.5084957021229127,
          null,
          0.8956041269834919,
          0.5084957021229127,
          null,
          0.846967240667102,
          0.5084957021229127,
          null,
          0.819202325181732,
          0.5084957021229127,
          null,
          0.76640149629159,
          0.5084957021229127,
          null,
          0.015928325915816832,
          0.5084957021229127,
          null,
          0.015974393663188424,
          0.5084957021229127,
          null,
          0.12654187502826075,
          0.5084957021229127,
          null,
          0.0619391375350562,
          0.5084957021229127,
          null,
          0.16572892312434284,
          0.5084957021229127,
          null,
          0.17301754531857394,
          0.5084957021229127,
          null,
          0.819202325181732,
          0.5084957021229127,
          null,
          0.8956041269834919,
          0.5084957021229127,
          null,
          0.951009221660064,
          0.5084957021229127,
          null,
          0.6015018726319005,
          0.5084957021229127,
          null,
          0.698966016488582,
          0.5084957021229127,
          null,
          0.6485663327578048,
          0.5084957021229127,
          null,
          0.6953886403926387,
          0.5084957021229127,
          null,
          0.7731397236073495,
          0.5084957021229127,
          null
         ]
        },
        {
         "hoverinfo": "text",
         "marker": {
          "color": [
           1,
           1,
           29,
           1,
           1,
           1,
           1,
           1,
           1,
           1,
           1,
           1,
           1,
           1,
           1,
           1,
           1,
           1,
           1,
           1,
           1,
           1,
           1,
           1,
           1,
           1,
           1,
           1,
           1
          ],
          "colorbar": {
           "thickness": 15,
           "title": {
            "side": "right",
            "text": "Node Connections"
           },
           "xanchor": "left"
          },
          "colorscale": [
           [
            0,
            "rgb(255,255,217)"
           ],
           [
            0.125,
            "rgb(237,248,177)"
           ],
           [
            0.25,
            "rgb(199,233,180)"
           ],
           [
            0.375,
            "rgb(127,205,187)"
           ],
           [
            0.5,
            "rgb(65,182,196)"
           ],
           [
            0.625,
            "rgb(29,145,192)"
           ],
           [
            0.75,
            "rgb(34,94,168)"
           ],
           [
            0.875,
            "rgb(37,52,148)"
           ],
           [
            1,
            "rgb(8,29,88)"
           ]
          ],
          "line": {
           "width": 2
          },
          "reversescale": true,
          "showscale": true,
          "size": 10
         },
         "mode": "markers",
         "text": [
          "Jorge Enrique Robledo",
          "Carlos Gaviria Díaz",
          "Gustavo Petro",
          "Jesús Bernal Amorocho",
          "Camilo Romero (político)",
          "Luis Carlos Avellaneda",
          "Mauricio Ospina",
          "Guillermo Asprilla",
          "Clara López",
          "Germán Navas Talero",
          "Iván Moreno Rojas",
          "Jaime Dussán",
          "Samuel Moreno",
          "Aurelio Suárez Montoya",
          "Gloria Cuartas",
          "María Mercedes Maldonado",
          "Senén Niño",
          "Venus Albeiro Silva",
          "Gloria Inés Ramírez",
          "Edison Lucio Torres",
          "Jorge Eliécer Guevara",
          "Iván Cepeda",
          "Parmenio Cuéllar",
          "Alexander López Maya",
          "Angélica Lozano",
          "Alirio Uribe Muñoz",
          "Jesús Alberto Castilla",
          "Víctor Correa Vélez",
          "Julio César Mancera"
         ],
         "type": "scatter",
         "x": [
          0.5372049176367056,
          0.6427965230351121,
          0.6117812465889452,
          0.5769120161773951,
          0.6036391672883142,
          0.6946472891999492,
          0.5676015354589506,
          0.5611253549491279,
          0.6954169522231669,
          0.7033940488312304,
          0.8377885092843279,
          0.698331561197978,
          0.8647436786674619,
          0.7168827152676156,
          0.7136124667463564,
          0.8025742251355151,
          0.6255141822446515,
          0.8111196050620213,
          0.6737191749037673,
          0.7036842189068541,
          0.7592864313764017,
          0.7168827152676156,
          0.698331561197978,
          0.6566074866261258,
          0.971880190271333,
          0.9984017106665685,
          0.9402403937242769,
          0.8927770119786564,
          0.9533135141695321
         ],
         "y": [
          0.5724757502560481,
          0.47359974288030937,
          0.5084957021229127,
          0.522101074743773,
          0.6840548412429993,
          0.5945317481864699,
          0.6451284760771867,
          0.5480159978138974,
          0.5587539765628767,
          0.7712205307125091,
          0.7851321061331763,
          0.8956041269834919,
          0.846967240667102,
          0.819202325181732,
          0.76640149629159,
          0.015928325915816832,
          0.015974393663188424,
          0.12654187502826075,
          0.0619391375350562,
          0.16572892312434284,
          0.17301754531857394,
          0.819202325181732,
          0.8956041269834919,
          0.951009221660064,
          0.6015018726319005,
          0.698966016488582,
          0.6485663327578048,
          0.6953886403926387,
          0.7731397236073495
         ]
        }
       ],
       "layout": {
        "annotations": [
         {
          "showarrow": false,
          "text": "Python code: <a href='https://plotly.com/ipython-notebooks/network-graphs/'> https://plotly.com/ipython-notebooks/network-graphs/</a>",
          "x": 0.005,
          "xref": "paper",
          "y": -0.002,
          "yref": "paper"
         }
        ],
        "hovermode": "closest",
        "margin": {
         "b": 20,
         "l": 5,
         "r": 5,
         "t": 40
        },
        "showlegend": false,
        "template": {
         "data": {
          "bar": [
           {
            "error_x": {
             "color": "#2a3f5f"
            },
            "error_y": {
             "color": "#2a3f5f"
            },
            "marker": {
             "line": {
              "color": "#E5ECF6",
              "width": 0.5
             }
            },
            "type": "bar"
           }
          ],
          "barpolar": [
           {
            "marker": {
             "line": {
              "color": "#E5ECF6",
              "width": 0.5
             }
            },
            "type": "barpolar"
           }
          ],
          "carpet": [
           {
            "aaxis": {
             "endlinecolor": "#2a3f5f",
             "gridcolor": "white",
             "linecolor": "white",
             "minorgridcolor": "white",
             "startlinecolor": "#2a3f5f"
            },
            "baxis": {
             "endlinecolor": "#2a3f5f",
             "gridcolor": "white",
             "linecolor": "white",
             "minorgridcolor": "white",
             "startlinecolor": "#2a3f5f"
            },
            "type": "carpet"
           }
          ],
          "choropleth": [
           {
            "colorbar": {
             "outlinewidth": 0,
             "ticks": ""
            },
            "type": "choropleth"
           }
          ],
          "contour": [
           {
            "colorbar": {
             "outlinewidth": 0,
             "ticks": ""
            },
            "colorscale": [
             [
              0,
              "#0d0887"
             ],
             [
              0.1111111111111111,
              "#46039f"
             ],
             [
              0.2222222222222222,
              "#7201a8"
             ],
             [
              0.3333333333333333,
              "#9c179e"
             ],
             [
              0.4444444444444444,
              "#bd3786"
             ],
             [
              0.5555555555555556,
              "#d8576b"
             ],
             [
              0.6666666666666666,
              "#ed7953"
             ],
             [
              0.7777777777777778,
              "#fb9f3a"
             ],
             [
              0.8888888888888888,
              "#fdca26"
             ],
             [
              1,
              "#f0f921"
             ]
            ],
            "type": "contour"
           }
          ],
          "contourcarpet": [
           {
            "colorbar": {
             "outlinewidth": 0,
             "ticks": ""
            },
            "type": "contourcarpet"
           }
          ],
          "heatmap": [
           {
            "colorbar": {
             "outlinewidth": 0,
             "ticks": ""
            },
            "colorscale": [
             [
              0,
              "#0d0887"
             ],
             [
              0.1111111111111111,
              "#46039f"
             ],
             [
              0.2222222222222222,
              "#7201a8"
             ],
             [
              0.3333333333333333,
              "#9c179e"
             ],
             [
              0.4444444444444444,
              "#bd3786"
             ],
             [
              0.5555555555555556,
              "#d8576b"
             ],
             [
              0.6666666666666666,
              "#ed7953"
             ],
             [
              0.7777777777777778,
              "#fb9f3a"
             ],
             [
              0.8888888888888888,
              "#fdca26"
             ],
             [
              1,
              "#f0f921"
             ]
            ],
            "type": "heatmap"
           }
          ],
          "heatmapgl": [
           {
            "colorbar": {
             "outlinewidth": 0,
             "ticks": ""
            },
            "colorscale": [
             [
              0,
              "#0d0887"
             ],
             [
              0.1111111111111111,
              "#46039f"
             ],
             [
              0.2222222222222222,
              "#7201a8"
             ],
             [
              0.3333333333333333,
              "#9c179e"
             ],
             [
              0.4444444444444444,
              "#bd3786"
             ],
             [
              0.5555555555555556,
              "#d8576b"
             ],
             [
              0.6666666666666666,
              "#ed7953"
             ],
             [
              0.7777777777777778,
              "#fb9f3a"
             ],
             [
              0.8888888888888888,
              "#fdca26"
             ],
             [
              1,
              "#f0f921"
             ]
            ],
            "type": "heatmapgl"
           }
          ],
          "histogram": [
           {
            "marker": {
             "colorbar": {
              "outlinewidth": 0,
              "ticks": ""
             }
            },
            "type": "histogram"
           }
          ],
          "histogram2d": [
           {
            "colorbar": {
             "outlinewidth": 0,
             "ticks": ""
            },
            "colorscale": [
             [
              0,
              "#0d0887"
             ],
             [
              0.1111111111111111,
              "#46039f"
             ],
             [
              0.2222222222222222,
              "#7201a8"
             ],
             [
              0.3333333333333333,
              "#9c179e"
             ],
             [
              0.4444444444444444,
              "#bd3786"
             ],
             [
              0.5555555555555556,
              "#d8576b"
             ],
             [
              0.6666666666666666,
              "#ed7953"
             ],
             [
              0.7777777777777778,
              "#fb9f3a"
             ],
             [
              0.8888888888888888,
              "#fdca26"
             ],
             [
              1,
              "#f0f921"
             ]
            ],
            "type": "histogram2d"
           }
          ],
          "histogram2dcontour": [
           {
            "colorbar": {
             "outlinewidth": 0,
             "ticks": ""
            },
            "colorscale": [
             [
              0,
              "#0d0887"
             ],
             [
              0.1111111111111111,
              "#46039f"
             ],
             [
              0.2222222222222222,
              "#7201a8"
             ],
             [
              0.3333333333333333,
              "#9c179e"
             ],
             [
              0.4444444444444444,
              "#bd3786"
             ],
             [
              0.5555555555555556,
              "#d8576b"
             ],
             [
              0.6666666666666666,
              "#ed7953"
             ],
             [
              0.7777777777777778,
              "#fb9f3a"
             ],
             [
              0.8888888888888888,
              "#fdca26"
             ],
             [
              1,
              "#f0f921"
             ]
            ],
            "type": "histogram2dcontour"
           }
          ],
          "mesh3d": [
           {
            "colorbar": {
             "outlinewidth": 0,
             "ticks": ""
            },
            "type": "mesh3d"
           }
          ],
          "parcoords": [
           {
            "line": {
             "colorbar": {
              "outlinewidth": 0,
              "ticks": ""
             }
            },
            "type": "parcoords"
           }
          ],
          "pie": [
           {
            "automargin": true,
            "type": "pie"
           }
          ],
          "scatter": [
           {
            "marker": {
             "colorbar": {
              "outlinewidth": 0,
              "ticks": ""
             }
            },
            "type": "scatter"
           }
          ],
          "scatter3d": [
           {
            "line": {
             "colorbar": {
              "outlinewidth": 0,
              "ticks": ""
             }
            },
            "marker": {
             "colorbar": {
              "outlinewidth": 0,
              "ticks": ""
             }
            },
            "type": "scatter3d"
           }
          ],
          "scattercarpet": [
           {
            "marker": {
             "colorbar": {
              "outlinewidth": 0,
              "ticks": ""
             }
            },
            "type": "scattercarpet"
           }
          ],
          "scattergeo": [
           {
            "marker": {
             "colorbar": {
              "outlinewidth": 0,
              "ticks": ""
             }
            },
            "type": "scattergeo"
           }
          ],
          "scattergl": [
           {
            "marker": {
             "colorbar": {
              "outlinewidth": 0,
              "ticks": ""
             }
            },
            "type": "scattergl"
           }
          ],
          "scattermapbox": [
           {
            "marker": {
             "colorbar": {
              "outlinewidth": 0,
              "ticks": ""
             }
            },
            "type": "scattermapbox"
           }
          ],
          "scatterpolar": [
           {
            "marker": {
             "colorbar": {
              "outlinewidth": 0,
              "ticks": ""
             }
            },
            "type": "scatterpolar"
           }
          ],
          "scatterpolargl": [
           {
            "marker": {
             "colorbar": {
              "outlinewidth": 0,
              "ticks": ""
             }
            },
            "type": "scatterpolargl"
           }
          ],
          "scatterternary": [
           {
            "marker": {
             "colorbar": {
              "outlinewidth": 0,
              "ticks": ""
             }
            },
            "type": "scatterternary"
           }
          ],
          "surface": [
           {
            "colorbar": {
             "outlinewidth": 0,
             "ticks": ""
            },
            "colorscale": [
             [
              0,
              "#0d0887"
             ],
             [
              0.1111111111111111,
              "#46039f"
             ],
             [
              0.2222222222222222,
              "#7201a8"
             ],
             [
              0.3333333333333333,
              "#9c179e"
             ],
             [
              0.4444444444444444,
              "#bd3786"
             ],
             [
              0.5555555555555556,
              "#d8576b"
             ],
             [
              0.6666666666666666,
              "#ed7953"
             ],
             [
              0.7777777777777778,
              "#fb9f3a"
             ],
             [
              0.8888888888888888,
              "#fdca26"
             ],
             [
              1,
              "#f0f921"
             ]
            ],
            "type": "surface"
           }
          ],
          "table": [
           {
            "cells": {
             "fill": {
              "color": "#EBF0F8"
             },
             "line": {
              "color": "white"
             }
            },
            "header": {
             "fill": {
              "color": "#C8D4E3"
             },
             "line": {
              "color": "white"
             }
            },
            "type": "table"
           }
          ]
         },
         "layout": {
          "annotationdefaults": {
           "arrowcolor": "#2a3f5f",
           "arrowhead": 0,
           "arrowwidth": 1
          },
          "coloraxis": {
           "colorbar": {
            "outlinewidth": 0,
            "ticks": ""
           }
          },
          "colorscale": {
           "diverging": [
            [
             0,
             "#8e0152"
            ],
            [
             0.1,
             "#c51b7d"
            ],
            [
             0.2,
             "#de77ae"
            ],
            [
             0.3,
             "#f1b6da"
            ],
            [
             0.4,
             "#fde0ef"
            ],
            [
             0.5,
             "#f7f7f7"
            ],
            [
             0.6,
             "#e6f5d0"
            ],
            [
             0.7,
             "#b8e186"
            ],
            [
             0.8,
             "#7fbc41"
            ],
            [
             0.9,
             "#4d9221"
            ],
            [
             1,
             "#276419"
            ]
           ],
           "sequential": [
            [
             0,
             "#0d0887"
            ],
            [
             0.1111111111111111,
             "#46039f"
            ],
            [
             0.2222222222222222,
             "#7201a8"
            ],
            [
             0.3333333333333333,
             "#9c179e"
            ],
            [
             0.4444444444444444,
             "#bd3786"
            ],
            [
             0.5555555555555556,
             "#d8576b"
            ],
            [
             0.6666666666666666,
             "#ed7953"
            ],
            [
             0.7777777777777778,
             "#fb9f3a"
            ],
            [
             0.8888888888888888,
             "#fdca26"
            ],
            [
             1,
             "#f0f921"
            ]
           ],
           "sequentialminus": [
            [
             0,
             "#0d0887"
            ],
            [
             0.1111111111111111,
             "#46039f"
            ],
            [
             0.2222222222222222,
             "#7201a8"
            ],
            [
             0.3333333333333333,
             "#9c179e"
            ],
            [
             0.4444444444444444,
             "#bd3786"
            ],
            [
             0.5555555555555556,
             "#d8576b"
            ],
            [
             0.6666666666666666,
             "#ed7953"
            ],
            [
             0.7777777777777778,
             "#fb9f3a"
            ],
            [
             0.8888888888888888,
             "#fdca26"
            ],
            [
             1,
             "#f0f921"
            ]
           ]
          },
          "colorway": [
           "#636efa",
           "#EF553B",
           "#00cc96",
           "#ab63fa",
           "#FFA15A",
           "#19d3f3",
           "#FF6692",
           "#B6E880",
           "#FF97FF",
           "#FECB52"
          ],
          "font": {
           "color": "#2a3f5f"
          },
          "geo": {
           "bgcolor": "white",
           "lakecolor": "white",
           "landcolor": "#E5ECF6",
           "showlakes": true,
           "showland": true,
           "subunitcolor": "white"
          },
          "hoverlabel": {
           "align": "left"
          },
          "hovermode": "closest",
          "mapbox": {
           "style": "light"
          },
          "paper_bgcolor": "white",
          "plot_bgcolor": "#E5ECF6",
          "polar": {
           "angularaxis": {
            "gridcolor": "white",
            "linecolor": "white",
            "ticks": ""
           },
           "bgcolor": "#E5ECF6",
           "radialaxis": {
            "gridcolor": "white",
            "linecolor": "white",
            "ticks": ""
           }
          },
          "scene": {
           "xaxis": {
            "backgroundcolor": "#E5ECF6",
            "gridcolor": "white",
            "gridwidth": 2,
            "linecolor": "white",
            "showbackground": true,
            "ticks": "",
            "zerolinecolor": "white"
           },
           "yaxis": {
            "backgroundcolor": "#E5ECF6",
            "gridcolor": "white",
            "gridwidth": 2,
            "linecolor": "white",
            "showbackground": true,
            "ticks": "",
            "zerolinecolor": "white"
           },
           "zaxis": {
            "backgroundcolor": "#E5ECF6",
            "gridcolor": "white",
            "gridwidth": 2,
            "linecolor": "white",
            "showbackground": true,
            "ticks": "",
            "zerolinecolor": "white"
           }
          },
          "shapedefaults": {
           "line": {
            "color": "#2a3f5f"
           }
          },
          "ternary": {
           "aaxis": {
            "gridcolor": "white",
            "linecolor": "white",
            "ticks": ""
           },
           "baxis": {
            "gridcolor": "white",
            "linecolor": "white",
            "ticks": ""
           },
           "bgcolor": "#E5ECF6",
           "caxis": {
            "gridcolor": "white",
            "linecolor": "white",
            "ticks": ""
           }
          },
          "title": {
           "x": 0.05
          },
          "xaxis": {
           "automargin": true,
           "gridcolor": "white",
           "linecolor": "white",
           "ticks": "",
           "title": {
            "standoff": 15
           },
           "zerolinecolor": "white",
           "zerolinewidth": 2
          },
          "yaxis": {
           "automargin": true,
           "gridcolor": "white",
           "linecolor": "white",
           "ticks": "",
           "title": {
            "standoff": 15
           },
           "zerolinecolor": "white",
           "zerolinewidth": 2
          }
         }
        },
        "title": {
         "font": {
          "size": 16
         },
         "text": "<br>Network graph made with Python"
        },
        "xaxis": {
         "showgrid": false,
         "showticklabels": false,
         "zeroline": false
        },
        "yaxis": {
         "showgrid": false,
         "showticklabels": false,
         "zeroline": false
        }
       }
      },
      "text/html": [
       "<div>\n",
       "        \n",
       "        \n",
       "            <div id=\"346fe83d-8907-4b09-af20-119f90fe0066\" class=\"plotly-graph-div\" style=\"height:525px; width:100%;\"></div>\n",
       "            <script type=\"text/javascript\">\n",
       "                require([\"plotly\"], function(Plotly) {\n",
       "                    window.PLOTLYENV=window.PLOTLYENV || {};\n",
       "                    \n",
       "                if (document.getElementById(\"346fe83d-8907-4b09-af20-119f90fe0066\")) {\n",
       "                    Plotly.newPlot(\n",
       "                        '346fe83d-8907-4b09-af20-119f90fe0066',\n",
       "                        [{\"hoverinfo\": \"none\", \"line\": {\"color\": \"#888\", \"width\": 0.5}, \"mode\": \"lines\", \"type\": \"scatter\", \"x\": [0.5372049176367056, 0.6117812465889452, null, 0.6427965230351121, 0.6117812465889452, null, 0.6117812465889452, 0.6117812465889452, null, 0.5769120161773951, 0.6117812465889452, null, 0.6036391672883142, 0.6117812465889452, null, 0.6946472891999492, 0.6117812465889452, null, 0.5676015354589506, 0.6117812465889452, null, 0.5611253549491279, 0.6117812465889452, null, 0.6954169522231669, 0.6117812465889452, null, 0.7033940488312304, 0.6117812465889452, null, 0.8377885092843279, 0.6117812465889452, null, 0.698331561197978, 0.6117812465889452, null, 0.8647436786674619, 0.6117812465889452, null, 0.7168827152676156, 0.6117812465889452, null, 0.7136124667463564, 0.6117812465889452, null, 0.8025742251355151, 0.6117812465889452, null, 0.6255141822446515, 0.6117812465889452, null, 0.8111196050620213, 0.6117812465889452, null, 0.6737191749037673, 0.6117812465889452, null, 0.7036842189068541, 0.6117812465889452, null, 0.7592864313764017, 0.6117812465889452, null, 0.7168827152676156, 0.6117812465889452, null, 0.698331561197978, 0.6117812465889452, null, 0.6566074866261258, 0.6117812465889452, null, 0.971880190271333, 0.6117812465889452, null, 0.9984017106665685, 0.6117812465889452, null, 0.9402403937242769, 0.6117812465889452, null, 0.8927770119786564, 0.6117812465889452, null, 0.9533135141695321, 0.6117812465889452, null], \"y\": [0.5724757502560481, 0.5084957021229127, null, 0.47359974288030937, 0.5084957021229127, null, 0.5084957021229127, 0.5084957021229127, null, 0.522101074743773, 0.5084957021229127, null, 0.6840548412429993, 0.5084957021229127, null, 0.5945317481864699, 0.5084957021229127, null, 0.6451284760771867, 0.5084957021229127, null, 0.5480159978138974, 0.5084957021229127, null, 0.5587539765628767, 0.5084957021229127, null, 0.7712205307125091, 0.5084957021229127, null, 0.7851321061331763, 0.5084957021229127, null, 0.8956041269834919, 0.5084957021229127, null, 0.846967240667102, 0.5084957021229127, null, 0.819202325181732, 0.5084957021229127, null, 0.76640149629159, 0.5084957021229127, null, 0.015928325915816832, 0.5084957021229127, null, 0.015974393663188424, 0.5084957021229127, null, 0.12654187502826075, 0.5084957021229127, null, 0.0619391375350562, 0.5084957021229127, null, 0.16572892312434284, 0.5084957021229127, null, 0.17301754531857394, 0.5084957021229127, null, 0.819202325181732, 0.5084957021229127, null, 0.8956041269834919, 0.5084957021229127, null, 0.951009221660064, 0.5084957021229127, null, 0.6015018726319005, 0.5084957021229127, null, 0.698966016488582, 0.5084957021229127, null, 0.6485663327578048, 0.5084957021229127, null, 0.6953886403926387, 0.5084957021229127, null, 0.7731397236073495, 0.5084957021229127, null]}, {\"hoverinfo\": \"text\", \"marker\": {\"color\": [1, 1, 29, 1, 1, 1, 1, 1, 1, 1, 1, 1, 1, 1, 1, 1, 1, 1, 1, 1, 1, 1, 1, 1, 1, 1, 1, 1, 1], \"colorbar\": {\"thickness\": 15, \"title\": {\"side\": \"right\", \"text\": \"Node Connections\"}, \"xanchor\": \"left\"}, \"colorscale\": [[0.0, \"rgb(255,255,217)\"], [0.125, \"rgb(237,248,177)\"], [0.25, \"rgb(199,233,180)\"], [0.375, \"rgb(127,205,187)\"], [0.5, \"rgb(65,182,196)\"], [0.625, \"rgb(29,145,192)\"], [0.75, \"rgb(34,94,168)\"], [0.875, \"rgb(37,52,148)\"], [1.0, \"rgb(8,29,88)\"]], \"line\": {\"width\": 2}, \"reversescale\": true, \"showscale\": true, \"size\": 10}, \"mode\": \"markers\", \"text\": [\"Jorge Enrique Robledo\", \"Carlos Gaviria D\\u00edaz\", \"Gustavo Petro\", \"Jes\\u00fas Bernal Amorocho\", \"Camilo Romero (pol\\u00edtico)\", \"Luis Carlos Avellaneda\", \"Mauricio Ospina\", \"Guillermo Asprilla\", \"Clara L\\u00f3pez\", \"Germ\\u00e1n Navas Talero\", \"Iv\\u00e1n Moreno Rojas\", \"Jaime Duss\\u00e1n\", \"Samuel Moreno\", \"Aurelio Su\\u00e1rez Montoya\", \"Gloria Cuartas\", \"Mar\\u00eda Mercedes Maldonado\", \"Sen\\u00e9n Ni\\u00f1o\", \"Venus Albeiro Silva\", \"Gloria In\\u00e9s Ram\\u00edrez\", \"Edison Lucio Torres\", \"Jorge Eli\\u00e9cer Guevara\", \"Iv\\u00e1n Cepeda\", \"Parmenio Cu\\u00e9llar\", \"Alexander L\\u00f3pez Maya\", \"Ang\\u00e9lica Lozano\", \"Alirio Uribe Mu\\u00f1oz\", \"Jes\\u00fas Alberto Castilla\", \"V\\u00edctor Correa V\\u00e9lez\", \"Julio C\\u00e9sar Mancera\"], \"type\": \"scatter\", \"x\": [0.5372049176367056, 0.6427965230351121, 0.6117812465889452, 0.5769120161773951, 0.6036391672883142, 0.6946472891999492, 0.5676015354589506, 0.5611253549491279, 0.6954169522231669, 0.7033940488312304, 0.8377885092843279, 0.698331561197978, 0.8647436786674619, 0.7168827152676156, 0.7136124667463564, 0.8025742251355151, 0.6255141822446515, 0.8111196050620213, 0.6737191749037673, 0.7036842189068541, 0.7592864313764017, 0.7168827152676156, 0.698331561197978, 0.6566074866261258, 0.971880190271333, 0.9984017106665685, 0.9402403937242769, 0.8927770119786564, 0.9533135141695321], \"y\": [0.5724757502560481, 0.47359974288030937, 0.5084957021229127, 0.522101074743773, 0.6840548412429993, 0.5945317481864699, 0.6451284760771867, 0.5480159978138974, 0.5587539765628767, 0.7712205307125091, 0.7851321061331763, 0.8956041269834919, 0.846967240667102, 0.819202325181732, 0.76640149629159, 0.015928325915816832, 0.015974393663188424, 0.12654187502826075, 0.0619391375350562, 0.16572892312434284, 0.17301754531857394, 0.819202325181732, 0.8956041269834919, 0.951009221660064, 0.6015018726319005, 0.698966016488582, 0.6485663327578048, 0.6953886403926387, 0.7731397236073495]}],\n",
       "                        {\"annotations\": [{\"showarrow\": false, \"text\": \"Python code: <a href='https://plotly.com/ipython-notebooks/network-graphs/'> https://plotly.com/ipython-notebooks/network-graphs/</a>\", \"x\": 0.005, \"xref\": \"paper\", \"y\": -0.002, \"yref\": \"paper\"}], \"hovermode\": \"closest\", \"margin\": {\"b\": 20, \"l\": 5, \"r\": 5, \"t\": 40}, \"showlegend\": false, \"template\": {\"data\": {\"bar\": [{\"error_x\": {\"color\": \"#2a3f5f\"}, \"error_y\": {\"color\": \"#2a3f5f\"}, \"marker\": {\"line\": {\"color\": \"#E5ECF6\", \"width\": 0.5}}, \"type\": \"bar\"}], \"barpolar\": [{\"marker\": {\"line\": {\"color\": \"#E5ECF6\", \"width\": 0.5}}, \"type\": \"barpolar\"}], \"carpet\": [{\"aaxis\": {\"endlinecolor\": \"#2a3f5f\", \"gridcolor\": \"white\", \"linecolor\": \"white\", \"minorgridcolor\": \"white\", \"startlinecolor\": \"#2a3f5f\"}, \"baxis\": {\"endlinecolor\": \"#2a3f5f\", \"gridcolor\": \"white\", \"linecolor\": \"white\", \"minorgridcolor\": \"white\", \"startlinecolor\": \"#2a3f5f\"}, \"type\": \"carpet\"}], \"choropleth\": [{\"colorbar\": {\"outlinewidth\": 0, \"ticks\": \"\"}, \"type\": \"choropleth\"}], \"contour\": [{\"colorbar\": {\"outlinewidth\": 0, \"ticks\": \"\"}, \"colorscale\": [[0.0, \"#0d0887\"], [0.1111111111111111, \"#46039f\"], [0.2222222222222222, \"#7201a8\"], [0.3333333333333333, \"#9c179e\"], [0.4444444444444444, \"#bd3786\"], [0.5555555555555556, \"#d8576b\"], [0.6666666666666666, \"#ed7953\"], [0.7777777777777778, \"#fb9f3a\"], [0.8888888888888888, \"#fdca26\"], [1.0, \"#f0f921\"]], \"type\": \"contour\"}], \"contourcarpet\": [{\"colorbar\": {\"outlinewidth\": 0, \"ticks\": \"\"}, \"type\": \"contourcarpet\"}], \"heatmap\": [{\"colorbar\": {\"outlinewidth\": 0, \"ticks\": \"\"}, \"colorscale\": [[0.0, \"#0d0887\"], [0.1111111111111111, \"#46039f\"], [0.2222222222222222, \"#7201a8\"], [0.3333333333333333, \"#9c179e\"], [0.4444444444444444, \"#bd3786\"], [0.5555555555555556, \"#d8576b\"], [0.6666666666666666, \"#ed7953\"], [0.7777777777777778, \"#fb9f3a\"], [0.8888888888888888, \"#fdca26\"], [1.0, \"#f0f921\"]], \"type\": \"heatmap\"}], \"heatmapgl\": [{\"colorbar\": {\"outlinewidth\": 0, \"ticks\": \"\"}, \"colorscale\": [[0.0, \"#0d0887\"], [0.1111111111111111, \"#46039f\"], [0.2222222222222222, \"#7201a8\"], [0.3333333333333333, \"#9c179e\"], [0.4444444444444444, \"#bd3786\"], [0.5555555555555556, \"#d8576b\"], [0.6666666666666666, \"#ed7953\"], [0.7777777777777778, \"#fb9f3a\"], [0.8888888888888888, \"#fdca26\"], [1.0, \"#f0f921\"]], \"type\": \"heatmapgl\"}], \"histogram\": [{\"marker\": {\"colorbar\": {\"outlinewidth\": 0, \"ticks\": \"\"}}, \"type\": \"histogram\"}], \"histogram2d\": [{\"colorbar\": {\"outlinewidth\": 0, \"ticks\": \"\"}, \"colorscale\": [[0.0, \"#0d0887\"], [0.1111111111111111, \"#46039f\"], [0.2222222222222222, \"#7201a8\"], [0.3333333333333333, \"#9c179e\"], [0.4444444444444444, \"#bd3786\"], [0.5555555555555556, \"#d8576b\"], [0.6666666666666666, \"#ed7953\"], [0.7777777777777778, \"#fb9f3a\"], [0.8888888888888888, \"#fdca26\"], [1.0, \"#f0f921\"]], \"type\": \"histogram2d\"}], \"histogram2dcontour\": [{\"colorbar\": {\"outlinewidth\": 0, \"ticks\": \"\"}, \"colorscale\": [[0.0, \"#0d0887\"], [0.1111111111111111, \"#46039f\"], [0.2222222222222222, \"#7201a8\"], [0.3333333333333333, \"#9c179e\"], [0.4444444444444444, \"#bd3786\"], [0.5555555555555556, \"#d8576b\"], [0.6666666666666666, \"#ed7953\"], [0.7777777777777778, \"#fb9f3a\"], [0.8888888888888888, \"#fdca26\"], [1.0, \"#f0f921\"]], \"type\": \"histogram2dcontour\"}], \"mesh3d\": [{\"colorbar\": {\"outlinewidth\": 0, \"ticks\": \"\"}, \"type\": \"mesh3d\"}], \"parcoords\": [{\"line\": {\"colorbar\": {\"outlinewidth\": 0, \"ticks\": \"\"}}, \"type\": \"parcoords\"}], \"pie\": [{\"automargin\": true, \"type\": \"pie\"}], \"scatter\": [{\"marker\": {\"colorbar\": {\"outlinewidth\": 0, \"ticks\": \"\"}}, \"type\": \"scatter\"}], \"scatter3d\": [{\"line\": {\"colorbar\": {\"outlinewidth\": 0, \"ticks\": \"\"}}, \"marker\": {\"colorbar\": {\"outlinewidth\": 0, \"ticks\": \"\"}}, \"type\": \"scatter3d\"}], \"scattercarpet\": [{\"marker\": {\"colorbar\": {\"outlinewidth\": 0, \"ticks\": \"\"}}, \"type\": \"scattercarpet\"}], \"scattergeo\": [{\"marker\": {\"colorbar\": {\"outlinewidth\": 0, \"ticks\": \"\"}}, \"type\": \"scattergeo\"}], \"scattergl\": [{\"marker\": {\"colorbar\": {\"outlinewidth\": 0, \"ticks\": \"\"}}, \"type\": \"scattergl\"}], \"scattermapbox\": [{\"marker\": {\"colorbar\": {\"outlinewidth\": 0, \"ticks\": \"\"}}, \"type\": \"scattermapbox\"}], \"scatterpolar\": [{\"marker\": {\"colorbar\": {\"outlinewidth\": 0, \"ticks\": \"\"}}, \"type\": \"scatterpolar\"}], \"scatterpolargl\": [{\"marker\": {\"colorbar\": {\"outlinewidth\": 0, \"ticks\": \"\"}}, \"type\": \"scatterpolargl\"}], \"scatterternary\": [{\"marker\": {\"colorbar\": {\"outlinewidth\": 0, \"ticks\": \"\"}}, \"type\": \"scatterternary\"}], \"surface\": [{\"colorbar\": {\"outlinewidth\": 0, \"ticks\": \"\"}, \"colorscale\": [[0.0, \"#0d0887\"], [0.1111111111111111, \"#46039f\"], [0.2222222222222222, \"#7201a8\"], [0.3333333333333333, \"#9c179e\"], [0.4444444444444444, \"#bd3786\"], [0.5555555555555556, \"#d8576b\"], [0.6666666666666666, \"#ed7953\"], [0.7777777777777778, \"#fb9f3a\"], [0.8888888888888888, \"#fdca26\"], [1.0, \"#f0f921\"]], \"type\": \"surface\"}], \"table\": [{\"cells\": {\"fill\": {\"color\": \"#EBF0F8\"}, \"line\": {\"color\": \"white\"}}, \"header\": {\"fill\": {\"color\": \"#C8D4E3\"}, \"line\": {\"color\": \"white\"}}, \"type\": \"table\"}]}, \"layout\": {\"annotationdefaults\": {\"arrowcolor\": \"#2a3f5f\", \"arrowhead\": 0, \"arrowwidth\": 1}, \"coloraxis\": {\"colorbar\": {\"outlinewidth\": 0, \"ticks\": \"\"}}, \"colorscale\": {\"diverging\": [[0, \"#8e0152\"], [0.1, \"#c51b7d\"], [0.2, \"#de77ae\"], [0.3, \"#f1b6da\"], [0.4, \"#fde0ef\"], [0.5, \"#f7f7f7\"], [0.6, \"#e6f5d0\"], [0.7, \"#b8e186\"], [0.8, \"#7fbc41\"], [0.9, \"#4d9221\"], [1, \"#276419\"]], \"sequential\": [[0.0, \"#0d0887\"], [0.1111111111111111, \"#46039f\"], [0.2222222222222222, \"#7201a8\"], [0.3333333333333333, \"#9c179e\"], [0.4444444444444444, \"#bd3786\"], [0.5555555555555556, \"#d8576b\"], [0.6666666666666666, \"#ed7953\"], [0.7777777777777778, \"#fb9f3a\"], [0.8888888888888888, \"#fdca26\"], [1.0, \"#f0f921\"]], \"sequentialminus\": [[0.0, \"#0d0887\"], [0.1111111111111111, \"#46039f\"], [0.2222222222222222, \"#7201a8\"], [0.3333333333333333, \"#9c179e\"], [0.4444444444444444, \"#bd3786\"], [0.5555555555555556, \"#d8576b\"], [0.6666666666666666, \"#ed7953\"], [0.7777777777777778, \"#fb9f3a\"], [0.8888888888888888, \"#fdca26\"], [1.0, \"#f0f921\"]]}, \"colorway\": [\"#636efa\", \"#EF553B\", \"#00cc96\", \"#ab63fa\", \"#FFA15A\", \"#19d3f3\", \"#FF6692\", \"#B6E880\", \"#FF97FF\", \"#FECB52\"], \"font\": {\"color\": \"#2a3f5f\"}, \"geo\": {\"bgcolor\": \"white\", \"lakecolor\": \"white\", \"landcolor\": \"#E5ECF6\", \"showlakes\": true, \"showland\": true, \"subunitcolor\": \"white\"}, \"hoverlabel\": {\"align\": \"left\"}, \"hovermode\": \"closest\", \"mapbox\": {\"style\": \"light\"}, \"paper_bgcolor\": \"white\", \"plot_bgcolor\": \"#E5ECF6\", \"polar\": {\"angularaxis\": {\"gridcolor\": \"white\", \"linecolor\": \"white\", \"ticks\": \"\"}, \"bgcolor\": \"#E5ECF6\", \"radialaxis\": {\"gridcolor\": \"white\", \"linecolor\": \"white\", \"ticks\": \"\"}}, \"scene\": {\"xaxis\": {\"backgroundcolor\": \"#E5ECF6\", \"gridcolor\": \"white\", \"gridwidth\": 2, \"linecolor\": \"white\", \"showbackground\": true, \"ticks\": \"\", \"zerolinecolor\": \"white\"}, \"yaxis\": {\"backgroundcolor\": \"#E5ECF6\", \"gridcolor\": \"white\", \"gridwidth\": 2, \"linecolor\": \"white\", \"showbackground\": true, \"ticks\": \"\", \"zerolinecolor\": \"white\"}, \"zaxis\": {\"backgroundcolor\": \"#E5ECF6\", \"gridcolor\": \"white\", \"gridwidth\": 2, \"linecolor\": \"white\", \"showbackground\": true, \"ticks\": \"\", \"zerolinecolor\": \"white\"}}, \"shapedefaults\": {\"line\": {\"color\": \"#2a3f5f\"}}, \"ternary\": {\"aaxis\": {\"gridcolor\": \"white\", \"linecolor\": \"white\", \"ticks\": \"\"}, \"baxis\": {\"gridcolor\": \"white\", \"linecolor\": \"white\", \"ticks\": \"\"}, \"bgcolor\": \"#E5ECF6\", \"caxis\": {\"gridcolor\": \"white\", \"linecolor\": \"white\", \"ticks\": \"\"}}, \"title\": {\"x\": 0.05}, \"xaxis\": {\"automargin\": true, \"gridcolor\": \"white\", \"linecolor\": \"white\", \"ticks\": \"\", \"title\": {\"standoff\": 15}, \"zerolinecolor\": \"white\", \"zerolinewidth\": 2}, \"yaxis\": {\"automargin\": true, \"gridcolor\": \"white\", \"linecolor\": \"white\", \"ticks\": \"\", \"title\": {\"standoff\": 15}, \"zerolinecolor\": \"white\", \"zerolinewidth\": 2}}}, \"title\": {\"font\": {\"size\": 16}, \"text\": \"<br>Network graph made with Python\"}, \"xaxis\": {\"showgrid\": false, \"showticklabels\": false, \"zeroline\": false}, \"yaxis\": {\"showgrid\": false, \"showticklabels\": false, \"zeroline\": false}},\n",
       "                        {\"responsive\": true}\n",
       "                    ).then(function(){\n",
       "                            \n",
       "var gd = document.getElementById('346fe83d-8907-4b09-af20-119f90fe0066');\n",
       "var x = new MutationObserver(function (mutations, observer) {{\n",
       "        var display = window.getComputedStyle(gd).display;\n",
       "        if (!display || display === 'none') {{\n",
       "            console.log([gd, 'removed!']);\n",
       "            Plotly.purge(gd);\n",
       "            observer.disconnect();\n",
       "        }}\n",
       "}});\n",
       "\n",
       "// Listen for the removal of the full notebook cells\n",
       "var notebookContainer = gd.closest('#notebook-container');\n",
       "if (notebookContainer) {{\n",
       "    x.observe(notebookContainer, {childList: true});\n",
       "}}\n",
       "\n",
       "// Listen for the clearing of the current output cell\n",
       "var outputEl = gd.closest('.output');\n",
       "if (outputEl) {{\n",
       "    x.observe(outputEl, {childList: true});\n",
       "}}\n",
       "\n",
       "                        })\n",
       "                };\n",
       "                });\n",
       "            </script>\n",
       "        </div>"
      ]
     },
     "metadata": {},
     "output_type": "display_data"
    }
   ],
   "source": [
    "fig = go.Figure(data=[edge_trace, node_trace],\n",
    "             layout=go.Layout(\n",
    "                title='<br>Network graph made with Python',\n",
    "                titlefont_size=16,\n",
    "                showlegend=False,\n",
    "                hovermode='closest',\n",
    "                margin=dict(b=20,l=5,r=5,t=40),\n",
    "                annotations=[ dict(\n",
    "                    text=\"Python code: <a href='https://plotly.com/ipython-notebooks/network-graphs/'> https://plotly.com/ipython-notebooks/network-graphs/</a>\",\n",
    "                    showarrow=False,\n",
    "                    xref=\"paper\", yref=\"paper\",\n",
    "                    x=0.005, y=-0.002 ) ],\n",
    "                xaxis=dict(showgrid=False, zeroline=False, showticklabels=False),\n",
    "                yaxis=dict(showgrid=False, zeroline=False, showticklabels=False))\n",
    "                )\n",
    "fig.show()"
   ]
  },
  {
   "cell_type": "code",
   "execution_count": null,
   "metadata": {},
   "outputs": [],
   "source": []
  },
  {
   "cell_type": "code",
   "execution_count": null,
   "metadata": {},
   "outputs": [],
   "source": [
    "G = nx.random_geometric_graph(28, 0.125)\n",
    "edge_x = []\n",
    "edge_y = []\n",
    "for edge in G.edges():\n",
    "    x0, y0 = G.nodes[edge[1]]['pos']\n",
    "    print(x0,y0)\n",
    "\n",
    "\n",
    "edge_x = []\n",
    "edge_y = []\n",
    "politicos = [[(1, 2), (1, 3)], [(1, 4), (2, 4)]]\n",
    "politicos1 = [(1, 2), (1, 3), (1, 4), (2, 4)]\n",
    "for politico in politicos:\n",
    "    x, y = politico[0]\n",
    "    x1, y1 = politico[1]\n",
    "\n",
    "    \n",
    "print('Edges')\n",
    "for edge in politicos:\n",
    "    x0, y0 = edge[0]\n",
    "    x1, y1 = edge[1]\n",
    "    \n",
    "    \n",
    "    edge_x.append(x0)\n",
    "    edge_x.append(x1)\n",
    "    edge_x.append(None)\n",
    "    edge_y.append(y0)\n",
    "    edge_y.append(y1)\n",
    "    edge_y.append(None)\n",
    "\n",
    "edge_trace = go.Scatter(\n",
    "    x=edge_x, y=edge_y,\n",
    "    line=dict(width=0.5, color='#888'),\n",
    "    hoverinfo='none',\n",
    "    mode='lines')\n",
    "\n",
    "node_x = []\n",
    "node_y = []\n",
    "print('Nodos')\n",
    "for node in politicos1:\n",
    "    x, y = node\n",
    "    print(x, y)\n",
    "    node_x.append(x)\n",
    "    node_y.append(y)\n",
    "\n",
    "node_trace = go.Scatter(\n",
    "    x=node_x, y=node_y,\n",
    "    mode='markers',\n",
    "    hoverinfo='text',\n",
    "    marker=dict(\n",
    "        showscale=True,\n",
    "        # colorscale options\n",
    "        #'Greys' | 'YlGnBu' | 'Greens' | 'YlOrRd' | 'Bluered' | 'RdBu' |\n",
    "        #'Reds' | 'Blues' | 'Picnic' | 'Rainbow' | 'Portland' | 'Jet' |\n",
    "        #'Hot' | 'Blackbody' | 'Earth' | 'Electric' | 'Viridis' |\n",
    "        colorscale='YlGnBu',\n",
    "        reversescale=True,\n",
    "        color=[],\n",
    "        size=10,\n",
    "        colorbar=dict(\n",
    "            thickness=15,\n",
    "            title='Node Connections',\n",
    "            xanchor='left',\n",
    "            titleside='right'\n",
    "        ),\n",
    "        line_width=2))"
   ]
  },
  {
   "cell_type": "code",
   "execution_count": null,
   "metadata": {},
   "outputs": [],
   "source": []
  }
 ],
 "metadata": {
  "kernelspec": {
   "display_name": "Python 3",
   "language": "python",
   "name": "python3"
  },
  "language_info": {
   "codemirror_mode": {
    "name": "ipython",
    "version": 3
   },
   "file_extension": ".py",
   "mimetype": "text/x-python",
   "name": "python",
   "nbconvert_exporter": "python",
   "pygments_lexer": "ipython3",
   "version": "3.7.4"
  }
 },
 "nbformat": 4,
 "nbformat_minor": 2
}
