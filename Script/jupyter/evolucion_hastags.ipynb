{
 "cells": [
  {
   "cell_type": "code",
   "execution_count": 192,
   "metadata": {},
   "outputs": [],
   "source": [
    "# Requires pymongo 3.6.0+\n",
    "from pymongo import MongoClient\n",
    "import pandas as pd\n",
    "import datetime\n",
    "from bson.code import Code\n",
    "\n",
    "client = MongoClient(\"mongodb://bigdata-mongodb-04.virtual.uniandes.edu.co:8087/\", retryWrites=False)\n",
    "database = client[\"Grupo03\"]\n",
    "collection = database[\"COL_tweets\"]\n",
    "collection_dataset = database[\"COL_dataset\"]"
   ]
  },
  {
   "cell_type": "code",
   "execution_count": 133,
   "metadata": {},
   "outputs": [
    {
     "data": {
      "text/plain": [
       "1935"
      ]
     },
     "execution_count": 133,
     "metadata": {},
     "output_type": "execute_result"
    }
   ],
   "source": [
    "query = {}\n",
    "query[\"hashtags\"] = {\n",
    "    u\"$gt\": {\n",
    "        u\"$size\": 0.0\n",
    "    }\n",
    "}\n",
    "\n",
    "\n",
    "projection = {}\n",
    "projection[\"created_at\"] = 1.0\n",
    "projection[\"hashtags\"] = 1.0\n",
    "\n",
    "cursor = collection.find(query, projection = projection)\n",
    "data = []\n",
    "try:\n",
    "    for doc in cursor:\n",
    "        for i in range(len(doc['hashtags'])):\n",
    "            tweet_date = datetime.datetime.strptime(doc['created_at'], '%a %b %d %H:%M:%S %z %Y')\n",
    "            data.append([doc['hashtags'][i]['text'].lower(), tweet_date])\n",
    "finally:\n",
    "    client.close()"
   ]
  },
  {
   "cell_type": "code",
   "execution_count": 44,
   "metadata": {},
   "outputs": [
    {
     "data": {
      "text/html": [
       "<div>\n",
       "<style scoped>\n",
       "    .dataframe tbody tr th:only-of-type {\n",
       "        vertical-align: middle;\n",
       "    }\n",
       "\n",
       "    .dataframe tbody tr th {\n",
       "        vertical-align: top;\n",
       "    }\n",
       "\n",
       "    .dataframe thead th {\n",
       "        text-align: right;\n",
       "    }\n",
       "</style>\n",
       "<table border=\"1\" class=\"dataframe\">\n",
       "  <thead>\n",
       "    <tr style=\"text-align: right;\">\n",
       "      <th></th>\n",
       "      <th>hashtags</th>\n",
       "      <th>created_at</th>\n",
       "    </tr>\n",
       "  </thead>\n",
       "  <tbody>\n",
       "    <tr>\n",
       "      <td>0</td>\n",
       "      <td>ingresosolidario</td>\n",
       "      <td>2020-04-08 02:52:20+00:00</td>\n",
       "    </tr>\n",
       "    <tr>\n",
       "      <td>1</td>\n",
       "      <td>cuarentenaporlavida</td>\n",
       "      <td>2020-04-08 02:52:20+00:00</td>\n",
       "    </tr>\n",
       "    <tr>\n",
       "      <td>2</td>\n",
       "      <td>ingresosolidario</td>\n",
       "      <td>2020-04-08 02:27:11+00:00</td>\n",
       "    </tr>\n",
       "    <tr>\n",
       "      <td>3</td>\n",
       "      <td>cuarentenaporlavida</td>\n",
       "      <td>2020-04-08 01:26:13+00:00</td>\n",
       "    </tr>\n",
       "    <tr>\n",
       "      <td>4</td>\n",
       "      <td>alargarlacuarentenaes</td>\n",
       "      <td>2020-04-07 12:31:38+00:00</td>\n",
       "    </tr>\n",
       "  </tbody>\n",
       "</table>\n",
       "</div>"
      ],
      "text/plain": [
       "                hashtags                created_at\n",
       "0       ingresosolidario 2020-04-08 02:52:20+00:00\n",
       "1    cuarentenaporlavida 2020-04-08 02:52:20+00:00\n",
       "2       ingresosolidario 2020-04-08 02:27:11+00:00\n",
       "3    cuarentenaporlavida 2020-04-08 01:26:13+00:00\n",
       "4  alargarlacuarentenaes 2020-04-07 12:31:38+00:00"
      ]
     },
     "execution_count": 44,
     "metadata": {},
     "output_type": "execute_result"
    }
   ],
   "source": [
    "df = pd.DataFrame(data,columns=['hashtags', 'created_at'])\n",
    "df.head()"
   ]
  },
  {
   "cell_type": "code",
   "execution_count": 45,
   "metadata": {},
   "outputs": [],
   "source": [
    "query = {}\n",
    "query[\"replys.id\"] = {\n",
    "    u\"$exists\": True\n",
    "}\n",
    "query[\"replys.hashtags\"] = {\n",
    "    u\"$ne\": u\"\"\n",
    "}\n",
    "\n",
    "projection = {}\n",
    "projection[\"replys.hashtags\"] = 1.0\n",
    "projection[\"replys.created_at\"] = 1.0\n",
    "\n",
    "cursor = collection.find(query, projection = projection)\n",
    "data = []\n",
    "try:\n",
    "    for doc in cursor:\n",
    "        for i in range(len(doc['replys'])):\n",
    "            if len(doc['replys'][i]['hashtags']) > 0:\n",
    "                tweet_date = datetime.datetime.strptime(doc['replys'][i]['created_at'], '%a %b %d %H:%M:%S %z %Y')\n",
    "                for j in range(len(doc['replys'][i]['hashtags'])):\n",
    "                    data.append([doc['replys'][i]['hashtags'][j]['text'].lower(), tweet_date])\n",
    "\n",
    "finally:\n",
    "    client.close()"
   ]
  },
  {
   "cell_type": "code",
   "execution_count": 46,
   "metadata": {},
   "outputs": [
    {
     "data": {
      "text/html": [
       "<div>\n",
       "<style scoped>\n",
       "    .dataframe tbody tr th:only-of-type {\n",
       "        vertical-align: middle;\n",
       "    }\n",
       "\n",
       "    .dataframe tbody tr th {\n",
       "        vertical-align: top;\n",
       "    }\n",
       "\n",
       "    .dataframe thead th {\n",
       "        text-align: right;\n",
       "    }\n",
       "</style>\n",
       "<table border=\"1\" class=\"dataframe\">\n",
       "  <thead>\n",
       "    <tr style=\"text-align: right;\">\n",
       "      <th></th>\n",
       "      <th>hashtags</th>\n",
       "      <th>created_at</th>\n",
       "    </tr>\n",
       "  </thead>\n",
       "  <tbody>\n",
       "    <tr>\n",
       "      <td>0</td>\n",
       "      <td>ingresosolidario</td>\n",
       "      <td>2020-04-08 03:43:18+00:00</td>\n",
       "    </tr>\n",
       "    <tr>\n",
       "      <td>1</td>\n",
       "      <td>ingresosolidario</td>\n",
       "      <td>2020-04-08 03:20:32+00:00</td>\n",
       "    </tr>\n",
       "    <tr>\n",
       "      <td>2</td>\n",
       "      <td>ingresosolidario</td>\n",
       "      <td>2020-04-08 04:35:15+00:00</td>\n",
       "    </tr>\n",
       "    <tr>\n",
       "      <td>3</td>\n",
       "      <td>ingresosolidario</td>\n",
       "      <td>2020-04-08 04:04:44+00:00</td>\n",
       "    </tr>\n",
       "    <tr>\n",
       "      <td>4</td>\n",
       "      <td>ingreso</td>\n",
       "      <td>2020-04-08 04:00:07+00:00</td>\n",
       "    </tr>\n",
       "  </tbody>\n",
       "</table>\n",
       "</div>"
      ],
      "text/plain": [
       "           hashtags                created_at\n",
       "0  ingresosolidario 2020-04-08 03:43:18+00:00\n",
       "1  ingresosolidario 2020-04-08 03:20:32+00:00\n",
       "2  ingresosolidario 2020-04-08 04:35:15+00:00\n",
       "3  ingresosolidario 2020-04-08 04:04:44+00:00\n",
       "4           ingreso 2020-04-08 04:00:07+00:00"
      ]
     },
     "execution_count": 46,
     "metadata": {},
     "output_type": "execute_result"
    }
   ],
   "source": [
    "df = pd.DataFrame(data,columns=['hashtags', 'created_at'])\n",
    "df.head()"
   ]
  },
  {
   "cell_type": "code",
   "execution_count": 47,
   "metadata": {},
   "outputs": [],
   "source": [
    "query = {}\n",
    "query[\"quotes.id\"] = {\n",
    "    u\"$exists\": True\n",
    "}\n",
    "query[\"quotes.hashtags\"] = {\n",
    "    u\"$ne\": u\"\"\n",
    "}\n",
    "\n",
    "projection = {}\n",
    "projection[\"quotes.hashtags\"] = 1.0\n",
    "projection[\"quotes.created_at\"] = 1.0\n",
    "\n",
    "cursor = collection.find(query, projection = projection)\n",
    "#data = []\n",
    "try:\n",
    "    for doc in cursor:\n",
    "        for i in range(len(doc['quotes'])):\n",
    "            if len(doc['quotes'][i]['hashtags']) > 0:\n",
    "                tweet_date = datetime.datetime.strptime(doc['quotes'][i]['created_at'], '%a %b %d %H:%M:%S %z %Y')                \n",
    "                for j in range(len(doc['quotes'][i]['hashtags'])):\n",
    "                    data.append([doc['quotes'][i]['hashtags'][j]['text'].lower(), date])\n",
    "finally:\n",
    "    client.close()"
   ]
  },
  {
   "cell_type": "code",
   "execution_count": 48,
   "metadata": {},
   "outputs": [
    {
     "data": {
      "text/html": [
       "<div>\n",
       "<style scoped>\n",
       "    .dataframe tbody tr th:only-of-type {\n",
       "        vertical-align: middle;\n",
       "    }\n",
       "\n",
       "    .dataframe tbody tr th {\n",
       "        vertical-align: top;\n",
       "    }\n",
       "\n",
       "    .dataframe thead th {\n",
       "        text-align: right;\n",
       "    }\n",
       "</style>\n",
       "<table border=\"1\" class=\"dataframe\">\n",
       "  <thead>\n",
       "    <tr style=\"text-align: right;\">\n",
       "      <th></th>\n",
       "      <th>hashtags</th>\n",
       "      <th>created_at</th>\n",
       "    </tr>\n",
       "  </thead>\n",
       "  <tbody>\n",
       "    <tr>\n",
       "      <td>0</td>\n",
       "      <td>ingresosolidario</td>\n",
       "      <td>2020-04-08 03:43:18+00:00</td>\n",
       "    </tr>\n",
       "    <tr>\n",
       "      <td>1</td>\n",
       "      <td>ingresosolidario</td>\n",
       "      <td>2020-04-08 03:20:32+00:00</td>\n",
       "    </tr>\n",
       "    <tr>\n",
       "      <td>2</td>\n",
       "      <td>ingresosolidario</td>\n",
       "      <td>2020-04-08 04:35:15+00:00</td>\n",
       "    </tr>\n",
       "    <tr>\n",
       "      <td>3</td>\n",
       "      <td>ingresosolidario</td>\n",
       "      <td>2020-04-08 04:04:44+00:00</td>\n",
       "    </tr>\n",
       "    <tr>\n",
       "      <td>4</td>\n",
       "      <td>ingreso</td>\n",
       "      <td>2020-04-08 04:00:07+00:00</td>\n",
       "    </tr>\n",
       "  </tbody>\n",
       "</table>\n",
       "</div>"
      ],
      "text/plain": [
       "           hashtags                 created_at\n",
       "0  ingresosolidario  2020-04-08 03:43:18+00:00\n",
       "1  ingresosolidario  2020-04-08 03:20:32+00:00\n",
       "2  ingresosolidario  2020-04-08 04:35:15+00:00\n",
       "3  ingresosolidario  2020-04-08 04:04:44+00:00\n",
       "4           ingreso  2020-04-08 04:00:07+00:00"
      ]
     },
     "execution_count": 48,
     "metadata": {},
     "output_type": "execute_result"
    }
   ],
   "source": [
    "df = pd.DataFrame(data,columns=['hashtags', 'created_at'])\n",
    "df.head()"
   ]
  },
  {
   "cell_type": "markdown",
   "metadata": {},
   "source": [
    "## MAP REDUCE HASHTAGS"
   ]
  },
  {
   "cell_type": "code",
   "execution_count": 200,
   "metadata": {},
   "outputs": [],
   "source": [
    "map = Code(\"function () {\"\n",
    "            \"var hashtags_text = this.hashtags;\"\n",
    "            \"var hashtags_date = this.created_at.split(' ');\"\n",
    "            \"hashtags_text.forEach(function(z) {\"\n",
    "            \"var text = z['text'].toLowerCase();\"\n",
    "            \"emit(text.concat('#').concat(hashtags_date[1]).concat(hashtags_date[2]).concat(hashtags_date[5]), 1);\"\n",
    "            \"});\"\n",
    "           \n",
    "            \"var hashtags_text_reply = this.replys;\"\n",
    "            \"hashtags_text_reply.forEach(function(y) {\"\n",
    "            \"var hashtags_date = y['created_at'].split(' ');\"\n",
    "            \"var hashtags = y['hashtags'];\"\n",
    "            \"hashtags.forEach(function(x) {\"\n",
    "            \"var text = x['text'].toLowerCase();\"           \n",
    "            \"emit(text.concat('#').concat(hashtags_date[1]).concat(hashtags_date[2]).concat(hashtags_date[5]), 1);\"\n",
    "            \"});\"           \n",
    "            \"});\"    \n",
    "\n",
    "            \"var hashtags_text_quotes = this.quotes;\"\n",
    "            \"hashtags_text_quotes.forEach(function(m) {\"\n",
    "            \"var hashtags_date = m['created_at'].split(' ');\"\n",
    "            \"var hashtags = m['hashtags'];\"\n",
    "            \"hashtags.forEach(function(n) {\"\n",
    "            \"var text = n['text'].toLowerCase();\"           \n",
    "            \"emit(text.concat('#').concat(hashtags_date[1]).concat(hashtags_date[2]).concat(hashtags_date[5]), 1);\"\n",
    "            \"});\"           \n",
    "            \"});\"           \n",
    "            \"}\")"
   ]
  },
  {
   "cell_type": "code",
   "execution_count": 201,
   "metadata": {},
   "outputs": [],
   "source": [
    "reduce = Code(\"function (key, values) {\"\n",
    "               \"  var total = 0;\"\n",
    "               \"  for (var i = 0; i < values.length; i++) {\"\n",
    "               \"    total += values[i];\"\n",
    "               \"  }\"\n",
    "               \"  return total;\"\n",
    "               \"}\")"
   ]
  },
  {
   "cell_type": "code",
   "execution_count": 202,
   "metadata": {},
   "outputs": [],
   "source": [
    "result = database.COL_tweets.map_reduce(map, reduce, \"evol_hashtags\")"
   ]
  },
  {
   "cell_type": "code",
   "execution_count": 261,
   "metadata": {},
   "outputs": [
    {
     "data": {
      "text/html": [
       "<div>\n",
       "<style scoped>\n",
       "    .dataframe tbody tr th:only-of-type {\n",
       "        vertical-align: middle;\n",
       "    }\n",
       "\n",
       "    .dataframe tbody tr th {\n",
       "        vertical-align: top;\n",
       "    }\n",
       "\n",
       "    .dataframe thead th {\n",
       "        text-align: right;\n",
       "    }\n",
       "</style>\n",
       "<table border=\"1\" class=\"dataframe\">\n",
       "  <thead>\n",
       "    <tr style=\"text-align: right;\">\n",
       "      <th></th>\n",
       "      <th>hashtag</th>\n",
       "      <th>date</th>\n",
       "      <th>value</th>\n",
       "    </tr>\n",
       "  </thead>\n",
       "  <tbody>\n",
       "    <tr>\n",
       "      <td>0</td>\n",
       "      <td>08abr</td>\n",
       "      <td>2020-04-09</td>\n",
       "      <td>1.0</td>\n",
       "    </tr>\n",
       "    <tr>\n",
       "      <td>1</td>\n",
       "      <td>09abril</td>\n",
       "      <td>2020-04-09</td>\n",
       "      <td>1.0</td>\n",
       "    </tr>\n",
       "    <tr>\n",
       "      <td>2</td>\n",
       "      <td>12abril</td>\n",
       "      <td>2020-04-14</td>\n",
       "      <td>1.0</td>\n",
       "    </tr>\n",
       "    <tr>\n",
       "      <td>3</td>\n",
       "      <td>6amhoyporhoy</td>\n",
       "      <td>2020-04-08</td>\n",
       "      <td>1.0</td>\n",
       "    </tr>\n",
       "    <tr>\n",
       "      <td>4</td>\n",
       "      <td>9abril</td>\n",
       "      <td>2020-04-09</td>\n",
       "      <td>1.0</td>\n",
       "    </tr>\n",
       "    <tr>\n",
       "      <td>...</td>\n",
       "      <td>...</td>\n",
       "      <td>...</td>\n",
       "      <td>...</td>\n",
       "    </tr>\n",
       "    <tr>\n",
       "      <td>95</td>\n",
       "      <td>blu4p0</td>\n",
       "      <td>2020-04-09</td>\n",
       "      <td>11.0</td>\n",
       "    </tr>\n",
       "    <tr>\n",
       "      <td>96</td>\n",
       "      <td>bogota</td>\n",
       "      <td>2020-04-09</td>\n",
       "      <td>1.0</td>\n",
       "    </tr>\n",
       "    <tr>\n",
       "      <td>97</td>\n",
       "      <td>bogotasolidariaencasa</td>\n",
       "      <td>2020-04-08</td>\n",
       "      <td>1.0</td>\n",
       "    </tr>\n",
       "    <tr>\n",
       "      <td>98</td>\n",
       "      <td>bogotasolidariaencasa</td>\n",
       "      <td>2020-04-20</td>\n",
       "      <td>1.0</td>\n",
       "    </tr>\n",
       "    <tr>\n",
       "      <td>99</td>\n",
       "      <td>bogotasolidariaencasa</td>\n",
       "      <td>2020-04-23</td>\n",
       "      <td>2.0</td>\n",
       "    </tr>\n",
       "  </tbody>\n",
       "</table>\n",
       "<p>100 rows × 3 columns</p>\n",
       "</div>"
      ],
      "text/plain": [
       "                  hashtag       date  value\n",
       "0                   08abr 2020-04-09    1.0\n",
       "1                 09abril 2020-04-09    1.0\n",
       "2                 12abril 2020-04-14    1.0\n",
       "3            6amhoyporhoy 2020-04-08    1.0\n",
       "4                  9abril 2020-04-09    1.0\n",
       "..                    ...        ...    ...\n",
       "95                 blu4p0 2020-04-09   11.0\n",
       "96                 bogota 2020-04-09    1.0\n",
       "97  bogotasolidariaencasa 2020-04-08    1.0\n",
       "98  bogotasolidariaencasa 2020-04-20    1.0\n",
       "99  bogotasolidariaencasa 2020-04-23    2.0\n",
       "\n",
       "[100 rows x 3 columns]"
      ]
     },
     "execution_count": 261,
     "metadata": {},
     "output_type": "execute_result"
    }
   ],
   "source": [
    "collection = database[\"evol_hashtags\"]\n",
    "\n",
    "query = {}\n",
    "projection = {}\n",
    "projection[\"_id\"] = 1.0\n",
    "projection[\"value\"] = 1.0\n",
    "\n",
    "cursor = collection.find(query, projection = projection)\n",
    "data = []\n",
    "fecha = datetime.datetime.strptime('2020-04-01', '%Y-%m-%d')\n",
    "try:\n",
    "    for doc in cursor:\n",
    "        dates = doc['_id'].split('#')\n",
    "        tweet_date = datetime.datetime.strptime(dates[1], '%b%d%Y')\n",
    "        if tweet_date >= fecha:\n",
    "            data.append([dates[0], tweet_date, doc['value']])\n",
    "finally:\n",
    "    client.close()\n",
    "\n",
    "df_hashtags = pd.DataFrame(data,columns=['hashtag', 'date', 'value'])\n",
    "df_hashtags.head(100)"
   ]
  },
  {
   "cell_type": "code",
   "execution_count": 253,
   "metadata": {},
   "outputs": [
    {
     "data": {
      "text/html": [
       "<div>\n",
       "<style scoped>\n",
       "    .dataframe tbody tr th:only-of-type {\n",
       "        vertical-align: middle;\n",
       "    }\n",
       "\n",
       "    .dataframe tbody tr th {\n",
       "        vertical-align: top;\n",
       "    }\n",
       "\n",
       "    .dataframe thead th {\n",
       "        text-align: right;\n",
       "    }\n",
       "</style>\n",
       "<table border=\"1\" class=\"dataframe\">\n",
       "  <thead>\n",
       "    <tr style=\"text-align: right;\">\n",
       "      <th></th>\n",
       "      <th>hashtag</th>\n",
       "      <th>date</th>\n",
       "      <th>value</th>\n",
       "    </tr>\n",
       "  </thead>\n",
       "  <tbody>\n",
       "    <tr>\n",
       "      <td>156</td>\n",
       "      <td>bogotasolidariaencasa</td>\n",
       "      <td>2020-03-25</td>\n",
       "      <td>1.0</td>\n",
       "    </tr>\n",
       "    <tr>\n",
       "      <td>157</td>\n",
       "      <td>bogotasolidariaencasa</td>\n",
       "      <td>2020-03-26</td>\n",
       "      <td>16.0</td>\n",
       "    </tr>\n",
       "    <tr>\n",
       "      <td>158</td>\n",
       "      <td>bogotasolidariaencasa</td>\n",
       "      <td>2020-03-27</td>\n",
       "      <td>1.0</td>\n",
       "    </tr>\n",
       "    <tr>\n",
       "      <td>159</td>\n",
       "      <td>bogotasolidariaencasa</td>\n",
       "      <td>2020-03-31</td>\n",
       "      <td>2.0</td>\n",
       "    </tr>\n",
       "    <tr>\n",
       "      <td>152</td>\n",
       "      <td>bogotasolidariaencasa</td>\n",
       "      <td>2020-04-08</td>\n",
       "      <td>1.0</td>\n",
       "    </tr>\n",
       "  </tbody>\n",
       "</table>\n",
       "</div>"
      ],
      "text/plain": [
       "                   hashtag       date  value\n",
       "156  bogotasolidariaencasa 2020-03-25    1.0\n",
       "157  bogotasolidariaencasa 2020-03-26   16.0\n",
       "158  bogotasolidariaencasa 2020-03-27    1.0\n",
       "159  bogotasolidariaencasa 2020-03-31    2.0\n",
       "152  bogotasolidariaencasa 2020-04-08    1.0"
      ]
     },
     "execution_count": 253,
     "metadata": {},
     "output_type": "execute_result"
    }
   ],
   "source": [
    "df_hashtags = df_hashtags.sort_values(by=['date'])\n",
    "newdf = df_hashtags.query('hashtag == \"bogotasolidariaencasa\" & date == \"bogotasolidariaencasa\"')\n",
    "newdf.head()"
   ]
  },
  {
   "cell_type": "code",
   "execution_count": 262,
   "metadata": {},
   "outputs": [
    {
     "data": {
      "application/vnd.plotly.v1+json": {
       "config": {
        "plotlyServerURL": "https://plot.ly"
       },
       "data": [
        {
         "hovertemplate": "hashtag=08abr<br>date=%{x}<br>value=%{y}<extra></extra>",
         "legendgroup": "08abr",
         "line": {
          "color": "#636efa",
          "dash": "solid"
         },
         "mode": "lines",
         "name": "08abr",
         "showlegend": true,
         "type": "scatter",
         "x": [
          "2020-04-09T00:00:00"
         ],
         "xaxis": "x",
         "y": [
          1
         ],
         "yaxis": "y"
        },
        {
         "hovertemplate": "hashtag=09abril<br>date=%{x}<br>value=%{y}<extra></extra>",
         "legendgroup": "09abril",
         "line": {
          "color": "#EF553B",
          "dash": "solid"
         },
         "mode": "lines",
         "name": "09abril",
         "showlegend": true,
         "type": "scatter",
         "x": [
          "2020-04-09T00:00:00"
         ],
         "xaxis": "x",
         "y": [
          1
         ],
         "yaxis": "y"
        },
        {
         "hovertemplate": "hashtag=12abril<br>date=%{x}<br>value=%{y}<extra></extra>",
         "legendgroup": "12abril",
         "line": {
          "color": "#00cc96",
          "dash": "solid"
         },
         "mode": "lines",
         "name": "12abril",
         "showlegend": true,
         "type": "scatter",
         "x": [
          "2020-04-14T00:00:00"
         ],
         "xaxis": "x",
         "y": [
          1
         ],
         "yaxis": "y"
        },
        {
         "hovertemplate": "hashtag=6amhoyporhoy<br>date=%{x}<br>value=%{y}<extra></extra>",
         "legendgroup": "6amhoyporhoy",
         "line": {
          "color": "#ab63fa",
          "dash": "solid"
         },
         "mode": "lines",
         "name": "6amhoyporhoy",
         "showlegend": true,
         "type": "scatter",
         "x": [
          "2020-04-08T00:00:00"
         ],
         "xaxis": "x",
         "y": [
          1
         ],
         "yaxis": "y"
        },
        {
         "hovertemplate": "hashtag=9abril<br>date=%{x}<br>value=%{y}<extra></extra>",
         "legendgroup": "9abril",
         "line": {
          "color": "#FFA15A",
          "dash": "solid"
         },
         "mode": "lines",
         "name": "9abril",
         "showlegend": true,
         "type": "scatter",
         "x": [
          "2020-04-09T00:00:00"
         ],
         "xaxis": "x",
         "y": [
          1
         ],
         "yaxis": "y"
        },
        {
         "hovertemplate": "hashtag=9aunasolavoz<br>date=%{x}<br>value=%{y}<extra></extra>",
         "legendgroup": "9aunasolavoz",
         "line": {
          "color": "#19d3f3",
          "dash": "solid"
         },
         "mode": "lines",
         "name": "9aunasolavoz",
         "showlegend": true,
         "type": "scatter",
         "x": [
          "2020-04-09T00:00:00",
          "2020-04-10T00:00:00"
         ],
         "xaxis": "x",
         "y": [
          2,
          1
         ],
         "yaxis": "y"
        },
        {
         "hovertemplate": "hashtag=abril<br>date=%{x}<br>value=%{y}<extra></extra>",
         "legendgroup": "abril",
         "line": {
          "color": "#FF6692",
          "dash": "solid"
         },
         "mode": "lines",
         "name": "abril",
         "showlegend": true,
         "type": "scatter",
         "x": [
          "2020-04-24T00:00:00"
         ],
         "xaxis": "x",
         "y": [
          1
         ],
         "yaxis": "y"
        },
        {
         "hovertemplate": "hashtag=accionesporlavida<br>date=%{x}<br>value=%{y}<extra></extra>",
         "legendgroup": "accionesporlavida",
         "line": {
          "color": "#B6E880",
          "dash": "solid"
         },
         "mode": "lines",
         "name": "accionesporlavida",
         "showlegend": true,
         "type": "scatter",
         "x": [
          "2020-04-04T00:00:00"
         ],
         "xaxis": "x",
         "y": [
          1
         ],
         "yaxis": "y"
        },
        {
         "hovertemplate": "hashtag=actualización<br>date=%{x}<br>value=%{y}<extra></extra>",
         "legendgroup": "actualización",
         "line": {
          "color": "#FF97FF",
          "dash": "solid"
         },
         "mode": "lines",
         "name": "actualización",
         "showlegend": true,
         "type": "scatter",
         "x": [
          "2020-04-08T00:00:00"
         ],
         "xaxis": "x",
         "y": [
          2
         ],
         "yaxis": "y"
        },
        {
         "hovertemplate": "hashtag=adaptación<br>date=%{x}<br>value=%{y}<extra></extra>",
         "legendgroup": "adaptación",
         "line": {
          "color": "#FECB52",
          "dash": "solid"
         },
         "mode": "lines",
         "name": "adaptación",
         "showlegend": true,
         "type": "scatter",
         "x": [
          "2020-04-08T00:00:00"
         ],
         "xaxis": "x",
         "y": [
          1
         ],
         "yaxis": "y"
        },
        {
         "hovertemplate": "hashtag=aestahora<br>date=%{x}<br>value=%{y}<extra></extra>",
         "legendgroup": "aestahora",
         "line": {
          "color": "#636efa",
          "dash": "solid"
         },
         "mode": "lines",
         "name": "aestahora",
         "showlegend": true,
         "type": "scatter",
         "x": [
          "2020-04-05T00:00:00",
          "2020-04-08T00:00:00",
          "2020-04-14T00:00:00",
          "2020-04-16T00:00:00",
          "2020-04-17T00:00:00",
          "2020-04-20T00:00:00",
          "2020-04-21T00:00:00",
          "2020-04-23T00:00:00"
         ],
         "xaxis": "x",
         "y": [
          1,
          2,
          1,
          1,
          1,
          1,
          3,
          2
         ],
         "yaxis": "y"
        },
        {
         "hovertemplate": "hashtag=afp<br>date=%{x}<br>value=%{y}<extra></extra>",
         "legendgroup": "afp",
         "line": {
          "color": "#EF553B",
          "dash": "solid"
         },
         "mode": "lines",
         "name": "afp",
         "showlegend": true,
         "type": "scatter",
         "x": [
          "2020-04-10T00:00:00",
          "2020-04-21T00:00:00"
         ],
         "xaxis": "x",
         "y": [
          1,
          1
         ],
         "yaxis": "y"
        },
        {
         "hovertemplate": "hashtag=agremiacionfreelance<br>date=%{x}<br>value=%{y}<extra></extra>",
         "legendgroup": "agremiacionfreelance",
         "line": {
          "color": "#00cc96",
          "dash": "solid"
         },
         "mode": "lines",
         "name": "agremiacionfreelance",
         "showlegend": true,
         "type": "scatter",
         "x": [
          "2020-04-09T00:00:00"
         ],
         "xaxis": "x",
         "y": [
          1
         ],
         "yaxis": "y"
        },
        {
         "hovertemplate": "hashtag=agroingresoseguro<br>date=%{x}<br>value=%{y}<extra></extra>",
         "legendgroup": "agroingresoseguro",
         "line": {
          "color": "#ab63fa",
          "dash": "solid"
         },
         "mode": "lines",
         "name": "agroingresoseguro",
         "showlegend": true,
         "type": "scatter",
         "x": [
          "2020-04-09T00:00:00"
         ],
         "xaxis": "x",
         "y": [
          2
         ],
         "yaxis": "y"
        },
        {
         "hovertemplate": "hashtag=agroingresoseguro2<br>date=%{x}<br>value=%{y}<extra></extra>",
         "legendgroup": "agroingresoseguro2",
         "line": {
          "color": "#FFA15A",
          "dash": "solid"
         },
         "mode": "lines",
         "name": "agroingresoseguro2",
         "showlegend": true,
         "type": "scatter",
         "x": [
          "2020-04-19T00:00:00",
          "2020-04-20T00:00:00"
         ],
         "xaxis": "x",
         "y": [
          2,
          1
         ],
         "yaxis": "y"
        },
        {
         "hovertemplate": "hashtag=agroingresosolidario<br>date=%{x}<br>value=%{y}<extra></extra>",
         "legendgroup": "agroingresosolidario",
         "line": {
          "color": "#19d3f3",
          "dash": "solid"
         },
         "mode": "lines",
         "name": "agroingresosolidario",
         "showlegend": true,
         "type": "scatter",
         "x": [
          "2020-04-09T00:00:00"
         ],
         "xaxis": "x",
         "y": [
          1
         ],
         "yaxis": "y"
        },
        {
         "hovertemplate": "hashtag=aislamientointeligente<br>date=%{x}<br>value=%{y}<extra></extra>",
         "legendgroup": "aislamientointeligente",
         "line": {
          "color": "#FF6692",
          "dash": "solid"
         },
         "mode": "lines",
         "name": "aislamientointeligente",
         "showlegend": true,
         "type": "scatter",
         "x": [
          "2020-04-06T00:00:00"
         ],
         "xaxis": "x",
         "y": [
          48
         ],
         "yaxis": "y"
        },
        {
         "hovertemplate": "hashtag=aislamientointeligentesíono<br>date=%{x}<br>value=%{y}<extra></extra>",
         "legendgroup": "aislamientointeligentesíono",
         "line": {
          "color": "#B6E880",
          "dash": "solid"
         },
         "mode": "lines",
         "name": "aislamientointeligentesíono",
         "showlegend": true,
         "type": "scatter",
         "x": [
          "2020-04-06T00:00:00"
         ],
         "xaxis": "x",
         "y": [
          26
         ],
         "yaxis": "y"
        },
        {
         "hovertemplate": "hashtag=aislamientosalvavidas<br>date=%{x}<br>value=%{y}<extra></extra>",
         "legendgroup": "aislamientosalvavidas",
         "line": {
          "color": "#FF97FF",
          "dash": "solid"
         },
         "mode": "lines",
         "name": "aislamientosalvavidas",
         "showlegend": true,
         "type": "scatter",
         "x": [
          "2020-04-07T00:00:00"
         ],
         "xaxis": "x",
         "y": [
          11
         ],
         "yaxis": "y"
        },
        {
         "hovertemplate": "hashtag=alaire<br>date=%{x}<br>value=%{y}<extra></extra>",
         "legendgroup": "alaire",
         "line": {
          "color": "#FECB52",
          "dash": "solid"
         },
         "mode": "lines",
         "name": "alaire",
         "showlegend": true,
         "type": "scatter",
         "x": [
          "2020-04-03T00:00:00",
          "2020-04-07T00:00:00",
          "2020-04-08T00:00:00",
          "2020-04-09T00:00:00",
          "2020-04-16T00:00:00",
          "2020-04-17T00:00:00",
          "2020-04-22T00:00:00"
         ],
         "xaxis": "x",
         "y": [
          1,
          1,
          35,
          35,
          1,
          1,
          1
         ],
         "yaxis": "y"
        },
        {
         "hovertemplate": "hashtag=alaireenlafm<br>date=%{x}<br>value=%{y}<extra></extra>",
         "legendgroup": "alaireenlafm",
         "line": {
          "color": "#636efa",
          "dash": "solid"
         },
         "mode": "lines",
         "name": "alaireenlafm",
         "showlegend": true,
         "type": "scatter",
         "x": [
          "2020-04-06T00:00:00",
          "2020-04-07T00:00:00",
          "2020-04-08T00:00:00",
          "2020-04-10T00:00:00"
         ],
         "xaxis": "x",
         "y": [
          9,
          15,
          8,
          1
         ],
         "yaxis": "y"
        },
        {
         "hovertemplate": "hashtag=alamano<br>date=%{x}<br>value=%{y}<extra></extra>",
         "legendgroup": "alamano",
         "line": {
          "color": "#EF553B",
          "dash": "solid"
         },
         "mode": "lines",
         "name": "alamano",
         "showlegend": true,
         "type": "scatter",
         "x": [
          "2020-04-09T00:00:00"
         ],
         "xaxis": "x",
         "y": [
          3
         ],
         "yaxis": "y"
        },
        {
         "hovertemplate": "hashtag=alargarlacuarentenaes<br>date=%{x}<br>value=%{y}<extra></extra>",
         "legendgroup": "alargarlacuarentenaes",
         "line": {
          "color": "#00cc96",
          "dash": "solid"
         },
         "mode": "lines",
         "name": "alargarlacuarentenaes",
         "showlegend": true,
         "type": "scatter",
         "x": [
          "2020-04-07T00:00:00",
          "2020-04-08T00:00:00"
         ],
         "xaxis": "x",
         "y": [
          50,
          1
         ],
         "yaxis": "y"
        },
        {
         "hovertemplate": "hashtag=alataque<br>date=%{x}<br>value=%{y}<extra></extra>",
         "legendgroup": "alataque",
         "line": {
          "color": "#ab63fa",
          "dash": "solid"
         },
         "mode": "lines",
         "name": "alataque",
         "showlegend": true,
         "type": "scatter",
         "x": [
          "2020-04-09T00:00:00"
         ],
         "xaxis": "x",
         "y": [
          1
         ],
         "yaxis": "y"
        },
        {
         "hovertemplate": "hashtag=alcaldiademedellin<br>date=%{x}<br>value=%{y}<extra></extra>",
         "legendgroup": "alcaldiademedellin",
         "line": {
          "color": "#FFA15A",
          "dash": "solid"
         },
         "mode": "lines",
         "name": "alcaldiademedellin",
         "showlegend": true,
         "type": "scatter",
         "x": [
          "2020-04-10T00:00:00"
         ],
         "xaxis": "x",
         "y": [
          1
         ],
         "yaxis": "y"
        },
        {
         "hovertemplate": "hashtag=alosbanqueroslespido<br>date=%{x}<br>value=%{y}<extra></extra>",
         "legendgroup": "alosbanqueroslespido",
         "line": {
          "color": "#19d3f3",
          "dash": "solid"
         },
         "mode": "lines",
         "name": "alosbanqueroslespido",
         "showlegend": true,
         "type": "scatter",
         "x": [
          "2020-04-21T00:00:00"
         ],
         "xaxis": "x",
         "y": [
          2
         ],
         "yaxis": "y"
        },
        {
         "hovertemplate": "hashtag=amorsincero<br>date=%{x}<br>value=%{y}<extra></extra>",
         "legendgroup": "amorsincero",
         "line": {
          "color": "#FF6692",
          "dash": "solid"
         },
         "mode": "lines",
         "name": "amorsincero",
         "showlegend": true,
         "type": "scatter",
         "x": [
          "2020-04-07T00:00:00"
         ],
         "xaxis": "x",
         "y": [
          1
         ],
         "yaxis": "y"
        },
        {
         "hovertemplate": "hashtag=ampliación<br>date=%{x}<br>value=%{y}<extra></extra>",
         "legendgroup": "ampliación",
         "line": {
          "color": "#B6E880",
          "dash": "solid"
         },
         "mode": "lines",
         "name": "ampliación",
         "showlegend": true,
         "type": "scatter",
         "x": [
          "2020-04-06T00:00:00",
          "2020-04-07T00:00:00",
          "2020-04-08T00:00:00",
          "2020-04-09T00:00:00"
         ],
         "xaxis": "x",
         "y": [
          1,
          3,
          5,
          4
         ],
         "yaxis": "y"
        },
        {
         "hovertemplate": "hashtag=angelamerkel<br>date=%{x}<br>value=%{y}<extra></extra>",
         "legendgroup": "angelamerkel",
         "line": {
          "color": "#FF97FF",
          "dash": "solid"
         },
         "mode": "lines",
         "name": "angelamerkel",
         "showlegend": true,
         "type": "scatter",
         "x": [
          "2020-04-17T00:00:00"
         ],
         "xaxis": "x",
         "y": [
          1
         ],
         "yaxis": "y"
        },
        {
         "hovertemplate": "hashtag=antioqueña<br>date=%{x}<br>value=%{y}<extra></extra>",
         "legendgroup": "antioqueña",
         "line": {
          "color": "#FECB52",
          "dash": "solid"
         },
         "mode": "lines",
         "name": "antioqueña",
         "showlegend": true,
         "type": "scatter",
         "x": [
          "2020-04-19T00:00:00"
         ],
         "xaxis": "x",
         "y": [
          1
         ],
         "yaxis": "y"
        },
        {
         "hovertemplate": "hashtag=antioquia<br>date=%{x}<br>value=%{y}<extra></extra>",
         "legendgroup": "antioquia",
         "line": {
          "color": "#636efa",
          "dash": "solid"
         },
         "mode": "lines",
         "name": "antioquia",
         "showlegend": true,
         "type": "scatter",
         "x": [
          "2020-04-21T00:00:00",
          "2020-04-23T00:00:00"
         ],
         "xaxis": "x",
         "y": [
          1,
          1
         ],
         "yaxis": "y"
        },
        {
         "hovertemplate": "hashtag=antioquiasolidaria<br>date=%{x}<br>value=%{y}<extra></extra>",
         "legendgroup": "antioquiasolidaria",
         "line": {
          "color": "#EF553B",
          "dash": "solid"
         },
         "mode": "lines",
         "name": "antioquiasolidaria",
         "showlegend": true,
         "type": "scatter",
         "x": [
          "2020-04-09T00:00:00"
         ],
         "xaxis": "x",
         "y": [
          1
         ],
         "yaxis": "y"
        },
        {
         "hovertemplate": "hashtag=apoyoalpresidente<br>date=%{x}<br>value=%{y}<extra></extra>",
         "legendgroup": "apoyoalpresidente",
         "line": {
          "color": "#00cc96",
          "dash": "solid"
         },
         "mode": "lines",
         "name": "apoyoalpresidente",
         "showlegend": true,
         "type": "scatter",
         "x": [
          "2020-04-25T00:00:00"
         ],
         "xaxis": "x",
         "y": [
          1
         ],
         "yaxis": "y"
        },
        {
         "hovertemplate": "hashtag=apoyomicafé<br>date=%{x}<br>value=%{y}<extra></extra>",
         "legendgroup": "apoyomicafé",
         "line": {
          "color": "#ab63fa",
          "dash": "solid"
         },
         "mode": "lines",
         "name": "apoyomicafé",
         "showlegend": true,
         "type": "scatter",
         "x": [
          "2020-04-21T00:00:00"
         ],
         "xaxis": "x",
         "y": [
          1
         ],
         "yaxis": "y"
        },
        {
         "hovertemplate": "hashtag=aprovecha<br>date=%{x}<br>value=%{y}<extra></extra>",
         "legendgroup": "aprovecha",
         "line": {
          "color": "#FFA15A",
          "dash": "solid"
         },
         "mode": "lines",
         "name": "aprovecha",
         "showlegend": true,
         "type": "scatter",
         "x": [
          "2020-04-07T00:00:00"
         ],
         "xaxis": "x",
         "y": [
          1
         ],
         "yaxis": "y"
        },
        {
         "hovertemplate": "hashtag=asesinos<br>date=%{x}<br>value=%{y}<extra></extra>",
         "legendgroup": "asesinos",
         "line": {
          "color": "#19d3f3",
          "dash": "solid"
         },
         "mode": "lines",
         "name": "asesinos",
         "showlegend": true,
         "type": "scatter",
         "x": [
          "2020-04-08T00:00:00"
         ],
         "xaxis": "x",
         "y": [
          1
         ],
         "yaxis": "y"
        },
        {
         "hovertemplate": "hashtag=asiseviveafuera<br>date=%{x}<br>value=%{y}<extra></extra>",
         "legendgroup": "asiseviveafuera",
         "line": {
          "color": "#FF6692",
          "dash": "solid"
         },
         "mode": "lines",
         "name": "asiseviveafuera",
         "showlegend": true,
         "type": "scatter",
         "x": [
          "2020-04-06T00:00:00",
          "2020-04-07T00:00:00",
          "2020-04-08T00:00:00"
         ],
         "xaxis": "x",
         "y": [
          1,
          1,
          1
         ],
         "yaxis": "y"
        },
        {
         "hovertemplate": "hashtag=atencion<br>date=%{x}<br>value=%{y}<extra></extra>",
         "legendgroup": "atencion",
         "line": {
          "color": "#B6E880",
          "dash": "solid"
         },
         "mode": "lines",
         "name": "atencion",
         "showlegend": true,
         "type": "scatter",
         "x": [
          "2020-04-23T00:00:00"
         ],
         "xaxis": "x",
         "y": [
          1
         ],
         "yaxis": "y"
        },
        {
         "hovertemplate": "hashtag=atención<br>date=%{x}<br>value=%{y}<extra></extra>",
         "legendgroup": "atención",
         "line": {
          "color": "#FF97FF",
          "dash": "solid"
         },
         "mode": "lines",
         "name": "atención",
         "showlegend": true,
         "type": "scatter",
         "x": [
          "2020-04-06T00:00:00",
          "2020-04-07T00:00:00",
          "2020-04-08T00:00:00",
          "2020-04-09T00:00:00",
          "2020-04-10T00:00:00"
         ],
         "xaxis": "x",
         "y": [
          2,
          4,
          4,
          6,
          1
         ],
         "yaxis": "y"
        },
        {
         "hovertemplate": "hashtag=atlantico<br>date=%{x}<br>value=%{y}<extra></extra>",
         "legendgroup": "atlantico",
         "line": {
          "color": "#FECB52",
          "dash": "solid"
         },
         "mode": "lines",
         "name": "atlantico",
         "showlegend": true,
         "type": "scatter",
         "x": [
          "2020-04-25T00:00:00"
         ],
         "xaxis": "x",
         "y": [
          1
         ],
         "yaxis": "y"
        },
        {
         "hovertemplate": "hashtag=avance<br>date=%{x}<br>value=%{y}<extra></extra>",
         "legendgroup": "avance",
         "line": {
          "color": "#636efa",
          "dash": "solid"
         },
         "mode": "lines",
         "name": "avance",
         "showlegend": true,
         "type": "scatter",
         "x": [
          "2020-04-06T00:00:00",
          "2020-04-07T00:00:00",
          "2020-04-08T00:00:00"
         ],
         "xaxis": "x",
         "y": [
          2,
          1,
          1
         ],
         "yaxis": "y"
        },
        {
         "hovertemplate": "hashtag=ayudaparalaura<br>date=%{x}<br>value=%{y}<extra></extra>",
         "legendgroup": "ayudaparalaura",
         "line": {
          "color": "#EF553B",
          "dash": "solid"
         },
         "mode": "lines",
         "name": "ayudaparalaura",
         "showlegend": true,
         "type": "scatter",
         "x": [
          "2020-04-06T00:00:00"
         ],
         "xaxis": "x",
         "y": [
          1
         ],
         "yaxis": "y"
        },
        {
         "hovertemplate": "hashtag=ayudarnoshacebien<br>date=%{x}<br>value=%{y}<extra></extra>",
         "legendgroup": "ayudarnoshacebien",
         "line": {
          "color": "#00cc96",
          "dash": "solid"
         },
         "mode": "lines",
         "name": "ayudarnoshacebien",
         "showlegend": true,
         "type": "scatter",
         "x": [
          "2020-04-02T00:00:00",
          "2020-04-23T00:00:00"
         ],
         "xaxis": "x",
         "y": [
          1,
          1
         ],
         "yaxis": "y"
        },
        {
         "hovertemplate": "hashtag=ayudashumanitarias<br>date=%{x}<br>value=%{y}<extra></extra>",
         "legendgroup": "ayudashumanitarias",
         "line": {
          "color": "#ab63fa",
          "dash": "solid"
         },
         "mode": "lines",
         "name": "ayudashumanitarias",
         "showlegend": true,
         "type": "scatter",
         "x": [
          "2020-04-25T00:00:00"
         ],
         "xaxis": "x",
         "y": [
          1
         ],
         "yaxis": "y"
        },
        {
         "hovertemplate": "hashtag=bajenselossueldospoliticos<br>date=%{x}<br>value=%{y}<extra></extra>",
         "legendgroup": "bajenselossueldospoliticos",
         "line": {
          "color": "#FFA15A",
          "dash": "solid"
         },
         "mode": "lines",
         "name": "bajenselossueldospoliticos",
         "showlegend": true,
         "type": "scatter",
         "x": [
          "2020-04-08T00:00:00"
         ],
         "xaxis": "x",
         "y": [
          1
         ],
         "yaxis": "y"
        },
        {
         "hovertemplate": "hashtag=balanceseguridadbogotá<br>date=%{x}<br>value=%{y}<extra></extra>",
         "legendgroup": "balanceseguridadbogotá",
         "line": {
          "color": "#19d3f3",
          "dash": "solid"
         },
         "mode": "lines",
         "name": "balanceseguridadbogotá",
         "showlegend": true,
         "type": "scatter",
         "x": [
          "2020-04-02T00:00:00"
         ],
         "xaxis": "x",
         "y": [
          3
         ],
         "yaxis": "y"
        },
        {
         "hovertemplate": "hashtag=balebergalabids<br>date=%{x}<br>value=%{y}<extra></extra>",
         "legendgroup": "balebergalabids",
         "line": {
          "color": "#FF6692",
          "dash": "solid"
         },
         "mode": "lines",
         "name": "balebergalabids",
         "showlegend": true,
         "type": "scatter",
         "x": [
          "2020-04-15T00:00:00"
         ],
         "xaxis": "x",
         "y": [
          1
         ],
         "yaxis": "y"
        },
        {
         "hovertemplate": "hashtag=barranquilla<br>date=%{x}<br>value=%{y}<extra></extra>",
         "legendgroup": "barranquilla",
         "line": {
          "color": "#B6E880",
          "dash": "solid"
         },
         "mode": "lines",
         "name": "barranquilla",
         "showlegend": true,
         "type": "scatter",
         "x": [
          "2020-04-25T00:00:00"
         ],
         "xaxis": "x",
         "y": [
          1
         ],
         "yaxis": "y"
        },
        {
         "hovertemplate": "hashtag=bastadecorrupcion<br>date=%{x}<br>value=%{y}<extra></extra>",
         "legendgroup": "bastadecorrupcion",
         "line": {
          "color": "#FF97FF",
          "dash": "solid"
         },
         "mode": "lines",
         "name": "bastadecorrupcion",
         "showlegend": true,
         "type": "scatter",
         "x": [
          "2020-04-09T00:00:00"
         ],
         "xaxis": "x",
         "y": [
          1
         ],
         "yaxis": "y"
        },
        {
         "hovertemplate": "hashtag=bastaley100<br>date=%{x}<br>value=%{y}<extra></extra>",
         "legendgroup": "bastaley100",
         "line": {
          "color": "#FECB52",
          "dash": "solid"
         },
         "mode": "lines",
         "name": "bastaley100",
         "showlegend": true,
         "type": "scatter",
         "x": [
          "2020-04-10T00:00:00"
         ],
         "xaxis": "x",
         "y": [
          1
         ],
         "yaxis": "y"
        },
        {
         "hovertemplate": "hashtag=bastardo<br>date=%{x}<br>value=%{y}<extra></extra>",
         "legendgroup": "bastardo",
         "line": {
          "color": "#636efa",
          "dash": "solid"
         },
         "mode": "lines",
         "name": "bastardo",
         "showlegend": true,
         "type": "scatter",
         "x": [
          "2020-04-09T00:00:00",
          "2020-04-24T00:00:00"
         ],
         "xaxis": "x",
         "y": [
          1,
          1
         ],
         "yaxis": "y"
        },
        {
         "hovertemplate": "hashtag=batallóngirardot<br>date=%{x}<br>value=%{y}<extra></extra>",
         "legendgroup": "batallóngirardot",
         "line": {
          "color": "#EF553B",
          "dash": "solid"
         },
         "mode": "lines",
         "name": "batallóngirardot",
         "showlegend": true,
         "type": "scatter",
         "x": [
          "2020-04-19T00:00:00"
         ],
         "xaxis": "x",
         "y": [
          1
         ],
         "yaxis": "y"
        },
        {
         "hovertemplate": "hashtag=bello<br>date=%{x}<br>value=%{y}<extra></extra>",
         "legendgroup": "bello",
         "line": {
          "color": "#00cc96",
          "dash": "solid"
         },
         "mode": "lines",
         "name": "bello",
         "showlegend": true,
         "type": "scatter",
         "x": [
          "2020-04-08T00:00:00"
         ],
         "xaxis": "x",
         "y": [
          1
         ],
         "yaxis": "y"
        },
        {
         "hovertemplate": "hashtag=bendecidas<br>date=%{x}<br>value=%{y}<extra></extra>",
         "legendgroup": "bendecidas",
         "line": {
          "color": "#ab63fa",
          "dash": "solid"
         },
         "mode": "lines",
         "name": "bendecidas",
         "showlegend": true,
         "type": "scatter",
         "x": [
          "2020-04-09T00:00:00"
         ],
         "xaxis": "x",
         "y": [
          1
         ],
         "yaxis": "y"
        },
        {
         "hovertemplate": "hashtag=beneficiarios<br>date=%{x}<br>value=%{y}<extra></extra>",
         "legendgroup": "beneficiarios",
         "line": {
          "color": "#FFA15A",
          "dash": "solid"
         },
         "mode": "lines",
         "name": "beneficiarios",
         "showlegend": true,
         "type": "scatter",
         "x": [
          "2020-04-09T00:00:00"
         ],
         "xaxis": "x",
         "y": [
          1
         ],
         "yaxis": "y"
        },
        {
         "hovertemplate": "hashtag=bettercallsaul<br>date=%{x}<br>value=%{y}<extra></extra>",
         "legendgroup": "bettercallsaul",
         "line": {
          "color": "#19d3f3",
          "dash": "solid"
         },
         "mode": "lines",
         "name": "bettercallsaul",
         "showlegend": true,
         "type": "scatter",
         "x": [
          "2020-04-22T00:00:00",
          "2020-04-23T00:00:00"
         ],
         "xaxis": "x",
         "y": [
          1,
          1
         ],
         "yaxis": "y"
        },
        {
         "hovertemplate": "hashtag=blablablu<br>date=%{x}<br>value=%{y}<extra></extra>",
         "legendgroup": "blablablu",
         "line": {
          "color": "#FF6692",
          "dash": "solid"
         },
         "mode": "lines",
         "name": "blablablu",
         "showlegend": true,
         "type": "scatter",
         "x": [
          "2020-04-08T00:00:00"
         ],
         "xaxis": "x",
         "y": [
          1
         ],
         "yaxis": "y"
        },
        {
         "hovertemplate": "hashtag=blackhawk<br>date=%{x}<br>value=%{y}<extra></extra>",
         "legendgroup": "blackhawk",
         "line": {
          "color": "#B6E880",
          "dash": "solid"
         },
         "mode": "lines",
         "name": "blackhawk",
         "showlegend": true,
         "type": "scatter",
         "x": [
          "2020-04-21T00:00:00"
         ],
         "xaxis": "x",
         "y": [
          1
         ],
         "yaxis": "y"
        },
        {
         "hovertemplate": "hashtag=blogdeportivo<br>date=%{x}<br>value=%{y}<extra></extra>",
         "legendgroup": "blogdeportivo",
         "line": {
          "color": "#FF97FF",
          "dash": "solid"
         },
         "mode": "lines",
         "name": "blogdeportivo",
         "showlegend": true,
         "type": "scatter",
         "x": [
          "2020-04-08T00:00:00"
         ],
         "xaxis": "x",
         "y": [
          1
         ],
         "yaxis": "y"
        },
        {
         "hovertemplate": "hashtag=blu4p0<br>date=%{x}<br>value=%{y}<extra></extra>",
         "legendgroup": "blu4p0",
         "line": {
          "color": "#FECB52",
          "dash": "solid"
         },
         "mode": "lines",
         "name": "blu4p0",
         "showlegend": true,
         "type": "scatter",
         "x": [
          "2020-04-08T00:00:00",
          "2020-04-09T00:00:00"
         ],
         "xaxis": "x",
         "y": [
          2,
          11
         ],
         "yaxis": "y"
        },
        {
         "hovertemplate": "hashtag=bogota<br>date=%{x}<br>value=%{y}<extra></extra>",
         "legendgroup": "bogota",
         "line": {
          "color": "#636efa",
          "dash": "solid"
         },
         "mode": "lines",
         "name": "bogota",
         "showlegend": true,
         "type": "scatter",
         "x": [
          "2020-04-09T00:00:00"
         ],
         "xaxis": "x",
         "y": [
          1
         ],
         "yaxis": "y"
        },
        {
         "hovertemplate": "hashtag=bogotasolidariaencasa<br>date=%{x}<br>value=%{y}<extra></extra>",
         "legendgroup": "bogotasolidariaencasa",
         "line": {
          "color": "#EF553B",
          "dash": "solid"
         },
         "mode": "lines",
         "name": "bogotasolidariaencasa",
         "showlegend": true,
         "type": "scatter",
         "x": [
          "2020-04-08T00:00:00",
          "2020-04-20T00:00:00",
          "2020-04-23T00:00:00",
          "2020-04-24T00:00:00"
         ],
         "xaxis": "x",
         "y": [
          1,
          1,
          2,
          2
         ],
         "yaxis": "y"
        },
        {
         "hovertemplate": "hashtag=bogotá<br>date=%{x}<br>value=%{y}<extra></extra>",
         "legendgroup": "bogotá",
         "line": {
          "color": "#00cc96",
          "dash": "solid"
         },
         "mode": "lines",
         "name": "bogotá",
         "showlegend": true,
         "type": "scatter",
         "x": [
          "2020-04-03T00:00:00",
          "2020-04-08T00:00:00",
          "2020-04-16T00:00:00",
          "2020-04-17T00:00:00"
         ],
         "xaxis": "x",
         "y": [
          1,
          1,
          1,
          1
         ],
         "yaxis": "y"
        },
        {
         "hovertemplate": "hashtag=bogotá100días<br>date=%{x}<br>value=%{y}<extra></extra>",
         "legendgroup": "bogotá100días",
         "line": {
          "color": "#ab63fa",
          "dash": "solid"
         },
         "mode": "lines",
         "name": "bogotá100días",
         "showlegend": true,
         "type": "scatter",
         "x": [
          "2020-04-20T00:00:00"
         ],
         "xaxis": "x",
         "y": [
          1
         ],
         "yaxis": "y"
        },
        {
         "hovertemplate": "hashtag=bogotásinalcalde<br>date=%{x}<br>value=%{y}<extra></extra>",
         "legendgroup": "bogotásinalcalde",
         "line": {
          "color": "#FFA15A",
          "dash": "solid"
         },
         "mode": "lines",
         "name": "bogotásinalcalde",
         "showlegend": true,
         "type": "scatter",
         "x": [
          "2020-04-08T00:00:00"
         ],
         "xaxis": "x",
         "y": [
          1
         ],
         "yaxis": "y"
        },
        {
         "hovertemplate": "hashtag=bogotásolidariaavanza<br>date=%{x}<br>value=%{y}<extra></extra>",
         "legendgroup": "bogotásolidariaavanza",
         "line": {
          "color": "#19d3f3",
          "dash": "solid"
         },
         "mode": "lines",
         "name": "bogotásolidariaavanza",
         "showlegend": true,
         "type": "scatter",
         "x": [
          "2020-04-22T00:00:00"
         ],
         "xaxis": "x",
         "y": [
          1
         ],
         "yaxis": "y"
        },
        {
         "hovertemplate": "hashtag=bolsonarogenocida<br>date=%{x}<br>value=%{y}<extra></extra>",
         "legendgroup": "bolsonarogenocida",
         "line": {
          "color": "#FF6692",
          "dash": "solid"
         },
         "mode": "lines",
         "name": "bolsonarogenocida",
         "showlegend": true,
         "type": "scatter",
         "x": [
          "2020-04-25T00:00:00"
         ],
         "xaxis": "x",
         "y": [
          1
         ],
         "yaxis": "y"
        },
        {
         "hovertemplate": "hashtag=bonosolidario<br>date=%{x}<br>value=%{y}<extra></extra>",
         "legendgroup": "bonosolidario",
         "line": {
          "color": "#B6E880",
          "dash": "solid"
         },
         "mode": "lines",
         "name": "bonosolidario",
         "showlegend": true,
         "type": "scatter",
         "x": [
          "2020-04-09T00:00:00"
         ],
         "xaxis": "x",
         "y": [
          2
         ],
         "yaxis": "y"
        },
        {
         "hovertemplate": "hashtag=boyacá<br>date=%{x}<br>value=%{y}<extra></extra>",
         "legendgroup": "boyacá",
         "line": {
          "color": "#FF97FF",
          "dash": "solid"
         },
         "mode": "lines",
         "name": "boyacá",
         "showlegend": true,
         "type": "scatter",
         "x": [
          "2020-04-10T00:00:00"
         ],
         "xaxis": "x",
         "y": [
          1
         ],
         "yaxis": "y"
        },
        {
         "hovertemplate": "hashtag=br4<br>date=%{x}<br>value=%{y}<extra></extra>",
         "legendgroup": "br4",
         "line": {
          "color": "#FECB52",
          "dash": "solid"
         },
         "mode": "lines",
         "name": "br4",
         "showlegend": true,
         "type": "scatter",
         "x": [
          "2020-04-19T00:00:00"
         ],
         "xaxis": "x",
         "y": [
          1
         ],
         "yaxis": "y"
        },
        {
         "hovertemplate": "hashtag=breakingbad<br>date=%{x}<br>value=%{y}<extra></extra>",
         "legendgroup": "breakingbad",
         "line": {
          "color": "#636efa",
          "dash": "solid"
         },
         "mode": "lines",
         "name": "breakingbad",
         "showlegend": true,
         "type": "scatter",
         "x": [
          "2020-04-23T00:00:00"
         ],
         "xaxis": "x",
         "y": [
          1
         ],
         "yaxis": "y"
        },
        {
         "hovertemplate": "hashtag=brújulaexprés<br>date=%{x}<br>value=%{y}<extra></extra>",
         "legendgroup": "brújulaexprés",
         "line": {
          "color": "#EF553B",
          "dash": "solid"
         },
         "mode": "lines",
         "name": "brújulaexprés",
         "showlegend": true,
         "type": "scatter",
         "x": [
          "2020-04-10T00:00:00"
         ],
         "xaxis": "x",
         "y": [
          2
         ],
         "yaxis": "y"
        },
        {
         "hovertemplate": "hashtag=bthe1challenge<br>date=%{x}<br>value=%{y}<extra></extra>",
         "legendgroup": "bthe1challenge",
         "line": {
          "color": "#00cc96",
          "dash": "solid"
         },
         "mode": "lines",
         "name": "bthe1challenge",
         "showlegend": true,
         "type": "scatter",
         "x": [
          "2020-04-24T00:00:00"
         ],
         "xaxis": "x",
         "y": [
          1
         ],
         "yaxis": "y"
        },
        {
         "hovertemplate": "hashtag=buenasnoticias<br>date=%{x}<br>value=%{y}<extra></extra>",
         "legendgroup": "buenasnoticias",
         "line": {
          "color": "#ab63fa",
          "dash": "solid"
         },
         "mode": "lines",
         "name": "buenasnoticias",
         "showlegend": true,
         "type": "scatter",
         "x": [
          "2020-04-10T00:00:00"
         ],
         "xaxis": "x",
         "y": [
          2
         ],
         "yaxis": "y"
        },
        {
         "hovertemplate": "hashtag=buenaventura<br>date=%{x}<br>value=%{y}<extra></extra>",
         "legendgroup": "buenaventura",
         "line": {
          "color": "#FFA15A",
          "dash": "solid"
         },
         "mode": "lines",
         "name": "buenaventura",
         "showlegend": true,
         "type": "scatter",
         "x": [
          "2020-04-14T00:00:00"
         ],
         "xaxis": "x",
         "y": [
          1
         ],
         "yaxis": "y"
        },
        {
         "hovertemplate": "hashtag=buenosdividendos<br>date=%{x}<br>value=%{y}<extra></extra>",
         "legendgroup": "buenosdividendos",
         "line": {
          "color": "#19d3f3",
          "dash": "solid"
         },
         "mode": "lines",
         "name": "buenosdividendos",
         "showlegend": true,
         "type": "scatter",
         "x": [
          "2020-04-09T00:00:00"
         ],
         "xaxis": "x",
         "y": [
          1
         ],
         "yaxis": "y"
        },
        {
         "hovertemplate": "hashtag=buscayalasvacunas<br>date=%{x}<br>value=%{y}<extra></extra>",
         "legendgroup": "buscayalasvacunas",
         "line": {
          "color": "#FF6692",
          "dash": "solid"
         },
         "mode": "lines",
         "name": "buscayalasvacunas",
         "showlegend": true,
         "type": "scatter",
         "x": [
          "2020-04-24T00:00:00"
         ],
         "xaxis": "x",
         "y": [
          1
         ],
         "yaxis": "y"
        },
        {
         "hovertemplate": "hashtag=bye<br>date=%{x}<br>value=%{y}<extra></extra>",
         "legendgroup": "bye",
         "line": {
          "color": "#B6E880",
          "dash": "solid"
         },
         "mode": "lines",
         "name": "bye",
         "showlegend": true,
         "type": "scatter",
         "x": [
          "2020-04-24T00:00:00"
         ],
         "xaxis": "x",
         "y": [
          1
         ],
         "yaxis": "y"
        },
        {
         "hovertemplate": "hashtag=cacom5<br>date=%{x}<br>value=%{y}<extra></extra>",
         "legendgroup": "cacom5",
         "line": {
          "color": "#FF97FF",
          "dash": "solid"
         },
         "mode": "lines",
         "name": "cacom5",
         "showlegend": true,
         "type": "scatter",
         "x": [
          "2020-04-21T00:00:00"
         ],
         "xaxis": "x",
         "y": [
          1
         ],
         "yaxis": "y"
        },
        {
         "hovertemplate": "hashtag=cadenadeoraciónporpetro<br>date=%{x}<br>value=%{y}<extra></extra>",
         "legendgroup": "cadenadeoraciónporpetro",
         "line": {
          "color": "#FECB52",
          "dash": "solid"
         },
         "mode": "lines",
         "name": "cadenadeoraciónporpetro",
         "showlegend": true,
         "type": "scatter",
         "x": [
          "2020-04-10T00:00:00"
         ],
         "xaxis": "x",
         "y": [
          1
         ],
         "yaxis": "y"
        },
        {
         "hovertemplate": "hashtag=cadenaperpetua<br>date=%{x}<br>value=%{y}<extra></extra>",
         "legendgroup": "cadenaperpetua",
         "line": {
          "color": "#636efa",
          "dash": "solid"
         },
         "mode": "lines",
         "name": "cadenaperpetua",
         "showlegend": true,
         "type": "scatter",
         "x": [
          "2020-04-10T00:00:00"
         ],
         "xaxis": "x",
         "y": [
          1
         ],
         "yaxis": "y"
        },
        {
         "hovertemplate": "hashtag=cadenaperpetuacorruptos<br>date=%{x}<br>value=%{y}<extra></extra>",
         "legendgroup": "cadenaperpetuacorruptos",
         "line": {
          "color": "#EF553B",
          "dash": "solid"
         },
         "mode": "lines",
         "name": "cadenaperpetuacorruptos",
         "showlegend": true,
         "type": "scatter",
         "x": [
          "2020-04-09T00:00:00"
         ],
         "xaxis": "x",
         "y": [
          1
         ],
         "yaxis": "y"
        },
        {
         "hovertemplate": "hashtag=cali<br>date=%{x}<br>value=%{y}<extra></extra>",
         "legendgroup": "cali",
         "line": {
          "color": "#00cc96",
          "dash": "solid"
         },
         "mode": "lines",
         "name": "cali",
         "showlegend": true,
         "type": "scatter",
         "x": [
          "2020-04-07T00:00:00"
         ],
         "xaxis": "x",
         "y": [
          1
         ],
         "yaxis": "y"
        },
        {
         "hovertemplate": "hashtag=cali_nomáscasoscovid19<br>date=%{x}<br>value=%{y}<extra></extra>",
         "legendgroup": "cali_nomáscasoscovid19",
         "line": {
          "color": "#ab63fa",
          "dash": "solid"
         },
         "mode": "lines",
         "name": "cali_nomáscasoscovid19",
         "showlegend": true,
         "type": "scatter",
         "x": [
          "2020-04-19T00:00:00"
         ],
         "xaxis": "x",
         "y": [
          1
         ],
         "yaxis": "y"
        },
        {
         "hovertemplate": "hashtag=calico<br>date=%{x}<br>value=%{y}<extra></extra>",
         "legendgroup": "calico",
         "line": {
          "color": "#FFA15A",
          "dash": "solid"
         },
         "mode": "lines",
         "name": "calico",
         "showlegend": true,
         "type": "scatter",
         "x": [
          "2020-04-08T00:00:00",
          "2020-04-19T00:00:00",
          "2020-04-20T00:00:00",
          "2020-04-23T00:00:00",
          "2020-04-24T00:00:00"
         ],
         "xaxis": "x",
         "y": [
          1,
          1,
          1,
          2,
          1
         ],
         "yaxis": "y"
        },
        {
         "hovertemplate": "hashtag=caliescaracol<br>date=%{x}<br>value=%{y}<extra></extra>",
         "legendgroup": "caliescaracol",
         "line": {
          "color": "#19d3f3",
          "dash": "solid"
         },
         "mode": "lines",
         "name": "caliescaracol",
         "showlegend": true,
         "type": "scatter",
         "x": [
          "2020-04-07T00:00:00"
         ],
         "xaxis": "x",
         "y": [
          1
         ],
         "yaxis": "y"
        },
        {
         "hovertemplate": "hashtag=caliunida<br>date=%{x}<br>value=%{y}<extra></extra>",
         "legendgroup": "caliunida",
         "line": {
          "color": "#FF6692",
          "dash": "solid"
         },
         "mode": "lines",
         "name": "caliunida",
         "showlegend": true,
         "type": "scatter",
         "x": [
          "2020-04-05T00:00:00"
         ],
         "xaxis": "x",
         "y": [
          1
         ],
         "yaxis": "y"
        },
        {
         "hovertemplate": "hashtag=caliunidaporlavida<br>date=%{x}<br>value=%{y}<extra></extra>",
         "legendgroup": "caliunidaporlavida",
         "line": {
          "color": "#B6E880",
          "dash": "solid"
         },
         "mode": "lines",
         "name": "caliunidaporlavida",
         "showlegend": true,
         "type": "scatter",
         "x": [
          "2020-04-05T00:00:00",
          "2020-04-07T00:00:00"
         ],
         "xaxis": "x",
         "y": [
          1,
          19
         ],
         "yaxis": "y"
        },
        {
         "hovertemplate": "hashtag=cambioclimático<br>date=%{x}<br>value=%{y}<extra></extra>",
         "legendgroup": "cambioclimático",
         "line": {
          "color": "#FF97FF",
          "dash": "solid"
         },
         "mode": "lines",
         "name": "cambioclimático",
         "showlegend": true,
         "type": "scatter",
         "x": [
          "2020-04-08T00:00:00"
         ],
         "xaxis": "x",
         "y": [
          1
         ],
         "yaxis": "y"
        },
        {
         "hovertemplate": "hashtag=caracol<br>date=%{x}<br>value=%{y}<extra></extra>",
         "legendgroup": "caracol",
         "line": {
          "color": "#FECB52",
          "dash": "solid"
         },
         "mode": "lines",
         "name": "caracol",
         "showlegend": true,
         "type": "scatter",
         "x": [
          "2020-04-09T00:00:00"
         ],
         "xaxis": "x",
         "y": [
          1
         ],
         "yaxis": "y"
        },
        {
         "hovertemplate": "hashtag=cartaaduque<br>date=%{x}<br>value=%{y}<extra></extra>",
         "legendgroup": "cartaaduque",
         "line": {
          "color": "#636efa",
          "dash": "solid"
         },
         "mode": "lines",
         "name": "cartaaduque",
         "showlegend": true,
         "type": "scatter",
         "x": [
          "2020-04-09T00:00:00"
         ],
         "xaxis": "x",
         "y": [
          2
         ],
         "yaxis": "y"
        },
        {
         "hovertemplate": "hashtag=carteldelascedulas<br>date=%{x}<br>value=%{y}<extra></extra>",
         "legendgroup": "carteldelascedulas",
         "line": {
          "color": "#EF553B",
          "dash": "solid"
         },
         "mode": "lines",
         "name": "carteldelascedulas",
         "showlegend": true,
         "type": "scatter",
         "x": [
          "2020-04-09T00:00:00"
         ],
         "xaxis": "x",
         "y": [
          1
         ],
         "yaxis": "y"
        },
        {
         "hovertemplate": "hashtag=carteldelascédulas<br>date=%{x}<br>value=%{y}<extra></extra>",
         "legendgroup": "carteldelascédulas",
         "line": {
          "color": "#00cc96",
          "dash": "solid"
         },
         "mode": "lines",
         "name": "carteldelascédulas",
         "showlegend": true,
         "type": "scatter",
         "x": [
          "2020-04-16T00:00:00",
          "2020-04-17T00:00:00"
         ],
         "xaxis": "x",
         "y": [
          1,
          3
         ],
         "yaxis": "y"
        },
        {
         "hovertemplate": "hashtag=carteldelossoles<br>date=%{x}<br>value=%{y}<extra></extra>",
         "legendgroup": "carteldelossoles",
         "line": {
          "color": "#ab63fa",
          "dash": "solid"
         },
         "mode": "lines",
         "name": "carteldelossoles",
         "showlegend": true,
         "type": "scatter",
         "x": [
          "2020-04-09T00:00:00"
         ],
         "xaxis": "x",
         "y": [
          1
         ],
         "yaxis": "y"
        },
        {
         "hovertemplate": "hashtag=casanare<br>date=%{x}<br>value=%{y}<extra></extra>",
         "legendgroup": "casanare",
         "line": {
          "color": "#FFA15A",
          "dash": "solid"
         },
         "mode": "lines",
         "name": "casanare",
         "showlegend": true,
         "type": "scatter",
         "x": [
          "2020-04-10T00:00:00"
         ],
         "xaxis": "x",
         "y": [
          1
         ],
         "yaxis": "y"
        },
        {
         "hovertemplate": "hashtag=cedulasfalsas<br>date=%{x}<br>value=%{y}<extra></extra>",
         "legendgroup": "cedulasfalsas",
         "line": {
          "color": "#19d3f3",
          "dash": "solid"
         },
         "mode": "lines",
         "name": "cedulasfalsas",
         "showlegend": true,
         "type": "scatter",
         "x": [
          "2020-04-09T00:00:00"
         ],
         "xaxis": "x",
         "y": [
          1
         ],
         "yaxis": "y"
        },
        {
         "hovertemplate": "hashtag=centro<br>date=%{x}<br>value=%{y}<extra></extra>",
         "legendgroup": "centro",
         "line": {
          "color": "#FF6692",
          "dash": "solid"
         },
         "mode": "lines",
         "name": "centro",
         "showlegend": true,
         "type": "scatter",
         "x": [
          "2020-04-25T00:00:00"
         ],
         "xaxis": "x",
         "y": [
          1
         ],
         "yaxis": "y"
        },
        {
         "hovertemplate": "hashtag=chernobyl<br>date=%{x}<br>value=%{y}<extra></extra>",
         "legendgroup": "chernobyl",
         "line": {
          "color": "#B6E880",
          "dash": "solid"
         },
         "mode": "lines",
         "name": "chernobyl",
         "showlegend": true,
         "type": "scatter",
         "x": [
          "2020-04-25T00:00:00"
         ],
         "xaxis": "x",
         "y": [
          1
         ],
         "yaxis": "y"
        },
        {
         "hovertemplate": "hashtag=churrias<br>date=%{x}<br>value=%{y}<extra></extra>",
         "legendgroup": "churrias",
         "line": {
          "color": "#FF97FF",
          "dash": "solid"
         },
         "mode": "lines",
         "name": "churrias",
         "showlegend": true,
         "type": "scatter",
         "x": [
          "2020-04-25T00:00:00"
         ],
         "xaxis": "x",
         "y": [
          1
         ],
         "yaxis": "y"
        },
        {
         "hovertemplate": "hashtag=ciclovidaxwin<br>date=%{x}<br>value=%{y}<extra></extra>",
         "legendgroup": "ciclovidaxwin",
         "line": {
          "color": "#FECB52",
          "dash": "solid"
         },
         "mode": "lines",
         "name": "ciclovidaxwin",
         "showlegend": true,
         "type": "scatter",
         "x": [
          "2020-04-19T00:00:00"
         ],
         "xaxis": "x",
         "y": [
          2
         ],
         "yaxis": "y"
        },
        {
         "hovertemplate": "hashtag=ciudadano<br>date=%{x}<br>value=%{y}<extra></extra>",
         "legendgroup": "ciudadano",
         "line": {
          "color": "#636efa",
          "dash": "solid"
         },
         "mode": "lines",
         "name": "ciudadano",
         "showlegend": true,
         "type": "scatter",
         "x": [
          "2020-04-23T00:00:00"
         ],
         "xaxis": "x",
         "y": [
          1
         ],
         "yaxis": "y"
        },
        {
         "hovertemplate": "hashtag=ciudadbolívar<br>date=%{x}<br>value=%{y}<extra></extra>",
         "legendgroup": "ciudadbolívar",
         "line": {
          "color": "#EF553B",
          "dash": "solid"
         },
         "mode": "lines",
         "name": "ciudadbolívar",
         "showlegend": true,
         "type": "scatter",
         "x": [
          "2020-04-23T00:00:00"
         ],
         "xaxis": "x",
         "y": [
          1
         ],
         "yaxis": "y"
        },
        {
         "hovertemplate": "hashtag=claudiadaza<br>date=%{x}<br>value=%{y}<extra></extra>",
         "legendgroup": "claudiadaza",
         "line": {
          "color": "#00cc96",
          "dash": "solid"
         },
         "mode": "lines",
         "name": "claudiadaza",
         "showlegend": true,
         "type": "scatter",
         "x": [
          "2020-04-10T00:00:00"
         ],
         "xaxis": "x",
         "y": [
          1
         ],
         "yaxis": "y"
        },
        {
         "hovertemplate": "hashtag=claudiairresponsable<br>date=%{x}<br>value=%{y}<extra></extra>",
         "legendgroup": "claudiairresponsable",
         "line": {
          "color": "#ab63fa",
          "dash": "solid"
         },
         "mode": "lines",
         "name": "claudiairresponsable",
         "showlegend": true,
         "type": "scatter",
         "x": [
          "2020-04-08T00:00:00",
          "2020-04-09T00:00:00",
          "2020-04-10T00:00:00"
         ],
         "xaxis": "x",
         "y": [
          1,
          2,
          1
         ],
         "yaxis": "y"
        },
        {
         "hovertemplate": "hashtag=claudialopez<br>date=%{x}<br>value=%{y}<extra></extra>",
         "legendgroup": "claudialopez",
         "line": {
          "color": "#FFA15A",
          "dash": "solid"
         },
         "mode": "lines",
         "name": "claudialopez",
         "showlegend": true,
         "type": "scatter",
         "x": [
          "2020-04-07T00:00:00"
         ],
         "xaxis": "x",
         "y": [
          1
         ],
         "yaxis": "y"
        },
        {
         "hovertemplate": "hashtag=claudialopezoportunista<br>date=%{x}<br>value=%{y}<extra></extra>",
         "legendgroup": "claudialopezoportunista",
         "line": {
          "color": "#19d3f3",
          "dash": "solid"
         },
         "mode": "lines",
         "name": "claudialopezoportunista",
         "showlegend": true,
         "type": "scatter",
         "x": [
          "2020-04-06T00:00:00",
          "2020-04-08T00:00:00",
          "2020-04-09T00:00:00",
          "2020-04-10T00:00:00"
         ],
         "xaxis": "x",
         "y": [
          2,
          6,
          3,
          1
         ],
         "yaxis": "y"
        },
        {
         "hovertemplate": "hashtag=claudialopezrenuncie<br>date=%{x}<br>value=%{y}<extra></extra>",
         "legendgroup": "claudialopezrenuncie",
         "line": {
          "color": "#FF6692",
          "dash": "solid"
         },
         "mode": "lines",
         "name": "claudialopezrenuncie",
         "showlegend": true,
         "type": "scatter",
         "x": [
          "2020-04-10T00:00:00"
         ],
         "xaxis": "x",
         "y": [
          1
         ],
         "yaxis": "y"
        },
        {
         "hovertemplate": "hashtag=claudialópezrenuncie<br>date=%{x}<br>value=%{y}<extra></extra>",
         "legendgroup": "claudialópezrenuncie",
         "line": {
          "color": "#B6E880",
          "dash": "solid"
         },
         "mode": "lines",
         "name": "claudialópezrenuncie",
         "showlegend": true,
         "type": "scatter",
         "x": [
          "2020-04-09T00:00:00"
         ],
         "xaxis": "x",
         "y": [
          1
         ],
         "yaxis": "y"
        },
        {
         "hovertemplate": "hashtag=colombia<br>date=%{x}<br>value=%{y}<extra></extra>",
         "legendgroup": "colombia",
         "line": {
          "color": "#FF97FF",
          "dash": "solid"
         },
         "mode": "lines",
         "name": "colombia",
         "showlegend": true,
         "type": "scatter",
         "x": [
          "2020-04-08T00:00:00",
          "2020-04-09T00:00:00",
          "2020-04-10T00:00:00",
          "2020-04-25T00:00:00"
         ],
         "xaxis": "x",
         "y": [
          1,
          3,
          3,
          1
         ],
         "yaxis": "y"
        },
        {
         "hovertemplate": "hashtag=colombiaabsurda<br>date=%{x}<br>value=%{y}<extra></extra>",
         "legendgroup": "colombiaabsurda",
         "line": {
          "color": "#FECB52",
          "dash": "solid"
         },
         "mode": "lines",
         "name": "colombiaabsurda",
         "showlegend": true,
         "type": "scatter",
         "x": [
          "2020-04-09T00:00:00"
         ],
         "xaxis": "x",
         "y": [
          1
         ],
         "yaxis": "y"
        },
        {
         "hovertemplate": "hashtag=colombiaconpetro<br>date=%{x}<br>value=%{y}<extra></extra>",
         "legendgroup": "colombiaconpetro",
         "line": {
          "color": "#636efa",
          "dash": "solid"
         },
         "mode": "lines",
         "name": "colombiaconpetro",
         "showlegend": true,
         "type": "scatter",
         "x": [
          "2020-04-10T00:00:00",
          "2020-04-11T00:00:00"
         ],
         "xaxis": "x",
         "y": [
          1,
          3
         ],
         "yaxis": "y"
        },
        {
         "hovertemplate": "hashtag=colombiaenemergencia<br>date=%{x}<br>value=%{y}<extra></extra>",
         "legendgroup": "colombiaenemergencia",
         "line": {
          "color": "#EF553B",
          "dash": "solid"
         },
         "mode": "lines",
         "name": "colombiaenemergencia",
         "showlegend": true,
         "type": "scatter",
         "x": [
          "2020-04-09T00:00:00"
         ],
         "xaxis": "x",
         "y": [
          1
         ],
         "yaxis": "y"
        },
        {
         "hovertemplate": "hashtag=colombiaestáalaire<br>date=%{x}<br>value=%{y}<extra></extra>",
         "legendgroup": "colombiaestáalaire",
         "line": {
          "color": "#00cc96",
          "dash": "solid"
         },
         "mode": "lines",
         "name": "colombiaestáalaire",
         "showlegend": true,
         "type": "scatter",
         "x": [
          "2020-04-08T00:00:00",
          "2020-04-09T00:00:00",
          "2020-04-10T00:00:00"
         ],
         "xaxis": "x",
         "y": [
          5,
          11,
          1
         ],
         "yaxis": "y"
        },
        {
         "hovertemplate": "hashtag=colombiahumana<br>date=%{x}<br>value=%{y}<extra></extra>",
         "legendgroup": "colombiahumana",
         "line": {
          "color": "#ab63fa",
          "dash": "solid"
         },
         "mode": "lines",
         "name": "colombiahumana",
         "showlegend": true,
         "type": "scatter",
         "x": [
          "2020-04-10T00:00:00",
          "2020-04-11T00:00:00"
         ],
         "xaxis": "x",
         "y": [
          1,
          2
         ],
         "yaxis": "y"
        },
        {
         "hovertemplate": "hashtag=colombiano<br>date=%{x}<br>value=%{y}<extra></extra>",
         "legendgroup": "colombiano",
         "line": {
          "color": "#FFA15A",
          "dash": "solid"
         },
         "mode": "lines",
         "name": "colombiano",
         "showlegend": true,
         "type": "scatter",
         "x": [
          "2020-04-14T00:00:00"
         ],
         "xaxis": "x",
         "y": [
          1
         ],
         "yaxis": "y"
        },
        {
         "hovertemplate": "hashtag=colombianos<br>date=%{x}<br>value=%{y}<extra></extra>",
         "legendgroup": "colombianos",
         "line": {
          "color": "#19d3f3",
          "dash": "solid"
         },
         "mode": "lines",
         "name": "colombianos",
         "showlegend": true,
         "type": "scatter",
         "x": [
          "2020-04-08T00:00:00"
         ],
         "xaxis": "x",
         "y": [
          1
         ],
         "yaxis": "y"
        },
        {
         "hovertemplate": "hashtag=colombiarespondeparatodos<br>date=%{x}<br>value=%{y}<extra></extra>",
         "legendgroup": "colombiarespondeparatodos",
         "line": {
          "color": "#FF6692",
          "dash": "solid"
         },
         "mode": "lines",
         "name": "colombiarespondeparatodos",
         "showlegend": true,
         "type": "scatter",
         "x": [
          "2020-04-09T00:00:00"
         ],
         "xaxis": "x",
         "y": [
          1
         ],
         "yaxis": "y"
        },
        {
         "hovertemplate": "hashtag=comuna2<br>date=%{x}<br>value=%{y}<extra></extra>",
         "legendgroup": "comuna2",
         "line": {
          "color": "#B6E880",
          "dash": "solid"
         },
         "mode": "lines",
         "name": "comuna2",
         "showlegend": true,
         "type": "scatter",
         "x": [
          "2020-04-19T00:00:00"
         ],
         "xaxis": "x",
         "y": [
          1
         ],
         "yaxis": "y"
        },
        {
         "hovertemplate": "hashtag=conciertoenelaire<br>date=%{x}<br>value=%{y}<extra></extra>",
         "legendgroup": "conciertoenelaire",
         "line": {
          "color": "#FF97FF",
          "dash": "solid"
         },
         "mode": "lines",
         "name": "conciertoenelaire",
         "showlegend": true,
         "type": "scatter",
         "x": [
          "2020-04-16T00:00:00"
         ],
         "xaxis": "x",
         "y": [
          1
         ],
         "yaxis": "y"
        },
        {
         "hovertemplate": "hashtag=confidenciales<br>date=%{x}<br>value=%{y}<extra></extra>",
         "legendgroup": "confidenciales",
         "line": {
          "color": "#FECB52",
          "dash": "solid"
         },
         "mode": "lines",
         "name": "confidenciales",
         "showlegend": true,
         "type": "scatter",
         "x": [
          "2020-04-07T00:00:00"
         ],
         "xaxis": "x",
         "y": [
          2
         ],
         "yaxis": "y"
        },
        {
         "hovertemplate": "hashtag=confioenti<br>date=%{x}<br>value=%{y}<extra></extra>",
         "legendgroup": "confioenti",
         "line": {
          "color": "#636efa",
          "dash": "solid"
         },
         "mode": "lines",
         "name": "confioenti",
         "showlegend": true,
         "type": "scatter",
         "x": [
          "2020-04-24T00:00:00"
         ],
         "xaxis": "x",
         "y": [
          1
         ],
         "yaxis": "y"
        },
        {
         "hovertemplate": "hashtag=conplastilinamejor<br>date=%{x}<br>value=%{y}<extra></extra>",
         "legendgroup": "conplastilinamejor",
         "line": {
          "color": "#EF553B",
          "dash": "solid"
         },
         "mode": "lines",
         "name": "conplastilinamejor",
         "showlegend": true,
         "type": "scatter",
         "x": [
          "2020-04-16T00:00:00"
         ],
         "xaxis": "x",
         "y": [
          1
         ],
         "yaxis": "y"
        },
        {
         "hovertemplate": "hashtag=construccion<br>date=%{x}<br>value=%{y}<extra></extra>",
         "legendgroup": "construccion",
         "line": {
          "color": "#00cc96",
          "dash": "solid"
         },
         "mode": "lines",
         "name": "construccion",
         "showlegend": true,
         "type": "scatter",
         "x": [
          "2020-04-09T00:00:00"
         ],
         "xaxis": "x",
         "y": [
          1
         ],
         "yaxis": "y"
        },
        {
         "hovertemplate": "hashtag=contodorespetopero<br>date=%{x}<br>value=%{y}<extra></extra>",
         "legendgroup": "contodorespetopero",
         "line": {
          "color": "#ab63fa",
          "dash": "solid"
         },
         "mode": "lines",
         "name": "contodorespetopero",
         "showlegend": true,
         "type": "scatter",
         "x": [
          "2020-04-25T00:00:00"
         ],
         "xaxis": "x",
         "y": [
          2
         ],
         "yaxis": "y"
        },
        {
         "hovertemplate": "hashtag=conversacionesencasa<br>date=%{x}<br>value=%{y}<extra></extra>",
         "legendgroup": "conversacionesencasa",
         "line": {
          "color": "#FFA15A",
          "dash": "solid"
         },
         "mode": "lines",
         "name": "conversacionesencasa",
         "showlegend": true,
         "type": "scatter",
         "x": [
          "2020-04-14T00:00:00"
         ],
         "xaxis": "x",
         "y": [
          1
         ],
         "yaxis": "y"
        },
        {
         "hovertemplate": "hashtag=cordoba<br>date=%{x}<br>value=%{y}<extra></extra>",
         "legendgroup": "cordoba",
         "line": {
          "color": "#19d3f3",
          "dash": "solid"
         },
         "mode": "lines",
         "name": "cordoba",
         "showlegend": true,
         "type": "scatter",
         "x": [
          "2020-04-10T00:00:00"
         ],
         "xaxis": "x",
         "y": [
          1
         ],
         "yaxis": "y"
        },
        {
         "hovertemplate": "hashtag=coreadelsur<br>date=%{x}<br>value=%{y}<extra></extra>",
         "legendgroup": "coreadelsur",
         "line": {
          "color": "#FF6692",
          "dash": "solid"
         },
         "mode": "lines",
         "name": "coreadelsur",
         "showlegend": true,
         "type": "scatter",
         "x": [
          "2020-04-03T00:00:00"
         ],
         "xaxis": "x",
         "y": [
          1
         ],
         "yaxis": "y"
        },
        {
         "hovertemplate": "hashtag=coronavirus<br>date=%{x}<br>value=%{y}<extra></extra>",
         "legendgroup": "coronavirus",
         "line": {
          "color": "#B6E880",
          "dash": "solid"
         },
         "mode": "lines",
         "name": "coronavirus",
         "showlegend": true,
         "type": "scatter",
         "x": [
          "2020-04-03T00:00:00",
          "2020-04-06T00:00:00",
          "2020-04-07T00:00:00",
          "2020-04-08T00:00:00",
          "2020-04-09T00:00:00",
          "2020-04-10T00:00:00",
          "2020-04-20T00:00:00",
          "2020-04-23T00:00:00",
          "2020-04-24T00:00:00",
          "2020-04-25T00:00:00"
         ],
         "xaxis": "x",
         "y": [
          1,
          1,
          1,
          5,
          2,
          2,
          1,
          1,
          1,
          1
         ],
         "yaxis": "y"
        },
        {
         "hovertemplate": "hashtag=coronaviruscolombia<br>date=%{x}<br>value=%{y}<extra></extra>",
         "legendgroup": "coronaviruscolombia",
         "line": {
          "color": "#FF97FF",
          "dash": "solid"
         },
         "mode": "lines",
         "name": "coronaviruscolombia",
         "showlegend": true,
         "type": "scatter",
         "x": [
          "2020-04-06T00:00:00",
          "2020-04-10T00:00:00"
         ],
         "xaxis": "x",
         "y": [
          1,
          1
         ],
         "yaxis": "y"
        },
        {
         "hovertemplate": "hashtag=coronavirusencolombia<br>date=%{x}<br>value=%{y}<extra></extra>",
         "legendgroup": "coronavirusencolombia",
         "line": {
          "color": "#FECB52",
          "dash": "solid"
         },
         "mode": "lines",
         "name": "coronavirusencolombia",
         "showlegend": true,
         "type": "scatter",
         "x": [
          "2020-04-09T00:00:00",
          "2020-04-25T00:00:00"
         ],
         "xaxis": "x",
         "y": [
          2,
          1
         ],
         "yaxis": "y"
        },
        {
         "hovertemplate": "hashtag=corrupcion<br>date=%{x}<br>value=%{y}<extra></extra>",
         "legendgroup": "corrupcion",
         "line": {
          "color": "#636efa",
          "dash": "solid"
         },
         "mode": "lines",
         "name": "corrupcion",
         "showlegend": true,
         "type": "scatter",
         "x": [
          "2020-04-09T00:00:00",
          "2020-04-10T00:00:00",
          "2020-04-25T00:00:00"
         ],
         "xaxis": "x",
         "y": [
          1,
          2,
          1
         ],
         "yaxis": "y"
        },
        {
         "hovertemplate": "hashtag=corrupcionconlasayudas<br>date=%{x}<br>value=%{y}<extra></extra>",
         "legendgroup": "corrupcionconlasayudas",
         "line": {
          "color": "#EF553B",
          "dash": "solid"
         },
         "mode": "lines",
         "name": "corrupcionconlasayudas",
         "showlegend": true,
         "type": "scatter",
         "x": [
          "2020-04-09T00:00:00",
          "2020-04-10T00:00:00"
         ],
         "xaxis": "x",
         "y": [
          4,
          1
         ],
         "yaxis": "y"
        },
        {
         "hovertemplate": "hashtag=corrupcionconlasayudases<br>date=%{x}<br>value=%{y}<extra></extra>",
         "legendgroup": "corrupcionconlasayudases",
         "line": {
          "color": "#00cc96",
          "dash": "solid"
         },
         "mode": "lines",
         "name": "corrupcionconlasayudases",
         "showlegend": true,
         "type": "scatter",
         "x": [
          "2020-04-08T00:00:00",
          "2020-04-09T00:00:00",
          "2020-04-10T00:00:00"
         ],
         "xaxis": "x",
         "y": [
          1,
          9,
          2
         ],
         "yaxis": "y"
        },
        {
         "hovertemplate": "hashtag=corrupcionimparable<br>date=%{x}<br>value=%{y}<extra></extra>",
         "legendgroup": "corrupcionimparable",
         "line": {
          "color": "#ab63fa",
          "dash": "solid"
         },
         "mode": "lines",
         "name": "corrupcionimparable",
         "showlegend": true,
         "type": "scatter",
         "x": [
          "2020-04-16T00:00:00"
         ],
         "xaxis": "x",
         "y": [
          1
         ],
         "yaxis": "y"
        },
        {
         "hovertemplate": "hashtag=corrupcionsolidaria<br>date=%{x}<br>value=%{y}<extra></extra>",
         "legendgroup": "corrupcionsolidaria",
         "line": {
          "color": "#FFA15A",
          "dash": "solid"
         },
         "mode": "lines",
         "name": "corrupcionsolidaria",
         "showlegend": true,
         "type": "scatter",
         "x": [
          "2020-04-09T00:00:00",
          "2020-04-10T00:00:00"
         ],
         "xaxis": "x",
         "y": [
          3,
          1
         ],
         "yaxis": "y"
        },
        {
         "hovertemplate": "hashtag=corrupción<br>date=%{x}<br>value=%{y}<extra></extra>",
         "legendgroup": "corrupción",
         "line": {
          "color": "#19d3f3",
          "dash": "solid"
         },
         "mode": "lines",
         "name": "corrupción",
         "showlegend": true,
         "type": "scatter",
         "x": [
          "2020-04-08T00:00:00"
         ],
         "xaxis": "x",
         "y": [
          1
         ],
         "yaxis": "y"
        },
        {
         "hovertemplate": "hashtag=corrupcióninfima<br>date=%{x}<br>value=%{y}<extra></extra>",
         "legendgroup": "corrupcióninfima",
         "line": {
          "color": "#FF6692",
          "dash": "solid"
         },
         "mode": "lines",
         "name": "corrupcióninfima",
         "showlegend": true,
         "type": "scatter",
         "x": [
          "2020-04-16T00:00:00",
          "2020-04-17T00:00:00"
         ],
         "xaxis": "x",
         "y": [
          1,
          3
         ],
         "yaxis": "y"
        },
        {
         "hovertemplate": "hashtag=corruptos<br>date=%{x}<br>value=%{y}<extra></extra>",
         "legendgroup": "corruptos",
         "line": {
          "color": "#B6E880",
          "dash": "solid"
         },
         "mode": "lines",
         "name": "corruptos",
         "showlegend": true,
         "type": "scatter",
         "x": [
          "2020-04-09T00:00:00",
          "2020-04-10T00:00:00"
         ],
         "xaxis": "x",
         "y": [
          1,
          1
         ],
         "yaxis": "y"
        },
        {
         "hovertemplate": "hashtag=corruptosdemie<br>date=%{x}<br>value=%{y}<extra></extra>",
         "legendgroup": "corruptosdemie",
         "line": {
          "color": "#FF97FF",
          "dash": "solid"
         },
         "mode": "lines",
         "name": "corruptosdemie",
         "showlegend": true,
         "type": "scatter",
         "x": [
          "2020-04-09T00:00:00"
         ],
         "xaxis": "x",
         "y": [
          1
         ],
         "yaxis": "y"
        },
        {
         "hovertemplate": "hashtag=corrupvirus<br>date=%{x}<br>value=%{y}<extra></extra>",
         "legendgroup": "corrupvirus",
         "line": {
          "color": "#FECB52",
          "dash": "solid"
         },
         "mode": "lines",
         "name": "corrupvirus",
         "showlegend": true,
         "type": "scatter",
         "x": [
          "2020-04-10T00:00:00"
         ],
         "xaxis": "x",
         "y": [
          1
         ],
         "yaxis": "y"
        },
        {
         "hovertemplate": "hashtag=covid<br>date=%{x}<br>value=%{y}<extra></extra>",
         "legendgroup": "covid",
         "line": {
          "color": "#636efa",
          "dash": "solid"
         },
         "mode": "lines",
         "name": "covid",
         "showlegend": true,
         "type": "scatter",
         "x": [
          "2020-04-07T00:00:00",
          "2020-04-08T00:00:00",
          "2020-04-09T00:00:00"
         ],
         "xaxis": "x",
         "y": [
          1,
          1,
          3
         ],
         "yaxis": "y"
        },
        {
         "hovertemplate": "hashtag=covid19<br>date=%{x}<br>value=%{y}<extra></extra>",
         "legendgroup": "covid19",
         "line": {
          "color": "#EF553B",
          "dash": "solid"
         },
         "mode": "lines",
         "name": "covid19",
         "showlegend": true,
         "type": "scatter",
         "x": [
          "2020-04-01T00:00:00",
          "2020-04-02T00:00:00",
          "2020-04-03T00:00:00",
          "2020-04-04T00:00:00",
          "2020-04-05T00:00:00",
          "2020-04-06T00:00:00",
          "2020-04-09T00:00:00",
          "2020-04-10T00:00:00",
          "2020-04-15T00:00:00",
          "2020-04-19T00:00:00",
          "2020-04-21T00:00:00",
          "2020-04-23T00:00:00",
          "2020-04-25T00:00:00"
         ],
         "xaxis": "x",
         "y": [
          4,
          1,
          1,
          1,
          1,
          1,
          9,
          1,
          1,
          1,
          1,
          2,
          2
         ],
         "yaxis": "y"
        },
        {
         "hovertemplate": "hashtag=covid19bogota<br>date=%{x}<br>value=%{y}<extra></extra>",
         "legendgroup": "covid19bogota",
         "line": {
          "color": "#00cc96",
          "dash": "solid"
         },
         "mode": "lines",
         "name": "covid19bogota",
         "showlegend": true,
         "type": "scatter",
         "x": [
          "2020-04-10T00:00:00"
         ],
         "xaxis": "x",
         "y": [
          1
         ],
         "yaxis": "y"
        },
        {
         "hovertemplate": "hashtag=covid19colombia<br>date=%{x}<br>value=%{y}<extra></extra>",
         "legendgroup": "covid19colombia",
         "line": {
          "color": "#ab63fa",
          "dash": "solid"
         },
         "mode": "lines",
         "name": "covid19colombia",
         "showlegend": true,
         "type": "scatter",
         "x": [
          "2020-04-06T00:00:00",
          "2020-04-09T00:00:00",
          "2020-04-10T00:00:00",
          "2020-04-15T00:00:00",
          "2020-04-23T00:00:00",
          "2020-04-25T00:00:00"
         ],
         "xaxis": "x",
         "y": [
          1,
          3,
          3,
          1,
          1,
          1
         ],
         "yaxis": "y"
        },
        {
         "hovertemplate": "hashtag=covid2019<br>date=%{x}<br>value=%{y}<extra></extra>",
         "legendgroup": "covid2019",
         "line": {
          "color": "#FFA15A",
          "dash": "solid"
         },
         "mode": "lines",
         "name": "covid2019",
         "showlegend": true,
         "type": "scatter",
         "x": [
          "2020-04-04T00:00:00",
          "2020-04-10T00:00:00"
         ],
         "xaxis": "x",
         "y": [
          2,
          1
         ],
         "yaxis": "y"
        },
        {
         "hovertemplate": "hashtag=covid_19<br>date=%{x}<br>value=%{y}<extra></extra>",
         "legendgroup": "covid_19",
         "line": {
          "color": "#19d3f3",
          "dash": "solid"
         },
         "mode": "lines",
         "name": "covid_19",
         "showlegend": true,
         "type": "scatter",
         "x": [
          "2020-04-03T00:00:00",
          "2020-04-06T00:00:00",
          "2020-04-07T00:00:00",
          "2020-04-08T00:00:00",
          "2020-04-09T00:00:00",
          "2020-04-10T00:00:00",
          "2020-04-14T00:00:00",
          "2020-04-15T00:00:00",
          "2020-04-16T00:00:00",
          "2020-04-18T00:00:00",
          "2020-04-20T00:00:00",
          "2020-04-22T00:00:00",
          "2020-04-23T00:00:00",
          "2020-04-25T00:00:00"
         ],
         "xaxis": "x",
         "y": [
          2,
          4,
          24,
          35,
          30,
          11,
          1,
          1,
          2,
          2,
          1,
          1,
          2,
          3
         ],
         "yaxis": "y"
        },
        {
         "hovertemplate": "hashtag=covidiots<br>date=%{x}<br>value=%{y}<extra></extra>",
         "legendgroup": "covidiots",
         "line": {
          "color": "#FF6692",
          "dash": "solid"
         },
         "mode": "lines",
         "name": "covidiots",
         "showlegend": true,
         "type": "scatter",
         "x": [
          "2020-04-06T00:00:00"
         ],
         "xaxis": "x",
         "y": [
          1
         ],
         "yaxis": "y"
        },
        {
         "hovertemplate": "hashtag=covidー19<br>date=%{x}<br>value=%{y}<extra></extra>",
         "legendgroup": "covidー19",
         "line": {
          "color": "#B6E880",
          "dash": "solid"
         },
         "mode": "lines",
         "name": "covidー19",
         "showlegend": true,
         "type": "scatter",
         "x": [
          "2020-04-01T00:00:00",
          "2020-04-07T00:00:00",
          "2020-04-08T00:00:00",
          "2020-04-09T00:00:00",
          "2020-04-10T00:00:00",
          "2020-04-25T00:00:00"
         ],
         "xaxis": "x",
         "y": [
          1,
          1,
          3,
          8,
          4,
          1
         ],
         "yaxis": "y"
        },
        {
         "hovertemplate": "hashtag=ctei<br>date=%{x}<br>value=%{y}<extra></extra>",
         "legendgroup": "ctei",
         "line": {
          "color": "#FF97FF",
          "dash": "solid"
         },
         "mode": "lines",
         "name": "ctei",
         "showlegend": true,
         "type": "scatter",
         "x": [
          "2020-04-09T00:00:00"
         ],
         "xaxis": "x",
         "y": [
          1
         ],
         "yaxis": "y"
        },
        {
         "hovertemplate": "hashtag=cuarentena<br>date=%{x}<br>value=%{y}<extra></extra>",
         "legendgroup": "cuarentena",
         "line": {
          "color": "#FECB52",
          "dash": "solid"
         },
         "mode": "lines",
         "name": "cuarentena",
         "showlegend": true,
         "type": "scatter",
         "x": [
          "2020-04-07T00:00:00",
          "2020-04-08T00:00:00",
          "2020-04-09T00:00:00"
         ],
         "xaxis": "x",
         "y": [
          1,
          1,
          1
         ],
         "yaxis": "y"
        },
        {
         "hovertemplate": "hashtag=cuarentenahastajunioes<br>date=%{x}<br>value=%{y}<extra></extra>",
         "legendgroup": "cuarentenahastajunioes",
         "line": {
          "color": "#636efa",
          "dash": "solid"
         },
         "mode": "lines",
         "name": "cuarentenahastajunioes",
         "showlegend": true,
         "type": "scatter",
         "x": [
          "2020-04-08T00:00:00"
         ],
         "xaxis": "x",
         "y": [
          1
         ],
         "yaxis": "y"
        },
        {
         "hovertemplate": "hashtag=cuarentenainteligente<br>date=%{x}<br>value=%{y}<extra></extra>",
         "legendgroup": "cuarentenainteligente",
         "line": {
          "color": "#EF553B",
          "dash": "solid"
         },
         "mode": "lines",
         "name": "cuarentenainteligente",
         "showlegend": true,
         "type": "scatter",
         "x": [
          "2020-04-06T00:00:00",
          "2020-04-07T00:00:00",
          "2020-04-10T00:00:00",
          "2020-04-15T00:00:00"
         ],
         "xaxis": "x",
         "y": [
          2,
          1,
          1,
          1
         ],
         "yaxis": "y"
        },
        {
         "hovertemplate": "hashtag=cuarentenanacional<br>date=%{x}<br>value=%{y}<extra></extra>",
         "legendgroup": "cuarentenanacional",
         "line": {
          "color": "#00cc96",
          "dash": "solid"
         },
         "mode": "lines",
         "name": "cuarentenanacional",
         "showlegend": true,
         "type": "scatter",
         "x": [
          "2020-04-01T00:00:00",
          "2020-04-04T00:00:00"
         ],
         "xaxis": "x",
         "y": [
          1,
          1
         ],
         "yaxis": "y"
        },
        {
         "hovertemplate": "hashtag=cuarentenaporlavida<br>date=%{x}<br>value=%{y}<extra></extra>",
         "legendgroup": "cuarentenaporlavida",
         "line": {
          "color": "#ab63fa",
          "dash": "solid"
         },
         "mode": "lines",
         "name": "cuarentenaporlavida",
         "showlegend": true,
         "type": "scatter",
         "x": [
          "2020-04-01T00:00:00",
          "2020-04-05T00:00:00",
          "2020-04-07T00:00:00",
          "2020-04-08T00:00:00",
          "2020-04-24T00:00:00"
         ],
         "xaxis": "x",
         "y": [
          1,
          1,
          20,
          31,
          1
         ],
         "yaxis": "y"
        },
        {
         "hovertemplate": "hashtag=cuarentenatotal<br>date=%{x}<br>value=%{y}<extra></extra>",
         "legendgroup": "cuarentenatotal",
         "line": {
          "color": "#FFA15A",
          "dash": "solid"
         },
         "mode": "lines",
         "name": "cuarentenatotal",
         "showlegend": true,
         "type": "scatter",
         "x": [
          "2020-04-06T00:00:00"
         ],
         "xaxis": "x",
         "y": [
          2
         ],
         "yaxis": "y"
        },
        {
         "hovertemplate": "hashtag=cuartarevolución<br>date=%{x}<br>value=%{y}<extra></extra>",
         "legendgroup": "cuartarevolución",
         "line": {
          "color": "#19d3f3",
          "dash": "solid"
         },
         "mode": "lines",
         "name": "cuartarevolución",
         "showlegend": true,
         "type": "scatter",
         "x": [
          "2020-04-07T00:00:00"
         ],
         "xaxis": "x",
         "y": [
          1
         ],
         "yaxis": "y"
        },
        {
         "hovertemplate": "hashtag=cuba<br>date=%{x}<br>value=%{y}<extra></extra>",
         "legendgroup": "cuba",
         "line": {
          "color": "#FF6692",
          "dash": "solid"
         },
         "mode": "lines",
         "name": "cuba",
         "showlegend": true,
         "type": "scatter",
         "x": [
          "2020-04-10T00:00:00"
         ],
         "xaxis": "x",
         "y": [
          2
         ],
         "yaxis": "y"
        },
        {
         "hovertemplate": "hashtag=cuelloblaco<br>date=%{x}<br>value=%{y}<extra></extra>",
         "legendgroup": "cuelloblaco",
         "line": {
          "color": "#B6E880",
          "dash": "solid"
         },
         "mode": "lines",
         "name": "cuelloblaco",
         "showlegend": true,
         "type": "scatter",
         "x": [
          "2020-04-10T00:00:00"
         ],
         "xaxis": "x",
         "y": [
          1
         ],
         "yaxis": "y"
        },
        {
         "hovertemplate": "hashtag=culombia<br>date=%{x}<br>value=%{y}<extra></extra>",
         "legendgroup": "culombia",
         "line": {
          "color": "#FF97FF",
          "dash": "solid"
         },
         "mode": "lines",
         "name": "culombia",
         "showlegend": true,
         "type": "scatter",
         "x": [
          "2020-04-09T00:00:00"
         ],
         "xaxis": "x",
         "y": [
          1
         ],
         "yaxis": "y"
        },
        {
         "hovertemplate": "hashtag=curruptusinextremis<br>date=%{x}<br>value=%{y}<extra></extra>",
         "legendgroup": "curruptusinextremis",
         "line": {
          "color": "#FECB52",
          "dash": "solid"
         },
         "mode": "lines",
         "name": "curruptusinextremis",
         "showlegend": true,
         "type": "scatter",
         "x": [
          "2020-04-09T00:00:00"
         ],
         "xaxis": "x",
         "y": [
          1
         ],
         "yaxis": "y"
        },
        {
         "hovertemplate": "hashtag=códigocaracol<br>date=%{x}<br>value=%{y}<extra></extra>",
         "legendgroup": "códigocaracol",
         "line": {
          "color": "#636efa",
          "dash": "solid"
         },
         "mode": "lines",
         "name": "códigocaracol",
         "showlegend": true,
         "type": "scatter",
         "x": [
          "2020-04-08T00:00:00"
         ],
         "xaxis": "x",
         "y": [
          1
         ],
         "yaxis": "y"
        },
        {
         "hovertemplate": "hashtag=cúcuta<br>date=%{x}<br>value=%{y}<extra></extra>",
         "legendgroup": "cúcuta",
         "line": {
          "color": "#EF553B",
          "dash": "solid"
         },
         "mode": "lines",
         "name": "cúcuta",
         "showlegend": true,
         "type": "scatter",
         "x": [
          "2020-04-03T00:00:00"
         ],
         "xaxis": "x",
         "y": [
          1
         ],
         "yaxis": "y"
        },
        {
         "hovertemplate": "hashtag=debateblu<br>date=%{x}<br>value=%{y}<extra></extra>",
         "legendgroup": "debateblu",
         "line": {
          "color": "#00cc96",
          "dash": "solid"
         },
         "mode": "lines",
         "name": "debateblu",
         "showlegend": true,
         "type": "scatter",
         "x": [
          "2020-04-08T00:00:00"
         ],
         "xaxis": "x",
         "y": [
          2
         ],
         "yaxis": "y"
        },
        {
         "hovertemplate": "hashtag=deestasalimosjuntos<br>date=%{x}<br>value=%{y}<extra></extra>",
         "legendgroup": "deestasalimosjuntos",
         "line": {
          "color": "#ab63fa",
          "dash": "solid"
         },
         "mode": "lines",
         "name": "deestasalimosjuntos",
         "showlegend": true,
         "type": "scatter",
         "x": [
          "2020-04-24T00:00:00"
         ],
         "xaxis": "x",
         "y": [
          3
         ],
         "yaxis": "y"
        },
        {
         "hovertemplate": "hashtag=delepenaporcolombia<br>date=%{x}<br>value=%{y}<extra></extra>",
         "legendgroup": "delepenaporcolombia",
         "line": {
          "color": "#FFA15A",
          "dash": "solid"
         },
         "mode": "lines",
         "name": "delepenaporcolombia",
         "showlegend": true,
         "type": "scatter",
         "x": [
          "2020-04-09T00:00:00"
         ],
         "xaxis": "x",
         "y": [
          1
         ],
         "yaxis": "y"
        },
        {
         "hovertemplate": "hashtag=denunciaciudadana<br>date=%{x}<br>value=%{y}<extra></extra>",
         "legendgroup": "denunciaciudadana",
         "line": {
          "color": "#19d3f3",
          "dash": "solid"
         },
         "mode": "lines",
         "name": "denunciaciudadana",
         "showlegend": true,
         "type": "scatter",
         "x": [
          "2020-04-25T00:00:00"
         ],
         "xaxis": "x",
         "y": [
          1
         ],
         "yaxis": "y"
        },
        {
         "hovertemplate": "hashtag=deportesblu<br>date=%{x}<br>value=%{y}<extra></extra>",
         "legendgroup": "deportesblu",
         "line": {
          "color": "#FF6692",
          "dash": "solid"
         },
         "mode": "lines",
         "name": "deportesblu",
         "showlegend": true,
         "type": "scatter",
         "x": [
          "2020-04-09T00:00:00"
         ],
         "xaxis": "x",
         "y": [
          2
         ],
         "yaxis": "y"
        },
        {
         "hovertemplate": "hashtag=descargacoronapp<br>date=%{x}<br>value=%{y}<extra></extra>",
         "legendgroup": "descargacoronapp",
         "line": {
          "color": "#B6E880",
          "dash": "solid"
         },
         "mode": "lines",
         "name": "descargacoronapp",
         "showlegend": true,
         "type": "scatter",
         "x": [
          "2020-04-14T00:00:00"
         ],
         "xaxis": "x",
         "y": [
          2
         ],
         "yaxis": "y"
        },
        {
         "hovertemplate": "hashtag=devolverpensionescotizadasya<br>date=%{x}<br>value=%{y}<extra></extra>",
         "legendgroup": "devolverpensionescotizadasya",
         "line": {
          "color": "#FF97FF",
          "dash": "solid"
         },
         "mode": "lines",
         "name": "devolverpensionescotizadasya",
         "showlegend": true,
         "type": "scatter",
         "x": [
          "2020-04-17T00:00:00"
         ],
         "xaxis": "x",
         "y": [
          1
         ],
         "yaxis": "y"
        },
        {
         "hovertemplate": "hashtag=diadelatierra<br>date=%{x}<br>value=%{y}<extra></extra>",
         "legendgroup": "diadelatierra",
         "line": {
          "color": "#FECB52",
          "dash": "solid"
         },
         "mode": "lines",
         "name": "diadelatierra",
         "showlegend": true,
         "type": "scatter",
         "x": [
          "2020-04-22T00:00:00"
         ],
         "xaxis": "x",
         "y": [
          2
         ],
         "yaxis": "y"
        },
        {
         "hovertemplate": "hashtag=diamundialdelasalud<br>date=%{x}<br>value=%{y}<extra></extra>",
         "legendgroup": "diamundialdelasalud",
         "line": {
          "color": "#636efa",
          "dash": "solid"
         },
         "mode": "lines",
         "name": "diamundialdelasalud",
         "showlegend": true,
         "type": "scatter",
         "x": [
          "2020-04-08T00:00:00"
         ],
         "xaxis": "x",
         "y": [
          1
         ],
         "yaxis": "y"
        },
        {
         "hovertemplate": "hashtag=diamundialdelemprendimiento<br>date=%{x}<br>value=%{y}<extra></extra>",
         "legendgroup": "diamundialdelemprendimiento",
         "line": {
          "color": "#EF553B",
          "dash": "solid"
         },
         "mode": "lines",
         "name": "diamundialdelemprendimiento",
         "showlegend": true,
         "type": "scatter",
         "x": [
          "2020-04-17T00:00:00"
         ],
         "xaxis": "x",
         "y": [
          1
         ],
         "yaxis": "y"
        },
        {
         "hovertemplate": "hashtag=dignidadmedica<br>date=%{x}<br>value=%{y}<extra></extra>",
         "legendgroup": "dignidadmedica",
         "line": {
          "color": "#00cc96",
          "dash": "solid"
         },
         "mode": "lines",
         "name": "dignidadmedica",
         "showlegend": true,
         "type": "scatter",
         "x": [
          "2020-04-09T00:00:00"
         ],
         "xaxis": "x",
         "y": [
          1
         ],
         "yaxis": "y"
        },
        {
         "hovertemplate": "hashtag=dnpcorrupta<br>date=%{x}<br>value=%{y}<extra></extra>",
         "legendgroup": "dnpcorrupta",
         "line": {
          "color": "#ab63fa",
          "dash": "solid"
         },
         "mode": "lines",
         "name": "dnpcorrupta",
         "showlegend": true,
         "type": "scatter",
         "x": [
          "2020-04-09T00:00:00"
         ],
         "xaxis": "x",
         "y": [
          1
         ],
         "yaxis": "y"
        },
        {
         "hovertemplate": "hashtag=donatonbogota<br>date=%{x}<br>value=%{y}<extra></extra>",
         "legendgroup": "donatonbogota",
         "line": {
          "color": "#FFA15A",
          "dash": "solid"
         },
         "mode": "lines",
         "name": "donatonbogota",
         "showlegend": true,
         "type": "scatter",
         "x": [
          "2020-04-20T00:00:00",
          "2020-04-22T00:00:00"
         ],
         "xaxis": "x",
         "y": [
          4,
          1
         ],
         "yaxis": "y"
        },
        {
         "hovertemplate": "hashtag=donatónbogotá<br>date=%{x}<br>value=%{y}<extra></extra>",
         "legendgroup": "donatónbogotá",
         "line": {
          "color": "#19d3f3",
          "dash": "solid"
         },
         "mode": "lines",
         "name": "donatónbogotá",
         "showlegend": true,
         "type": "scatter",
         "x": [
          "2020-04-20T00:00:00"
         ],
         "xaxis": "x",
         "y": [
          1
         ],
         "yaxis": "y"
        },
        {
         "hovertemplate": "hashtag=donatónporlosindígenas<br>date=%{x}<br>value=%{y}<extra></extra>",
         "legendgroup": "donatónporlosindígenas",
         "line": {
          "color": "#FF6692",
          "dash": "solid"
         },
         "mode": "lines",
         "name": "donatónporlosindígenas",
         "showlegend": true,
         "type": "scatter",
         "x": [
          "2020-04-23T00:00:00"
         ],
         "xaxis": "x",
         "y": [
          1
         ],
         "yaxis": "y"
        },
        {
         "hovertemplate": "hashtag=donatónpormedellín<br>date=%{x}<br>value=%{y}<extra></extra>",
         "legendgroup": "donatónpormedellín",
         "line": {
          "color": "#B6E880",
          "dash": "solid"
         },
         "mode": "lines",
         "name": "donatónpormedellín",
         "showlegend": true,
         "type": "scatter",
         "x": [
          "2020-04-10T00:00:00"
         ],
         "xaxis": "x",
         "y": [
          1
         ],
         "yaxis": "y"
        },
        {
         "hovertemplate": "hashtag=dondeestamidinero<br>date=%{x}<br>value=%{y}<extra></extra>",
         "legendgroup": "dondeestamidinero",
         "line": {
          "color": "#FF97FF",
          "dash": "solid"
         },
         "mode": "lines",
         "name": "dondeestamidinero",
         "showlegend": true,
         "type": "scatter",
         "x": [
          "2020-04-09T00:00:00"
         ],
         "xaxis": "x",
         "y": [
          1
         ],
         "yaxis": "y"
        },
        {
         "hovertemplate": "hashtag=dondeestanancypatrica<br>date=%{x}<br>value=%{y}<extra></extra>",
         "legendgroup": "dondeestanancypatrica",
         "line": {
          "color": "#FECB52",
          "dash": "solid"
         },
         "mode": "lines",
         "name": "dondeestanancypatrica",
         "showlegend": true,
         "type": "scatter",
         "x": [
          "2020-04-25T00:00:00"
         ],
         "xaxis": "x",
         "y": [
          1
         ],
         "yaxis": "y"
        },
        {
         "hovertemplate": "hashtag=dondeestanlasautoridades<br>date=%{x}<br>value=%{y}<extra></extra>",
         "legendgroup": "dondeestanlasautoridades",
         "line": {
          "color": "#636efa",
          "dash": "solid"
         },
         "mode": "lines",
         "name": "dondeestanlasautoridades",
         "showlegend": true,
         "type": "scatter",
         "x": [
          "2020-04-15T00:00:00"
         ],
         "xaxis": "x",
         "y": [
          1
         ],
         "yaxis": "y"
        },
        {
         "hovertemplate": "hashtag=dossemanasmasdeaislamiento<br>date=%{x}<br>value=%{y}<extra></extra>",
         "legendgroup": "dossemanasmasdeaislamiento",
         "line": {
          "color": "#EF553B",
          "dash": "solid"
         },
         "mode": "lines",
         "name": "dossemanasmasdeaislamiento",
         "showlegend": true,
         "type": "scatter",
         "x": [
          "2020-04-21T00:00:00"
         ],
         "xaxis": "x",
         "y": [
          2
         ],
         "yaxis": "y"
        },
        {
         "hovertemplate": "hashtag=duqueinepto<br>date=%{x}<br>value=%{y}<extra></extra>",
         "legendgroup": "duqueinepto",
         "line": {
          "color": "#00cc96",
          "dash": "solid"
         },
         "mode": "lines",
         "name": "duqueinepto",
         "showlegend": true,
         "type": "scatter",
         "x": [
          "2020-04-09T00:00:00",
          "2020-04-25T00:00:00"
         ],
         "xaxis": "x",
         "y": [
          4,
          1
         ],
         "yaxis": "y"
        },
        {
         "hovertemplate": "hashtag=duquemiserable<br>date=%{x}<br>value=%{y}<extra></extra>",
         "legendgroup": "duquemiserable",
         "line": {
          "color": "#ab63fa",
          "dash": "solid"
         },
         "mode": "lines",
         "name": "duquemiserable",
         "showlegend": true,
         "type": "scatter",
         "x": [
          "2020-04-09T00:00:00",
          "2020-04-10T00:00:00"
         ],
         "xaxis": "x",
         "y": [
          6,
          5
         ],
         "yaxis": "y"
        },
        {
         "hovertemplate": "hashtag=duquenosmiente<br>date=%{x}<br>value=%{y}<extra></extra>",
         "legendgroup": "duquenosmiente",
         "line": {
          "color": "#FFA15A",
          "dash": "solid"
         },
         "mode": "lines",
         "name": "duquenosmiente",
         "showlegend": true,
         "type": "scatter",
         "x": [
          "2020-04-15T00:00:00"
         ],
         "xaxis": "x",
         "y": [
          1
         ],
         "yaxis": "y"
        },
        {
         "hovertemplate": "hashtag=duquepresidentedenarcos<br>date=%{x}<br>value=%{y}<extra></extra>",
         "legendgroup": "duquepresidentedenarcos",
         "line": {
          "color": "#19d3f3",
          "dash": "solid"
         },
         "mode": "lines",
         "name": "duquepresidentedenarcos",
         "showlegend": true,
         "type": "scatter",
         "x": [
          "2020-04-09T00:00:00"
         ],
         "xaxis": "x",
         "y": [
          1
         ],
         "yaxis": "y"
        },
        {
         "hovertemplate": "hashtag=duquerenuncie<br>date=%{x}<br>value=%{y}<extra></extra>",
         "legendgroup": "duquerenuncie",
         "line": {
          "color": "#FF6692",
          "dash": "solid"
         },
         "mode": "lines",
         "name": "duquerenuncie",
         "showlegend": true,
         "type": "scatter",
         "x": [
          "2020-04-09T00:00:00",
          "2020-04-10T00:00:00"
         ],
         "xaxis": "x",
         "y": [
          5,
          2
         ],
         "yaxis": "y"
        },
        {
         "hovertemplate": "hashtag=duqueresponda<br>date=%{x}<br>value=%{y}<extra></extra>",
         "legendgroup": "duqueresponda",
         "line": {
          "color": "#B6E880",
          "dash": "solid"
         },
         "mode": "lines",
         "name": "duqueresponda",
         "showlegend": true,
         "type": "scatter",
         "x": [
          "2020-04-09T00:00:00"
         ],
         "xaxis": "x",
         "y": [
          8
         ],
         "yaxis": "y"
        },
        {
         "hovertemplate": "hashtag=díadelaniñez<br>date=%{x}<br>value=%{y}<extra></extra>",
         "legendgroup": "díadelaniñez",
         "line": {
          "color": "#FF97FF",
          "dash": "solid"
         },
         "mode": "lines",
         "name": "díadelaniñez",
         "showlegend": true,
         "type": "scatter",
         "x": [
          "2020-04-25T00:00:00"
         ],
         "xaxis": "x",
         "y": [
          1
         ],
         "yaxis": "y"
        },
        {
         "hovertemplate": "hashtag=díadelatierra<br>date=%{x}<br>value=%{y}<extra></extra>",
         "legendgroup": "díadelatierra",
         "line": {
          "color": "#FECB52",
          "dash": "solid"
         },
         "mode": "lines",
         "name": "díadelatierra",
         "showlegend": true,
         "type": "scatter",
         "x": [
          "2020-04-22T00:00:00"
         ],
         "xaxis": "x",
         "y": [
          1
         ],
         "yaxis": "y"
        },
        {
         "hovertemplate": "hashtag=díadelniño<br>date=%{x}<br>value=%{y}<extra></extra>",
         "legendgroup": "díadelniño",
         "line": {
          "color": "#636efa",
          "dash": "solid"
         },
         "mode": "lines",
         "name": "díadelniño",
         "showlegend": true,
         "type": "scatter",
         "x": [
          "2020-04-25T00:00:00"
         ],
         "xaxis": "x",
         "y": [
          3
         ],
         "yaxis": "y"
        },
        {
         "hovertemplate": "hashtag=díamundialdelasalud<br>date=%{x}<br>value=%{y}<extra></extra>",
         "legendgroup": "díamundialdelasalud",
         "line": {
          "color": "#EF553B",
          "dash": "solid"
         },
         "mode": "lines",
         "name": "díamundialdelasalud",
         "showlegend": true,
         "type": "scatter",
         "x": [
          "2020-04-07T00:00:00",
          "2020-04-08T00:00:00"
         ],
         "xaxis": "x",
         "y": [
          1,
          1
         ],
         "yaxis": "y"
        },
        {
         "hovertemplate": "hashtag=echenpadentroblablablu<br>date=%{x}<br>value=%{y}<extra></extra>",
         "legendgroup": "echenpadentroblablablu",
         "line": {
          "color": "#00cc96",
          "dash": "solid"
         },
         "mode": "lines",
         "name": "echenpadentroblablablu",
         "showlegend": true,
         "type": "scatter",
         "x": [
          "2020-04-08T00:00:00"
         ],
         "xaxis": "x",
         "y": [
          1
         ],
         "yaxis": "y"
        },
        {
         "hovertemplate": "hashtag=eeuu<br>date=%{x}<br>value=%{y}<extra></extra>",
         "legendgroup": "eeuu",
         "line": {
          "color": "#ab63fa",
          "dash": "solid"
         },
         "mode": "lines",
         "name": "eeuu",
         "showlegend": true,
         "type": "scatter",
         "x": [
          "2020-04-25T00:00:00"
         ],
         "xaxis": "x",
         "y": [
          1
         ],
         "yaxis": "y"
        },
        {
         "hovertemplate": "hashtag=elcacas<br>date=%{x}<br>value=%{y}<extra></extra>",
         "legendgroup": "elcacas",
         "line": {
          "color": "#FFA15A",
          "dash": "solid"
         },
         "mode": "lines",
         "name": "elcacas",
         "showlegend": true,
         "type": "scatter",
         "x": [
          "2020-04-10T00:00:00"
         ],
         "xaxis": "x",
         "y": [
          1
         ],
         "yaxis": "y"
        },
        {
         "hovertemplate": "hashtag=elcarteldelascedulas<br>date=%{x}<br>value=%{y}<extra></extra>",
         "legendgroup": "elcarteldelascedulas",
         "line": {
          "color": "#19d3f3",
          "dash": "solid"
         },
         "mode": "lines",
         "name": "elcarteldelascedulas",
         "showlegend": true,
         "type": "scatter",
         "x": [
          "2020-04-09T00:00:00",
          "2020-04-10T00:00:00"
         ],
         "xaxis": "x",
         "y": [
          1,
          1
         ],
         "yaxis": "y"
        },
        {
         "hovertemplate": "hashtag=elchagualo<br>date=%{x}<br>value=%{y}<extra></extra>",
         "legendgroup": "elchagualo",
         "line": {
          "color": "#FF6692",
          "dash": "solid"
         },
         "mode": "lines",
         "name": "elchagualo",
         "showlegend": true,
         "type": "scatter",
         "x": [
          "2020-04-25T00:00:00"
         ],
         "xaxis": "x",
         "y": [
          1
         ],
         "yaxis": "y"
        },
        {
         "hovertemplate": "hashtag=elojodejuandiego<br>date=%{x}<br>value=%{y}<extra></extra>",
         "legendgroup": "elojodejuandiego",
         "line": {
          "color": "#B6E880",
          "dash": "solid"
         },
         "mode": "lines",
         "name": "elojodejuandiego",
         "showlegend": true,
         "type": "scatter",
         "x": [
          "2020-04-07T00:00:00"
         ],
         "xaxis": "x",
         "y": [
          1
         ],
         "yaxis": "y"
        },
        {
         "hovertemplate": "hashtag=elparamodesanturbannosetoca<br>date=%{x}<br>value=%{y}<extra></extra>",
         "legendgroup": "elparamodesanturbannosetoca",
         "line": {
          "color": "#FF97FF",
          "dash": "solid"
         },
         "mode": "lines",
         "name": "elparamodesanturbannosetoca",
         "showlegend": true,
         "type": "scatter",
         "x": [
          "2020-04-10T00:00:00"
         ],
         "xaxis": "x",
         "y": [
          1
         ],
         "yaxis": "y"
        },
        {
         "hovertemplate": "hashtag=elpeorpresidentedelahistoria<br>date=%{x}<br>value=%{y}<extra></extra>",
         "legendgroup": "elpeorpresidentedelahistoria",
         "line": {
          "color": "#FECB52",
          "dash": "solid"
         },
         "mode": "lines",
         "name": "elpeorpresidentedelahistoria",
         "showlegend": true,
         "type": "scatter",
         "x": [
          "2020-04-25T00:00:00"
         ],
         "xaxis": "x",
         "y": [
          1
         ],
         "yaxis": "y"
        },
        {
         "hovertemplate": "hashtag=elperiodistasoyyo<br>date=%{x}<br>value=%{y}<extra></extra>",
         "legendgroup": "elperiodistasoyyo",
         "line": {
          "color": "#636efa",
          "dash": "solid"
         },
         "mode": "lines",
         "name": "elperiodistasoyyo",
         "showlegend": true,
         "type": "scatter",
         "x": [
          "2020-04-08T00:00:00"
         ],
         "xaxis": "x",
         "y": [
          1
         ],
         "yaxis": "y"
        },
        {
         "hovertemplate": "hashtag=elquelahacelapaga<br>date=%{x}<br>value=%{y}<extra></extra>",
         "legendgroup": "elquelahacelapaga",
         "line": {
          "color": "#EF553B",
          "dash": "solid"
         },
         "mode": "lines",
         "name": "elquelahacelapaga",
         "showlegend": true,
         "type": "scatter",
         "x": [
          "2020-04-10T00:00:00"
         ],
         "xaxis": "x",
         "y": [
          3
         ],
         "yaxis": "y"
        },
        {
         "hovertemplate": "hashtag=elquenoseaisleesunbruto<br>date=%{x}<br>value=%{y}<extra></extra>",
         "legendgroup": "elquenoseaisleesunbruto",
         "line": {
          "color": "#00cc96",
          "dash": "solid"
         },
         "mode": "lines",
         "name": "elquenoseaisleesunbruto",
         "showlegend": true,
         "type": "scatter",
         "x": [
          "2020-04-06T00:00:00"
         ],
         "xaxis": "x",
         "y": [
          1
         ],
         "yaxis": "y"
        },
        {
         "hovertemplate": "hashtag=elquenosecomaesecuentoesinteligente<br>date=%{x}<br>value=%{y}<extra></extra>",
         "legendgroup": "elquenosecomaesecuentoesinteligente",
         "line": {
          "color": "#ab63fa",
          "dash": "solid"
         },
         "mode": "lines",
         "name": "elquenosecomaesecuentoesinteligente",
         "showlegend": true,
         "type": "scatter",
         "x": [
          "2020-04-06T00:00:00"
         ],
         "xaxis": "x",
         "y": [
          1
         ],
         "yaxis": "y"
        },
        {
         "hovertemplate": "hashtag=elvalordeunalma<br>date=%{x}<br>value=%{y}<extra></extra>",
         "legendgroup": "elvalordeunalma",
         "line": {
          "color": "#FFA15A",
          "dash": "solid"
         },
         "mode": "lines",
         "name": "elvalordeunalma",
         "showlegend": true,
         "type": "scatter",
         "x": [
          "2020-04-09T00:00:00"
         ],
         "xaxis": "x",
         "y": [
          1
         ],
         "yaxis": "y"
        },
        {
         "hovertemplate": "hashtag=emergenciasanitaria<br>date=%{x}<br>value=%{y}<extra></extra>",
         "legendgroup": "emergenciasanitaria",
         "line": {
          "color": "#19d3f3",
          "dash": "solid"
         },
         "mode": "lines",
         "name": "emergenciasanitaria",
         "showlegend": true,
         "type": "scatter",
         "x": [
          "2020-04-23T00:00:00"
         ],
         "xaxis": "x",
         "y": [
          1
         ],
         "yaxis": "y"
        },
        {
         "hovertemplate": "hashtag=enabrilespero<br>date=%{x}<br>value=%{y}<extra></extra>",
         "legendgroup": "enabrilespero",
         "line": {
          "color": "#FF6692",
          "dash": "solid"
         },
         "mode": "lines",
         "name": "enabrilespero",
         "showlegend": true,
         "type": "scatter",
         "x": [
          "2020-04-01T00:00:00"
         ],
         "xaxis": "x",
         "y": [
          2
         ],
         "yaxis": "y"
        },
        {
         "hovertemplate": "hashtag=encasa<br>date=%{x}<br>value=%{y}<extra></extra>",
         "legendgroup": "encasa",
         "line": {
          "color": "#B6E880",
          "dash": "solid"
         },
         "mode": "lines",
         "name": "encasa",
         "showlegend": true,
         "type": "scatter",
         "x": [
          "2020-04-25T00:00:00"
         ],
         "xaxis": "x",
         "y": [
          2
         ],
         "yaxis": "y"
        },
        {
         "hovertemplate": "hashtag=encuesta<br>date=%{x}<br>value=%{y}<extra></extra>",
         "legendgroup": "encuesta",
         "line": {
          "color": "#FF97FF",
          "dash": "solid"
         },
         "mode": "lines",
         "name": "encuesta",
         "showlegend": true,
         "type": "scatter",
         "x": [
          "2020-04-07T00:00:00",
          "2020-04-08T00:00:00"
         ],
         "xaxis": "x",
         "y": [
          4,
          3
         ],
         "yaxis": "y"
        },
        {
         "hovertemplate": "hashtag=enerca<br>date=%{x}<br>value=%{y}<extra></extra>",
         "legendgroup": "enerca",
         "line": {
          "color": "#FECB52",
          "dash": "solid"
         },
         "mode": "lines",
         "name": "enerca",
         "showlegend": true,
         "type": "scatter",
         "x": [
          "2020-04-10T00:00:00"
         ],
         "xaxis": "x",
         "y": [
          1
         ],
         "yaxis": "y"
        },
        {
         "hovertemplate": "hashtag=ensemanasantayo<br>date=%{x}<br>value=%{y}<extra></extra>",
         "legendgroup": "ensemanasantayo",
         "line": {
          "color": "#636efa",
          "dash": "solid"
         },
         "mode": "lines",
         "name": "ensemanasantayo",
         "showlegend": true,
         "type": "scatter",
         "x": [
          "2020-04-09T00:00:00"
         ],
         "xaxis": "x",
         "y": [
          3
         ],
         "yaxis": "y"
        },
        {
         "hovertemplate": "hashtag=entrenandojuntos<br>date=%{x}<br>value=%{y}<extra></extra>",
         "legendgroup": "entrenandojuntos",
         "line": {
          "color": "#EF553B",
          "dash": "solid"
         },
         "mode": "lines",
         "name": "entrenandojuntos",
         "showlegend": true,
         "type": "scatter",
         "x": [
          "2020-04-05T00:00:00"
         ],
         "xaxis": "x",
         "y": [
          1
         ],
         "yaxis": "y"
        },
        {
         "hovertemplate": "hashtag=entretenimiento<br>date=%{x}<br>value=%{y}<extra></extra>",
         "legendgroup": "entretenimiento",
         "line": {
          "color": "#00cc96",
          "dash": "solid"
         },
         "mode": "lines",
         "name": "entretenimiento",
         "showlegend": true,
         "type": "scatter",
         "x": [
          "2020-04-10T00:00:00"
         ],
         "xaxis": "x",
         "y": [
          3
         ],
         "yaxis": "y"
        },
        {
         "hovertemplate": "hashtag=envivo<br>date=%{x}<br>value=%{y}<extra></extra>",
         "legendgroup": "envivo",
         "line": {
          "color": "#ab63fa",
          "dash": "solid"
         },
         "mode": "lines",
         "name": "envivo",
         "showlegend": true,
         "type": "scatter",
         "x": [
          "2020-04-01T00:00:00",
          "2020-04-02T00:00:00",
          "2020-04-03T00:00:00",
          "2020-04-04T00:00:00",
          "2020-04-06T00:00:00",
          "2020-04-07T00:00:00",
          "2020-04-08T00:00:00",
          "2020-04-09T00:00:00",
          "2020-04-10T00:00:00",
          "2020-04-12T00:00:00",
          "2020-04-14T00:00:00",
          "2020-04-16T00:00:00",
          "2020-04-17T00:00:00",
          "2020-04-18T00:00:00",
          "2020-04-19T00:00:00",
          "2020-04-20T00:00:00",
          "2020-04-21T00:00:00",
          "2020-04-22T00:00:00",
          "2020-04-23T00:00:00",
          "2020-04-24T00:00:00",
          "2020-04-25T00:00:00"
         ],
         "xaxis": "x",
         "y": [
          2,
          2,
          1,
          1,
          4,
          4,
          2,
          2,
          1,
          1,
          4,
          2,
          1,
          1,
          2,
          1,
          2,
          3,
          2,
          1,
          1
         ],
         "yaxis": "y"
        },
        {
         "hovertemplate": "hashtag=esgratishazlodeuna<br>date=%{x}<br>value=%{y}<extra></extra>",
         "legendgroup": "esgratishazlodeuna",
         "line": {
          "color": "#FFA15A",
          "dash": "solid"
         },
         "mode": "lines",
         "name": "esgratishazlodeuna",
         "showlegend": true,
         "type": "scatter",
         "x": [
          "2020-04-24T00:00:00"
         ],
         "xaxis": "x",
         "y": [
          1
         ],
         "yaxis": "y"
        },
        {
         "hovertemplate": "hashtag=esmad<br>date=%{x}<br>value=%{y}<extra></extra>",
         "legendgroup": "esmad",
         "line": {
          "color": "#19d3f3",
          "dash": "solid"
         },
         "mode": "lines",
         "name": "esmad",
         "showlegend": true,
         "type": "scatter",
         "x": [
          "2020-04-13T00:00:00"
         ],
         "xaxis": "x",
         "y": [
          1
         ],
         "yaxis": "y"
        },
        {
         "hovertemplate": "hashtag=espaciosseguros<br>date=%{x}<br>value=%{y}<extra></extra>",
         "legendgroup": "espaciosseguros",
         "line": {
          "color": "#FF6692",
          "dash": "solid"
         },
         "mode": "lines",
         "name": "espaciosseguros",
         "showlegend": true,
         "type": "scatter",
         "x": [
          "2020-04-22T00:00:00"
         ],
         "xaxis": "x",
         "y": [
          1
         ],
         "yaxis": "y"
        },
        {
         "hovertemplate": "hashtag=estamosjuntos<br>date=%{x}<br>value=%{y}<extra></extra>",
         "legendgroup": "estamosjuntos",
         "line": {
          "color": "#B6E880",
          "dash": "solid"
         },
         "mode": "lines",
         "name": "estamosjuntos",
         "showlegend": true,
         "type": "scatter",
         "x": [
          "2020-04-20T00:00:00"
         ],
         "xaxis": "x",
         "y": [
          2
         ],
         "yaxis": "y"
        },
        {
         "hovertemplate": "hashtag=estrato3y4<br>date=%{x}<br>value=%{y}<extra></extra>",
         "legendgroup": "estrato3y4",
         "line": {
          "color": "#FF97FF",
          "dash": "solid"
         },
         "mode": "lines",
         "name": "estrato3y4",
         "showlegend": true,
         "type": "scatter",
         "x": [
          "2020-04-09T00:00:00"
         ],
         "xaxis": "x",
         "y": [
          1
         ],
         "yaxis": "y"
        },
        {
         "hovertemplate": "hashtag=estáentusmanos<br>date=%{x}<br>value=%{y}<extra></extra>",
         "legendgroup": "estáentusmanos",
         "line": {
          "color": "#FECB52",
          "dash": "solid"
         },
         "mode": "lines",
         "name": "estáentusmanos",
         "showlegend": true,
         "type": "scatter",
         "x": [
          "2020-04-07T00:00:00",
          "2020-04-08T00:00:00",
          "2020-04-09T00:00:00",
          "2020-04-10T00:00:00"
         ],
         "xaxis": "x",
         "y": [
          7,
          7,
          3,
          1
         ],
         "yaxis": "y"
        },
        {
         "hovertemplate": "hashtag=etm<br>date=%{x}<br>value=%{y}<extra></extra>",
         "legendgroup": "etm",
         "line": {
          "color": "#636efa",
          "dash": "solid"
         },
         "mode": "lines",
         "name": "etm",
         "showlegend": true,
         "type": "scatter",
         "x": [
          "2020-04-23T00:00:00"
         ],
         "xaxis": "x",
         "y": [
          1
         ],
         "yaxis": "y"
        },
        {
         "hovertemplate": "hashtag=evitaelcontagio<br>date=%{x}<br>value=%{y}<extra></extra>",
         "legendgroup": "evitaelcontagio",
         "line": {
          "color": "#EF553B",
          "dash": "solid"
         },
         "mode": "lines",
         "name": "evitaelcontagio",
         "showlegend": true,
         "type": "scatter",
         "x": [
          "2020-04-05T00:00:00"
         ],
         "xaxis": "x",
         "y": [
          1
         ],
         "yaxis": "y"
        },
        {
         "hovertemplate": "hashtag=evitaelcoronavirus<br>date=%{x}<br>value=%{y}<extra></extra>",
         "legendgroup": "evitaelcoronavirus",
         "line": {
          "color": "#00cc96",
          "dash": "solid"
         },
         "mode": "lines",
         "name": "evitaelcoronavirus",
         "showlegend": true,
         "type": "scatter",
         "x": [
          "2020-04-01T00:00:00",
          "2020-04-02T00:00:00",
          "2020-04-03T00:00:00",
          "2020-04-04T00:00:00",
          "2020-04-05T00:00:00",
          "2020-04-06T00:00:00",
          "2020-04-07T00:00:00",
          "2020-04-08T00:00:00",
          "2020-04-09T00:00:00",
          "2020-04-10T00:00:00",
          "2020-04-14T00:00:00",
          "2020-04-16T00:00:00",
          "2020-04-18T00:00:00",
          "2020-04-21T00:00:00",
          "2020-04-22T00:00:00",
          "2020-04-23T00:00:00",
          "2020-04-24T00:00:00"
         ],
         "xaxis": "x",
         "y": [
          5,
          4,
          2,
          4,
          4,
          3,
          2,
          4,
          1,
          16,
          5,
          1,
          5,
          2,
          3,
          3,
          1
         ],
         "yaxis": "y"
        },
        {
         "hovertemplate": "hashtag=exclusivo<br>date=%{x}<br>value=%{y}<extra></extra>",
         "legendgroup": "exclusivo",
         "line": {
          "color": "#ab63fa",
          "dash": "solid"
         },
         "mode": "lines",
         "name": "exclusivo",
         "showlegend": true,
         "type": "scatter",
         "x": [
          "2020-04-06T00:00:00"
         ],
         "xaxis": "x",
         "y": [
          1
         ],
         "yaxis": "y"
        },
        {
         "hovertemplate": "hashtag=facebooklive<br>date=%{x}<br>value=%{y}<extra></extra>",
         "legendgroup": "facebooklive",
         "line": {
          "color": "#FFA15A",
          "dash": "solid"
         },
         "mode": "lines",
         "name": "facebooklive",
         "showlegend": true,
         "type": "scatter",
         "x": [
          "2020-04-05T00:00:00",
          "2020-04-08T00:00:00",
          "2020-04-19T00:00:00",
          "2020-04-20T00:00:00"
         ],
         "xaxis": "x",
         "y": [
          1,
          6,
          1,
          1
         ],
         "yaxis": "y"
        },
        {
         "hovertemplate": "hashtag=falsospositivos<br>date=%{x}<br>value=%{y}<extra></extra>",
         "legendgroup": "falsospositivos",
         "line": {
          "color": "#19d3f3",
          "dash": "solid"
         },
         "mode": "lines",
         "name": "falsospositivos",
         "showlegend": true,
         "type": "scatter",
         "x": [
          "2020-04-09T00:00:00",
          "2020-04-10T00:00:00"
         ],
         "xaxis": "x",
         "y": [
          1,
          1
         ],
         "yaxis": "y"
        },
        {
         "hovertemplate": "hashtag=fasecolda<br>date=%{x}<br>value=%{y}<extra></extra>",
         "legendgroup": "fasecolda",
         "line": {
          "color": "#FF6692",
          "dash": "solid"
         },
         "mode": "lines",
         "name": "fasecolda",
         "showlegend": true,
         "type": "scatter",
         "x": [
          "2020-04-09T00:00:00"
         ],
         "xaxis": "x",
         "y": [
          2
         ],
         "yaxis": "y"
        },
        {
         "hovertemplate": "hashtag=fblive<br>date=%{x}<br>value=%{y}<extra></extra>",
         "legendgroup": "fblive",
         "line": {
          "color": "#B6E880",
          "dash": "solid"
         },
         "mode": "lines",
         "name": "fblive",
         "showlegend": true,
         "type": "scatter",
         "x": [
          "2020-04-06T00:00:00",
          "2020-04-21T00:00:00",
          "2020-04-22T00:00:00"
         ],
         "xaxis": "x",
         "y": [
          2,
          1,
          1
         ],
         "yaxis": "y"
        },
        {
         "hovertemplate": "hashtag=felizsábado<br>date=%{x}<br>value=%{y}<extra></extra>",
         "legendgroup": "felizsábado",
         "line": {
          "color": "#FF97FF",
          "dash": "solid"
         },
         "mode": "lines",
         "name": "felizsábado",
         "showlegend": true,
         "type": "scatter",
         "x": [
          "2020-04-25T00:00:00"
         ],
         "xaxis": "x",
         "y": [
          1
         ],
         "yaxis": "y"
        },
        {
         "hovertemplate": "hashtag=fidesencasa<br>date=%{x}<br>value=%{y}<extra></extra>",
         "legendgroup": "fidesencasa",
         "line": {
          "color": "#FECB52",
          "dash": "solid"
         },
         "mode": "lines",
         "name": "fidesencasa",
         "showlegend": true,
         "type": "scatter",
         "x": [
          "2020-04-06T00:00:00",
          "2020-04-08T00:00:00"
         ],
         "xaxis": "x",
         "y": [
          1,
          1
         ],
         "yaxis": "y"
        },
        {
         "hovertemplate": "hashtag=fosiga<br>date=%{x}<br>value=%{y}<extra></extra>",
         "legendgroup": "fosiga",
         "line": {
          "color": "#636efa",
          "dash": "solid"
         },
         "mode": "lines",
         "name": "fosiga",
         "showlegend": true,
         "type": "scatter",
         "x": [
          "2020-04-09T00:00:00"
         ],
         "xaxis": "x",
         "y": [
          1
         ],
         "yaxis": "y"
        },
        {
         "hovertemplate": "hashtag=fotos<br>date=%{x}<br>value=%{y}<extra></extra>",
         "legendgroup": "fotos",
         "line": {
          "color": "#EF553B",
          "dash": "solid"
         },
         "mode": "lines",
         "name": "fotos",
         "showlegend": true,
         "type": "scatter",
         "x": [
          "2020-04-08T00:00:00"
         ],
         "xaxis": "x",
         "y": [
          1
         ],
         "yaxis": "y"
        },
        {
         "hovertemplate": "hashtag=fraudedeestado<br>date=%{x}<br>value=%{y}<extra></extra>",
         "legendgroup": "fraudedeestado",
         "line": {
          "color": "#00cc96",
          "dash": "solid"
         },
         "mode": "lines",
         "name": "fraudedeestado",
         "showlegend": true,
         "type": "scatter",
         "x": [
          "2020-04-09T00:00:00",
          "2020-04-10T00:00:00"
         ],
         "xaxis": "x",
         "y": [
          7,
          1
         ],
         "yaxis": "y"
        },
        {
         "hovertemplate": "hashtag=fraudeelectoral<br>date=%{x}<br>value=%{y}<extra></extra>",
         "legendgroup": "fraudeelectoral",
         "line": {
          "color": "#ab63fa",
          "dash": "solid"
         },
         "mode": "lines",
         "name": "fraudeelectoral",
         "showlegend": true,
         "type": "scatter",
         "x": [
          "2020-04-09T00:00:00"
         ],
         "xaxis": "x",
         "y": [
          4
         ],
         "yaxis": "y"
        },
        {
         "hovertemplate": "hashtag=fraudesolidario<br>date=%{x}<br>value=%{y}<extra></extra>",
         "legendgroup": "fraudesolidario",
         "line": {
          "color": "#FFA15A",
          "dash": "solid"
         },
         "mode": "lines",
         "name": "fraudesolidario",
         "showlegend": true,
         "type": "scatter",
         "x": [
          "2020-04-09T00:00:00"
         ],
         "xaxis": "x",
         "y": [
          7
         ],
         "yaxis": "y"
        },
        {
         "hovertemplate": "hashtag=fuerabolivar<br>date=%{x}<br>value=%{y}<extra></extra>",
         "legendgroup": "fuerabolivar",
         "line": {
          "color": "#19d3f3",
          "dash": "solid"
         },
         "mode": "lines",
         "name": "fuerabolivar",
         "showlegend": true,
         "type": "scatter",
         "x": [
          "2020-04-09T00:00:00"
         ],
         "xaxis": "x",
         "y": [
          1
         ],
         "yaxis": "y"
        },
        {
         "hovertemplate": "hashtag=fuersapetro<br>date=%{x}<br>value=%{y}<extra></extra>",
         "legendgroup": "fuersapetro",
         "line": {
          "color": "#FF6692",
          "dash": "solid"
         },
         "mode": "lines",
         "name": "fuersapetro",
         "showlegend": true,
         "type": "scatter",
         "x": [
          "2020-04-11T00:00:00"
         ],
         "xaxis": "x",
         "y": [
          1
         ],
         "yaxis": "y"
        },
        {
         "hovertemplate": "hashtag=fuerzagustavopetro<br>date=%{x}<br>value=%{y}<extra></extra>",
         "legendgroup": "fuerzagustavopetro",
         "line": {
          "color": "#B6E880",
          "dash": "solid"
         },
         "mode": "lines",
         "name": "fuerzagustavopetro",
         "showlegend": true,
         "type": "scatter",
         "x": [
          "2020-04-11T00:00:00"
         ],
         "xaxis": "x",
         "y": [
          4
         ],
         "yaxis": "y"
        },
        {
         "hovertemplate": "hashtag=fuerzapetro<br>date=%{x}<br>value=%{y}<extra></extra>",
         "legendgroup": "fuerzapetro",
         "line": {
          "color": "#FF97FF",
          "dash": "solid"
         },
         "mode": "lines",
         "name": "fuerzapetro",
         "showlegend": true,
         "type": "scatter",
         "x": [
          "2020-04-10T00:00:00",
          "2020-04-11T00:00:00"
         ],
         "xaxis": "x",
         "y": [
          13,
          29
         ],
         "yaxis": "y"
        },
        {
         "hovertemplate": "hashtag=fuerzapetrocolombiatenecesita<br>date=%{x}<br>value=%{y}<extra></extra>",
         "legendgroup": "fuerzapetrocolombiatenecesita",
         "line": {
          "color": "#FECB52",
          "dash": "solid"
         },
         "mode": "lines",
         "name": "fuerzapetrocolombiatenecesita",
         "showlegend": true,
         "type": "scatter",
         "x": [
          "2020-04-11T00:00:00"
         ],
         "xaxis": "x",
         "y": [
          1
         ],
         "yaxis": "y"
        },
        {
         "hovertemplate": "hashtag=fuerzapetroestamoscontigo<br>date=%{x}<br>value=%{y}<extra></extra>",
         "legendgroup": "fuerzapetroestamoscontigo",
         "line": {
          "color": "#636efa",
          "dash": "solid"
         },
         "mode": "lines",
         "name": "fuerzapetroestamoscontigo",
         "showlegend": true,
         "type": "scatter",
         "x": [
          "2020-04-11T00:00:00"
         ],
         "xaxis": "x",
         "y": [
          6
         ],
         "yaxis": "y"
        },
        {
         "hovertemplate": "hashtag=genocidas<br>date=%{x}<br>value=%{y}<extra></extra>",
         "legendgroup": "genocidas",
         "line": {
          "color": "#EF553B",
          "dash": "solid"
         },
         "mode": "lines",
         "name": "genocidas",
         "showlegend": true,
         "type": "scatter",
         "x": [
          "2020-04-09T00:00:00"
         ],
         "xaxis": "x",
         "y": [
          1
         ],
         "yaxis": "y"
        },
        {
         "hovertemplate": "hashtag=gobiernocorrupto<br>date=%{x}<br>value=%{y}<extra></extra>",
         "legendgroup": "gobiernocorrupto",
         "line": {
          "color": "#00cc96",
          "dash": "solid"
         },
         "mode": "lines",
         "name": "gobiernocorrupto",
         "showlegend": true,
         "type": "scatter",
         "x": [
          "2020-04-09T00:00:00",
          "2020-04-10T00:00:00"
         ],
         "xaxis": "x",
         "y": [
          1,
          13
         ],
         "yaxis": "y"
        },
        {
         "hovertemplate": "hashtag=gobiernodecolombia<br>date=%{x}<br>value=%{y}<extra></extra>",
         "legendgroup": "gobiernodecolombia",
         "line": {
          "color": "#ab63fa",
          "dash": "solid"
         },
         "mode": "lines",
         "name": "gobiernodecolombia",
         "showlegend": true,
         "type": "scatter",
         "x": [
          "2020-04-10T00:00:00"
         ],
         "xaxis": "x",
         "y": [
          1
         ],
         "yaxis": "y"
        },
        {
         "hovertemplate": "hashtag=gobiernonacional<br>date=%{x}<br>value=%{y}<extra></extra>",
         "legendgroup": "gobiernonacional",
         "line": {
          "color": "#FFA15A",
          "dash": "solid"
         },
         "mode": "lines",
         "name": "gobiernonacional",
         "showlegend": true,
         "type": "scatter",
         "x": [
          "2020-04-09T00:00:00"
         ],
         "xaxis": "x",
         "y": [
          1
         ],
         "yaxis": "y"
        },
        {
         "hovertemplate": "hashtag=graciasporprotegerme<br>date=%{x}<br>value=%{y}<extra></extra>",
         "legendgroup": "graciasporprotegerme",
         "line": {
          "color": "#19d3f3",
          "dash": "solid"
         },
         "mode": "lines",
         "name": "graciasporprotegerme",
         "showlegend": true,
         "type": "scatter",
         "x": [
          "2020-04-09T00:00:00"
         ],
         "xaxis": "x",
         "y": [
          1
         ],
         "yaxis": "y"
        },
        {
         "hovertemplate": "hashtag=graciaspresidente<br>date=%{x}<br>value=%{y}<extra></extra>",
         "legendgroup": "graciaspresidente",
         "line": {
          "color": "#FF6692",
          "dash": "solid"
         },
         "mode": "lines",
         "name": "graciaspresidente",
         "showlegend": true,
         "type": "scatter",
         "x": [
          "2020-04-08T00:00:00"
         ],
         "xaxis": "x",
         "y": [
          1
         ],
         "yaxis": "y"
        },
        {
         "hovertemplate": "hashtag=grandealpina<br>date=%{x}<br>value=%{y}<extra></extra>",
         "legendgroup": "grandealpina",
         "line": {
          "color": "#B6E880",
          "dash": "solid"
         },
         "mode": "lines",
         "name": "grandealpina",
         "showlegend": true,
         "type": "scatter",
         "x": [
          "2020-04-07T00:00:00"
         ],
         "xaxis": "x",
         "y": [
          6
         ],
         "yaxis": "y"
        },
        {
         "hovertemplate": "hashtag=grandeuribe<br>date=%{x}<br>value=%{y}<extra></extra>",
         "legendgroup": "grandeuribe",
         "line": {
          "color": "#FF97FF",
          "dash": "solid"
         },
         "mode": "lines",
         "name": "grandeuribe",
         "showlegend": true,
         "type": "scatter",
         "x": [
          "2020-04-10T00:00:00"
         ],
         "xaxis": "x",
         "y": [
          1
         ],
         "yaxis": "y"
        },
        {
         "hovertemplate": "hashtag=granestafa<br>date=%{x}<br>value=%{y}<extra></extra>",
         "legendgroup": "granestafa",
         "line": {
          "color": "#FECB52",
          "dash": "solid"
         },
         "mode": "lines",
         "name": "granestafa",
         "showlegend": true,
         "type": "scatter",
         "x": [
          "2020-04-09T00:00:00"
         ],
         "xaxis": "x",
         "y": [
          1
         ],
         "yaxis": "y"
        },
        {
         "hovertemplate": "hashtag=grupoempresarialbios<br>date=%{x}<br>value=%{y}<extra></extra>",
         "legendgroup": "grupoempresarialbios",
         "line": {
          "color": "#636efa",
          "dash": "solid"
         },
         "mode": "lines",
         "name": "grupoempresarialbios",
         "showlegend": true,
         "type": "scatter",
         "x": [
          "2020-04-23T00:00:00"
         ],
         "xaxis": "x",
         "y": [
          1
         ],
         "yaxis": "y"
        },
        {
         "hovertemplate": "hashtag=hashtag<br>date=%{x}<br>value=%{y}<extra></extra>",
         "legendgroup": "hashtag",
         "line": {
          "color": "#EF553B",
          "dash": "solid"
         },
         "mode": "lines",
         "name": "hashtag",
         "showlegend": true,
         "type": "scatter",
         "x": [
          "2020-04-09T00:00:00"
         ],
         "xaxis": "x",
         "y": [
          1
         ],
         "yaxis": "y"
        },
        {
         "hovertemplate": "hashtag=hdlgp<br>date=%{x}<br>value=%{y}<extra></extra>",
         "legendgroup": "hdlgp",
         "line": {
          "color": "#00cc96",
          "dash": "solid"
         },
         "mode": "lines",
         "name": "hdlgp",
         "showlegend": true,
         "type": "scatter",
         "x": [
          "2020-04-19T00:00:00"
         ],
         "xaxis": "x",
         "y": [
          1
         ],
         "yaxis": "y"
        },
        {
         "hovertemplate": "hashtag=heroessincapa<br>date=%{x}<br>value=%{y}<extra></extra>",
         "legendgroup": "heroessincapa",
         "line": {
          "color": "#ab63fa",
          "dash": "solid"
         },
         "mode": "lines",
         "name": "heroessincapa",
         "showlegend": true,
         "type": "scatter",
         "x": [
          "2020-04-10T00:00:00"
         ],
         "xaxis": "x",
         "y": [
          1
         ],
         "yaxis": "y"
        },
        {
         "hovertemplate": "hashtag=hilo<br>date=%{x}<br>value=%{y}<extra></extra>",
         "legendgroup": "hilo",
         "line": {
          "color": "#FFA15A",
          "dash": "solid"
         },
         "mode": "lines",
         "name": "hilo",
         "showlegend": true,
         "type": "scatter",
         "x": [
          "2020-04-24T00:00:00"
         ],
         "xaxis": "x",
         "y": [
          1
         ],
         "yaxis": "y"
        },
        {
         "hovertemplate": "hashtag=hábitat<br>date=%{x}<br>value=%{y}<extra></extra>",
         "legendgroup": "hábitat",
         "line": {
          "color": "#19d3f3",
          "dash": "solid"
         },
         "mode": "lines",
         "name": "hábitat",
         "showlegend": true,
         "type": "scatter",
         "x": [
          "2020-04-08T00:00:00"
         ],
         "xaxis": "x",
         "y": [
          1
         ],
         "yaxis": "y"
        },
        {
         "hovertemplate": "hashtag=impunidad<br>date=%{x}<br>value=%{y}<extra></extra>",
         "legendgroup": "impunidad",
         "line": {
          "color": "#FF6692",
          "dash": "solid"
         },
         "mode": "lines",
         "name": "impunidad",
         "showlegend": true,
         "type": "scatter",
         "x": [
          "2020-04-10T00:00:00"
         ],
         "xaxis": "x",
         "y": [
          1
         ],
         "yaxis": "y"
        },
        {
         "hovertemplate": "hashtag=incompetentes<br>date=%{x}<br>value=%{y}<extra></extra>",
         "legendgroup": "incompetentes",
         "line": {
          "color": "#B6E880",
          "dash": "solid"
         },
         "mode": "lines",
         "name": "incompetentes",
         "showlegend": true,
         "type": "scatter",
         "x": [
          "2020-04-23T00:00:00"
         ],
         "xaxis": "x",
         "y": [
          2
         ],
         "yaxis": "y"
        },
        {
         "hovertemplate": "hashtag=informaciónaldía<br>date=%{x}<br>value=%{y}<extra></extra>",
         "legendgroup": "informaciónaldía",
         "line": {
          "color": "#FF97FF",
          "dash": "solid"
         },
         "mode": "lines",
         "name": "informaciónaldía",
         "showlegend": true,
         "type": "scatter",
         "x": [
          "2020-04-10T00:00:00"
         ],
         "xaxis": "x",
         "y": [
          1
         ],
         "yaxis": "y"
        },
        {
         "hovertemplate": "hashtag=ingreso<br>date=%{x}<br>value=%{y}<extra></extra>",
         "legendgroup": "ingreso",
         "line": {
          "color": "#FECB52",
          "dash": "solid"
         },
         "mode": "lines",
         "name": "ingreso",
         "showlegend": true,
         "type": "scatter",
         "x": [
          "2020-04-08T00:00:00"
         ],
         "xaxis": "x",
         "y": [
          1
         ],
         "yaxis": "y"
        },
        {
         "hovertemplate": "hashtag=ingresosolidario<br>date=%{x}<br>value=%{y}<extra></extra>",
         "legendgroup": "ingresosolidario",
         "line": {
          "color": "#636efa",
          "dash": "solid"
         },
         "mode": "lines",
         "name": "ingresosolidario",
         "showlegend": true,
         "type": "scatter",
         "x": [
          "2020-04-08T00:00:00",
          "2020-04-09T00:00:00",
          "2020-04-10T00:00:00"
         ],
         "xaxis": "x",
         "y": [
          67,
          19,
          13
         ],
         "yaxis": "y"
        },
        {
         "hovertemplate": "hashtag=ingresosolidariocorrupto<br>date=%{x}<br>value=%{y}<extra></extra>",
         "legendgroup": "ingresosolidariocorrupto",
         "line": {
          "color": "#EF553B",
          "dash": "solid"
         },
         "mode": "lines",
         "name": "ingresosolidariocorrupto",
         "showlegend": true,
         "type": "scatter",
         "x": [
          "2020-04-09T00:00:00"
         ],
         "xaxis": "x",
         "y": [
          4
         ],
         "yaxis": "y"
        },
        {
         "hovertemplate": "hashtag=ingresosolidarioesfraude<br>date=%{x}<br>value=%{y}<extra></extra>",
         "legendgroup": "ingresosolidarioesfraude",
         "line": {
          "color": "#00cc96",
          "dash": "solid"
         },
         "mode": "lines",
         "name": "ingresosolidarioesfraude",
         "showlegend": true,
         "type": "scatter",
         "x": [
          "2020-04-09T00:00:00",
          "2020-04-10T00:00:00"
         ],
         "xaxis": "x",
         "y": [
          3,
          2
         ],
         "yaxis": "y"
        },
        {
         "hovertemplate": "hashtag=innspiramed<br>date=%{x}<br>value=%{y}<extra></extra>",
         "legendgroup": "innspiramed",
         "line": {
          "color": "#ab63fa",
          "dash": "solid"
         },
         "mode": "lines",
         "name": "innspiramed",
         "showlegend": true,
         "type": "scatter",
         "x": [
          "2020-04-23T00:00:00"
         ],
         "xaxis": "x",
         "y": [
          1
         ],
         "yaxis": "y"
        },
        {
         "hovertemplate": "hashtag=investigación<br>date=%{x}<br>value=%{y}<extra></extra>",
         "legendgroup": "investigación",
         "line": {
          "color": "#FFA15A",
          "dash": "solid"
         },
         "mode": "lines",
         "name": "investigación",
         "showlegend": true,
         "type": "scatter",
         "x": [
          "2020-04-25T00:00:00"
         ],
         "xaxis": "x",
         "y": [
          2
         ],
         "yaxis": "y"
        },
        {
         "hovertemplate": "hashtag=irresponsables<br>date=%{x}<br>value=%{y}<extra></extra>",
         "legendgroup": "irresponsables",
         "line": {
          "color": "#19d3f3",
          "dash": "solid"
         },
         "mode": "lines",
         "name": "irresponsables",
         "showlegend": true,
         "type": "scatter",
         "x": [
          "2020-04-09T00:00:00"
         ],
         "xaxis": "x",
         "y": [
          1
         ],
         "yaxis": "y"
        },
        {
         "hovertemplate": "hashtag=irresponsablesyalgomas<br>date=%{x}<br>value=%{y}<extra></extra>",
         "legendgroup": "irresponsablesyalgomas",
         "line": {
          "color": "#FF6692",
          "dash": "solid"
         },
         "mode": "lines",
         "name": "irresponsablesyalgomas",
         "showlegend": true,
         "type": "scatter",
         "x": [
          "2020-04-09T00:00:00"
         ],
         "xaxis": "x",
         "y": [
          1
         ],
         "yaxis": "y"
        },
        {
         "hovertemplate": "hashtag=ivanduque<br>date=%{x}<br>value=%{y}<extra></extra>",
         "legendgroup": "ivanduque",
         "line": {
          "color": "#B6E880",
          "dash": "solid"
         },
         "mode": "lines",
         "name": "ivanduque",
         "showlegend": true,
         "type": "scatter",
         "x": [
          "2020-04-09T00:00:00"
         ],
         "xaxis": "x",
         "y": [
          1
         ],
         "yaxis": "y"
        },
        {
         "hovertemplate": "hashtag=jorgeivanospina<br>date=%{x}<br>value=%{y}<extra></extra>",
         "legendgroup": "jorgeivanospina",
         "line": {
          "color": "#FF97FF",
          "dash": "solid"
         },
         "mode": "lines",
         "name": "jorgeivanospina",
         "showlegend": true,
         "type": "scatter",
         "x": [
          "2020-04-20T00:00:00"
         ],
         "xaxis": "x",
         "y": [
          1
         ],
         "yaxis": "y"
        },
        {
         "hovertemplate": "hashtag=juntossaldremosadelante<br>date=%{x}<br>value=%{y}<extra></extra>",
         "legendgroup": "juntossaldremosadelante",
         "line": {
          "color": "#FECB52",
          "dash": "solid"
         },
         "mode": "lines",
         "name": "juntossaldremosadelante",
         "showlegend": true,
         "type": "scatter",
         "x": [
          "2020-04-09T00:00:00"
         ],
         "xaxis": "x",
         "y": [
          1
         ],
         "yaxis": "y"
        },
        {
         "hovertemplate": "hashtag=justicia<br>date=%{x}<br>value=%{y}<extra></extra>",
         "legendgroup": "justicia",
         "line": {
          "color": "#636efa",
          "dash": "solid"
         },
         "mode": "lines",
         "name": "justicia",
         "showlegend": true,
         "type": "scatter",
         "x": [
          "2020-04-09T00:00:00"
         ],
         "xaxis": "x",
         "y": [
          1
         ],
         "yaxis": "y"
        },
        {
         "hovertemplate": "hashtag=kimjongundead<br>date=%{x}<br>value=%{y}<extra></extra>",
         "legendgroup": "kimjongundead",
         "line": {
          "color": "#EF553B",
          "dash": "solid"
         },
         "mode": "lines",
         "name": "kimjongundead",
         "showlegend": true,
         "type": "scatter",
         "x": [
          "2020-04-25T00:00:00"
         ],
         "xaxis": "x",
         "y": [
          1
         ],
         "yaxis": "y"
        },
        {
         "hovertemplate": "hashtag=laayudaquenecesitoes<br>date=%{x}<br>value=%{y}<extra></extra>",
         "legendgroup": "laayudaquenecesitoes",
         "line": {
          "color": "#00cc96",
          "dash": "solid"
         },
         "mode": "lines",
         "name": "laayudaquenecesitoes",
         "showlegend": true,
         "type": "scatter",
         "x": [
          "2020-04-16T00:00:00",
          "2020-04-17T00:00:00"
         ],
         "xaxis": "x",
         "y": [
          1,
          3
         ],
         "yaxis": "y"
        },
        {
         "hovertemplate": "hashtag=labolsadepetro<br>date=%{x}<br>value=%{y}<extra></extra>",
         "legendgroup": "labolsadepetro",
         "line": {
          "color": "#ab63fa",
          "dash": "solid"
         },
         "mode": "lines",
         "name": "labolsadepetro",
         "showlegend": true,
         "type": "scatter",
         "x": [
          "2020-04-10T00:00:00"
         ],
         "xaxis": "x",
         "y": [
          1
         ],
         "yaxis": "y"
        },
        {
         "hovertemplate": "hashtag=ladrones<br>date=%{x}<br>value=%{y}<extra></extra>",
         "legendgroup": "ladrones",
         "line": {
          "color": "#FFA15A",
          "dash": "solid"
         },
         "mode": "lines",
         "name": "ladrones",
         "showlegend": true,
         "type": "scatter",
         "x": [
          "2020-04-09T00:00:00"
         ],
         "xaxis": "x",
         "y": [
          1
         ],
         "yaxis": "y"
        },
        {
         "hovertemplate": "hashtag=laencerrona<br>date=%{x}<br>value=%{y}<extra></extra>",
         "legendgroup": "laencerrona",
         "line": {
          "color": "#19d3f3",
          "dash": "solid"
         },
         "mode": "lines",
         "name": "laencerrona",
         "showlegend": true,
         "type": "scatter",
         "x": [
          "2020-04-09T00:00:00",
          "2020-04-10T00:00:00"
         ],
         "xaxis": "x",
         "y": [
          3,
          1
         ],
         "yaxis": "y"
        },
        {
         "hovertemplate": "hashtag=lafilboencasa<br>date=%{x}<br>value=%{y}<extra></extra>",
         "legendgroup": "lafilboencasa",
         "line": {
          "color": "#FF6692",
          "dash": "solid"
         },
         "mode": "lines",
         "name": "lafilboencasa",
         "showlegend": true,
         "type": "scatter",
         "x": [
          "2020-04-09T00:00:00"
         ],
         "xaxis": "x",
         "y": [
          1
         ],
         "yaxis": "y"
        },
        {
         "hovertemplate": "hashtag=lafm<br>date=%{x}<br>value=%{y}<extra></extra>",
         "legendgroup": "lafm",
         "line": {
          "color": "#B6E880",
          "dash": "solid"
         },
         "mode": "lines",
         "name": "lafm",
         "showlegend": true,
         "type": "scatter",
         "x": [
          "2020-04-09T00:00:00"
         ],
         "xaxis": "x",
         "y": [
          2
         ],
         "yaxis": "y"
        },
        {
         "hovertemplate": "hashtag=lafmtocaatupuerta<br>date=%{x}<br>value=%{y}<extra></extra>",
         "legendgroup": "lafmtocaatupuerta",
         "line": {
          "color": "#FF97FF",
          "dash": "solid"
         },
         "mode": "lines",
         "name": "lafmtocaatupuerta",
         "showlegend": true,
         "type": "scatter",
         "x": [
          "2020-04-07T00:00:00",
          "2020-04-08T00:00:00"
         ],
         "xaxis": "x",
         "y": [
          2,
          1
         ],
         "yaxis": "y"
        },
        {
         "hovertemplate": "hashtag=laguajirahacepartedecolombia<br>date=%{x}<br>value=%{y}<extra></extra>",
         "legendgroup": "laguajirahacepartedecolombia",
         "line": {
          "color": "#FECB52",
          "dash": "solid"
         },
         "mode": "lines",
         "name": "laguajirahacepartedecolombia",
         "showlegend": true,
         "type": "scatter",
         "x": [
          "2020-04-09T00:00:00"
         ],
         "xaxis": "x",
         "y": [
          1
         ],
         "yaxis": "y"
        },
        {
         "hovertemplate": "hashtag=lanube<br>date=%{x}<br>value=%{y}<extra></extra>",
         "legendgroup": "lanube",
         "line": {
          "color": "#636efa",
          "dash": "solid"
         },
         "mode": "lines",
         "name": "lanube",
         "showlegend": true,
         "type": "scatter",
         "x": [
          "2020-04-08T00:00:00",
          "2020-04-09T00:00:00"
         ],
         "xaxis": "x",
         "y": [
          1,
          1
         ],
         "yaxis": "y"
        },
        {
         "hovertemplate": "hashtag=larednayibista<br>date=%{x}<br>value=%{y}<extra></extra>",
         "legendgroup": "larednayibista",
         "line": {
          "color": "#EF553B",
          "dash": "solid"
         },
         "mode": "lines",
         "name": "larednayibista",
         "showlegend": true,
         "type": "scatter",
         "x": [
          "2020-04-06T00:00:00"
         ],
         "xaxis": "x",
         "y": [
          1
         ],
         "yaxis": "y"
        },
        {
         "hovertemplate": "hashtag=lasaluddepetro<br>date=%{x}<br>value=%{y}<extra></extra>",
         "legendgroup": "lasaluddepetro",
         "line": {
          "color": "#00cc96",
          "dash": "solid"
         },
         "mode": "lines",
         "name": "lasaluddepetro",
         "showlegend": true,
         "type": "scatter",
         "x": [
          "2020-04-23T00:00:00"
         ],
         "xaxis": "x",
         "y": [
          3
         ],
         "yaxis": "y"
        },
        {
         "hovertemplate": "hashtag=laseñaldelamañana<br>date=%{x}<br>value=%{y}<extra></extra>",
         "legendgroup": "laseñaldelamañana",
         "line": {
          "color": "#ab63fa",
          "dash": "solid"
         },
         "mode": "lines",
         "name": "laseñaldelamañana",
         "showlegend": true,
         "type": "scatter",
         "x": [
          "2020-04-22T00:00:00"
         ],
         "xaxis": "x",
         "y": [
          1
         ],
         "yaxis": "y"
        },
        {
         "hovertemplate": "hashtag=lasvíctimasdecovid<br>date=%{x}<br>value=%{y}<extra></extra>",
         "legendgroup": "lasvíctimasdecovid",
         "line": {
          "color": "#FFA15A",
          "dash": "solid"
         },
         "mode": "lines",
         "name": "lasvíctimasdecovid",
         "showlegend": true,
         "type": "scatter",
         "x": [
          "2020-04-08T00:00:00"
         ],
         "xaxis": "x",
         "y": [
          17
         ],
         "yaxis": "y"
        },
        {
         "hovertemplate": "hashtag=latardeadablu<br>date=%{x}<br>value=%{y}<extra></extra>",
         "legendgroup": "latardeadablu",
         "line": {
          "color": "#19d3f3",
          "dash": "solid"
         },
         "mode": "lines",
         "name": "latardeadablu",
         "showlegend": true,
         "type": "scatter",
         "x": [
          "2020-04-25T00:00:00"
         ],
         "xaxis": "x",
         "y": [
          5
         ],
         "yaxis": "y"
        },
        {
         "hovertemplate": "hashtag=lauisquequeremos<br>date=%{x}<br>value=%{y}<extra></extra>",
         "legendgroup": "lauisquequeremos",
         "line": {
          "color": "#FF6692",
          "dash": "solid"
         },
         "mode": "lines",
         "name": "lauisquequeremos",
         "showlegend": true,
         "type": "scatter",
         "x": [
          "2020-04-10T00:00:00"
         ],
         "xaxis": "x",
         "y": [
          1
         ],
         "yaxis": "y"
        },
        {
         "hovertemplate": "hashtag=lavidaestaentusmanos<br>date=%{x}<br>value=%{y}<extra></extra>",
         "legendgroup": "lavidaestaentusmanos",
         "line": {
          "color": "#B6E880",
          "dash": "solid"
         },
         "mode": "lines",
         "name": "lavidaestaentusmanos",
         "showlegend": true,
         "type": "scatter",
         "x": [
          "2020-04-24T00:00:00"
         ],
         "xaxis": "x",
         "y": [
          1
         ],
         "yaxis": "y"
        },
        {
         "hovertemplate": "hashtag=lavidaestáentusmanos<br>date=%{x}<br>value=%{y}<extra></extra>",
         "legendgroup": "lavidaestáentusmanos",
         "line": {
          "color": "#FF97FF",
          "dash": "solid"
         },
         "mode": "lines",
         "name": "lavidaestáentusmanos",
         "showlegend": true,
         "type": "scatter",
         "x": [
          "2020-04-23T00:00:00"
         ],
         "xaxis": "x",
         "y": [
          2
         ],
         "yaxis": "y"
        },
        {
         "hovertemplate": "hashtag=lavidanoesunjuego<br>date=%{x}<br>value=%{y}<extra></extra>",
         "legendgroup": "lavidanoesunjuego",
         "line": {
          "color": "#FECB52",
          "dash": "solid"
         },
         "mode": "lines",
         "name": "lavidanoesunjuego",
         "showlegend": true,
         "type": "scatter",
         "x": [
          "2020-04-09T00:00:00"
         ],
         "xaxis": "x",
         "y": [
          8
         ],
         "yaxis": "y"
        },
        {
         "hovertemplate": "hashtag=lavidaprimero<br>date=%{x}<br>value=%{y}<extra></extra>",
         "legendgroup": "lavidaprimero",
         "line": {
          "color": "#636efa",
          "dash": "solid"
         },
         "mode": "lines",
         "name": "lavidaprimero",
         "showlegend": true,
         "type": "scatter",
         "x": [
          "2020-04-06T00:00:00"
         ],
         "xaxis": "x",
         "y": [
          1
         ],
         "yaxis": "y"
        },
        {
         "hovertemplate": "hashtag=ley1774de2016<br>date=%{x}<br>value=%{y}<extra></extra>",
         "legendgroup": "ley1774de2016",
         "line": {
          "color": "#EF553B",
          "dash": "solid"
         },
         "mode": "lines",
         "name": "ley1774de2016",
         "showlegend": true,
         "type": "scatter",
         "x": [
          "2020-04-09T00:00:00"
         ],
         "xaxis": "x",
         "y": [
          1
         ],
         "yaxis": "y"
        },
        {
         "hovertemplate": "hashtag=lloratonmamerta<br>date=%{x}<br>value=%{y}<extra></extra>",
         "legendgroup": "lloratonmamerta",
         "line": {
          "color": "#00cc96",
          "dash": "solid"
         },
         "mode": "lines",
         "name": "lloratonmamerta",
         "showlegend": true,
         "type": "scatter",
         "x": [
          "2020-04-25T00:00:00"
         ],
         "xaxis": "x",
         "y": [
          1
         ],
         "yaxis": "y"
        },
        {
         "hovertemplate": "hashtag=lo<br>date=%{x}<br>value=%{y}<extra></extra>",
         "legendgroup": "lo",
         "line": {
          "color": "#ab63fa",
          "dash": "solid"
         },
         "mode": "lines",
         "name": "lo",
         "showlegend": true,
         "type": "scatter",
         "x": [
          "2020-04-09T00:00:00"
         ],
         "xaxis": "x",
         "y": [
          1
         ],
         "yaxis": "y"
        },
        {
         "hovertemplate": "hashtag=losayudarasumadre<br>date=%{x}<br>value=%{y}<extra></extra>",
         "legendgroup": "losayudarasumadre",
         "line": {
          "color": "#FFA15A",
          "dash": "solid"
         },
         "mode": "lines",
         "name": "losayudarasumadre",
         "showlegend": true,
         "type": "scatter",
         "x": [
          "2020-04-09T00:00:00"
         ],
         "xaxis": "x",
         "y": [
          1
         ],
         "yaxis": "y"
        },
        {
         "hovertemplate": "hashtag=losdanieles<br>date=%{x}<br>value=%{y}<extra></extra>",
         "legendgroup": "losdanieles",
         "line": {
          "color": "#19d3f3",
          "dash": "solid"
         },
         "mode": "lines",
         "name": "losdanieles",
         "showlegend": true,
         "type": "scatter",
         "x": [
          "2020-04-25T00:00:00"
         ],
         "xaxis": "x",
         "y": [
          1
         ],
         "yaxis": "y"
        },
        {
         "hovertemplate": "hashtag=losnegociosdemacaco<br>date=%{x}<br>value=%{y}<extra></extra>",
         "legendgroup": "losnegociosdemacaco",
         "line": {
          "color": "#FF6692",
          "dash": "solid"
         },
         "mode": "lines",
         "name": "losnegociosdemacaco",
         "showlegend": true,
         "type": "scatter",
         "x": [
          "2020-04-09T00:00:00"
         ],
         "xaxis": "x",
         "y": [
          1
         ],
         "yaxis": "y"
        },
        {
         "hovertemplate": "hashtag=loúltimo<br>date=%{x}<br>value=%{y}<extra></extra>",
         "legendgroup": "loúltimo",
         "line": {
          "color": "#B6E880",
          "dash": "solid"
         },
         "mode": "lines",
         "name": "loúltimo",
         "showlegend": true,
         "type": "scatter",
         "x": [
          "2020-04-08T00:00:00"
         ],
         "xaxis": "x",
         "y": [
          2
         ],
         "yaxis": "y"
        },
        {
         "hovertemplate": "hashtag=lunes<br>date=%{x}<br>value=%{y}<extra></extra>",
         "legendgroup": "lunes",
         "line": {
          "color": "#FF97FF",
          "dash": "solid"
         },
         "mode": "lines",
         "name": "lunes",
         "showlegend": true,
         "type": "scatter",
         "x": [
          "2020-04-24T00:00:00"
         ],
         "xaxis": "x",
         "y": [
          1
         ],
         "yaxis": "y"
        },
        {
         "hovertemplate": "hashtag=manodurajiv<br>date=%{x}<br>value=%{y}<extra></extra>",
         "legendgroup": "manodurajiv",
         "line": {
          "color": "#FECB52",
          "dash": "solid"
         },
         "mode": "lines",
         "name": "manodurajiv",
         "showlegend": true,
         "type": "scatter",
         "x": [
          "2020-04-23T00:00:00"
         ],
         "xaxis": "x",
         "y": [
          1
         ],
         "yaxis": "y"
        },
        {
         "hovertemplate": "hashtag=masdelomismo<br>date=%{x}<br>value=%{y}<extra></extra>",
         "legendgroup": "masdelomismo",
         "line": {
          "color": "#636efa",
          "dash": "solid"
         },
         "mode": "lines",
         "name": "masdelomismo",
         "showlegend": true,
         "type": "scatter",
         "x": [
          "2020-04-09T00:00:00"
         ],
         "xaxis": "x",
         "y": [
          1
         ],
         "yaxis": "y"
        },
        {
         "hovertemplate": "hashtag=maspicarosno<br>date=%{x}<br>value=%{y}<extra></extra>",
         "legendgroup": "maspicarosno",
         "line": {
          "color": "#EF553B",
          "dash": "solid"
         },
         "mode": "lines",
         "name": "maspicarosno",
         "showlegend": true,
         "type": "scatter",
         "x": [
          "2020-04-09T00:00:00"
         ],
         "xaxis": "x",
         "y": [
          1
         ],
         "yaxis": "y"
        },
        {
         "hovertemplate": "hashtag=matematecas<br>date=%{x}<br>value=%{y}<extra></extra>",
         "legendgroup": "matematecas",
         "line": {
          "color": "#00cc96",
          "dash": "solid"
         },
         "mode": "lines",
         "name": "matematecas",
         "showlegend": true,
         "type": "scatter",
         "x": [
          "2020-04-17T00:00:00"
         ],
         "xaxis": "x",
         "y": [
          1
         ],
         "yaxis": "y"
        },
        {
         "hovertemplate": "hashtag=mañanasblu<br>date=%{x}<br>value=%{y}<extra></extra>",
         "legendgroup": "mañanasblu",
         "line": {
          "color": "#ab63fa",
          "dash": "solid"
         },
         "mode": "lines",
         "name": "mañanasblu",
         "showlegend": true,
         "type": "scatter",
         "x": [
          "2020-04-03T00:00:00",
          "2020-04-08T00:00:00",
          "2020-04-09T00:00:00",
          "2020-04-10T00:00:00"
         ],
         "xaxis": "x",
         "y": [
          1,
          50,
          16,
          1
         ],
         "yaxis": "y"
        },
        {
         "hovertemplate": "hashtag=medellin<br>date=%{x}<br>value=%{y}<extra></extra>",
         "legendgroup": "medellin",
         "line": {
          "color": "#FFA15A",
          "dash": "solid"
         },
         "mode": "lines",
         "name": "medellin",
         "showlegend": true,
         "type": "scatter",
         "x": [
          "2020-04-19T00:00:00"
         ],
         "xaxis": "x",
         "y": [
          1
         ],
         "yaxis": "y"
        },
        {
         "hovertemplate": "hashtag=medellinmecuida<br>date=%{x}<br>value=%{y}<extra></extra>",
         "legendgroup": "medellinmecuida",
         "line": {
          "color": "#19d3f3",
          "dash": "solid"
         },
         "mode": "lines",
         "name": "medellinmecuida",
         "showlegend": true,
         "type": "scatter",
         "x": [
          "2020-04-24T00:00:00"
         ],
         "xaxis": "x",
         "y": [
          1
         ],
         "yaxis": "y"
        },
        {
         "hovertemplate": "hashtag=medellinmecuidaempresa<br>date=%{x}<br>value=%{y}<extra></extra>",
         "legendgroup": "medellinmecuidaempresa",
         "line": {
          "color": "#FF6692",
          "dash": "solid"
         },
         "mode": "lines",
         "name": "medellinmecuidaempresa",
         "showlegend": true,
         "type": "scatter",
         "x": [
          "2020-04-24T00:00:00"
         ],
         "xaxis": "x",
         "y": [
          1
         ],
         "yaxis": "y"
        },
        {
         "hovertemplate": "hashtag=medellinnofuturo<br>date=%{x}<br>value=%{y}<extra></extra>",
         "legendgroup": "medellinnofuturo",
         "line": {
          "color": "#B6E880",
          "dash": "solid"
         },
         "mode": "lines",
         "name": "medellinnofuturo",
         "showlegend": true,
         "type": "scatter",
         "x": [
          "2020-04-09T00:00:00"
         ],
         "xaxis": "x",
         "y": [
          1
         ],
         "yaxis": "y"
        },
        {
         "hovertemplate": "hashtag=medellinsinhambre<br>date=%{x}<br>value=%{y}<extra></extra>",
         "legendgroup": "medellinsinhambre",
         "line": {
          "color": "#FF97FF",
          "dash": "solid"
         },
         "mode": "lines",
         "name": "medellinsinhambre",
         "showlegend": true,
         "type": "scatter",
         "x": [
          "2020-04-15T00:00:00"
         ],
         "xaxis": "x",
         "y": [
          1
         ],
         "yaxis": "y"
        },
        {
         "hovertemplate": "hashtag=medellín<br>date=%{x}<br>value=%{y}<extra></extra>",
         "legendgroup": "medellín",
         "line": {
          "color": "#FECB52",
          "dash": "solid"
         },
         "mode": "lines",
         "name": "medellín",
         "showlegend": true,
         "type": "scatter",
         "x": [
          "2020-04-15T00:00:00"
         ],
         "xaxis": "x",
         "y": [
          1
         ],
         "yaxis": "y"
        },
        {
         "hovertemplate": "hashtag=medellíninsegura<br>date=%{x}<br>value=%{y}<extra></extra>",
         "legendgroup": "medellíninsegura",
         "line": {
          "color": "#636efa",
          "dash": "solid"
         },
         "mode": "lines",
         "name": "medellíninsegura",
         "showlegend": true,
         "type": "scatter",
         "x": [
          "2020-04-25T00:00:00"
         ],
         "xaxis": "x",
         "y": [
          1
         ],
         "yaxis": "y"
        },
        {
         "hovertemplate": "hashtag=medellínmecuida<br>date=%{x}<br>value=%{y}<extra></extra>",
         "legendgroup": "medellínmecuida",
         "line": {
          "color": "#EF553B",
          "dash": "solid"
         },
         "mode": "lines",
         "name": "medellínmecuida",
         "showlegend": true,
         "type": "scatter",
         "x": [
          "2020-04-16T00:00:00",
          "2020-04-17T00:00:00",
          "2020-04-21T00:00:00",
          "2020-04-24T00:00:00"
         ],
         "xaxis": "x",
         "y": [
          5,
          1,
          1,
          3
         ],
         "yaxis": "y"
        },
        {
         "hovertemplate": "hashtag=medellínyantioquiasolidaria<br>date=%{x}<br>value=%{y}<extra></extra>",
         "legendgroup": "medellínyantioquiasolidaria",
         "line": {
          "color": "#00cc96",
          "dash": "solid"
         },
         "mode": "lines",
         "name": "medellínyantioquiasolidaria",
         "showlegend": true,
         "type": "scatter",
         "x": [
          "2020-04-09T00:00:00"
         ],
         "xaxis": "x",
         "y": [
          1
         ],
         "yaxis": "y"
        },
        {
         "hovertemplate": "hashtag=medicosenpeligro<br>date=%{x}<br>value=%{y}<extra></extra>",
         "legendgroup": "medicosenpeligro",
         "line": {
          "color": "#ab63fa",
          "dash": "solid"
         },
         "mode": "lines",
         "name": "medicosenpeligro",
         "showlegend": true,
         "type": "scatter",
         "x": [
          "2020-04-14T00:00:00"
         ],
         "xaxis": "x",
         "y": [
          1
         ],
         "yaxis": "y"
        },
        {
         "hovertemplate": "hashtag=megaobras<br>date=%{x}<br>value=%{y}<extra></extra>",
         "legendgroup": "megaobras",
         "line": {
          "color": "#FFA15A",
          "dash": "solid"
         },
         "mode": "lines",
         "name": "megaobras",
         "showlegend": true,
         "type": "scatter",
         "x": [
          "2020-04-07T00:00:00"
         ],
         "xaxis": "x",
         "y": [
          1
         ],
         "yaxis": "y"
        },
        {
         "hovertemplate": "hashtag=memofantasma<br>date=%{x}<br>value=%{y}<extra></extra>",
         "legendgroup": "memofantasma",
         "line": {
          "color": "#19d3f3",
          "dash": "solid"
         },
         "mode": "lines",
         "name": "memofantasma",
         "showlegend": true,
         "type": "scatter",
         "x": [
          "2020-04-10T00:00:00"
         ],
         "xaxis": "x",
         "y": [
          1
         ],
         "yaxis": "y"
        },
        {
         "hovertemplate": "hashtag=menos<br>date=%{x}<br>value=%{y}<extra></extra>",
         "legendgroup": "menos",
         "line": {
          "color": "#FF6692",
          "dash": "solid"
         },
         "mode": "lines",
         "name": "menos",
         "showlegend": true,
         "type": "scatter",
         "x": [
          "2020-04-10T00:00:00"
         ],
         "xaxis": "x",
         "y": [
          1
         ],
         "yaxis": "y"
        },
        {
         "hovertemplate": "hashtag=mepasoablu4p0<br>date=%{x}<br>value=%{y}<extra></extra>",
         "legendgroup": "mepasoablu4p0",
         "line": {
          "color": "#B6E880",
          "dash": "solid"
         },
         "mode": "lines",
         "name": "mepasoablu4p0",
         "showlegend": true,
         "type": "scatter",
         "x": [
          "2020-04-08T00:00:00",
          "2020-04-09T00:00:00"
         ],
         "xaxis": "x",
         "y": [
          2,
          11
         ],
         "yaxis": "y"
        },
        {
         "hovertemplate": "hashtag=mequedoencasa<br>date=%{x}<br>value=%{y}<extra></extra>",
         "legendgroup": "mequedoencasa",
         "line": {
          "color": "#FF97FF",
          "dash": "solid"
         },
         "mode": "lines",
         "name": "mequedoencasa",
         "showlegend": true,
         "type": "scatter",
         "x": [
          "2020-04-24T00:00:00"
         ],
         "xaxis": "x",
         "y": [
          1
         ],
         "yaxis": "y"
        },
        {
         "hovertemplate": "hashtag=meridianoblu<br>date=%{x}<br>value=%{y}<extra></extra>",
         "legendgroup": "meridianoblu",
         "line": {
          "color": "#FECB52",
          "dash": "solid"
         },
         "mode": "lines",
         "name": "meridianoblu",
         "showlegend": true,
         "type": "scatter",
         "x": [
          "2020-04-08T00:00:00",
          "2020-04-09T00:00:00"
         ],
         "xaxis": "x",
         "y": [
          2,
          1
         ],
         "yaxis": "y"
        },
        {
         "hovertemplate": "hashtag=mesablu<br>date=%{x}<br>value=%{y}<extra></extra>",
         "legendgroup": "mesablu",
         "line": {
          "color": "#636efa",
          "dash": "solid"
         },
         "mode": "lines",
         "name": "mesablu",
         "showlegend": true,
         "type": "scatter",
         "x": [
          "2020-04-08T00:00:00"
         ],
         "xaxis": "x",
         "y": [
          1
         ],
         "yaxis": "y"
        },
        {
         "hovertemplate": "hashtag=metrallo<br>date=%{x}<br>value=%{y}<extra></extra>",
         "legendgroup": "metrallo",
         "line": {
          "color": "#EF553B",
          "dash": "solid"
         },
         "mode": "lines",
         "name": "metrallo",
         "showlegend": true,
         "type": "scatter",
         "x": [
          "2020-04-15T00:00:00"
         ],
         "xaxis": "x",
         "y": [
          1
         ],
         "yaxis": "y"
        },
        {
         "hovertemplate": "hashtag=metrocali<br>date=%{x}<br>value=%{y}<extra></extra>",
         "legendgroup": "metrocali",
         "line": {
          "color": "#00cc96",
          "dash": "solid"
         },
         "mode": "lines",
         "name": "metrocali",
         "showlegend": true,
         "type": "scatter",
         "x": [
          "2020-04-23T00:00:00"
         ],
         "xaxis": "x",
         "y": [
          1
         ],
         "yaxis": "y"
        },
        {
         "hovertemplate": "hashtag=mevaleverga<br>date=%{x}<br>value=%{y}<extra></extra>",
         "legendgroup": "mevaleverga",
         "line": {
          "color": "#ab63fa",
          "dash": "solid"
         },
         "mode": "lines",
         "name": "mevaleverga",
         "showlegend": true,
         "type": "scatter",
         "x": [
          "2020-04-10T00:00:00"
         ],
         "xaxis": "x",
         "y": [
          1
         ],
         "yaxis": "y"
        },
        {
         "hovertemplate": "hashtag=micalvarioes<br>date=%{x}<br>value=%{y}<extra></extra>",
         "legendgroup": "micalvarioes",
         "line": {
          "color": "#FFA15A",
          "dash": "solid"
         },
         "mode": "lines",
         "name": "micalvarioes",
         "showlegend": true,
         "type": "scatter",
         "x": [
          "2020-04-10T00:00:00"
         ],
         "xaxis": "x",
         "y": [
          1
         ],
         "yaxis": "y"
        },
        {
         "hovertemplate": "hashtag=miorgulloesbolivar<br>date=%{x}<br>value=%{y}<extra></extra>",
         "legendgroup": "miorgulloesbolivar",
         "line": {
          "color": "#19d3f3",
          "dash": "solid"
         },
         "mode": "lines",
         "name": "miorgulloesbolivar",
         "showlegend": true,
         "type": "scatter",
         "x": [
          "2020-04-10T00:00:00"
         ],
         "xaxis": "x",
         "y": [
          1
         ],
         "yaxis": "y"
        },
        {
         "hovertemplate": "hashtag=miorgulloesduque<br>date=%{x}<br>value=%{y}<extra></extra>",
         "legendgroup": "miorgulloesduque",
         "line": {
          "color": "#FF6692",
          "dash": "solid"
         },
         "mode": "lines",
         "name": "miorgulloesduque",
         "showlegend": true,
         "type": "scatter",
         "x": [
          "2020-04-10T00:00:00"
         ],
         "xaxis": "x",
         "y": [
          1
         ],
         "yaxis": "y"
        },
        {
         "hovertemplate": "hashtag=miorgulloesuribe<br>date=%{x}<br>value=%{y}<extra></extra>",
         "legendgroup": "miorgulloesuribe",
         "line": {
          "color": "#B6E880",
          "dash": "solid"
         },
         "mode": "lines",
         "name": "miorgulloesuribe",
         "showlegend": true,
         "type": "scatter",
         "x": [
          "2020-04-10T00:00:00"
         ],
         "xaxis": "x",
         "y": [
          1
         ],
         "yaxis": "y"
        },
        {
         "hovertemplate": "hashtag=miterapia<br>date=%{x}<br>value=%{y}<extra></extra>",
         "legendgroup": "miterapia",
         "line": {
          "color": "#FF97FF",
          "dash": "solid"
         },
         "mode": "lines",
         "name": "miterapia",
         "showlegend": true,
         "type": "scatter",
         "x": [
          "2020-04-08T00:00:00"
         ],
         "xaxis": "x",
         "y": [
          2
         ],
         "yaxis": "y"
        },
        {
         "hovertemplate": "hashtag=mitosdelcoronavirus<br>date=%{x}<br>value=%{y}<extra></extra>",
         "legendgroup": "mitosdelcoronavirus",
         "line": {
          "color": "#FECB52",
          "dash": "solid"
         },
         "mode": "lines",
         "name": "mitosdelcoronavirus",
         "showlegend": true,
         "type": "scatter",
         "x": [
          "2020-04-01T00:00:00",
          "2020-04-04T00:00:00"
         ],
         "xaxis": "x",
         "y": [
          1,
          1
         ],
         "yaxis": "y"
        },
        {
         "hovertemplate": "hashtag=monteria<br>date=%{x}<br>value=%{y}<extra></extra>",
         "legendgroup": "monteria",
         "line": {
          "color": "#636efa",
          "dash": "solid"
         },
         "mode": "lines",
         "name": "monteria",
         "showlegend": true,
         "type": "scatter",
         "x": [
          "2020-04-10T00:00:00"
         ],
         "xaxis": "x",
         "y": [
          1
         ],
         "yaxis": "y"
        },
        {
         "hovertemplate": "hashtag=movil<br>date=%{x}<br>value=%{y}<extra></extra>",
         "legendgroup": "movil",
         "line": {
          "color": "#EF553B",
          "dash": "solid"
         },
         "mode": "lines",
         "name": "movil",
         "showlegend": true,
         "type": "scatter",
         "x": [
          "2020-04-09T00:00:00"
         ],
         "xaxis": "x",
         "y": [
          2
         ],
         "yaxis": "y"
        },
        {
         "hovertemplate": "hashtag=mundo<br>date=%{x}<br>value=%{y}<extra></extra>",
         "legendgroup": "mundo",
         "line": {
          "color": "#00cc96",
          "dash": "solid"
         },
         "mode": "lines",
         "name": "mundo",
         "showlegend": true,
         "type": "scatter",
         "x": [
          "2020-04-07T00:00:00"
         ],
         "xaxis": "x",
         "y": [
          1
         ],
         "yaxis": "y"
        },
        {
         "hovertemplate": "hashtag=narcoacuerdopazcolombia<br>date=%{x}<br>value=%{y}<extra></extra>",
         "legendgroup": "narcoacuerdopazcolombia",
         "line": {
          "color": "#ab63fa",
          "dash": "solid"
         },
         "mode": "lines",
         "name": "narcoacuerdopazcolombia",
         "showlegend": true,
         "type": "scatter",
         "x": [
          "2020-04-25T00:00:00"
         ],
         "xaxis": "x",
         "y": [
          1
         ],
         "yaxis": "y"
        },
        {
         "hovertemplate": "hashtag=narcodesgobierno<br>date=%{x}<br>value=%{y}<extra></extra>",
         "legendgroup": "narcodesgobierno",
         "line": {
          "color": "#FFA15A",
          "dash": "solid"
         },
         "mode": "lines",
         "name": "narcodesgobierno",
         "showlegend": true,
         "type": "scatter",
         "x": [
          "2020-04-09T00:00:00"
         ],
         "xaxis": "x",
         "y": [
          1
         ],
         "yaxis": "y"
        },
        {
         "hovertemplate": "hashtag=necesitamosayuda<br>date=%{x}<br>value=%{y}<extra></extra>",
         "legendgroup": "necesitamosayuda",
         "line": {
          "color": "#19d3f3",
          "dash": "solid"
         },
         "mode": "lines",
         "name": "necesitamosayuda",
         "showlegend": true,
         "type": "scatter",
         "x": [
          "2020-04-07T00:00:00"
         ],
         "xaxis": "x",
         "y": [
          1
         ],
         "yaxis": "y"
        },
        {
         "hovertemplate": "hashtag=newyork<br>date=%{x}<br>value=%{y}<extra></extra>",
         "legendgroup": "newyork",
         "line": {
          "color": "#FF6692",
          "dash": "solid"
         },
         "mode": "lines",
         "name": "newyork",
         "showlegend": true,
         "type": "scatter",
         "x": [
          "2020-04-25T00:00:00"
         ],
         "xaxis": "x",
         "y": [
          2
         ],
         "yaxis": "y"
        },
        {
         "hovertemplate": "hashtag=ningaloocanyons<br>date=%{x}<br>value=%{y}<extra></extra>",
         "legendgroup": "ningaloocanyons",
         "line": {
          "color": "#B6E880",
          "dash": "solid"
         },
         "mode": "lines",
         "name": "ningaloocanyons",
         "showlegend": true,
         "type": "scatter",
         "x": [
          "2020-04-15T00:00:00"
         ],
         "xaxis": "x",
         "y": [
          1
         ],
         "yaxis": "y"
        },
        {
         "hovertemplate": "hashtag=noalacorruccion<br>date=%{x}<br>value=%{y}<extra></extra>",
         "legendgroup": "noalacorruccion",
         "line": {
          "color": "#FF97FF",
          "dash": "solid"
         },
         "mode": "lines",
         "name": "noalacorruccion",
         "showlegend": true,
         "type": "scatter",
         "x": [
          "2020-04-09T00:00:00"
         ],
         "xaxis": "x",
         "y": [
          1
         ],
         "yaxis": "y"
        },
        {
         "hovertemplate": "hashtag=noalaspracticasvirtuales<br>date=%{x}<br>value=%{y}<extra></extra>",
         "legendgroup": "noalaspracticasvirtuales",
         "line": {
          "color": "#FECB52",
          "dash": "solid"
         },
         "mode": "lines",
         "name": "noalaspracticasvirtuales",
         "showlegend": true,
         "type": "scatter",
         "x": [
          "2020-04-07T00:00:00"
         ],
         "xaxis": "x",
         "y": [
          1
         ],
         "yaxis": "y"
        },
        {
         "hovertemplate": "hashtag=nohayalcalde<br>date=%{x}<br>value=%{y}<extra></extra>",
         "legendgroup": "nohayalcalde",
         "line": {
          "color": "#636efa",
          "dash": "solid"
         },
         "mode": "lines",
         "name": "nohayalcalde",
         "showlegend": true,
         "type": "scatter",
         "x": [
          "2020-04-23T00:00:00"
         ],
         "xaxis": "x",
         "y": [
          4
         ],
         "yaxis": "y"
        },
        {
         "hovertemplate": "hashtag=nohaycuarentenaconhambre<br>date=%{x}<br>value=%{y}<extra></extra>",
         "legendgroup": "nohaycuarentenaconhambre",
         "line": {
          "color": "#EF553B",
          "dash": "solid"
         },
         "mode": "lines",
         "name": "nohaycuarentenaconhambre",
         "showlegend": true,
         "type": "scatter",
         "x": [
          "2020-04-08T00:00:00"
         ],
         "xaxis": "x",
         "y": [
          1
         ],
         "yaxis": "y"
        },
        {
         "hovertemplate": "hashtag=nomascirco<br>date=%{x}<br>value=%{y}<extra></extra>",
         "legendgroup": "nomascirco",
         "line": {
          "color": "#00cc96",
          "dash": "solid"
         },
         "mode": "lines",
         "name": "nomascirco",
         "showlegend": true,
         "type": "scatter",
         "x": [
          "2020-04-09T00:00:00"
         ],
         "xaxis": "x",
         "y": [
          1
         ],
         "yaxis": "y"
        },
        {
         "hovertemplate": "hashtag=nomascorrupccion<br>date=%{x}<br>value=%{y}<extra></extra>",
         "legendgroup": "nomascorrupccion",
         "line": {
          "color": "#ab63fa",
          "dash": "solid"
         },
         "mode": "lines",
         "name": "nomascorrupccion",
         "showlegend": true,
         "type": "scatter",
         "x": [
          "2020-04-09T00:00:00"
         ],
         "xaxis": "x",
         "y": [
          1
         ],
         "yaxis": "y"
        },
        {
         "hovertemplate": "hashtag=nomascorrupcionprotegida<br>date=%{x}<br>value=%{y}<extra></extra>",
         "legendgroup": "nomascorrupcionprotegida",
         "line": {
          "color": "#FFA15A",
          "dash": "solid"
         },
         "mode": "lines",
         "name": "nomascorrupcionprotegida",
         "showlegend": true,
         "type": "scatter",
         "x": [
          "2020-04-16T00:00:00"
         ],
         "xaxis": "x",
         "y": [
          1
         ],
         "yaxis": "y"
        },
        {
         "hovertemplate": "hashtag=nomasley100<br>date=%{x}<br>value=%{y}<extra></extra>",
         "legendgroup": "nomasley100",
         "line": {
          "color": "#19d3f3",
          "dash": "solid"
         },
         "mode": "lines",
         "name": "nomasley100",
         "showlegend": true,
         "type": "scatter",
         "x": [
          "2020-04-12T00:00:00"
         ],
         "xaxis": "x",
         "y": [
          1
         ],
         "yaxis": "y"
        },
        {
         "hovertemplate": "hashtag=nomasley100genocida<br>date=%{x}<br>value=%{y}<extra></extra>",
         "legendgroup": "nomasley100genocida",
         "line": {
          "color": "#FF6692",
          "dash": "solid"
         },
         "mode": "lines",
         "name": "nomasley100genocida",
         "showlegend": true,
         "type": "scatter",
         "x": [
          "2020-04-16T00:00:00"
         ],
         "xaxis": "x",
         "y": [
          2
         ],
         "yaxis": "y"
        },
        {
         "hovertemplate": "hashtag=nomasmontonerasen<br>date=%{x}<br>value=%{y}<extra></extra>",
         "legendgroup": "nomasmontonerasen",
         "line": {
          "color": "#B6E880",
          "dash": "solid"
         },
         "mode": "lines",
         "name": "nomasmontonerasen",
         "showlegend": true,
         "type": "scatter",
         "x": [
          "2020-04-23T00:00:00"
         ],
         "xaxis": "x",
         "y": [
          1
         ],
         "yaxis": "y"
        },
        {
         "hovertemplate": "hashtag=nomaspetro<br>date=%{x}<br>value=%{y}<extra></extra>",
         "legendgroup": "nomaspetro",
         "line": {
          "color": "#FF97FF",
          "dash": "solid"
         },
         "mode": "lines",
         "name": "nomaspetro",
         "showlegend": true,
         "type": "scatter",
         "x": [
          "2020-04-11T00:00:00"
         ],
         "xaxis": "x",
         "y": [
          1
         ],
         "yaxis": "y"
        },
        {
         "hovertemplate": "hashtag=nomejodaspetro<br>date=%{x}<br>value=%{y}<extra></extra>",
         "legendgroup": "nomejodaspetro",
         "line": {
          "color": "#FECB52",
          "dash": "solid"
         },
         "mode": "lines",
         "name": "nomejodaspetro",
         "showlegend": true,
         "type": "scatter",
         "x": [
          "2020-04-11T00:00:00"
         ],
         "xaxis": "x",
         "y": [
          1
         ],
         "yaxis": "y"
        },
        {
         "hovertemplate": "hashtag=nomásvenezolanosencolombia<br>date=%{x}<br>value=%{y}<extra></extra>",
         "legendgroup": "nomásvenezolanosencolombia",
         "line": {
          "color": "#636efa",
          "dash": "solid"
         },
         "mode": "lines",
         "name": "nomásvenezolanosencolombia",
         "showlegend": true,
         "type": "scatter",
         "x": [
          "2020-04-07T00:00:00"
         ],
         "xaxis": "x",
         "y": [
          1
         ],
         "yaxis": "y"
        },
        {
         "hovertemplate": "hashtag=noolvideloscampesinos<br>date=%{x}<br>value=%{y}<extra></extra>",
         "legendgroup": "noolvideloscampesinos",
         "line": {
          "color": "#EF553B",
          "dash": "solid"
         },
         "mode": "lines",
         "name": "noolvideloscampesinos",
         "showlegend": true,
         "type": "scatter",
         "x": [
          "2020-04-24T00:00:00"
         ],
         "xaxis": "x",
         "y": [
          1
         ],
         "yaxis": "y"
        },
        {
         "hovertemplate": "hashtag=noporeconomia<br>date=%{x}<br>value=%{y}<extra></extra>",
         "legendgroup": "noporeconomia",
         "line": {
          "color": "#00cc96",
          "dash": "solid"
         },
         "mode": "lines",
         "name": "noporeconomia",
         "showlegend": true,
         "type": "scatter",
         "x": [
          "2020-04-06T00:00:00"
         ],
         "xaxis": "x",
         "y": [
          1
         ],
         "yaxis": "y"
        },
        {
         "hovertemplate": "hashtag=noseantanhptas<br>date=%{x}<br>value=%{y}<extra></extra>",
         "legendgroup": "noseantanhptas",
         "line": {
          "color": "#ab63fa",
          "dash": "solid"
         },
         "mode": "lines",
         "name": "noseantanhptas",
         "showlegend": true,
         "type": "scatter",
         "x": [
          "2020-04-09T00:00:00"
         ],
         "xaxis": "x",
         "y": [
          1
         ],
         "yaxis": "y"
        },
        {
         "hovertemplate": "hashtag=noselespuedecreer<br>date=%{x}<br>value=%{y}<extra></extra>",
         "legendgroup": "noselespuedecreer",
         "line": {
          "color": "#FFA15A",
          "dash": "solid"
         },
         "mode": "lines",
         "name": "noselespuedecreer",
         "showlegend": true,
         "type": "scatter",
         "x": [
          "2020-04-25T00:00:00"
         ],
         "xaxis": "x",
         "y": [
          1
         ],
         "yaxis": "y"
        },
        {
         "hovertemplate": "hashtag=nosestanmatando<br>date=%{x}<br>value=%{y}<extra></extra>",
         "legendgroup": "nosestanmatando",
         "line": {
          "color": "#19d3f3",
          "dash": "solid"
         },
         "mode": "lines",
         "name": "nosestanmatando",
         "showlegend": true,
         "type": "scatter",
         "x": [
          "2020-04-09T00:00:00"
         ],
         "xaxis": "x",
         "y": [
          3
         ],
         "yaxis": "y"
        },
        {
         "hovertemplate": "hashtag=noticia<br>date=%{x}<br>value=%{y}<extra></extra>",
         "legendgroup": "noticia",
         "line": {
          "color": "#FF6692",
          "dash": "solid"
         },
         "mode": "lines",
         "name": "noticia",
         "showlegend": true,
         "type": "scatter",
         "x": [
          "2020-04-02T00:00:00",
          "2020-04-03T00:00:00",
          "2020-04-06T00:00:00",
          "2020-04-07T00:00:00",
          "2020-04-09T00:00:00",
          "2020-04-14T00:00:00",
          "2020-04-18T00:00:00",
          "2020-04-21T00:00:00",
          "2020-04-23T00:00:00",
          "2020-04-25T00:00:00"
         ],
         "xaxis": "x",
         "y": [
          1,
          1,
          1,
          1,
          1,
          1,
          1,
          2,
          1,
          1
         ],
         "yaxis": "y"
        },
        {
         "hovertemplate": "hashtag=noticiascaracol<br>date=%{x}<br>value=%{y}<extra></extra>",
         "legendgroup": "noticiascaracol",
         "line": {
          "color": "#B6E880",
          "dash": "solid"
         },
         "mode": "lines",
         "name": "noticiascaracol",
         "showlegend": true,
         "type": "scatter",
         "x": [
          "2020-04-07T00:00:00"
         ],
         "xaxis": "x",
         "y": [
          2
         ],
         "yaxis": "y"
        },
        {
         "hovertemplate": "hashtag=noticiascaracolahora<br>date=%{x}<br>value=%{y}<extra></extra>",
         "legendgroup": "noticiascaracolahora",
         "line": {
          "color": "#FF97FF",
          "dash": "solid"
         },
         "mode": "lines",
         "name": "noticiascaracolahora",
         "showlegend": true,
         "type": "scatter",
         "x": [
          "2020-04-07T00:00:00",
          "2020-04-08T00:00:00"
         ],
         "xaxis": "x",
         "y": [
          2,
          1
         ],
         "yaxis": "y"
        },
        {
         "hovertemplate": "hashtag=noticiasdelamañana<br>date=%{x}<br>value=%{y}<extra></extra>",
         "legendgroup": "noticiasdelamañana",
         "line": {
          "color": "#FECB52",
          "dash": "solid"
         },
         "mode": "lines",
         "name": "noticiasdelamañana",
         "showlegend": true,
         "type": "scatter",
         "x": [
          "2020-04-09T00:00:00"
         ],
         "xaxis": "x",
         "y": [
          16
         ],
         "yaxis": "y"
        },
        {
         "hovertemplate": "hashtag=noticiasuno<br>date=%{x}<br>value=%{y}<extra></extra>",
         "legendgroup": "noticiasuno",
         "line": {
          "color": "#636efa",
          "dash": "solid"
         },
         "mode": "lines",
         "name": "noticiasuno",
         "showlegend": true,
         "type": "scatter",
         "x": [
          "2020-04-03T00:00:00",
          "2020-04-09T00:00:00"
         ],
         "xaxis": "x",
         "y": [
          1,
          1
         ],
         "yaxis": "y"
        },
        {
         "hovertemplate": "hashtag=noticierow<br>date=%{x}<br>value=%{y}<extra></extra>",
         "legendgroup": "noticierow",
         "line": {
          "color": "#EF553B",
          "dash": "solid"
         },
         "mode": "lines",
         "name": "noticierow",
         "showlegend": true,
         "type": "scatter",
         "x": [
          "2020-04-22T00:00:00"
         ],
         "xaxis": "x",
         "y": [
          1
         ],
         "yaxis": "y"
        },
        {
         "hovertemplate": "hashtag=nuestragente<br>date=%{x}<br>value=%{y}<extra></extra>",
         "legendgroup": "nuestragente",
         "line": {
          "color": "#00cc96",
          "dash": "solid"
         },
         "mode": "lines",
         "name": "nuestragente",
         "showlegend": true,
         "type": "scatter",
         "x": [
          "2020-04-06T00:00:00",
          "2020-04-07T00:00:00",
          "2020-04-08T00:00:00"
         ],
         "xaxis": "x",
         "y": [
          2,
          2,
          3
         ],
         "yaxis": "y"
        },
        {
         "hovertemplate": "hashtag=ojodelanoche<br>date=%{x}<br>value=%{y}<extra></extra>",
         "legendgroup": "ojodelanoche",
         "line": {
          "color": "#ab63fa",
          "dash": "solid"
         },
         "mode": "lines",
         "name": "ojodelanoche",
         "showlegend": true,
         "type": "scatter",
         "x": [
          "2020-04-07T00:00:00",
          "2020-04-08T00:00:00"
         ],
         "xaxis": "x",
         "y": [
          1,
          1
         ],
         "yaxis": "y"
        },
        {
         "hovertemplate": "hashtag=opiniónonline<br>date=%{x}<br>value=%{y}<extra></extra>",
         "legendgroup": "opiniónonline",
         "line": {
          "color": "#FFA15A",
          "dash": "solid"
         },
         "mode": "lines",
         "name": "opiniónonline",
         "showlegend": true,
         "type": "scatter",
         "x": [
          "2020-04-07T00:00:00",
          "2020-04-08T00:00:00"
         ],
         "xaxis": "x",
         "y": [
          1,
          2
         ],
         "yaxis": "y"
        },
        {
         "hovertemplate": "hashtag=organosdecontrol<br>date=%{x}<br>value=%{y}<extra></extra>",
         "legendgroup": "organosdecontrol",
         "line": {
          "color": "#19d3f3",
          "dash": "solid"
         },
         "mode": "lines",
         "name": "organosdecontrol",
         "showlegend": true,
         "type": "scatter",
         "x": [
          "2020-04-25T00:00:00"
         ],
         "xaxis": "x",
         "y": [
          1
         ],
         "yaxis": "y"
        },
        {
         "hovertemplate": "hashtag=orgullocolombiano<br>date=%{x}<br>value=%{y}<extra></extra>",
         "legendgroup": "orgullocolombiano",
         "line": {
          "color": "#FF6692",
          "dash": "solid"
         },
         "mode": "lines",
         "name": "orgullocolombiano",
         "showlegend": true,
         "type": "scatter",
         "x": [
          "2020-04-06T00:00:00"
         ],
         "xaxis": "x",
         "y": [
          1
         ],
         "yaxis": "y"
        },
        {
         "hovertemplate": "hashtag=otrabajanodonan<br>date=%{x}<br>value=%{y}<extra></extra>",
         "legendgroup": "otrabajanodonan",
         "line": {
          "color": "#B6E880",
          "dash": "solid"
         },
         "mode": "lines",
         "name": "otrabajanodonan",
         "showlegend": true,
         "type": "scatter",
         "x": [
          "2020-04-07T00:00:00"
         ],
         "xaxis": "x",
         "y": [
          9
         ],
         "yaxis": "y"
        },
        {
         "hovertemplate": "hashtag=palmira<br>date=%{x}<br>value=%{y}<extra></extra>",
         "legendgroup": "palmira",
         "line": {
          "color": "#FF97FF",
          "dash": "solid"
         },
         "mode": "lines",
         "name": "palmira",
         "showlegend": true,
         "type": "scatter",
         "x": [
          "2020-04-06T00:00:00"
         ],
         "xaxis": "x",
         "y": [
          1
         ],
         "yaxis": "y"
        },
        {
         "hovertemplate": "hashtag=paquetazochimborobledo<br>date=%{x}<br>value=%{y}<extra></extra>",
         "legendgroup": "paquetazochimborobledo",
         "line": {
          "color": "#FECB52",
          "dash": "solid"
         },
         "mode": "lines",
         "name": "paquetazochimborobledo",
         "showlegend": true,
         "type": "scatter",
         "x": [
          "2020-04-25T00:00:00"
         ],
         "xaxis": "x",
         "y": [
          1
         ],
         "yaxis": "y"
        },
        {
         "hovertemplate": "hashtag=paridos<br>date=%{x}<br>value=%{y}<extra></extra>",
         "legendgroup": "paridos",
         "line": {
          "color": "#636efa",
          "dash": "solid"
         },
         "mode": "lines",
         "name": "paridos",
         "showlegend": true,
         "type": "scatter",
         "x": [
          "2020-04-09T00:00:00",
          "2020-04-25T00:00:00"
         ],
         "xaxis": "x",
         "y": [
          1,
          1
         ],
         "yaxis": "y"
        },
        {
         "hovertemplate": "hashtag=paroagrario<br>date=%{x}<br>value=%{y}<extra></extra>",
         "legendgroup": "paroagrario",
         "line": {
          "color": "#EF553B",
          "dash": "solid"
         },
         "mode": "lines",
         "name": "paroagrario",
         "showlegend": true,
         "type": "scatter",
         "x": [
          "2020-04-20T00:00:00"
         ],
         "xaxis": "x",
         "y": [
          1
         ],
         "yaxis": "y"
        },
        {
         "hovertemplate": "hashtag=pazconlegalidad<br>date=%{x}<br>value=%{y}<extra></extra>",
         "legendgroup": "pazconlegalidad",
         "line": {
          "color": "#00cc96",
          "dash": "solid"
         },
         "mode": "lines",
         "name": "pazconlegalidad",
         "showlegend": true,
         "type": "scatter",
         "x": [
          "2020-04-09T00:00:00",
          "2020-04-10T00:00:00"
         ],
         "xaxis": "x",
         "y": [
          1,
          1
         ],
         "yaxis": "y"
        },
        {
         "hovertemplate": "hashtag=penademuerteparacorruptos<br>date=%{x}<br>value=%{y}<extra></extra>",
         "legendgroup": "penademuerteparacorruptos",
         "line": {
          "color": "#ab63fa",
          "dash": "solid"
         },
         "mode": "lines",
         "name": "penademuerteparacorruptos",
         "showlegend": true,
         "type": "scatter",
         "x": [
          "2020-04-09T00:00:00"
         ],
         "xaxis": "x",
         "y": [
          2
         ],
         "yaxis": "y"
        },
        {
         "hovertemplate": "hashtag=pendejo<br>date=%{x}<br>value=%{y}<extra></extra>",
         "legendgroup": "pendejo",
         "line": {
          "color": "#FFA15A",
          "dash": "solid"
         },
         "mode": "lines",
         "name": "pendejo",
         "showlegend": true,
         "type": "scatter",
         "x": [
          "2020-04-09T00:00:00"
         ],
         "xaxis": "x",
         "y": [
          1
         ],
         "yaxis": "y"
        },
        {
         "hovertemplate": "hashtag=personajedelasemana<br>date=%{x}<br>value=%{y}<extra></extra>",
         "legendgroup": "personajedelasemana",
         "line": {
          "color": "#19d3f3",
          "dash": "solid"
         },
         "mode": "lines",
         "name": "personajedelasemana",
         "showlegend": true,
         "type": "scatter",
         "x": [
          "2020-04-25T00:00:00"
         ],
         "xaxis": "x",
         "y": [
          2
         ],
         "yaxis": "y"
        },
        {
         "hovertemplate": "hashtag=petro<br>date=%{x}<br>value=%{y}<extra></extra>",
         "legendgroup": "petro",
         "line": {
          "color": "#FF6692",
          "dash": "solid"
         },
         "mode": "lines",
         "name": "petro",
         "showlegend": true,
         "type": "scatter",
         "x": [
          "2020-04-10T00:00:00"
         ],
         "xaxis": "x",
         "y": [
          2
         ],
         "yaxis": "y"
        },
        {
         "hovertemplate": "hashtag=petroparaco<br>date=%{x}<br>value=%{y}<extra></extra>",
         "legendgroup": "petroparaco",
         "line": {
          "color": "#B6E880",
          "dash": "solid"
         },
         "mode": "lines",
         "name": "petroparaco",
         "showlegend": true,
         "type": "scatter",
         "x": [
          "2020-04-10T00:00:00"
         ],
         "xaxis": "x",
         "y": [
          1
         ],
         "yaxis": "y"
        },
        {
         "hovertemplate": "hashtag=petroybolivar2022<br>date=%{x}<br>value=%{y}<extra></extra>",
         "legendgroup": "petroybolivar2022",
         "line": {
          "color": "#FF97FF",
          "dash": "solid"
         },
         "mode": "lines",
         "name": "petroybolivar2022",
         "showlegend": true,
         "type": "scatter",
         "x": [
          "2020-04-11T00:00:00"
         ],
         "xaxis": "x",
         "y": [
          1
         ],
         "yaxis": "y"
        },
        {
         "hovertemplate": "hashtag=picoycédula<br>date=%{x}<br>value=%{y}<extra></extra>",
         "legendgroup": "picoycédula",
         "line": {
          "color": "#FECB52",
          "dash": "solid"
         },
         "mode": "lines",
         "name": "picoycédula",
         "showlegend": true,
         "type": "scatter",
         "x": [
          "2020-04-23T00:00:00"
         ],
         "xaxis": "x",
         "y": [
          1
         ],
         "yaxis": "y"
        },
        {
         "hovertemplate": "hashtag=picoygenero<br>date=%{x}<br>value=%{y}<extra></extra>",
         "legendgroup": "picoygenero",
         "line": {
          "color": "#636efa",
          "dash": "solid"
         },
         "mode": "lines",
         "name": "picoygenero",
         "showlegend": true,
         "type": "scatter",
         "x": [
          "2020-04-24T00:00:00"
         ],
         "xaxis": "x",
         "y": [
          2
         ],
         "yaxis": "y"
        },
        {
         "hovertemplate": "hashtag=picoyplaca<br>date=%{x}<br>value=%{y}<extra></extra>",
         "legendgroup": "picoyplaca",
         "line": {
          "color": "#EF553B",
          "dash": "solid"
         },
         "mode": "lines",
         "name": "picoyplaca",
         "showlegend": true,
         "type": "scatter",
         "x": [
          "2020-04-08T00:00:00"
         ],
         "xaxis": "x",
         "y": [
          1
         ],
         "yaxis": "y"
        },
        {
         "hovertemplate": "hashtag=picoyvida<br>date=%{x}<br>value=%{y}<extra></extra>",
         "legendgroup": "picoyvida",
         "line": {
          "color": "#00cc96",
          "dash": "solid"
         },
         "mode": "lines",
         "name": "picoyvida",
         "showlegend": true,
         "type": "scatter",
         "x": [
          "2020-04-23T00:00:00"
         ],
         "xaxis": "x",
         "y": [
          2
         ],
         "yaxis": "y"
        },
        {
         "hovertemplate": "hashtag=pinturita<br>date=%{x}<br>value=%{y}<extra></extra>",
         "legendgroup": "pinturita",
         "line": {
          "color": "#ab63fa",
          "dash": "solid"
         },
         "mode": "lines",
         "name": "pinturita",
         "showlegend": true,
         "type": "scatter",
         "x": [
          "2020-04-08T00:00:00"
         ],
         "xaxis": "x",
         "y": [
          1
         ],
         "yaxis": "y"
        },
        {
         "hovertemplate": "hashtag=polombia<br>date=%{x}<br>value=%{y}<extra></extra>",
         "legendgroup": "polombia",
         "line": {
          "color": "#FFA15A",
          "dash": "solid"
         },
         "mode": "lines",
         "name": "polombia",
         "showlegend": true,
         "type": "scatter",
         "x": [
          "2020-04-06T00:00:00"
         ],
         "xaxis": "x",
         "y": [
          1
         ],
         "yaxis": "y"
        },
        {
         "hovertemplate": "hashtag=populista<br>date=%{x}<br>value=%{y}<extra></extra>",
         "legendgroup": "populista",
         "line": {
          "color": "#19d3f3",
          "dash": "solid"
         },
         "mode": "lines",
         "name": "populista",
         "showlegend": true,
         "type": "scatter",
         "x": [
          "2020-04-10T00:00:00"
         ],
         "xaxis": "x",
         "y": [
          1
         ],
         "yaxis": "y"
        },
        {
         "hovertemplate": "hashtag=porfavor<br>date=%{x}<br>value=%{y}<extra></extra>",
         "legendgroup": "porfavor",
         "line": {
          "color": "#FF6692",
          "dash": "solid"
         },
         "mode": "lines",
         "name": "porfavor",
         "showlegend": true,
         "type": "scatter",
         "x": [
          "2020-04-09T00:00:00"
         ],
         "xaxis": "x",
         "y": [
          1
         ],
         "yaxis": "y"
        },
        {
         "hovertemplate": "hashtag=porlasaludylavida<br>date=%{x}<br>value=%{y}<extra></extra>",
         "legendgroup": "porlasaludylavida",
         "line": {
          "color": "#B6E880",
          "dash": "solid"
         },
         "mode": "lines",
         "name": "porlasaludylavida",
         "showlegend": true,
         "type": "scatter",
         "x": [
          "2020-04-21T00:00:00"
         ],
         "xaxis": "x",
         "y": [
          1
         ],
         "yaxis": "y"
        },
        {
         "hovertemplate": "hashtag=porlavida<br>date=%{x}<br>value=%{y}<extra></extra>",
         "legendgroup": "porlavida",
         "line": {
          "color": "#FF97FF",
          "dash": "solid"
         },
         "mode": "lines",
         "name": "porlavida",
         "showlegend": true,
         "type": "scatter",
         "x": [
          "2020-04-06T00:00:00"
         ],
         "xaxis": "x",
         "y": [
          1
         ],
         "yaxis": "y"
        },
        {
         "hovertemplate": "hashtag=porqueseescandalizan<br>date=%{x}<br>value=%{y}<extra></extra>",
         "legendgroup": "porqueseescandalizan",
         "line": {
          "color": "#FECB52",
          "dash": "solid"
         },
         "mode": "lines",
         "name": "porqueseescandalizan",
         "showlegend": true,
         "type": "scatter",
         "x": [
          "2020-04-23T00:00:00"
         ],
         "xaxis": "x",
         "y": [
          1
         ],
         "yaxis": "y"
        },
        {
         "hovertemplate": "hashtag=portuvidapormivida<br>date=%{x}<br>value=%{y}<extra></extra>",
         "legendgroup": "portuvidapormivida",
         "line": {
          "color": "#636efa",
          "dash": "solid"
         },
         "mode": "lines",
         "name": "portuvidapormivida",
         "showlegend": true,
         "type": "scatter",
         "x": [
          "2020-04-14T00:00:00"
         ],
         "xaxis": "x",
         "y": [
          3
         ],
         "yaxis": "y"
        },
        {
         "hovertemplate": "hashtag=prefieroquenomecuidecolombia<br>date=%{x}<br>value=%{y}<extra></extra>",
         "legendgroup": "prefieroquenomecuidecolombia",
         "line": {
          "color": "#EF553B",
          "dash": "solid"
         },
         "mode": "lines",
         "name": "prefieroquenomecuidecolombia",
         "showlegend": true,
         "type": "scatter",
         "x": [
          "2020-04-09T00:00:00"
         ],
         "xaxis": "x",
         "y": [
          1
         ],
         "yaxis": "y"
        },
        {
         "hovertemplate": "hashtag=preguntayamid<br>date=%{x}<br>value=%{y}<extra></extra>",
         "legendgroup": "preguntayamid",
         "line": {
          "color": "#00cc96",
          "dash": "solid"
         },
         "mode": "lines",
         "name": "preguntayamid",
         "showlegend": true,
         "type": "scatter",
         "x": [
          "2020-04-02T00:00:00"
         ],
         "xaxis": "x",
         "y": [
          5
         ],
         "yaxis": "y"
        },
        {
         "hovertemplate": "hashtag=preparación<br>date=%{x}<br>value=%{y}<extra></extra>",
         "legendgroup": "preparación",
         "line": {
          "color": "#ab63fa",
          "dash": "solid"
         },
         "mode": "lines",
         "name": "preparación",
         "showlegend": true,
         "type": "scatter",
         "x": [
          "2020-04-23T00:00:00"
         ],
         "xaxis": "x",
         "y": [
          3
         ],
         "yaxis": "y"
        },
        {
         "hovertemplate": "hashtag=presidenta<br>date=%{x}<br>value=%{y}<extra></extra>",
         "legendgroup": "presidenta",
         "line": {
          "color": "#FFA15A",
          "dash": "solid"
         },
         "mode": "lines",
         "name": "presidenta",
         "showlegend": true,
         "type": "scatter",
         "x": [
          "2020-04-07T00:00:00"
         ],
         "xaxis": "x",
         "y": [
          1
         ],
         "yaxis": "y"
        },
        {
         "hovertemplate": "hashtag=presidente<br>date=%{x}<br>value=%{y}<extra></extra>",
         "legendgroup": "presidente",
         "line": {
          "color": "#19d3f3",
          "dash": "solid"
         },
         "mode": "lines",
         "name": "presidente",
         "showlegend": true,
         "type": "scatter",
         "x": [
          "2020-04-09T00:00:00"
         ],
         "xaxis": "x",
         "y": [
          1
         ],
         "yaxis": "y"
        },
        {
         "hovertemplate": "hashtag=presidentelegítimo<br>date=%{x}<br>value=%{y}<extra></extra>",
         "legendgroup": "presidentelegítimo",
         "line": {
          "color": "#FF6692",
          "dash": "solid"
         },
         "mode": "lines",
         "name": "presidentelegítimo",
         "showlegend": true,
         "type": "scatter",
         "x": [
          "2020-04-10T00:00:00"
         ],
         "xaxis": "x",
         "y": [
          1
         ],
         "yaxis": "y"
        },
        {
         "hovertemplate": "hashtag=prevencionyaccion<br>date=%{x}<br>value=%{y}<extra></extra>",
         "legendgroup": "prevencionyaccion",
         "line": {
          "color": "#B6E880",
          "dash": "solid"
         },
         "mode": "lines",
         "name": "prevencionyaccion",
         "showlegend": true,
         "type": "scatter",
         "x": [
          "2020-04-10T00:00:00"
         ],
         "xaxis": "x",
         "y": [
          2
         ],
         "yaxis": "y"
        },
        {
         "hovertemplate": "hashtag=prevenciónyacción<br>date=%{x}<br>value=%{y}<extra></extra>",
         "legendgroup": "prevenciónyacción",
         "line": {
          "color": "#FF97FF",
          "dash": "solid"
         },
         "mode": "lines",
         "name": "prevenciónyacción",
         "showlegend": true,
         "type": "scatter",
         "x": [
          "2020-04-01T00:00:00",
          "2020-04-02T00:00:00",
          "2020-04-03T00:00:00",
          "2020-04-04T00:00:00",
          "2020-04-05T00:00:00",
          "2020-04-06T00:00:00",
          "2020-04-07T00:00:00",
          "2020-04-08T00:00:00",
          "2020-04-09T00:00:00",
          "2020-04-10T00:00:00",
          "2020-04-14T00:00:00",
          "2020-04-16T00:00:00",
          "2020-04-17T00:00:00",
          "2020-04-18T00:00:00",
          "2020-04-19T00:00:00",
          "2020-04-20T00:00:00",
          "2020-04-21T00:00:00",
          "2020-04-22T00:00:00",
          "2020-04-23T00:00:00",
          "2020-04-24T00:00:00",
          "2020-04-25T00:00:00"
         ],
         "xaxis": "x",
         "y": [
          5,
          4,
          5,
          5,
          2,
          2,
          3,
          3,
          5,
          45,
          4,
          4,
          3,
          6,
          4,
          1,
          7,
          4,
          7,
          4,
          1
         ],
         "yaxis": "y"
        },
        {
         "hovertemplate": "hashtag=primiciablu<br>date=%{x}<br>value=%{y}<extra></extra>",
         "legendgroup": "primiciablu",
         "line": {
          "color": "#FECB52",
          "dash": "solid"
         },
         "mode": "lines",
         "name": "primiciablu",
         "showlegend": true,
         "type": "scatter",
         "x": [
          "2020-04-08T00:00:00",
          "2020-04-10T00:00:00"
         ],
         "xaxis": "x",
         "y": [
          4,
          1
         ],
         "yaxis": "y"
        },
        {
         "hovertemplate": "hashtag=primiciaw<br>date=%{x}<br>value=%{y}<extra></extra>",
         "legendgroup": "primiciaw",
         "line": {
          "color": "#636efa",
          "dash": "solid"
         },
         "mode": "lines",
         "name": "primiciaw",
         "showlegend": true,
         "type": "scatter",
         "x": [
          "2020-04-20T00:00:00"
         ],
         "xaxis": "x",
         "y": [
          1
         ],
         "yaxis": "y"
        },
        {
         "hovertemplate": "hashtag=procomunes<br>date=%{x}<br>value=%{y}<extra></extra>",
         "legendgroup": "procomunes",
         "line": {
          "color": "#EF553B",
          "dash": "solid"
         },
         "mode": "lines",
         "name": "procomunes",
         "showlegend": true,
         "type": "scatter",
         "x": [
          "2020-04-08T00:00:00"
         ],
         "xaxis": "x",
         "y": [
          1
         ],
         "yaxis": "y"
        },
        {
         "hovertemplate": "hashtag=psdt<br>date=%{x}<br>value=%{y}<extra></extra>",
         "legendgroup": "psdt",
         "line": {
          "color": "#00cc96",
          "dash": "solid"
         },
         "mode": "lines",
         "name": "psdt",
         "showlegend": true,
         "type": "scatter",
         "x": [
          "2020-04-24T00:00:00"
         ],
         "xaxis": "x",
         "y": [
          1
         ],
         "yaxis": "y"
        },
        {
         "hovertemplate": "hashtag=purgaparapolíticoscorruptos<br>date=%{x}<br>value=%{y}<extra></extra>",
         "legendgroup": "purgaparapolíticoscorruptos",
         "line": {
          "color": "#ab63fa",
          "dash": "solid"
         },
         "mode": "lines",
         "name": "purgaparapolíticoscorruptos",
         "showlegend": true,
         "type": "scatter",
         "x": [
          "2020-04-09T00:00:00"
         ],
         "xaxis": "x",
         "y": [
          1
         ],
         "yaxis": "y"
        },
        {
         "hovertemplate": "hashtag=purocorazónporcali<br>date=%{x}<br>value=%{y}<extra></extra>",
         "legendgroup": "purocorazónporcali",
         "line": {
          "color": "#FFA15A",
          "dash": "solid"
         },
         "mode": "lines",
         "name": "purocorazónporcali",
         "showlegend": true,
         "type": "scatter",
         "x": [
          "2020-04-23T00:00:00",
          "2020-04-24T00:00:00"
         ],
         "xaxis": "x",
         "y": [
          2,
          1
         ],
         "yaxis": "y"
        },
        {
         "hovertemplate": "hashtag=quedanencasa<br>date=%{x}<br>value=%{y}<extra></extra>",
         "legendgroup": "quedanencasa",
         "line": {
          "color": "#19d3f3",
          "dash": "solid"
         },
         "mode": "lines",
         "name": "quedanencasa",
         "showlegend": true,
         "type": "scatter",
         "x": [
          "2020-04-07T00:00:00"
         ],
         "xaxis": "x",
         "y": [
          1
         ],
         "yaxis": "y"
        },
        {
         "hovertemplate": "hashtag=quedateencasa<br>date=%{x}<br>value=%{y}<extra></extra>",
         "legendgroup": "quedateencasa",
         "line": {
          "color": "#FF6692",
          "dash": "solid"
         },
         "mode": "lines",
         "name": "quedateencasa",
         "showlegend": true,
         "type": "scatter",
         "x": [
          "2020-04-06T00:00:00",
          "2020-04-07T00:00:00",
          "2020-04-09T00:00:00",
          "2020-04-16T00:00:00",
          "2020-04-24T00:00:00",
          "2020-04-25T00:00:00"
         ],
         "xaxis": "x",
         "y": [
          2,
          1,
          2,
          1,
          2,
          2
         ],
         "yaxis": "y"
        },
        {
         "hovertemplate": "hashtag=quedateenlacasa<br>date=%{x}<br>value=%{y}<extra></extra>",
         "legendgroup": "quedateenlacasa",
         "line": {
          "color": "#B6E880",
          "dash": "solid"
         },
         "mode": "lines",
         "name": "quedateenlacasa",
         "showlegend": true,
         "type": "scatter",
         "x": [
          "2020-04-09T00:00:00"
         ],
         "xaxis": "x",
         "y": [
          1
         ],
         "yaxis": "y"
        },
        {
         "hovertemplate": "hashtag=quedecepción<br>date=%{x}<br>value=%{y}<extra></extra>",
         "legendgroup": "quedecepción",
         "line": {
          "color": "#FF97FF",
          "dash": "solid"
         },
         "mode": "lines",
         "name": "quedecepción",
         "showlegend": true,
         "type": "scatter",
         "x": [
          "2020-04-11T00:00:00"
         ],
         "xaxis": "x",
         "y": [
          1
         ],
         "yaxis": "y"
        },
        {
         "hovertemplate": "hashtag=quedios<br>date=%{x}<br>value=%{y}<extra></extra>",
         "legendgroup": "quedios",
         "line": {
          "color": "#FECB52",
          "dash": "solid"
         },
         "mode": "lines",
         "name": "quedios",
         "showlegend": true,
         "type": "scatter",
         "x": [
          "2020-04-11T00:00:00"
         ],
         "xaxis": "x",
         "y": [
          1
         ],
         "yaxis": "y"
        },
        {
         "hovertemplate": "hashtag=queremos<br>date=%{x}<br>value=%{y}<extra></extra>",
         "legendgroup": "queremos",
         "line": {
          "color": "#636efa",
          "dash": "solid"
         },
         "mode": "lines",
         "name": "queremos",
         "showlegend": true,
         "type": "scatter",
         "x": [
          "2020-04-09T00:00:00"
         ],
         "xaxis": "x",
         "y": [
          1
         ],
         "yaxis": "y"
        },
        {
         "hovertemplate": "hashtag=quetelocreaduque<br>date=%{x}<br>value=%{y}<extra></extra>",
         "legendgroup": "quetelocreaduque",
         "line": {
          "color": "#EF553B",
          "dash": "solid"
         },
         "mode": "lines",
         "name": "quetelocreaduque",
         "showlegend": true,
         "type": "scatter",
         "x": [
          "2020-04-10T00:00:00"
         ],
         "xaxis": "x",
         "y": [
          1
         ],
         "yaxis": "y"
        },
        {
         "hovertemplate": "hashtag=quetelocreatumadre<br>date=%{x}<br>value=%{y}<extra></extra>",
         "legendgroup": "quetelocreatumadre",
         "line": {
          "color": "#00cc96",
          "dash": "solid"
         },
         "mode": "lines",
         "name": "quetelocreatumadre",
         "showlegend": true,
         "type": "scatter",
         "x": [
          "2020-04-10T00:00:00"
         ],
         "xaxis": "x",
         "y": [
          1
         ],
         "yaxis": "y"
        },
        {
         "hovertemplate": "hashtag=quintabrigada<br>date=%{x}<br>value=%{y}<extra></extra>",
         "legendgroup": "quintabrigada",
         "line": {
          "color": "#ab63fa",
          "dash": "solid"
         },
         "mode": "lines",
         "name": "quintabrigada",
         "showlegend": true,
         "type": "scatter",
         "x": [
          "2020-04-25T00:00:00"
         ],
         "xaxis": "x",
         "y": [
          1
         ],
         "yaxis": "y"
        },
        {
         "hovertemplate": "hashtag=quédateencasa<br>date=%{x}<br>value=%{y}<extra></extra>",
         "legendgroup": "quédateencasa",
         "line": {
          "color": "#FFA15A",
          "dash": "solid"
         },
         "mode": "lines",
         "name": "quédateencasa",
         "showlegend": true,
         "type": "scatter",
         "x": [
          "2020-04-01T00:00:00",
          "2020-04-05T00:00:00",
          "2020-04-07T00:00:00",
          "2020-04-08T00:00:00",
          "2020-04-09T00:00:00",
          "2020-04-10T00:00:00"
         ],
         "xaxis": "x",
         "y": [
          1,
          1,
          14,
          9,
          6,
          2
         ],
         "yaxis": "y"
        },
        {
         "hovertemplate": "hashtag=racionamiento<br>date=%{x}<br>value=%{y}<extra></extra>",
         "legendgroup": "racionamiento",
         "line": {
          "color": "#19d3f3",
          "dash": "solid"
         },
         "mode": "lines",
         "name": "racionamiento",
         "showlegend": true,
         "type": "scatter",
         "x": [
          "2020-04-07T00:00:00"
         ],
         "xaxis": "x",
         "y": [
          1
         ],
         "yaxis": "y"
        },
        {
         "hovertemplate": "hashtag=ratadealcantarillaes<br>date=%{x}<br>value=%{y}<extra></extra>",
         "legendgroup": "ratadealcantarillaes",
         "line": {
          "color": "#FF6692",
          "dash": "solid"
         },
         "mode": "lines",
         "name": "ratadealcantarillaes",
         "showlegend": true,
         "type": "scatter",
         "x": [
          "2020-04-16T00:00:00",
          "2020-04-17T00:00:00",
          "2020-04-25T00:00:00"
         ],
         "xaxis": "x",
         "y": [
          4,
          7,
          3
         ],
         "yaxis": "y"
        },
        {
         "hovertemplate": "hashtag=ratas<br>date=%{x}<br>value=%{y}<extra></extra>",
         "legendgroup": "ratas",
         "line": {
          "color": "#B6E880",
          "dash": "solid"
         },
         "mode": "lines",
         "name": "ratas",
         "showlegend": true,
         "type": "scatter",
         "x": [
          "2020-04-17T00:00:00"
         ],
         "xaxis": "x",
         "y": [
          1
         ],
         "yaxis": "y"
        },
        {
         "hovertemplate": "hashtag=ratasdealcantarilla<br>date=%{x}<br>value=%{y}<extra></extra>",
         "legendgroup": "ratasdealcantarilla",
         "line": {
          "color": "#FF97FF",
          "dash": "solid"
         },
         "mode": "lines",
         "name": "ratasdealcantarilla",
         "showlegend": true,
         "type": "scatter",
         "x": [
          "2020-04-16T00:00:00",
          "2020-04-25T00:00:00"
         ],
         "xaxis": "x",
         "y": [
          1,
          1
         ],
         "yaxis": "y"
        },
        {
         "hovertemplate": "hashtag=realidad<br>date=%{x}<br>value=%{y}<extra></extra>",
         "legendgroup": "realidad",
         "line": {
          "color": "#FECB52",
          "dash": "solid"
         },
         "mode": "lines",
         "name": "realidad",
         "showlegend": true,
         "type": "scatter",
         "x": [
          "2020-04-23T00:00:00"
         ],
         "xaxis": "x",
         "y": [
          1
         ],
         "yaxis": "y"
        },
        {
         "hovertemplate": "hashtag=regalazodeduquealosbancos<br>date=%{x}<br>value=%{y}<extra></extra>",
         "legendgroup": "regalazodeduquealosbancos",
         "line": {
          "color": "#636efa",
          "dash": "solid"
         },
         "mode": "lines",
         "name": "regalazodeduquealosbancos",
         "showlegend": true,
         "type": "scatter",
         "x": [
          "2020-04-21T00:00:00"
         ],
         "xaxis": "x",
         "y": [
          2
         ],
         "yaxis": "y"
        },
        {
         "hovertemplate": "hashtag=regresoacasa<br>date=%{x}<br>value=%{y}<extra></extra>",
         "legendgroup": "regresoacasa",
         "line": {
          "color": "#EF553B",
          "dash": "solid"
         },
         "mode": "lines",
         "name": "regresoacasa",
         "showlegend": true,
         "type": "scatter",
         "x": [
          "2020-04-23T00:00:00"
         ],
         "xaxis": "x",
         "y": [
          4
         ],
         "yaxis": "y"
        },
        {
         "hovertemplate": "hashtag=renuncieduque<br>date=%{x}<br>value=%{y}<extra></extra>",
         "legendgroup": "renuncieduque",
         "line": {
          "color": "#00cc96",
          "dash": "solid"
         },
         "mode": "lines",
         "name": "renuncieduque",
         "showlegend": true,
         "type": "scatter",
         "x": [
          "2020-04-09T00:00:00"
         ],
         "xaxis": "x",
         "y": [
          1
         ],
         "yaxis": "y"
        },
        {
         "hovertemplate": "hashtag=reporte<br>date=%{x}<br>value=%{y}<extra></extra>",
         "legendgroup": "reporte",
         "line": {
          "color": "#ab63fa",
          "dash": "solid"
         },
         "mode": "lines",
         "name": "reporte",
         "showlegend": true,
         "type": "scatter",
         "x": [
          "2020-04-01T00:00:00",
          "2020-04-06T00:00:00",
          "2020-04-07T00:00:00",
          "2020-04-08T00:00:00",
          "2020-04-09T00:00:00",
          "2020-04-10T00:00:00",
          "2020-04-14T00:00:00",
          "2020-04-16T00:00:00",
          "2020-04-18T00:00:00",
          "2020-04-19T00:00:00"
         ],
         "xaxis": "x",
         "y": [
          1,
          1,
          1,
          1,
          125,
          30,
          1,
          1,
          1,
          1
         ],
         "yaxis": "y"
        },
        {
         "hovertemplate": "hashtag=reportecovid19<br>date=%{x}<br>value=%{y}<extra></extra>",
         "legendgroup": "reportecovid19",
         "line": {
          "color": "#FFA15A",
          "dash": "solid"
         },
         "mode": "lines",
         "name": "reportecovid19",
         "showlegend": true,
         "type": "scatter",
         "x": [
          "2020-04-21T00:00:00",
          "2020-04-22T00:00:00",
          "2020-04-23T00:00:00",
          "2020-04-24T00:00:00"
         ],
         "xaxis": "x",
         "y": [
          1,
          1,
          1,
          1
         ],
         "yaxis": "y"
        },
        {
         "hovertemplate": "hashtag=responsabilidadsocial<br>date=%{x}<br>value=%{y}<extra></extra>",
         "legendgroup": "responsabilidadsocial",
         "line": {
          "color": "#19d3f3",
          "dash": "solid"
         },
         "mode": "lines",
         "name": "responsabilidadsocial",
         "showlegend": true,
         "type": "scatter",
         "x": [
          "2020-04-23T00:00:00"
         ],
         "xaxis": "x",
         "y": [
          1
         ],
         "yaxis": "y"
        },
        {
         "hovertemplate": "hashtag=respuesta<br>date=%{x}<br>value=%{y}<extra></extra>",
         "legendgroup": "respuesta",
         "line": {
          "color": "#FF6692",
          "dash": "solid"
         },
         "mode": "lines",
         "name": "respuesta",
         "showlegend": true,
         "type": "scatter",
         "x": [
          "2020-04-09T00:00:00"
         ],
         "xaxis": "x",
         "y": [
          1
         ],
         "yaxis": "y"
        },
        {
         "hovertemplate": "hashtag=riohacha<br>date=%{x}<br>value=%{y}<extra></extra>",
         "legendgroup": "riohacha",
         "line": {
          "color": "#B6E880",
          "dash": "solid"
         },
         "mode": "lines",
         "name": "riohacha",
         "showlegend": true,
         "type": "scatter",
         "x": [
          "2020-04-09T00:00:00"
         ],
         "xaxis": "x",
         "y": [
          1
         ],
         "yaxis": "y"
        },
        {
         "hovertemplate": "hashtag=roboingresosolidario<br>date=%{x}<br>value=%{y}<extra></extra>",
         "legendgroup": "roboingresosolidario",
         "line": {
          "color": "#FF97FF",
          "dash": "solid"
         },
         "mode": "lines",
         "name": "roboingresosolidario",
         "showlegend": true,
         "type": "scatter",
         "x": [
          "2020-04-09T00:00:00",
          "2020-04-10T00:00:00"
         ],
         "xaxis": "x",
         "y": [
          3,
          1
         ],
         "yaxis": "y"
        },
        {
         "hovertemplate": "hashtag=robosolidario<br>date=%{x}<br>value=%{y}<extra></extra>",
         "legendgroup": "robosolidario",
         "line": {
          "color": "#FECB52",
          "dash": "solid"
         },
         "mode": "lines",
         "name": "robosolidario",
         "showlegend": true,
         "type": "scatter",
         "x": [
          "2020-04-09T00:00:00",
          "2020-04-10T00:00:00"
         ],
         "xaxis": "x",
         "y": [
          8,
          1
         ],
         "yaxis": "y"
        },
        {
         "hovertemplate": "hashtag=s<br>date=%{x}<br>value=%{y}<extra></extra>",
         "legendgroup": "s",
         "line": {
          "color": "#636efa",
          "dash": "solid"
         },
         "mode": "lines",
         "name": "s",
         "showlegend": true,
         "type": "scatter",
         "x": [
          "2020-04-09T00:00:00"
         ],
         "xaxis": "x",
         "y": [
          1
         ],
         "yaxis": "y"
        },
        {
         "hovertemplate": "hashtag=sabíasque<br>date=%{x}<br>value=%{y}<extra></extra>",
         "legendgroup": "sabíasque",
         "line": {
          "color": "#EF553B",
          "dash": "solid"
         },
         "mode": "lines",
         "name": "sabíasque",
         "showlegend": true,
         "type": "scatter",
         "x": [
          "2020-04-04T00:00:00"
         ],
         "xaxis": "x",
         "y": [
          1
         ],
         "yaxis": "y"
        },
        {
         "hovertemplate": "hashtag=saladeprensa<br>date=%{x}<br>value=%{y}<extra></extra>",
         "legendgroup": "saladeprensa",
         "line": {
          "color": "#00cc96",
          "dash": "solid"
         },
         "mode": "lines",
         "name": "saladeprensa",
         "showlegend": true,
         "type": "scatter",
         "x": [
          "2020-04-08T00:00:00"
         ],
         "xaxis": "x",
         "y": [
          1
         ],
         "yaxis": "y"
        },
        {
         "hovertemplate": "hashtag=saludmental<br>date=%{x}<br>value=%{y}<extra></extra>",
         "legendgroup": "saludmental",
         "line": {
          "color": "#ab63fa",
          "dash": "solid"
         },
         "mode": "lines",
         "name": "saludmental",
         "showlegend": true,
         "type": "scatter",
         "x": [
          "2020-04-02T00:00:00",
          "2020-04-09T00:00:00",
          "2020-04-10T00:00:00",
          "2020-04-18T00:00:00"
         ],
         "xaxis": "x",
         "y": [
          1,
          1,
          2,
          1
         ],
         "yaxis": "y"
        },
        {
         "hovertemplate": "hashtag=salvamosvidas<br>date=%{x}<br>value=%{y}<extra></extra>",
         "legendgroup": "salvamosvidas",
         "line": {
          "color": "#FFA15A",
          "dash": "solid"
         },
         "mode": "lines",
         "name": "salvamosvidas",
         "showlegend": true,
         "type": "scatter",
         "x": [
          "2020-04-05T00:00:00"
         ],
         "xaxis": "x",
         "y": [
          1
         ],
         "yaxis": "y"
        },
        {
         "hovertemplate": "hashtag=sanclemente<br>date=%{x}<br>value=%{y}<extra></extra>",
         "legendgroup": "sanclemente",
         "line": {
          "color": "#19d3f3",
          "dash": "solid"
         },
         "mode": "lines",
         "name": "sanclemente",
         "showlegend": true,
         "type": "scatter",
         "x": [
          "2020-04-09T00:00:00"
         ],
         "xaxis": "x",
         "y": [
          1
         ],
         "yaxis": "y"
        },
        {
         "hovertemplate": "hashtag=santamarta<br>date=%{x}<br>value=%{y}<extra></extra>",
         "legendgroup": "santamarta",
         "line": {
          "color": "#FF6692",
          "dash": "solid"
         },
         "mode": "lines",
         "name": "santamarta",
         "showlegend": true,
         "type": "scatter",
         "x": [
          "2020-04-16T00:00:00"
         ],
         "xaxis": "x",
         "y": [
          1
         ],
         "yaxis": "y"
        },
        {
         "hovertemplate": "hashtag=santurban<br>date=%{x}<br>value=%{y}<extra></extra>",
         "legendgroup": "santurban",
         "line": {
          "color": "#B6E880",
          "dash": "solid"
         },
         "mode": "lines",
         "name": "santurban",
         "showlegend": true,
         "type": "scatter",
         "x": [
          "2020-04-09T00:00:00"
         ],
         "xaxis": "x",
         "y": [
          1
         ],
         "yaxis": "y"
        },
        {
         "hovertemplate": "hashtag=sarmiento<br>date=%{x}<br>value=%{y}<extra></extra>",
         "legendgroup": "sarmiento",
         "line": {
          "color": "#FF97FF",
          "dash": "solid"
         },
         "mode": "lines",
         "name": "sarmiento",
         "showlegend": true,
         "type": "scatter",
         "x": [
          "2020-04-09T00:00:00"
         ],
         "xaxis": "x",
         "y": [
          1
         ],
         "yaxis": "y"
        },
        {
         "hovertemplate": "hashtag=sarscov2<br>date=%{x}<br>value=%{y}<extra></extra>",
         "legendgroup": "sarscov2",
         "line": {
          "color": "#FECB52",
          "dash": "solid"
         },
         "mode": "lines",
         "name": "sarscov2",
         "showlegend": true,
         "type": "scatter",
         "x": [
          "2020-04-10T00:00:00"
         ],
         "xaxis": "x",
         "y": [
          1
         ],
         "yaxis": "y"
        },
        {
         "hovertemplate": "hashtag=seguridadalimentaria<br>date=%{x}<br>value=%{y}<extra></extra>",
         "legendgroup": "seguridadalimentaria",
         "line": {
          "color": "#636efa",
          "dash": "solid"
         },
         "mode": "lines",
         "name": "seguridadalimentaria",
         "showlegend": true,
         "type": "scatter",
         "x": [
          "2020-04-07T00:00:00"
         ],
         "xaxis": "x",
         "y": [
          1
         ],
         "yaxis": "y"
        },
        {
         "hovertemplate": "hashtag=seloexplicoconplastilina<br>date=%{x}<br>value=%{y}<extra></extra>",
         "legendgroup": "seloexplicoconplastilina",
         "line": {
          "color": "#EF553B",
          "dash": "solid"
         },
         "mode": "lines",
         "name": "seloexplicoconplastilina",
         "showlegend": true,
         "type": "scatter",
         "x": [
          "2020-04-12T00:00:00",
          "2020-04-13T00:00:00"
         ],
         "xaxis": "x",
         "y": [
          1,
          5
         ],
         "yaxis": "y"
        },
        {
         "hovertemplate": "hashtag=semananoticias<br>date=%{x}<br>value=%{y}<extra></extra>",
         "legendgroup": "semananoticias",
         "line": {
          "color": "#00cc96",
          "dash": "solid"
         },
         "mode": "lines",
         "name": "semananoticias",
         "showlegend": true,
         "type": "scatter",
         "x": [
          "2020-04-06T00:00:00",
          "2020-04-07T00:00:00",
          "2020-04-08T00:00:00",
          "2020-04-09T00:00:00",
          "2020-04-10T00:00:00",
          "2020-04-22T00:00:00",
          "2020-04-25T00:00:00"
         ],
         "xaxis": "x",
         "y": [
          8,
          15,
          20,
          74,
          14,
          1,
          1
         ],
         "yaxis": "y"
        },
        {
         "hovertemplate": "hashtag=sepasanestoshdpts<br>date=%{x}<br>value=%{y}<extra></extra>",
         "legendgroup": "sepasanestoshdpts",
         "line": {
          "color": "#ab63fa",
          "dash": "solid"
         },
         "mode": "lines",
         "name": "sepasanestoshdpts",
         "showlegend": true,
         "type": "scatter",
         "x": [
          "2020-04-09T00:00:00"
         ],
         "xaxis": "x",
         "y": [
          1
         ],
         "yaxis": "y"
        },
        {
         "hovertemplate": "hashtag=sesentiraorgullosasumadre<br>date=%{x}<br>value=%{y}<extra></extra>",
         "legendgroup": "sesentiraorgullosasumadre",
         "line": {
          "color": "#FFA15A",
          "dash": "solid"
         },
         "mode": "lines",
         "name": "sesentiraorgullosasumadre",
         "showlegend": true,
         "type": "scatter",
         "x": [
          "2020-04-10T00:00:00"
         ],
         "xaxis": "x",
         "y": [
          1
         ],
         "yaxis": "y"
        },
        {
         "hovertemplate": "hashtag=showcaracol<br>date=%{x}<br>value=%{y}<extra></extra>",
         "legendgroup": "showcaracol",
         "line": {
          "color": "#19d3f3",
          "dash": "solid"
         },
         "mode": "lines",
         "name": "showcaracol",
         "showlegend": true,
         "type": "scatter",
         "x": [
          "2020-04-08T00:00:00",
          "2020-04-09T00:00:00",
          "2020-04-10T00:00:00"
         ],
         "xaxis": "x",
         "y": [
          2,
          1,
          1
         ],
         "yaxis": "y"
        },
        {
         "hovertemplate": "hashtag=siemprehayuntrino<br>date=%{x}<br>value=%{y}<extra></extra>",
         "legendgroup": "siemprehayuntrino",
         "line": {
          "color": "#FF6692",
          "dash": "solid"
         },
         "mode": "lines",
         "name": "siemprehayuntrino",
         "showlegend": true,
         "type": "scatter",
         "x": [
          "2020-04-22T00:00:00"
         ],
         "xaxis": "x",
         "y": [
          1
         ],
         "yaxis": "y"
        },
        {
         "hovertemplate": "hashtag=sigamonoslosbuenos2020<br>date=%{x}<br>value=%{y}<extra></extra>",
         "legendgroup": "sigamonoslosbuenos2020",
         "line": {
          "color": "#B6E880",
          "dash": "solid"
         },
         "mode": "lines",
         "name": "sigamonoslosbuenos2020",
         "showlegend": true,
         "type": "scatter",
         "x": [
          "2020-04-09T00:00:00"
         ],
         "xaxis": "x",
         "y": [
          2
         ],
         "yaxis": "y"
        },
        {
         "hovertemplate": "hashtag=signopesos<br>date=%{x}<br>value=%{y}<extra></extra>",
         "legendgroup": "signopesos",
         "line": {
          "color": "#FF97FF",
          "dash": "solid"
         },
         "mode": "lines",
         "name": "signopesos",
         "showlegend": true,
         "type": "scatter",
         "x": [
          "2020-04-07T00:00:00"
         ],
         "xaxis": "x",
         "y": [
          1
         ],
         "yaxis": "y"
        },
        {
         "hovertemplate": "hashtag=sinetica<br>date=%{x}<br>value=%{y}<extra></extra>",
         "legendgroup": "sinetica",
         "line": {
          "color": "#FECB52",
          "dash": "solid"
         },
         "mode": "lines",
         "name": "sinetica",
         "showlegend": true,
         "type": "scatter",
         "x": [
          "2020-04-09T00:00:00"
         ],
         "xaxis": "x",
         "y": [
          1
         ],
         "yaxis": "y"
        },
        {
         "hovertemplate": "hashtag=sisas<br>date=%{x}<br>value=%{y}<extra></extra>",
         "legendgroup": "sisas",
         "line": {
          "color": "#636efa",
          "dash": "solid"
         },
         "mode": "lines",
         "name": "sisas",
         "showlegend": true,
         "type": "scatter",
         "x": [
          "2020-04-09T00:00:00"
         ],
         "xaxis": "x",
         "y": [
          1
         ],
         "yaxis": "y"
        },
        {
         "hovertemplate": "hashtag=sisben<br>date=%{x}<br>value=%{y}<extra></extra>",
         "legendgroup": "sisben",
         "line": {
          "color": "#EF553B",
          "dash": "solid"
         },
         "mode": "lines",
         "name": "sisben",
         "showlegend": true,
         "type": "scatter",
         "x": [
          "2020-04-09T00:00:00"
         ],
         "xaxis": "x",
         "y": [
          2
         ],
         "yaxis": "y"
        },
        {
         "hovertemplate": "hashtag=sisbéncuatrounaestafa<br>date=%{x}<br>value=%{y}<extra></extra>",
         "legendgroup": "sisbéncuatrounaestafa",
         "line": {
          "color": "#00cc96",
          "dash": "solid"
         },
         "mode": "lines",
         "name": "sisbéncuatrounaestafa",
         "showlegend": true,
         "type": "scatter",
         "x": [
          "2020-04-09T00:00:00"
         ],
         "xaxis": "x",
         "y": [
          1
         ],
         "yaxis": "y"
        },
        {
         "hovertemplate": "hashtag=smallactions_bigchanges<br>date=%{x}<br>value=%{y}<extra></extra>",
         "legendgroup": "smallactions_bigchanges",
         "line": {
          "color": "#ab63fa",
          "dash": "solid"
         },
         "mode": "lines",
         "name": "smallactions_bigchanges",
         "showlegend": true,
         "type": "scatter",
         "x": [
          "2020-04-25T00:00:00"
         ],
         "xaxis": "x",
         "y": [
          1
         ],
         "yaxis": "y"
        },
        {
         "hovertemplate": "hashtag=smartclinic<br>date=%{x}<br>value=%{y}<extra></extra>",
         "legendgroup": "smartclinic",
         "line": {
          "color": "#FFA15A",
          "dash": "solid"
         },
         "mode": "lines",
         "name": "smartclinic",
         "showlegend": true,
         "type": "scatter",
         "x": [
          "2020-04-22T00:00:00",
          "2020-04-23T00:00:00"
         ],
         "xaxis": "x",
         "y": [
          3,
          1
         ],
         "yaxis": "y"
        },
        {
         "hovertemplate": "hashtag=sociedadhipocrita<br>date=%{x}<br>value=%{y}<extra></extra>",
         "legendgroup": "sociedadhipocrita",
         "line": {
          "color": "#19d3f3",
          "dash": "solid"
         },
         "mode": "lines",
         "name": "sociedadhipocrita",
         "showlegend": true,
         "type": "scatter",
         "x": [
          "2020-04-09T00:00:00"
         ],
         "xaxis": "x",
         "y": [
          1
         ],
         "yaxis": "y"
        },
        {
         "hovertemplate": "hashtag=solidaridad<br>date=%{x}<br>value=%{y}<extra></extra>",
         "legendgroup": "solidaridad",
         "line": {
          "color": "#FF6692",
          "dash": "solid"
         },
         "mode": "lines",
         "name": "solidaridad",
         "showlegend": true,
         "type": "scatter",
         "x": [
          "2020-04-23T00:00:00"
         ],
         "xaxis": "x",
         "y": [
          1
         ],
         "yaxis": "y"
        },
        {
         "hovertemplate": "hashtag=somosunosomostodos<br>date=%{x}<br>value=%{y}<extra></extra>",
         "legendgroup": "somosunosomostodos",
         "line": {
          "color": "#B6E880",
          "dash": "solid"
         },
         "mode": "lines",
         "name": "somosunosomostodos",
         "showlegend": true,
         "type": "scatter",
         "x": [
          "2020-04-23T00:00:00"
         ],
         "xaxis": "x",
         "y": [
          1
         ],
         "yaxis": "y"
        },
        {
         "hovertemplate": "hashtag=sorpresa<br>date=%{x}<br>value=%{y}<extra></extra>",
         "legendgroup": "sorpresa",
         "line": {
          "color": "#FF97FF",
          "dash": "solid"
         },
         "mode": "lines",
         "name": "sorpresa",
         "showlegend": true,
         "type": "scatter",
         "x": [
          "2020-04-09T00:00:00"
         ],
         "xaxis": "x",
         "y": [
          1
         ],
         "yaxis": "y"
        },
        {
         "hovertemplate": "hashtag=sosinternosuis<br>date=%{x}<br>value=%{y}<extra></extra>",
         "legendgroup": "sosinternosuis",
         "line": {
          "color": "#FECB52",
          "dash": "solid"
         },
         "mode": "lines",
         "name": "sosinternosuis",
         "showlegend": true,
         "type": "scatter",
         "x": [
          "2020-04-10T00:00:00"
         ],
         "xaxis": "x",
         "y": [
          1
         ],
         "yaxis": "y"
        },
        {
         "hovertemplate": "hashtag=sosnecesitamosviajar<br>date=%{x}<br>value=%{y}<extra></extra>",
         "legendgroup": "sosnecesitamosviajar",
         "line": {
          "color": "#636efa",
          "dash": "solid"
         },
         "mode": "lines",
         "name": "sosnecesitamosviajar",
         "showlegend": true,
         "type": "scatter",
         "x": [
          "2020-04-23T00:00:00"
         ],
         "xaxis": "x",
         "y": [
          4
         ],
         "yaxis": "y"
        },
        {
         "hovertemplate": "hashtag=soyyomismatodoeltiempo<br>date=%{x}<br>value=%{y}<extra></extra>",
         "legendgroup": "soyyomismatodoeltiempo",
         "line": {
          "color": "#EF553B",
          "dash": "solid"
         },
         "mode": "lines",
         "name": "soyyomismatodoeltiempo",
         "showlegend": true,
         "type": "scatter",
         "x": [
          "2020-04-07T00:00:00"
         ],
         "xaxis": "x",
         "y": [
          1
         ],
         "yaxis": "y"
        },
        {
         "hovertemplate": "hashtag=subpresidente<br>date=%{x}<br>value=%{y}<extra></extra>",
         "legendgroup": "subpresidente",
         "line": {
          "color": "#00cc96",
          "dash": "solid"
         },
         "mode": "lines",
         "name": "subpresidente",
         "showlegend": true,
         "type": "scatter",
         "x": [
          "2020-04-10T00:00:00"
         ],
         "xaxis": "x",
         "y": [
          1
         ],
         "yaxis": "y"
        },
        {
         "hovertemplate": "hashtag=subsidiosolidario<br>date=%{x}<br>value=%{y}<extra></extra>",
         "legendgroup": "subsidiosolidario",
         "line": {
          "color": "#ab63fa",
          "dash": "solid"
         },
         "mode": "lines",
         "name": "subsidiosolidario",
         "showlegend": true,
         "type": "scatter",
         "x": [
          "2020-04-09T00:00:00"
         ],
         "xaxis": "x",
         "y": [
          2
         ],
         "yaxis": "y"
        },
        {
         "hovertemplate": "hashtag=sueconomía<br>date=%{x}<br>value=%{y}<extra></extra>",
         "legendgroup": "sueconomía",
         "line": {
          "color": "#FFA15A",
          "dash": "solid"
         },
         "mode": "lines",
         "name": "sueconomía",
         "showlegend": true,
         "type": "scatter",
         "x": [
          "2020-04-06T00:00:00"
         ],
         "xaxis": "x",
         "y": [
          1
         ],
         "yaxis": "y"
        },
        {
         "hovertemplate": "hashtag=sueltenagaravito<br>date=%{x}<br>value=%{y}<extra></extra>",
         "legendgroup": "sueltenagaravito",
         "line": {
          "color": "#19d3f3",
          "dash": "solid"
         },
         "mode": "lines",
         "name": "sueltenagaravito",
         "showlegend": true,
         "type": "scatter",
         "x": [
          "2020-04-10T00:00:00"
         ],
         "xaxis": "x",
         "y": [
          1
         ],
         "yaxis": "y"
        },
        {
         "hovertemplate": "hashtag=sumamoscontigo<br>date=%{x}<br>value=%{y}<extra></extra>",
         "legendgroup": "sumamoscontigo",
         "line": {
          "color": "#FF6692",
          "dash": "solid"
         },
         "mode": "lines",
         "name": "sumamoscontigo",
         "showlegend": true,
         "type": "scatter",
         "x": [
          "2020-04-21T00:00:00",
          "2020-04-24T00:00:00"
         ],
         "xaxis": "x",
         "y": [
          1,
          1
         ],
         "yaxis": "y"
        },
        {
         "hovertemplate": "hashtag=superfinanciera<br>date=%{x}<br>value=%{y}<extra></extra>",
         "legendgroup": "superfinanciera",
         "line": {
          "color": "#B6E880",
          "dash": "solid"
         },
         "mode": "lines",
         "name": "superfinanciera",
         "showlegend": true,
         "type": "scatter",
         "x": [
          "2020-04-09T00:00:00"
         ],
         "xaxis": "x",
         "y": [
          2
         ],
         "yaxis": "y"
        },
        {
         "hovertemplate": "hashtag=superluna<br>date=%{x}<br>value=%{y}<extra></extra>",
         "legendgroup": "superluna",
         "line": {
          "color": "#FF97FF",
          "dash": "solid"
         },
         "mode": "lines",
         "name": "superluna",
         "showlegend": true,
         "type": "scatter",
         "x": [
          "2020-04-08T00:00:00"
         ],
         "xaxis": "x",
         "y": [
          1
         ],
         "yaxis": "y"
        },
        {
         "hovertemplate": "hashtag=súmatejugando<br>date=%{x}<br>value=%{y}<extra></extra>",
         "legendgroup": "súmatejugando",
         "line": {
          "color": "#FECB52",
          "dash": "solid"
         },
         "mode": "lines",
         "name": "súmatejugando",
         "showlegend": true,
         "type": "scatter",
         "x": [
          "2020-04-10T00:00:00"
         ],
         "xaxis": "x",
         "y": [
          2
         ],
         "yaxis": "y"
        },
        {
         "hovertemplate": "hashtag=tel<br>date=%{x}<br>value=%{y}<extra></extra>",
         "legendgroup": "tel",
         "line": {
          "color": "#636efa",
          "dash": "solid"
         },
         "mode": "lines",
         "name": "tel",
         "showlegend": true,
         "type": "scatter",
         "x": [
          "2020-04-08T00:00:00"
         ],
         "xaxis": "x",
         "y": [
          1
         ],
         "yaxis": "y"
        },
        {
         "hovertemplate": "hashtag=teletonencorrupcion<br>date=%{x}<br>value=%{y}<extra></extra>",
         "legendgroup": "teletonencorrupcion",
         "line": {
          "color": "#EF553B",
          "dash": "solid"
         },
         "mode": "lines",
         "name": "teletonencorrupcion",
         "showlegend": true,
         "type": "scatter",
         "x": [
          "2020-04-09T00:00:00"
         ],
         "xaxis": "x",
         "y": [
          1
         ],
         "yaxis": "y"
        },
        {
         "hovertemplate": "hashtag=teletónpormedellín<br>date=%{x}<br>value=%{y}<extra></extra>",
         "legendgroup": "teletónpormedellín",
         "line": {
          "color": "#00cc96",
          "dash": "solid"
         },
         "mode": "lines",
         "name": "teletónpormedellín",
         "showlegend": true,
         "type": "scatter",
         "x": [
          "2020-04-09T00:00:00"
         ],
         "xaxis": "x",
         "y": [
          2
         ],
         "yaxis": "y"
        },
        {
         "hovertemplate": "hashtag=temadeldía<br>date=%{x}<br>value=%{y}<extra></extra>",
         "legendgroup": "temadeldía",
         "line": {
          "color": "#ab63fa",
          "dash": "solid"
         },
         "mode": "lines",
         "name": "temadeldía",
         "showlegend": true,
         "type": "scatter",
         "x": [
          "2020-04-07T00:00:00"
         ],
         "xaxis": "x",
         "y": [
          1
         ],
         "yaxis": "y"
        },
        {
         "hovertemplate": "hashtag=tiaenojada<br>date=%{x}<br>value=%{y}<extra></extra>",
         "legendgroup": "tiaenojada",
         "line": {
          "color": "#FFA15A",
          "dash": "solid"
         },
         "mode": "lines",
         "name": "tiaenojada",
         "showlegend": true,
         "type": "scatter",
         "x": [
          "2020-04-09T00:00:00"
         ],
         "xaxis": "x",
         "y": [
          1
         ],
         "yaxis": "y"
        },
        {
         "hovertemplate": "hashtag=tibiovirus<br>date=%{x}<br>value=%{y}<extra></extra>",
         "legendgroup": "tibiovirus",
         "line": {
          "color": "#19d3f3",
          "dash": "solid"
         },
         "mode": "lines",
         "name": "tibiovirus",
         "showlegend": true,
         "type": "scatter",
         "x": [
          "2020-04-25T00:00:00"
         ],
         "xaxis": "x",
         "y": [
          1
         ],
         "yaxis": "y"
        },
        {
         "hovertemplate": "hashtag=tiendavirtual<br>date=%{x}<br>value=%{y}<extra></extra>",
         "legendgroup": "tiendavirtual",
         "line": {
          "color": "#FF6692",
          "dash": "solid"
         },
         "mode": "lines",
         "name": "tiendavirtual",
         "showlegend": true,
         "type": "scatter",
         "x": [
          "2020-04-23T00:00:00"
         ],
         "xaxis": "x",
         "y": [
          1
         ],
         "yaxis": "y"
        },
        {
         "hovertemplate": "hashtag=topblu<br>date=%{x}<br>value=%{y}<extra></extra>",
         "legendgroup": "topblu",
         "line": {
          "color": "#B6E880",
          "dash": "solid"
         },
         "mode": "lines",
         "name": "topblu",
         "showlegend": true,
         "type": "scatter",
         "x": [
          "2020-04-08T00:00:00",
          "2020-04-09T00:00:00",
          "2020-04-10T00:00:00"
         ],
         "xaxis": "x",
         "y": [
          7,
          40,
          19
         ],
         "yaxis": "y"
        },
        {
         "hovertemplate": "hashtag=transmi<br>date=%{x}<br>value=%{y}<extra></extra>",
         "legendgroup": "transmi",
         "line": {
          "color": "#FF97FF",
          "dash": "solid"
         },
         "mode": "lines",
         "name": "transmi",
         "showlegend": true,
         "type": "scatter",
         "x": [
          "2020-04-24T00:00:00"
         ],
         "xaxis": "x",
         "y": [
          1
         ],
         "yaxis": "y"
        },
        {
         "hovertemplate": "hashtag=trumpinepto<br>date=%{x}<br>value=%{y}<extra></extra>",
         "legendgroup": "trumpinepto",
         "line": {
          "color": "#FECB52",
          "dash": "solid"
         },
         "mode": "lines",
         "name": "trumpinepto",
         "showlegend": true,
         "type": "scatter",
         "x": [
          "2020-04-25T00:00:00"
         ],
         "xaxis": "x",
         "y": [
          1
         ],
         "yaxis": "y"
        },
        {
         "hovertemplate": "hashtag=ultimahora<br>date=%{x}<br>value=%{y}<extra></extra>",
         "legendgroup": "ultimahora",
         "line": {
          "color": "#636efa",
          "dash": "solid"
         },
         "mode": "lines",
         "name": "ultimahora",
         "showlegend": true,
         "type": "scatter",
         "x": [
          "2020-04-09T00:00:00",
          "2020-04-10T00:00:00",
          "2020-04-16T00:00:00",
          "2020-04-23T00:00:00"
         ],
         "xaxis": "x",
         "y": [
          1,
          1,
          1,
          1
         ],
         "yaxis": "y"
        },
        {
         "hovertemplate": "hashtag=un2x3<br>date=%{x}<br>value=%{y}<extra></extra>",
         "legendgroup": "un2x3",
         "line": {
          "color": "#EF553B",
          "dash": "solid"
         },
         "mode": "lines",
         "name": "un2x3",
         "showlegend": true,
         "type": "scatter",
         "x": [
          "2020-04-08T00:00:00"
         ],
         "xaxis": "x",
         "y": [
          1
         ],
         "yaxis": "y"
        },
        {
         "hovertemplate": "hashtag=unansealparchedeamor<br>date=%{x}<br>value=%{y}<extra></extra>",
         "legendgroup": "unansealparchedeamor",
         "line": {
          "color": "#00cc96",
          "dash": "solid"
         },
         "mode": "lines",
         "name": "unansealparchedeamor",
         "showlegend": true,
         "type": "scatter",
         "x": [
          "2020-04-08T00:00:00"
         ],
         "xaxis": "x",
         "y": [
          1
         ],
         "yaxis": "y"
        },
        {
         "hovertemplate": "hashtag=unaplausoparanuestrosheroes<br>date=%{x}<br>value=%{y}<extra></extra>",
         "legendgroup": "unaplausoparanuestrosheroes",
         "line": {
          "color": "#ab63fa",
          "dash": "solid"
         },
         "mode": "lines",
         "name": "unaplausoparanuestrosheroes",
         "showlegend": true,
         "type": "scatter",
         "x": [
          "2020-04-07T00:00:00"
         ],
         "xaxis": "x",
         "y": [
          1
         ],
         "yaxis": "y"
        },
        {
         "hovertemplate": "hashtag=unasolafuerza<br>date=%{x}<br>value=%{y}<extra></extra>",
         "legendgroup": "unasolafuerza",
         "line": {
          "color": "#FFA15A",
          "dash": "solid"
         },
         "mode": "lines",
         "name": "unasolafuerza",
         "showlegend": true,
         "type": "scatter",
         "x": [
          "2020-04-14T00:00:00"
         ],
         "xaxis": "x",
         "y": [
          1
         ],
         "yaxis": "y"
        },
        {
         "hovertemplate": "hashtag=unbelievable<br>date=%{x}<br>value=%{y}<extra></extra>",
         "legendgroup": "unbelievable",
         "line": {
          "color": "#19d3f3",
          "dash": "solid"
         },
         "mode": "lines",
         "name": "unbelievable",
         "showlegend": true,
         "type": "scatter",
         "x": [
          "2020-04-25T00:00:00"
         ],
         "xaxis": "x",
         "y": [
          1
         ],
         "yaxis": "y"
        },
        {
         "hovertemplate": "hashtag=unidosencasa<br>date=%{x}<br>value=%{y}<extra></extra>",
         "legendgroup": "unidosencasa",
         "line": {
          "color": "#FF6692",
          "dash": "solid"
         },
         "mode": "lines",
         "name": "unidosencasa",
         "showlegend": true,
         "type": "scatter",
         "x": [
          "2020-04-08T00:00:00"
         ],
         "xaxis": "x",
         "y": [
          1
         ],
         "yaxis": "y"
        },
        {
         "hovertemplate": "hashtag=urgente<br>date=%{x}<br>value=%{y}<extra></extra>",
         "legendgroup": "urgente",
         "line": {
          "color": "#B6E880",
          "dash": "solid"
         },
         "mode": "lines",
         "name": "urgente",
         "showlegend": true,
         "type": "scatter",
         "x": [
          "2020-04-06T00:00:00",
          "2020-04-07T00:00:00",
          "2020-04-08T00:00:00",
          "2020-04-09T00:00:00",
          "2020-04-25T00:00:00"
         ],
         "xaxis": "x",
         "y": [
          1,
          1,
          1,
          2,
          2
         ],
         "yaxis": "y"
        },
        {
         "hovertemplate": "hashtag=uribeesejemplo<br>date=%{x}<br>value=%{y}<extra></extra>",
         "legendgroup": "uribeesejemplo",
         "line": {
          "color": "#FF97FF",
          "dash": "solid"
         },
         "mode": "lines",
         "name": "uribeesejemplo",
         "showlegend": true,
         "type": "scatter",
         "x": [
          "2020-04-10T00:00:00"
         ],
         "xaxis": "x",
         "y": [
          1
         ],
         "yaxis": "y"
        },
        {
         "hovertemplate": "hashtag=uribeespandemia<br>date=%{x}<br>value=%{y}<extra></extra>",
         "legendgroup": "uribeespandemia",
         "line": {
          "color": "#FECB52",
          "dash": "solid"
         },
         "mode": "lines",
         "name": "uribeespandemia",
         "showlegend": true,
         "type": "scatter",
         "x": [
          "2020-04-10T00:00:00"
         ],
         "xaxis": "x",
         "y": [
          1
         ],
         "yaxis": "y"
        },
        {
         "hovertemplate": "hashtag=uribeparacuándo<br>date=%{x}<br>value=%{y}<extra></extra>",
         "legendgroup": "uribeparacuándo",
         "line": {
          "color": "#636efa",
          "dash": "solid"
         },
         "mode": "lines",
         "name": "uribeparacuándo",
         "showlegend": true,
         "type": "scatter",
         "x": [
          "2020-04-10T00:00:00"
         ],
         "xaxis": "x",
         "y": [
          1
         ],
         "yaxis": "y"
        },
        {
         "hovertemplate": "hashtag=vacúnate<br>date=%{x}<br>value=%{y}<extra></extra>",
         "legendgroup": "vacúnate",
         "line": {
          "color": "#EF553B",
          "dash": "solid"
         },
         "mode": "lines",
         "name": "vacúnate",
         "showlegend": true,
         "type": "scatter",
         "x": [
          "2020-04-24T00:00:00"
         ],
         "xaxis": "x",
         "y": [
          1
         ],
         "yaxis": "y"
        },
        {
         "hovertemplate": "hashtag=valledelcauca<br>date=%{x}<br>value=%{y}<extra></extra>",
         "legendgroup": "valledelcauca",
         "line": {
          "color": "#00cc96",
          "dash": "solid"
         },
         "mode": "lines",
         "name": "valledelcauca",
         "showlegend": true,
         "type": "scatter",
         "x": [
          "2020-04-07T00:00:00"
         ],
         "xaxis": "x",
         "y": [
          1
         ],
         "yaxis": "y"
        },
        {
         "hovertemplate": "hashtag=vamoscolombia<br>date=%{x}<br>value=%{y}<extra></extra>",
         "legendgroup": "vamoscolombia",
         "line": {
          "color": "#ab63fa",
          "dash": "solid"
         },
         "mode": "lines",
         "name": "vamoscolombia",
         "showlegend": true,
         "type": "scatter",
         "x": [
          "2020-04-10T00:00:00"
         ],
         "xaxis": "x",
         "y": [
          1
         ],
         "yaxis": "y"
        },
        {
         "hovertemplate": "hashtag=venezuela<br>date=%{x}<br>value=%{y}<extra></extra>",
         "legendgroup": "venezuela",
         "line": {
          "color": "#FFA15A",
          "dash": "solid"
         },
         "mode": "lines",
         "name": "venezuela",
         "showlegend": true,
         "type": "scatter",
         "x": [
          "2020-04-09T00:00:00",
          "2020-04-10T00:00:00"
         ],
         "xaxis": "x",
         "y": [
          2,
          1
         ],
         "yaxis": "y"
        },
        {
         "hovertemplate": "hashtag=verguenzanacional<br>date=%{x}<br>value=%{y}<extra></extra>",
         "legendgroup": "verguenzanacional",
         "line": {
          "color": "#19d3f3",
          "dash": "solid"
         },
         "mode": "lines",
         "name": "verguenzanacional",
         "showlegend": true,
         "type": "scatter",
         "x": [
          "2020-04-10T00:00:00"
         ],
         "xaxis": "x",
         "y": [
          1
         ],
         "yaxis": "y"
        },
        {
         "hovertemplate": "hashtag=vicesalud<br>date=%{x}<br>value=%{y}<extra></extra>",
         "legendgroup": "vicesalud",
         "line": {
          "color": "#FF6692",
          "dash": "solid"
         },
         "mode": "lines",
         "name": "vicesalud",
         "showlegend": true,
         "type": "scatter",
         "x": [
          "2020-04-01T00:00:00",
          "2020-04-03T00:00:00",
          "2020-04-06T00:00:00",
          "2020-04-09T00:00:00"
         ],
         "xaxis": "x",
         "y": [
          5,
          1,
          3,
          7
         ],
         "yaxis": "y"
        },
        {
         "hovertemplate": "hashtag=vichada<br>date=%{x}<br>value=%{y}<extra></extra>",
         "legendgroup": "vichada",
         "line": {
          "color": "#B6E880",
          "dash": "solid"
         },
         "mode": "lines",
         "name": "vichada",
         "showlegend": true,
         "type": "scatter",
         "x": [
          "2020-04-12T00:00:00"
         ],
         "xaxis": "x",
         "y": [
          1
         ],
         "yaxis": "y"
        },
        {
         "hovertemplate": "hashtag=vickyensemana<br>date=%{x}<br>value=%{y}<extra></extra>",
         "legendgroup": "vickyensemana",
         "line": {
          "color": "#FF97FF",
          "dash": "solid"
         },
         "mode": "lines",
         "name": "vickyensemana",
         "showlegend": true,
         "type": "scatter",
         "x": [
          "2020-04-06T00:00:00",
          "2020-04-07T00:00:00",
          "2020-04-08T00:00:00"
         ],
         "xaxis": "x",
         "y": [
          1,
          2,
          2
         ],
         "yaxis": "y"
        },
        {
         "hovertemplate": "hashtag=video<br>date=%{x}<br>value=%{y}<extra></extra>",
         "legendgroup": "video",
         "line": {
          "color": "#FECB52",
          "dash": "solid"
         },
         "mode": "lines",
         "name": "video",
         "showlegend": true,
         "type": "scatter",
         "x": [
          "2020-04-07T00:00:00",
          "2020-04-08T00:00:00",
          "2020-04-09T00:00:00",
          "2020-04-25T00:00:00"
         ],
         "xaxis": "x",
         "y": [
          3,
          8,
          2,
          1
         ],
         "yaxis": "y"
        },
        {
         "hovertemplate": "hashtag=viernessanto<br>date=%{x}<br>value=%{y}<extra></extra>",
         "legendgroup": "viernessanto",
         "line": {
          "color": "#636efa",
          "dash": "solid"
         },
         "mode": "lines",
         "name": "viernessanto",
         "showlegend": true,
         "type": "scatter",
         "x": [
          "2020-04-10T00:00:00"
         ],
         "xaxis": "x",
         "y": [
          2
         ],
         "yaxis": "y"
        },
        {
         "hovertemplate": "hashtag=vivelavidaconintensidad<br>date=%{x}<br>value=%{y}<extra></extra>",
         "legendgroup": "vivelavidaconintensidad",
         "line": {
          "color": "#EF553B",
          "dash": "solid"
         },
         "mode": "lines",
         "name": "vivelavidaconintensidad",
         "showlegend": true,
         "type": "scatter",
         "x": [
          "2020-04-25T00:00:00"
         ],
         "xaxis": "x",
         "y": [
          1
         ],
         "yaxis": "y"
        },
        {
         "hovertemplate": "hashtag=vocesysonidos<br>date=%{x}<br>value=%{y}<extra></extra>",
         "legendgroup": "vocesysonidos",
         "line": {
          "color": "#00cc96",
          "dash": "solid"
         },
         "mode": "lines",
         "name": "vocesysonidos",
         "showlegend": true,
         "type": "scatter",
         "x": [
          "2020-04-08T00:00:00",
          "2020-04-09T00:00:00",
          "2020-04-10T00:00:00",
          "2020-04-25T00:00:00"
         ],
         "xaxis": "x",
         "y": [
          72,
          90,
          5,
          8
         ],
         "yaxis": "y"
        },
        {
         "hovertemplate": "hashtag=wilfridovargas<br>date=%{x}<br>value=%{y}<extra></extra>",
         "legendgroup": "wilfridovargas",
         "line": {
          "color": "#ab63fa",
          "dash": "solid"
         },
         "mode": "lines",
         "name": "wilfridovargas",
         "showlegend": true,
         "type": "scatter",
         "x": [
          "2020-04-25T00:00:00"
         ],
         "xaxis": "x",
         "y": [
          1
         ],
         "yaxis": "y"
        },
        {
         "hovertemplate": "hashtag=yoaplaudoalosniños<br>date=%{x}<br>value=%{y}<extra></extra>",
         "legendgroup": "yoaplaudoalosniños",
         "line": {
          "color": "#FFA15A",
          "dash": "solid"
         },
         "mode": "lines",
         "name": "yoaplaudoalosniños",
         "showlegend": true,
         "type": "scatter",
         "x": [
          "2020-04-25T00:00:00"
         ],
         "xaxis": "x",
         "y": [
          3
         ],
         "yaxis": "y"
        },
        {
         "hovertemplate": "hashtag=yoheaprendidoque<br>date=%{x}<br>value=%{y}<extra></extra>",
         "legendgroup": "yoheaprendidoque",
         "line": {
          "color": "#19d3f3",
          "dash": "solid"
         },
         "mode": "lines",
         "name": "yoheaprendidoque",
         "showlegend": true,
         "type": "scatter",
         "x": [
          "2020-04-08T00:00:00",
          "2020-04-09T00:00:00"
         ],
         "xaxis": "x",
         "y": [
          18,
          1
         ],
         "yaxis": "y"
        },
        {
         "hovertemplate": "hashtag=yomecuidoyotecuido<br>date=%{x}<br>value=%{y}<extra></extra>",
         "legendgroup": "yomecuidoyotecuido",
         "line": {
          "color": "#FF6692",
          "dash": "solid"
         },
         "mode": "lines",
         "name": "yomecuidoyotecuido",
         "showlegend": true,
         "type": "scatter",
         "x": [
          "2020-04-08T00:00:00"
         ],
         "xaxis": "x",
         "y": [
          1
         ],
         "yaxis": "y"
        },
        {
         "hovertemplate": "hashtag=yomequedoencasa<br>date=%{x}<br>value=%{y}<extra></extra>",
         "legendgroup": "yomequedoencasa",
         "line": {
          "color": "#B6E880",
          "dash": "solid"
         },
         "mode": "lines",
         "name": "yomequedoencasa",
         "showlegend": true,
         "type": "scatter",
         "x": [
          "2020-04-01T00:00:00",
          "2020-04-03T00:00:00",
          "2020-04-08T00:00:00"
         ],
         "xaxis": "x",
         "y": [
          2,
          1,
          1
         ],
         "yaxis": "y"
        },
        {
         "hovertemplate": "hashtag=yomequedoenminegocio<br>date=%{x}<br>value=%{y}<extra></extra>",
         "legendgroup": "yomequedoenminegocio",
         "line": {
          "color": "#FF97FF",
          "dash": "solid"
         },
         "mode": "lines",
         "name": "yomequedoenminegocio",
         "showlegend": true,
         "type": "scatter",
         "x": [
          "2020-04-19T00:00:00"
         ],
         "xaxis": "x",
         "y": [
          1
         ],
         "yaxis": "y"
        },
        {
         "hovertemplate": "hashtag=yoquierocarcelparacorruptos<br>date=%{x}<br>value=%{y}<extra></extra>",
         "legendgroup": "yoquierocarcelparacorruptos",
         "line": {
          "color": "#FECB52",
          "dash": "solid"
         },
         "mode": "lines",
         "name": "yoquierocarcelparacorruptos",
         "showlegend": true,
         "type": "scatter",
         "x": [
          "2020-04-09T00:00:00"
         ],
         "xaxis": "x",
         "y": [
          1
         ],
         "yaxis": "y"
        },
        {
         "hovertemplate": "hashtag=yorespiropor<br>date=%{x}<br>value=%{y}<extra></extra>",
         "legendgroup": "yorespiropor",
         "line": {
          "color": "#636efa",
          "dash": "solid"
         },
         "mode": "lines",
         "name": "yorespiropor",
         "showlegend": true,
         "type": "scatter",
         "x": [
          "2020-04-06T00:00:00"
         ],
         "xaxis": "x",
         "y": [
          1
         ],
         "yaxis": "y"
        },
        {
         "hovertemplate": "hashtag=yotambiéndonomedellín<br>date=%{x}<br>value=%{y}<extra></extra>",
         "legendgroup": "yotambiéndonomedellín",
         "line": {
          "color": "#EF553B",
          "dash": "solid"
         },
         "mode": "lines",
         "name": "yotambiéndonomedellín",
         "showlegend": true,
         "type": "scatter",
         "x": [
          "2020-04-08T00:00:00",
          "2020-04-09T00:00:00"
         ],
         "xaxis": "x",
         "y": [
          2,
          1
         ],
         "yaxis": "y"
        },
        {
         "hovertemplate": "hashtag=yovoteadyqyeymearrepiento<br>date=%{x}<br>value=%{y}<extra></extra>",
         "legendgroup": "yovoteadyqyeymearrepiento",
         "line": {
          "color": "#00cc96",
          "dash": "solid"
         },
         "mode": "lines",
         "name": "yovoteadyqyeymearrepiento",
         "showlegend": true,
         "type": "scatter",
         "x": [
          "2020-04-25T00:00:00"
         ],
         "xaxis": "x",
         "y": [
          1
         ],
         "yaxis": "y"
        },
        {
         "hovertemplate": "hashtag=zoologicosantacruz<br>date=%{x}<br>value=%{y}<extra></extra>",
         "legendgroup": "zoologicosantacruz",
         "line": {
          "color": "#ab63fa",
          "dash": "solid"
         },
         "mode": "lines",
         "name": "zoologicosantacruz",
         "showlegend": true,
         "type": "scatter",
         "x": [
          "2020-04-09T00:00:00"
         ],
         "xaxis": "x",
         "y": [
          1
         ],
         "yaxis": "y"
        },
        {
         "hovertemplate": "hashtag=zoológicosantacruz<br>date=%{x}<br>value=%{y}<extra></extra>",
         "legendgroup": "zoológicosantacruz",
         "line": {
          "color": "#FFA15A",
          "dash": "solid"
         },
         "mode": "lines",
         "name": "zoológicosantacruz",
         "showlegend": true,
         "type": "scatter",
         "x": [
          "2020-04-09T00:00:00"
         ],
         "xaxis": "x",
         "y": [
          1
         ],
         "yaxis": "y"
        },
        {
         "hovertemplate": "hashtag=ñeñe<br>date=%{x}<br>value=%{y}<extra></extra>",
         "legendgroup": "ñeñe",
         "line": {
          "color": "#19d3f3",
          "dash": "solid"
         },
         "mode": "lines",
         "name": "ñeñe",
         "showlegend": true,
         "type": "scatter",
         "x": [
          "2020-04-10T00:00:00"
         ],
         "xaxis": "x",
         "y": [
          1
         ],
         "yaxis": "y"
        },
        {
         "hovertemplate": "hashtag=ñeñevirus<br>date=%{x}<br>value=%{y}<extra></extra>",
         "legendgroup": "ñeñevirus",
         "line": {
          "color": "#FF6692",
          "dash": "solid"
         },
         "mode": "lines",
         "name": "ñeñevirus",
         "showlegend": true,
         "type": "scatter",
         "x": [
          "2020-04-09T00:00:00"
         ],
         "xaxis": "x",
         "y": [
          1
         ],
         "yaxis": "y"
        },
        {
         "hovertemplate": "hashtag=últimahora<br>date=%{x}<br>value=%{y}<extra></extra>",
         "legendgroup": "últimahora",
         "line": {
          "color": "#B6E880",
          "dash": "solid"
         },
         "mode": "lines",
         "name": "últimahora",
         "showlegend": true,
         "type": "scatter",
         "x": [
          "2020-04-21T00:00:00"
         ],
         "xaxis": "x",
         "y": [
          1
         ],
         "yaxis": "y"
        },
        {
         "hovertemplate": "hashtag=últimahoracaracol<br>date=%{x}<br>value=%{y}<extra></extra>",
         "legendgroup": "últimahoracaracol",
         "line": {
          "color": "#FF97FF",
          "dash": "solid"
         },
         "mode": "lines",
         "name": "últimahoracaracol",
         "showlegend": true,
         "type": "scatter",
         "x": [
          "2020-04-03T00:00:00"
         ],
         "xaxis": "x",
         "y": [
          1
         ],
         "yaxis": "y"
        }
       ],
       "layout": {
        "legend": {
         "title": {
          "text": "hashtag"
         },
         "tracegroupgap": 0
        },
        "margin": {
         "t": 60
        },
        "template": {
         "data": {
          "bar": [
           {
            "error_x": {
             "color": "#2a3f5f"
            },
            "error_y": {
             "color": "#2a3f5f"
            },
            "marker": {
             "line": {
              "color": "#E5ECF6",
              "width": 0.5
             }
            },
            "type": "bar"
           }
          ],
          "barpolar": [
           {
            "marker": {
             "line": {
              "color": "#E5ECF6",
              "width": 0.5
             }
            },
            "type": "barpolar"
           }
          ],
          "carpet": [
           {
            "aaxis": {
             "endlinecolor": "#2a3f5f",
             "gridcolor": "white",
             "linecolor": "white",
             "minorgridcolor": "white",
             "startlinecolor": "#2a3f5f"
            },
            "baxis": {
             "endlinecolor": "#2a3f5f",
             "gridcolor": "white",
             "linecolor": "white",
             "minorgridcolor": "white",
             "startlinecolor": "#2a3f5f"
            },
            "type": "carpet"
           }
          ],
          "choropleth": [
           {
            "colorbar": {
             "outlinewidth": 0,
             "ticks": ""
            },
            "type": "choropleth"
           }
          ],
          "contour": [
           {
            "colorbar": {
             "outlinewidth": 0,
             "ticks": ""
            },
            "colorscale": [
             [
              0,
              "#0d0887"
             ],
             [
              0.1111111111111111,
              "#46039f"
             ],
             [
              0.2222222222222222,
              "#7201a8"
             ],
             [
              0.3333333333333333,
              "#9c179e"
             ],
             [
              0.4444444444444444,
              "#bd3786"
             ],
             [
              0.5555555555555556,
              "#d8576b"
             ],
             [
              0.6666666666666666,
              "#ed7953"
             ],
             [
              0.7777777777777778,
              "#fb9f3a"
             ],
             [
              0.8888888888888888,
              "#fdca26"
             ],
             [
              1,
              "#f0f921"
             ]
            ],
            "type": "contour"
           }
          ],
          "contourcarpet": [
           {
            "colorbar": {
             "outlinewidth": 0,
             "ticks": ""
            },
            "type": "contourcarpet"
           }
          ],
          "heatmap": [
           {
            "colorbar": {
             "outlinewidth": 0,
             "ticks": ""
            },
            "colorscale": [
             [
              0,
              "#0d0887"
             ],
             [
              0.1111111111111111,
              "#46039f"
             ],
             [
              0.2222222222222222,
              "#7201a8"
             ],
             [
              0.3333333333333333,
              "#9c179e"
             ],
             [
              0.4444444444444444,
              "#bd3786"
             ],
             [
              0.5555555555555556,
              "#d8576b"
             ],
             [
              0.6666666666666666,
              "#ed7953"
             ],
             [
              0.7777777777777778,
              "#fb9f3a"
             ],
             [
              0.8888888888888888,
              "#fdca26"
             ],
             [
              1,
              "#f0f921"
             ]
            ],
            "type": "heatmap"
           }
          ],
          "heatmapgl": [
           {
            "colorbar": {
             "outlinewidth": 0,
             "ticks": ""
            },
            "colorscale": [
             [
              0,
              "#0d0887"
             ],
             [
              0.1111111111111111,
              "#46039f"
             ],
             [
              0.2222222222222222,
              "#7201a8"
             ],
             [
              0.3333333333333333,
              "#9c179e"
             ],
             [
              0.4444444444444444,
              "#bd3786"
             ],
             [
              0.5555555555555556,
              "#d8576b"
             ],
             [
              0.6666666666666666,
              "#ed7953"
             ],
             [
              0.7777777777777778,
              "#fb9f3a"
             ],
             [
              0.8888888888888888,
              "#fdca26"
             ],
             [
              1,
              "#f0f921"
             ]
            ],
            "type": "heatmapgl"
           }
          ],
          "histogram": [
           {
            "marker": {
             "colorbar": {
              "outlinewidth": 0,
              "ticks": ""
             }
            },
            "type": "histogram"
           }
          ],
          "histogram2d": [
           {
            "colorbar": {
             "outlinewidth": 0,
             "ticks": ""
            },
            "colorscale": [
             [
              0,
              "#0d0887"
             ],
             [
              0.1111111111111111,
              "#46039f"
             ],
             [
              0.2222222222222222,
              "#7201a8"
             ],
             [
              0.3333333333333333,
              "#9c179e"
             ],
             [
              0.4444444444444444,
              "#bd3786"
             ],
             [
              0.5555555555555556,
              "#d8576b"
             ],
             [
              0.6666666666666666,
              "#ed7953"
             ],
             [
              0.7777777777777778,
              "#fb9f3a"
             ],
             [
              0.8888888888888888,
              "#fdca26"
             ],
             [
              1,
              "#f0f921"
             ]
            ],
            "type": "histogram2d"
           }
          ],
          "histogram2dcontour": [
           {
            "colorbar": {
             "outlinewidth": 0,
             "ticks": ""
            },
            "colorscale": [
             [
              0,
              "#0d0887"
             ],
             [
              0.1111111111111111,
              "#46039f"
             ],
             [
              0.2222222222222222,
              "#7201a8"
             ],
             [
              0.3333333333333333,
              "#9c179e"
             ],
             [
              0.4444444444444444,
              "#bd3786"
             ],
             [
              0.5555555555555556,
              "#d8576b"
             ],
             [
              0.6666666666666666,
              "#ed7953"
             ],
             [
              0.7777777777777778,
              "#fb9f3a"
             ],
             [
              0.8888888888888888,
              "#fdca26"
             ],
             [
              1,
              "#f0f921"
             ]
            ],
            "type": "histogram2dcontour"
           }
          ],
          "mesh3d": [
           {
            "colorbar": {
             "outlinewidth": 0,
             "ticks": ""
            },
            "type": "mesh3d"
           }
          ],
          "parcoords": [
           {
            "line": {
             "colorbar": {
              "outlinewidth": 0,
              "ticks": ""
             }
            },
            "type": "parcoords"
           }
          ],
          "pie": [
           {
            "automargin": true,
            "type": "pie"
           }
          ],
          "scatter": [
           {
            "marker": {
             "colorbar": {
              "outlinewidth": 0,
              "ticks": ""
             }
            },
            "type": "scatter"
           }
          ],
          "scatter3d": [
           {
            "line": {
             "colorbar": {
              "outlinewidth": 0,
              "ticks": ""
             }
            },
            "marker": {
             "colorbar": {
              "outlinewidth": 0,
              "ticks": ""
             }
            },
            "type": "scatter3d"
           }
          ],
          "scattercarpet": [
           {
            "marker": {
             "colorbar": {
              "outlinewidth": 0,
              "ticks": ""
             }
            },
            "type": "scattercarpet"
           }
          ],
          "scattergeo": [
           {
            "marker": {
             "colorbar": {
              "outlinewidth": 0,
              "ticks": ""
             }
            },
            "type": "scattergeo"
           }
          ],
          "scattergl": [
           {
            "marker": {
             "colorbar": {
              "outlinewidth": 0,
              "ticks": ""
             }
            },
            "type": "scattergl"
           }
          ],
          "scattermapbox": [
           {
            "marker": {
             "colorbar": {
              "outlinewidth": 0,
              "ticks": ""
             }
            },
            "type": "scattermapbox"
           }
          ],
          "scatterpolar": [
           {
            "marker": {
             "colorbar": {
              "outlinewidth": 0,
              "ticks": ""
             }
            },
            "type": "scatterpolar"
           }
          ],
          "scatterpolargl": [
           {
            "marker": {
             "colorbar": {
              "outlinewidth": 0,
              "ticks": ""
             }
            },
            "type": "scatterpolargl"
           }
          ],
          "scatterternary": [
           {
            "marker": {
             "colorbar": {
              "outlinewidth": 0,
              "ticks": ""
             }
            },
            "type": "scatterternary"
           }
          ],
          "surface": [
           {
            "colorbar": {
             "outlinewidth": 0,
             "ticks": ""
            },
            "colorscale": [
             [
              0,
              "#0d0887"
             ],
             [
              0.1111111111111111,
              "#46039f"
             ],
             [
              0.2222222222222222,
              "#7201a8"
             ],
             [
              0.3333333333333333,
              "#9c179e"
             ],
             [
              0.4444444444444444,
              "#bd3786"
             ],
             [
              0.5555555555555556,
              "#d8576b"
             ],
             [
              0.6666666666666666,
              "#ed7953"
             ],
             [
              0.7777777777777778,
              "#fb9f3a"
             ],
             [
              0.8888888888888888,
              "#fdca26"
             ],
             [
              1,
              "#f0f921"
             ]
            ],
            "type": "surface"
           }
          ],
          "table": [
           {
            "cells": {
             "fill": {
              "color": "#EBF0F8"
             },
             "line": {
              "color": "white"
             }
            },
            "header": {
             "fill": {
              "color": "#C8D4E3"
             },
             "line": {
              "color": "white"
             }
            },
            "type": "table"
           }
          ]
         },
         "layout": {
          "annotationdefaults": {
           "arrowcolor": "#2a3f5f",
           "arrowhead": 0,
           "arrowwidth": 1
          },
          "coloraxis": {
           "colorbar": {
            "outlinewidth": 0,
            "ticks": ""
           }
          },
          "colorscale": {
           "diverging": [
            [
             0,
             "#8e0152"
            ],
            [
             0.1,
             "#c51b7d"
            ],
            [
             0.2,
             "#de77ae"
            ],
            [
             0.3,
             "#f1b6da"
            ],
            [
             0.4,
             "#fde0ef"
            ],
            [
             0.5,
             "#f7f7f7"
            ],
            [
             0.6,
             "#e6f5d0"
            ],
            [
             0.7,
             "#b8e186"
            ],
            [
             0.8,
             "#7fbc41"
            ],
            [
             0.9,
             "#4d9221"
            ],
            [
             1,
             "#276419"
            ]
           ],
           "sequential": [
            [
             0,
             "#0d0887"
            ],
            [
             0.1111111111111111,
             "#46039f"
            ],
            [
             0.2222222222222222,
             "#7201a8"
            ],
            [
             0.3333333333333333,
             "#9c179e"
            ],
            [
             0.4444444444444444,
             "#bd3786"
            ],
            [
             0.5555555555555556,
             "#d8576b"
            ],
            [
             0.6666666666666666,
             "#ed7953"
            ],
            [
             0.7777777777777778,
             "#fb9f3a"
            ],
            [
             0.8888888888888888,
             "#fdca26"
            ],
            [
             1,
             "#f0f921"
            ]
           ],
           "sequentialminus": [
            [
             0,
             "#0d0887"
            ],
            [
             0.1111111111111111,
             "#46039f"
            ],
            [
             0.2222222222222222,
             "#7201a8"
            ],
            [
             0.3333333333333333,
             "#9c179e"
            ],
            [
             0.4444444444444444,
             "#bd3786"
            ],
            [
             0.5555555555555556,
             "#d8576b"
            ],
            [
             0.6666666666666666,
             "#ed7953"
            ],
            [
             0.7777777777777778,
             "#fb9f3a"
            ],
            [
             0.8888888888888888,
             "#fdca26"
            ],
            [
             1,
             "#f0f921"
            ]
           ]
          },
          "colorway": [
           "#636efa",
           "#EF553B",
           "#00cc96",
           "#ab63fa",
           "#FFA15A",
           "#19d3f3",
           "#FF6692",
           "#B6E880",
           "#FF97FF",
           "#FECB52"
          ],
          "font": {
           "color": "#2a3f5f"
          },
          "geo": {
           "bgcolor": "white",
           "lakecolor": "white",
           "landcolor": "#E5ECF6",
           "showlakes": true,
           "showland": true,
           "subunitcolor": "white"
          },
          "hoverlabel": {
           "align": "left"
          },
          "hovermode": "closest",
          "mapbox": {
           "style": "light"
          },
          "paper_bgcolor": "white",
          "plot_bgcolor": "#E5ECF6",
          "polar": {
           "angularaxis": {
            "gridcolor": "white",
            "linecolor": "white",
            "ticks": ""
           },
           "bgcolor": "#E5ECF6",
           "radialaxis": {
            "gridcolor": "white",
            "linecolor": "white",
            "ticks": ""
           }
          },
          "scene": {
           "xaxis": {
            "backgroundcolor": "#E5ECF6",
            "gridcolor": "white",
            "gridwidth": 2,
            "linecolor": "white",
            "showbackground": true,
            "ticks": "",
            "zerolinecolor": "white"
           },
           "yaxis": {
            "backgroundcolor": "#E5ECF6",
            "gridcolor": "white",
            "gridwidth": 2,
            "linecolor": "white",
            "showbackground": true,
            "ticks": "",
            "zerolinecolor": "white"
           },
           "zaxis": {
            "backgroundcolor": "#E5ECF6",
            "gridcolor": "white",
            "gridwidth": 2,
            "linecolor": "white",
            "showbackground": true,
            "ticks": "",
            "zerolinecolor": "white"
           }
          },
          "shapedefaults": {
           "line": {
            "color": "#2a3f5f"
           }
          },
          "ternary": {
           "aaxis": {
            "gridcolor": "white",
            "linecolor": "white",
            "ticks": ""
           },
           "baxis": {
            "gridcolor": "white",
            "linecolor": "white",
            "ticks": ""
           },
           "bgcolor": "#E5ECF6",
           "caxis": {
            "gridcolor": "white",
            "linecolor": "white",
            "ticks": ""
           }
          },
          "title": {
           "x": 0.05
          },
          "xaxis": {
           "automargin": true,
           "gridcolor": "white",
           "linecolor": "white",
           "ticks": "",
           "title": {
            "standoff": 15
           },
           "zerolinecolor": "white",
           "zerolinewidth": 2
          },
          "yaxis": {
           "automargin": true,
           "gridcolor": "white",
           "linecolor": "white",
           "ticks": "",
           "title": {
            "standoff": 15
           },
           "zerolinecolor": "white",
           "zerolinewidth": 2
          }
         }
        },
        "xaxis": {
         "anchor": "y",
         "domain": [
          0,
          1
         ],
         "title": {
          "text": "date"
         }
        },
        "yaxis": {
         "anchor": "x",
         "domain": [
          0,
          1
         ],
         "title": {
          "text": "value"
         }
        }
       }
      },
      "text/html": [
       "<div>\n",
       "        \n",
       "        \n",
       "            <div id=\"ee79bf29-dcbe-4718-9309-32099484277f\" class=\"plotly-graph-div\" style=\"height:525px; width:100%;\"></div>\n",
       "            <script type=\"text/javascript\">\n",
       "                require([\"plotly\"], function(Plotly) {\n",
       "                    window.PLOTLYENV=window.PLOTLYENV || {};\n",
       "                    \n",
       "                if (document.getElementById(\"ee79bf29-dcbe-4718-9309-32099484277f\")) {\n",
       "                    Plotly.newPlot(\n",
       "                        'ee79bf29-dcbe-4718-9309-32099484277f',\n",
       "                        [{\"hovertemplate\": \"hashtag=08abr<br>date=%{x}<br>value=%{y}<extra></extra>\", \"legendgroup\": \"08abr\", \"line\": {\"color\": \"#636efa\", \"dash\": \"solid\"}, \"mode\": \"lines\", \"name\": \"08abr\", \"showlegend\": true, \"type\": \"scatter\", \"x\": [\"2020-04-09T00:00:00\"], \"xaxis\": \"x\", \"y\": [1.0], \"yaxis\": \"y\"}, {\"hovertemplate\": \"hashtag=09abril<br>date=%{x}<br>value=%{y}<extra></extra>\", \"legendgroup\": \"09abril\", \"line\": {\"color\": \"#EF553B\", \"dash\": \"solid\"}, \"mode\": \"lines\", \"name\": \"09abril\", \"showlegend\": true, \"type\": \"scatter\", \"x\": [\"2020-04-09T00:00:00\"], \"xaxis\": \"x\", \"y\": [1.0], \"yaxis\": \"y\"}, {\"hovertemplate\": \"hashtag=12abril<br>date=%{x}<br>value=%{y}<extra></extra>\", \"legendgroup\": \"12abril\", \"line\": {\"color\": \"#00cc96\", \"dash\": \"solid\"}, \"mode\": \"lines\", \"name\": \"12abril\", \"showlegend\": true, \"type\": \"scatter\", \"x\": [\"2020-04-14T00:00:00\"], \"xaxis\": \"x\", \"y\": [1.0], \"yaxis\": \"y\"}, {\"hovertemplate\": \"hashtag=6amhoyporhoy<br>date=%{x}<br>value=%{y}<extra></extra>\", \"legendgroup\": \"6amhoyporhoy\", \"line\": {\"color\": \"#ab63fa\", \"dash\": \"solid\"}, \"mode\": \"lines\", \"name\": \"6amhoyporhoy\", \"showlegend\": true, \"type\": \"scatter\", \"x\": [\"2020-04-08T00:00:00\"], \"xaxis\": \"x\", \"y\": [1.0], \"yaxis\": \"y\"}, {\"hovertemplate\": \"hashtag=9abril<br>date=%{x}<br>value=%{y}<extra></extra>\", \"legendgroup\": \"9abril\", \"line\": {\"color\": \"#FFA15A\", \"dash\": \"solid\"}, \"mode\": \"lines\", \"name\": \"9abril\", \"showlegend\": true, \"type\": \"scatter\", \"x\": [\"2020-04-09T00:00:00\"], \"xaxis\": \"x\", \"y\": [1.0], \"yaxis\": \"y\"}, {\"hovertemplate\": \"hashtag=9aunasolavoz<br>date=%{x}<br>value=%{y}<extra></extra>\", \"legendgroup\": \"9aunasolavoz\", \"line\": {\"color\": \"#19d3f3\", \"dash\": \"solid\"}, \"mode\": \"lines\", \"name\": \"9aunasolavoz\", \"showlegend\": true, \"type\": \"scatter\", \"x\": [\"2020-04-09T00:00:00\", \"2020-04-10T00:00:00\"], \"xaxis\": \"x\", \"y\": [2.0, 1.0], \"yaxis\": \"y\"}, {\"hovertemplate\": \"hashtag=abril<br>date=%{x}<br>value=%{y}<extra></extra>\", \"legendgroup\": \"abril\", \"line\": {\"color\": \"#FF6692\", \"dash\": \"solid\"}, \"mode\": \"lines\", \"name\": \"abril\", \"showlegend\": true, \"type\": \"scatter\", \"x\": [\"2020-04-24T00:00:00\"], \"xaxis\": \"x\", \"y\": [1.0], \"yaxis\": \"y\"}, {\"hovertemplate\": \"hashtag=accionesporlavida<br>date=%{x}<br>value=%{y}<extra></extra>\", \"legendgroup\": \"accionesporlavida\", \"line\": {\"color\": \"#B6E880\", \"dash\": \"solid\"}, \"mode\": \"lines\", \"name\": \"accionesporlavida\", \"showlegend\": true, \"type\": \"scatter\", \"x\": [\"2020-04-04T00:00:00\"], \"xaxis\": \"x\", \"y\": [1.0], \"yaxis\": \"y\"}, {\"hovertemplate\": \"hashtag=actualizaci\\u00f3n<br>date=%{x}<br>value=%{y}<extra></extra>\", \"legendgroup\": \"actualizaci\\u00f3n\", \"line\": {\"color\": \"#FF97FF\", \"dash\": \"solid\"}, \"mode\": \"lines\", \"name\": \"actualizaci\\u00f3n\", \"showlegend\": true, \"type\": \"scatter\", \"x\": [\"2020-04-08T00:00:00\"], \"xaxis\": \"x\", \"y\": [2.0], \"yaxis\": \"y\"}, {\"hovertemplate\": \"hashtag=adaptaci\\u00f3n<br>date=%{x}<br>value=%{y}<extra></extra>\", \"legendgroup\": \"adaptaci\\u00f3n\", \"line\": {\"color\": \"#FECB52\", \"dash\": \"solid\"}, \"mode\": \"lines\", \"name\": \"adaptaci\\u00f3n\", \"showlegend\": true, \"type\": \"scatter\", \"x\": [\"2020-04-08T00:00:00\"], \"xaxis\": \"x\", \"y\": [1.0], \"yaxis\": \"y\"}, {\"hovertemplate\": \"hashtag=aestahora<br>date=%{x}<br>value=%{y}<extra></extra>\", \"legendgroup\": \"aestahora\", \"line\": {\"color\": \"#636efa\", \"dash\": \"solid\"}, \"mode\": \"lines\", \"name\": \"aestahora\", \"showlegend\": true, \"type\": \"scatter\", \"x\": [\"2020-04-05T00:00:00\", \"2020-04-08T00:00:00\", \"2020-04-14T00:00:00\", \"2020-04-16T00:00:00\", \"2020-04-17T00:00:00\", \"2020-04-20T00:00:00\", \"2020-04-21T00:00:00\", \"2020-04-23T00:00:00\"], \"xaxis\": \"x\", \"y\": [1.0, 2.0, 1.0, 1.0, 1.0, 1.0, 3.0, 2.0], \"yaxis\": \"y\"}, {\"hovertemplate\": \"hashtag=afp<br>date=%{x}<br>value=%{y}<extra></extra>\", \"legendgroup\": \"afp\", \"line\": {\"color\": \"#EF553B\", \"dash\": \"solid\"}, \"mode\": \"lines\", \"name\": \"afp\", \"showlegend\": true, \"type\": \"scatter\", \"x\": [\"2020-04-10T00:00:00\", \"2020-04-21T00:00:00\"], \"xaxis\": \"x\", \"y\": [1.0, 1.0], \"yaxis\": \"y\"}, {\"hovertemplate\": \"hashtag=agremiacionfreelance<br>date=%{x}<br>value=%{y}<extra></extra>\", \"legendgroup\": \"agremiacionfreelance\", \"line\": {\"color\": \"#00cc96\", \"dash\": \"solid\"}, \"mode\": \"lines\", \"name\": \"agremiacionfreelance\", \"showlegend\": true, \"type\": \"scatter\", \"x\": [\"2020-04-09T00:00:00\"], \"xaxis\": \"x\", \"y\": [1.0], \"yaxis\": \"y\"}, {\"hovertemplate\": \"hashtag=agroingresoseguro<br>date=%{x}<br>value=%{y}<extra></extra>\", \"legendgroup\": \"agroingresoseguro\", \"line\": {\"color\": \"#ab63fa\", \"dash\": \"solid\"}, \"mode\": \"lines\", \"name\": \"agroingresoseguro\", \"showlegend\": true, \"type\": \"scatter\", \"x\": [\"2020-04-09T00:00:00\"], \"xaxis\": \"x\", \"y\": [2.0], \"yaxis\": \"y\"}, {\"hovertemplate\": \"hashtag=agroingresoseguro2<br>date=%{x}<br>value=%{y}<extra></extra>\", \"legendgroup\": \"agroingresoseguro2\", \"line\": {\"color\": \"#FFA15A\", \"dash\": \"solid\"}, \"mode\": \"lines\", \"name\": \"agroingresoseguro2\", \"showlegend\": true, \"type\": \"scatter\", \"x\": [\"2020-04-19T00:00:00\", \"2020-04-20T00:00:00\"], \"xaxis\": \"x\", \"y\": [2.0, 1.0], \"yaxis\": \"y\"}, {\"hovertemplate\": \"hashtag=agroingresosolidario<br>date=%{x}<br>value=%{y}<extra></extra>\", \"legendgroup\": \"agroingresosolidario\", \"line\": {\"color\": \"#19d3f3\", \"dash\": \"solid\"}, \"mode\": \"lines\", \"name\": \"agroingresosolidario\", \"showlegend\": true, \"type\": \"scatter\", \"x\": [\"2020-04-09T00:00:00\"], \"xaxis\": \"x\", \"y\": [1.0], \"yaxis\": \"y\"}, {\"hovertemplate\": \"hashtag=aislamientointeligente<br>date=%{x}<br>value=%{y}<extra></extra>\", \"legendgroup\": \"aislamientointeligente\", \"line\": {\"color\": \"#FF6692\", \"dash\": \"solid\"}, \"mode\": \"lines\", \"name\": \"aislamientointeligente\", \"showlegend\": true, \"type\": \"scatter\", \"x\": [\"2020-04-06T00:00:00\"], \"xaxis\": \"x\", \"y\": [48.0], \"yaxis\": \"y\"}, {\"hovertemplate\": \"hashtag=aislamientointeligentes\\u00edono<br>date=%{x}<br>value=%{y}<extra></extra>\", \"legendgroup\": \"aislamientointeligentes\\u00edono\", \"line\": {\"color\": \"#B6E880\", \"dash\": \"solid\"}, \"mode\": \"lines\", \"name\": \"aislamientointeligentes\\u00edono\", \"showlegend\": true, \"type\": \"scatter\", \"x\": [\"2020-04-06T00:00:00\"], \"xaxis\": \"x\", \"y\": [26.0], \"yaxis\": \"y\"}, {\"hovertemplate\": \"hashtag=aislamientosalvavidas<br>date=%{x}<br>value=%{y}<extra></extra>\", \"legendgroup\": \"aislamientosalvavidas\", \"line\": {\"color\": \"#FF97FF\", \"dash\": \"solid\"}, \"mode\": \"lines\", \"name\": \"aislamientosalvavidas\", \"showlegend\": true, \"type\": \"scatter\", \"x\": [\"2020-04-07T00:00:00\"], \"xaxis\": \"x\", \"y\": [11.0], \"yaxis\": \"y\"}, {\"hovertemplate\": \"hashtag=alaire<br>date=%{x}<br>value=%{y}<extra></extra>\", \"legendgroup\": \"alaire\", \"line\": {\"color\": \"#FECB52\", \"dash\": \"solid\"}, \"mode\": \"lines\", \"name\": \"alaire\", \"showlegend\": true, \"type\": \"scatter\", \"x\": [\"2020-04-03T00:00:00\", \"2020-04-07T00:00:00\", \"2020-04-08T00:00:00\", \"2020-04-09T00:00:00\", \"2020-04-16T00:00:00\", \"2020-04-17T00:00:00\", \"2020-04-22T00:00:00\"], \"xaxis\": \"x\", \"y\": [1.0, 1.0, 35.0, 35.0, 1.0, 1.0, 1.0], \"yaxis\": \"y\"}, {\"hovertemplate\": \"hashtag=alaireenlafm<br>date=%{x}<br>value=%{y}<extra></extra>\", \"legendgroup\": \"alaireenlafm\", \"line\": {\"color\": \"#636efa\", \"dash\": \"solid\"}, \"mode\": \"lines\", \"name\": \"alaireenlafm\", \"showlegend\": true, \"type\": \"scatter\", \"x\": [\"2020-04-06T00:00:00\", \"2020-04-07T00:00:00\", \"2020-04-08T00:00:00\", \"2020-04-10T00:00:00\"], \"xaxis\": \"x\", \"y\": [9.0, 15.0, 8.0, 1.0], \"yaxis\": \"y\"}, {\"hovertemplate\": \"hashtag=alamano<br>date=%{x}<br>value=%{y}<extra></extra>\", \"legendgroup\": \"alamano\", \"line\": {\"color\": \"#EF553B\", \"dash\": \"solid\"}, \"mode\": \"lines\", \"name\": \"alamano\", \"showlegend\": true, \"type\": \"scatter\", \"x\": [\"2020-04-09T00:00:00\"], \"xaxis\": \"x\", \"y\": [3.0], \"yaxis\": \"y\"}, {\"hovertemplate\": \"hashtag=alargarlacuarentenaes<br>date=%{x}<br>value=%{y}<extra></extra>\", \"legendgroup\": \"alargarlacuarentenaes\", \"line\": {\"color\": \"#00cc96\", \"dash\": \"solid\"}, \"mode\": \"lines\", \"name\": \"alargarlacuarentenaes\", \"showlegend\": true, \"type\": \"scatter\", \"x\": [\"2020-04-07T00:00:00\", \"2020-04-08T00:00:00\"], \"xaxis\": \"x\", \"y\": [50.0, 1.0], \"yaxis\": \"y\"}, {\"hovertemplate\": \"hashtag=alataque<br>date=%{x}<br>value=%{y}<extra></extra>\", \"legendgroup\": \"alataque\", \"line\": {\"color\": \"#ab63fa\", \"dash\": \"solid\"}, \"mode\": \"lines\", \"name\": \"alataque\", \"showlegend\": true, \"type\": \"scatter\", \"x\": [\"2020-04-09T00:00:00\"], \"xaxis\": \"x\", \"y\": [1.0], \"yaxis\": \"y\"}, {\"hovertemplate\": \"hashtag=alcaldiademedellin<br>date=%{x}<br>value=%{y}<extra></extra>\", \"legendgroup\": \"alcaldiademedellin\", \"line\": {\"color\": \"#FFA15A\", \"dash\": \"solid\"}, \"mode\": \"lines\", \"name\": \"alcaldiademedellin\", \"showlegend\": true, \"type\": \"scatter\", \"x\": [\"2020-04-10T00:00:00\"], \"xaxis\": \"x\", \"y\": [1.0], \"yaxis\": \"y\"}, {\"hovertemplate\": \"hashtag=alosbanqueroslespido<br>date=%{x}<br>value=%{y}<extra></extra>\", \"legendgroup\": \"alosbanqueroslespido\", \"line\": {\"color\": \"#19d3f3\", \"dash\": \"solid\"}, \"mode\": \"lines\", \"name\": \"alosbanqueroslespido\", \"showlegend\": true, \"type\": \"scatter\", \"x\": [\"2020-04-21T00:00:00\"], \"xaxis\": \"x\", \"y\": [2.0], \"yaxis\": \"y\"}, {\"hovertemplate\": \"hashtag=amorsincero<br>date=%{x}<br>value=%{y}<extra></extra>\", \"legendgroup\": \"amorsincero\", \"line\": {\"color\": \"#FF6692\", \"dash\": \"solid\"}, \"mode\": \"lines\", \"name\": \"amorsincero\", \"showlegend\": true, \"type\": \"scatter\", \"x\": [\"2020-04-07T00:00:00\"], \"xaxis\": \"x\", \"y\": [1.0], \"yaxis\": \"y\"}, {\"hovertemplate\": \"hashtag=ampliaci\\u00f3n<br>date=%{x}<br>value=%{y}<extra></extra>\", \"legendgroup\": \"ampliaci\\u00f3n\", \"line\": {\"color\": \"#B6E880\", \"dash\": \"solid\"}, \"mode\": \"lines\", \"name\": \"ampliaci\\u00f3n\", \"showlegend\": true, \"type\": \"scatter\", \"x\": [\"2020-04-06T00:00:00\", \"2020-04-07T00:00:00\", \"2020-04-08T00:00:00\", \"2020-04-09T00:00:00\"], \"xaxis\": \"x\", \"y\": [1.0, 3.0, 5.0, 4.0], \"yaxis\": \"y\"}, {\"hovertemplate\": \"hashtag=angelamerkel<br>date=%{x}<br>value=%{y}<extra></extra>\", \"legendgroup\": \"angelamerkel\", \"line\": {\"color\": \"#FF97FF\", \"dash\": \"solid\"}, \"mode\": \"lines\", \"name\": \"angelamerkel\", \"showlegend\": true, \"type\": \"scatter\", \"x\": [\"2020-04-17T00:00:00\"], \"xaxis\": \"x\", \"y\": [1.0], \"yaxis\": \"y\"}, {\"hovertemplate\": \"hashtag=antioque\\u00f1a<br>date=%{x}<br>value=%{y}<extra></extra>\", \"legendgroup\": \"antioque\\u00f1a\", \"line\": {\"color\": \"#FECB52\", \"dash\": \"solid\"}, \"mode\": \"lines\", \"name\": \"antioque\\u00f1a\", \"showlegend\": true, \"type\": \"scatter\", \"x\": [\"2020-04-19T00:00:00\"], \"xaxis\": \"x\", \"y\": [1.0], \"yaxis\": \"y\"}, {\"hovertemplate\": \"hashtag=antioquia<br>date=%{x}<br>value=%{y}<extra></extra>\", \"legendgroup\": \"antioquia\", \"line\": {\"color\": \"#636efa\", \"dash\": \"solid\"}, \"mode\": \"lines\", \"name\": \"antioquia\", \"showlegend\": true, \"type\": \"scatter\", \"x\": [\"2020-04-21T00:00:00\", \"2020-04-23T00:00:00\"], \"xaxis\": \"x\", \"y\": [1.0, 1.0], \"yaxis\": \"y\"}, {\"hovertemplate\": \"hashtag=antioquiasolidaria<br>date=%{x}<br>value=%{y}<extra></extra>\", \"legendgroup\": \"antioquiasolidaria\", \"line\": {\"color\": \"#EF553B\", \"dash\": \"solid\"}, \"mode\": \"lines\", \"name\": \"antioquiasolidaria\", \"showlegend\": true, \"type\": \"scatter\", \"x\": [\"2020-04-09T00:00:00\"], \"xaxis\": \"x\", \"y\": [1.0], \"yaxis\": \"y\"}, {\"hovertemplate\": \"hashtag=apoyoalpresidente<br>date=%{x}<br>value=%{y}<extra></extra>\", \"legendgroup\": \"apoyoalpresidente\", \"line\": {\"color\": \"#00cc96\", \"dash\": \"solid\"}, \"mode\": \"lines\", \"name\": \"apoyoalpresidente\", \"showlegend\": true, \"type\": \"scatter\", \"x\": [\"2020-04-25T00:00:00\"], \"xaxis\": \"x\", \"y\": [1.0], \"yaxis\": \"y\"}, {\"hovertemplate\": \"hashtag=apoyomicaf\\u00e9<br>date=%{x}<br>value=%{y}<extra></extra>\", \"legendgroup\": \"apoyomicaf\\u00e9\", \"line\": {\"color\": \"#ab63fa\", \"dash\": \"solid\"}, \"mode\": \"lines\", \"name\": \"apoyomicaf\\u00e9\", \"showlegend\": true, \"type\": \"scatter\", \"x\": [\"2020-04-21T00:00:00\"], \"xaxis\": \"x\", \"y\": [1.0], \"yaxis\": \"y\"}, {\"hovertemplate\": \"hashtag=aprovecha<br>date=%{x}<br>value=%{y}<extra></extra>\", \"legendgroup\": \"aprovecha\", \"line\": {\"color\": \"#FFA15A\", \"dash\": \"solid\"}, \"mode\": \"lines\", \"name\": \"aprovecha\", \"showlegend\": true, \"type\": \"scatter\", \"x\": [\"2020-04-07T00:00:00\"], \"xaxis\": \"x\", \"y\": [1.0], \"yaxis\": \"y\"}, {\"hovertemplate\": \"hashtag=asesinos<br>date=%{x}<br>value=%{y}<extra></extra>\", \"legendgroup\": \"asesinos\", \"line\": {\"color\": \"#19d3f3\", \"dash\": \"solid\"}, \"mode\": \"lines\", \"name\": \"asesinos\", \"showlegend\": true, \"type\": \"scatter\", \"x\": [\"2020-04-08T00:00:00\"], \"xaxis\": \"x\", \"y\": [1.0], \"yaxis\": \"y\"}, {\"hovertemplate\": \"hashtag=asiseviveafuera<br>date=%{x}<br>value=%{y}<extra></extra>\", \"legendgroup\": \"asiseviveafuera\", \"line\": {\"color\": \"#FF6692\", \"dash\": \"solid\"}, \"mode\": \"lines\", \"name\": \"asiseviveafuera\", \"showlegend\": true, \"type\": \"scatter\", \"x\": [\"2020-04-06T00:00:00\", \"2020-04-07T00:00:00\", \"2020-04-08T00:00:00\"], \"xaxis\": \"x\", \"y\": [1.0, 1.0, 1.0], \"yaxis\": \"y\"}, {\"hovertemplate\": \"hashtag=atencion<br>date=%{x}<br>value=%{y}<extra></extra>\", \"legendgroup\": \"atencion\", \"line\": {\"color\": \"#B6E880\", \"dash\": \"solid\"}, \"mode\": \"lines\", \"name\": \"atencion\", \"showlegend\": true, \"type\": \"scatter\", \"x\": [\"2020-04-23T00:00:00\"], \"xaxis\": \"x\", \"y\": [1.0], \"yaxis\": \"y\"}, {\"hovertemplate\": \"hashtag=atenci\\u00f3n<br>date=%{x}<br>value=%{y}<extra></extra>\", \"legendgroup\": \"atenci\\u00f3n\", \"line\": {\"color\": \"#FF97FF\", \"dash\": \"solid\"}, \"mode\": \"lines\", \"name\": \"atenci\\u00f3n\", \"showlegend\": true, \"type\": \"scatter\", \"x\": [\"2020-04-06T00:00:00\", \"2020-04-07T00:00:00\", \"2020-04-08T00:00:00\", \"2020-04-09T00:00:00\", \"2020-04-10T00:00:00\"], \"xaxis\": \"x\", \"y\": [2.0, 4.0, 4.0, 6.0, 1.0], \"yaxis\": \"y\"}, {\"hovertemplate\": \"hashtag=atlantico<br>date=%{x}<br>value=%{y}<extra></extra>\", \"legendgroup\": \"atlantico\", \"line\": {\"color\": \"#FECB52\", \"dash\": \"solid\"}, \"mode\": \"lines\", \"name\": \"atlantico\", \"showlegend\": true, \"type\": \"scatter\", \"x\": [\"2020-04-25T00:00:00\"], \"xaxis\": \"x\", \"y\": [1.0], \"yaxis\": \"y\"}, {\"hovertemplate\": \"hashtag=avance<br>date=%{x}<br>value=%{y}<extra></extra>\", \"legendgroup\": \"avance\", \"line\": {\"color\": \"#636efa\", \"dash\": \"solid\"}, \"mode\": \"lines\", \"name\": \"avance\", \"showlegend\": true, \"type\": \"scatter\", \"x\": [\"2020-04-06T00:00:00\", \"2020-04-07T00:00:00\", \"2020-04-08T00:00:00\"], \"xaxis\": \"x\", \"y\": [2.0, 1.0, 1.0], \"yaxis\": \"y\"}, {\"hovertemplate\": \"hashtag=ayudaparalaura<br>date=%{x}<br>value=%{y}<extra></extra>\", \"legendgroup\": \"ayudaparalaura\", \"line\": {\"color\": \"#EF553B\", \"dash\": \"solid\"}, \"mode\": \"lines\", \"name\": \"ayudaparalaura\", \"showlegend\": true, \"type\": \"scatter\", \"x\": [\"2020-04-06T00:00:00\"], \"xaxis\": \"x\", \"y\": [1.0], \"yaxis\": \"y\"}, {\"hovertemplate\": \"hashtag=ayudarnoshacebien<br>date=%{x}<br>value=%{y}<extra></extra>\", \"legendgroup\": \"ayudarnoshacebien\", \"line\": {\"color\": \"#00cc96\", \"dash\": \"solid\"}, \"mode\": \"lines\", \"name\": \"ayudarnoshacebien\", \"showlegend\": true, \"type\": \"scatter\", \"x\": [\"2020-04-02T00:00:00\", \"2020-04-23T00:00:00\"], \"xaxis\": \"x\", \"y\": [1.0, 1.0], \"yaxis\": \"y\"}, {\"hovertemplate\": \"hashtag=ayudashumanitarias<br>date=%{x}<br>value=%{y}<extra></extra>\", \"legendgroup\": \"ayudashumanitarias\", \"line\": {\"color\": \"#ab63fa\", \"dash\": \"solid\"}, \"mode\": \"lines\", \"name\": \"ayudashumanitarias\", \"showlegend\": true, \"type\": \"scatter\", \"x\": [\"2020-04-25T00:00:00\"], \"xaxis\": \"x\", \"y\": [1.0], \"yaxis\": \"y\"}, {\"hovertemplate\": \"hashtag=bajenselossueldospoliticos<br>date=%{x}<br>value=%{y}<extra></extra>\", \"legendgroup\": \"bajenselossueldospoliticos\", \"line\": {\"color\": \"#FFA15A\", \"dash\": \"solid\"}, \"mode\": \"lines\", \"name\": \"bajenselossueldospoliticos\", \"showlegend\": true, \"type\": \"scatter\", \"x\": [\"2020-04-08T00:00:00\"], \"xaxis\": \"x\", \"y\": [1.0], \"yaxis\": \"y\"}, {\"hovertemplate\": \"hashtag=balanceseguridadbogot\\u00e1<br>date=%{x}<br>value=%{y}<extra></extra>\", \"legendgroup\": \"balanceseguridadbogot\\u00e1\", \"line\": {\"color\": \"#19d3f3\", \"dash\": \"solid\"}, \"mode\": \"lines\", \"name\": \"balanceseguridadbogot\\u00e1\", \"showlegend\": true, \"type\": \"scatter\", \"x\": [\"2020-04-02T00:00:00\"], \"xaxis\": \"x\", \"y\": [3.0], \"yaxis\": \"y\"}, {\"hovertemplate\": \"hashtag=balebergalabids<br>date=%{x}<br>value=%{y}<extra></extra>\", \"legendgroup\": \"balebergalabids\", \"line\": {\"color\": \"#FF6692\", \"dash\": \"solid\"}, \"mode\": \"lines\", \"name\": \"balebergalabids\", \"showlegend\": true, \"type\": \"scatter\", \"x\": [\"2020-04-15T00:00:00\"], \"xaxis\": \"x\", \"y\": [1.0], \"yaxis\": \"y\"}, {\"hovertemplate\": \"hashtag=barranquilla<br>date=%{x}<br>value=%{y}<extra></extra>\", \"legendgroup\": \"barranquilla\", \"line\": {\"color\": \"#B6E880\", \"dash\": \"solid\"}, \"mode\": \"lines\", \"name\": \"barranquilla\", \"showlegend\": true, \"type\": \"scatter\", \"x\": [\"2020-04-25T00:00:00\"], \"xaxis\": \"x\", \"y\": [1.0], \"yaxis\": \"y\"}, {\"hovertemplate\": \"hashtag=bastadecorrupcion<br>date=%{x}<br>value=%{y}<extra></extra>\", \"legendgroup\": \"bastadecorrupcion\", \"line\": {\"color\": \"#FF97FF\", \"dash\": \"solid\"}, \"mode\": \"lines\", \"name\": \"bastadecorrupcion\", \"showlegend\": true, \"type\": \"scatter\", \"x\": [\"2020-04-09T00:00:00\"], \"xaxis\": \"x\", \"y\": [1.0], \"yaxis\": \"y\"}, {\"hovertemplate\": \"hashtag=bastaley100<br>date=%{x}<br>value=%{y}<extra></extra>\", \"legendgroup\": \"bastaley100\", \"line\": {\"color\": \"#FECB52\", \"dash\": \"solid\"}, \"mode\": \"lines\", \"name\": \"bastaley100\", \"showlegend\": true, \"type\": \"scatter\", \"x\": [\"2020-04-10T00:00:00\"], \"xaxis\": \"x\", \"y\": [1.0], \"yaxis\": \"y\"}, {\"hovertemplate\": \"hashtag=bastardo<br>date=%{x}<br>value=%{y}<extra></extra>\", \"legendgroup\": \"bastardo\", \"line\": {\"color\": \"#636efa\", \"dash\": \"solid\"}, \"mode\": \"lines\", \"name\": \"bastardo\", \"showlegend\": true, \"type\": \"scatter\", \"x\": [\"2020-04-09T00:00:00\", \"2020-04-24T00:00:00\"], \"xaxis\": \"x\", \"y\": [1.0, 1.0], \"yaxis\": \"y\"}, {\"hovertemplate\": \"hashtag=batall\\u00f3ngirardot<br>date=%{x}<br>value=%{y}<extra></extra>\", \"legendgroup\": \"batall\\u00f3ngirardot\", \"line\": {\"color\": \"#EF553B\", \"dash\": \"solid\"}, \"mode\": \"lines\", \"name\": \"batall\\u00f3ngirardot\", \"showlegend\": true, \"type\": \"scatter\", \"x\": [\"2020-04-19T00:00:00\"], \"xaxis\": \"x\", \"y\": [1.0], \"yaxis\": \"y\"}, {\"hovertemplate\": \"hashtag=bello<br>date=%{x}<br>value=%{y}<extra></extra>\", \"legendgroup\": \"bello\", \"line\": {\"color\": \"#00cc96\", \"dash\": \"solid\"}, \"mode\": \"lines\", \"name\": \"bello\", \"showlegend\": true, \"type\": \"scatter\", \"x\": [\"2020-04-08T00:00:00\"], \"xaxis\": \"x\", \"y\": [1.0], \"yaxis\": \"y\"}, {\"hovertemplate\": \"hashtag=bendecidas<br>date=%{x}<br>value=%{y}<extra></extra>\", \"legendgroup\": \"bendecidas\", \"line\": {\"color\": \"#ab63fa\", \"dash\": \"solid\"}, \"mode\": \"lines\", \"name\": \"bendecidas\", \"showlegend\": true, \"type\": \"scatter\", \"x\": [\"2020-04-09T00:00:00\"], \"xaxis\": \"x\", \"y\": [1.0], \"yaxis\": \"y\"}, {\"hovertemplate\": \"hashtag=beneficiarios<br>date=%{x}<br>value=%{y}<extra></extra>\", \"legendgroup\": \"beneficiarios\", \"line\": {\"color\": \"#FFA15A\", \"dash\": \"solid\"}, \"mode\": \"lines\", \"name\": \"beneficiarios\", \"showlegend\": true, \"type\": \"scatter\", \"x\": [\"2020-04-09T00:00:00\"], \"xaxis\": \"x\", \"y\": [1.0], \"yaxis\": \"y\"}, {\"hovertemplate\": \"hashtag=bettercallsaul<br>date=%{x}<br>value=%{y}<extra></extra>\", \"legendgroup\": \"bettercallsaul\", \"line\": {\"color\": \"#19d3f3\", \"dash\": \"solid\"}, \"mode\": \"lines\", \"name\": \"bettercallsaul\", \"showlegend\": true, \"type\": \"scatter\", \"x\": [\"2020-04-22T00:00:00\", \"2020-04-23T00:00:00\"], \"xaxis\": \"x\", \"y\": [1.0, 1.0], \"yaxis\": \"y\"}, {\"hovertemplate\": \"hashtag=blablablu<br>date=%{x}<br>value=%{y}<extra></extra>\", \"legendgroup\": \"blablablu\", \"line\": {\"color\": \"#FF6692\", \"dash\": \"solid\"}, \"mode\": \"lines\", \"name\": \"blablablu\", \"showlegend\": true, \"type\": \"scatter\", \"x\": [\"2020-04-08T00:00:00\"], \"xaxis\": \"x\", \"y\": [1.0], \"yaxis\": \"y\"}, {\"hovertemplate\": \"hashtag=blackhawk<br>date=%{x}<br>value=%{y}<extra></extra>\", \"legendgroup\": \"blackhawk\", \"line\": {\"color\": \"#B6E880\", \"dash\": \"solid\"}, \"mode\": \"lines\", \"name\": \"blackhawk\", \"showlegend\": true, \"type\": \"scatter\", \"x\": [\"2020-04-21T00:00:00\"], \"xaxis\": \"x\", \"y\": [1.0], \"yaxis\": \"y\"}, {\"hovertemplate\": \"hashtag=blogdeportivo<br>date=%{x}<br>value=%{y}<extra></extra>\", \"legendgroup\": \"blogdeportivo\", \"line\": {\"color\": \"#FF97FF\", \"dash\": \"solid\"}, \"mode\": \"lines\", \"name\": \"blogdeportivo\", \"showlegend\": true, \"type\": \"scatter\", \"x\": [\"2020-04-08T00:00:00\"], \"xaxis\": \"x\", \"y\": [1.0], \"yaxis\": \"y\"}, {\"hovertemplate\": \"hashtag=blu4p0<br>date=%{x}<br>value=%{y}<extra></extra>\", \"legendgroup\": \"blu4p0\", \"line\": {\"color\": \"#FECB52\", \"dash\": \"solid\"}, \"mode\": \"lines\", \"name\": \"blu4p0\", \"showlegend\": true, \"type\": \"scatter\", \"x\": [\"2020-04-08T00:00:00\", \"2020-04-09T00:00:00\"], \"xaxis\": \"x\", \"y\": [2.0, 11.0], \"yaxis\": \"y\"}, {\"hovertemplate\": \"hashtag=bogota<br>date=%{x}<br>value=%{y}<extra></extra>\", \"legendgroup\": \"bogota\", \"line\": {\"color\": \"#636efa\", \"dash\": \"solid\"}, \"mode\": \"lines\", \"name\": \"bogota\", \"showlegend\": true, \"type\": \"scatter\", \"x\": [\"2020-04-09T00:00:00\"], \"xaxis\": \"x\", \"y\": [1.0], \"yaxis\": \"y\"}, {\"hovertemplate\": \"hashtag=bogotasolidariaencasa<br>date=%{x}<br>value=%{y}<extra></extra>\", \"legendgroup\": \"bogotasolidariaencasa\", \"line\": {\"color\": \"#EF553B\", \"dash\": \"solid\"}, \"mode\": \"lines\", \"name\": \"bogotasolidariaencasa\", \"showlegend\": true, \"type\": \"scatter\", \"x\": [\"2020-04-08T00:00:00\", \"2020-04-20T00:00:00\", \"2020-04-23T00:00:00\", \"2020-04-24T00:00:00\"], \"xaxis\": \"x\", \"y\": [1.0, 1.0, 2.0, 2.0], \"yaxis\": \"y\"}, {\"hovertemplate\": \"hashtag=bogot\\u00e1<br>date=%{x}<br>value=%{y}<extra></extra>\", \"legendgroup\": \"bogot\\u00e1\", \"line\": {\"color\": \"#00cc96\", \"dash\": \"solid\"}, \"mode\": \"lines\", \"name\": \"bogot\\u00e1\", \"showlegend\": true, \"type\": \"scatter\", \"x\": [\"2020-04-03T00:00:00\", \"2020-04-08T00:00:00\", \"2020-04-16T00:00:00\", \"2020-04-17T00:00:00\"], \"xaxis\": \"x\", \"y\": [1.0, 1.0, 1.0, 1.0], \"yaxis\": \"y\"}, {\"hovertemplate\": \"hashtag=bogot\\u00e1100d\\u00edas<br>date=%{x}<br>value=%{y}<extra></extra>\", \"legendgroup\": \"bogot\\u00e1100d\\u00edas\", \"line\": {\"color\": \"#ab63fa\", \"dash\": \"solid\"}, \"mode\": \"lines\", \"name\": \"bogot\\u00e1100d\\u00edas\", \"showlegend\": true, \"type\": \"scatter\", \"x\": [\"2020-04-20T00:00:00\"], \"xaxis\": \"x\", \"y\": [1.0], \"yaxis\": \"y\"}, {\"hovertemplate\": \"hashtag=bogot\\u00e1sinalcalde<br>date=%{x}<br>value=%{y}<extra></extra>\", \"legendgroup\": \"bogot\\u00e1sinalcalde\", \"line\": {\"color\": \"#FFA15A\", \"dash\": \"solid\"}, \"mode\": \"lines\", \"name\": \"bogot\\u00e1sinalcalde\", \"showlegend\": true, \"type\": \"scatter\", \"x\": [\"2020-04-08T00:00:00\"], \"xaxis\": \"x\", \"y\": [1.0], \"yaxis\": \"y\"}, {\"hovertemplate\": \"hashtag=bogot\\u00e1solidariaavanza<br>date=%{x}<br>value=%{y}<extra></extra>\", \"legendgroup\": \"bogot\\u00e1solidariaavanza\", \"line\": {\"color\": \"#19d3f3\", \"dash\": \"solid\"}, \"mode\": \"lines\", \"name\": \"bogot\\u00e1solidariaavanza\", \"showlegend\": true, \"type\": \"scatter\", \"x\": [\"2020-04-22T00:00:00\"], \"xaxis\": \"x\", \"y\": [1.0], \"yaxis\": \"y\"}, {\"hovertemplate\": \"hashtag=bolsonarogenocida<br>date=%{x}<br>value=%{y}<extra></extra>\", \"legendgroup\": \"bolsonarogenocida\", \"line\": {\"color\": \"#FF6692\", \"dash\": \"solid\"}, \"mode\": \"lines\", \"name\": \"bolsonarogenocida\", \"showlegend\": true, \"type\": \"scatter\", \"x\": [\"2020-04-25T00:00:00\"], \"xaxis\": \"x\", \"y\": [1.0], \"yaxis\": \"y\"}, {\"hovertemplate\": \"hashtag=bonosolidario<br>date=%{x}<br>value=%{y}<extra></extra>\", \"legendgroup\": \"bonosolidario\", \"line\": {\"color\": \"#B6E880\", \"dash\": \"solid\"}, \"mode\": \"lines\", \"name\": \"bonosolidario\", \"showlegend\": true, \"type\": \"scatter\", \"x\": [\"2020-04-09T00:00:00\"], \"xaxis\": \"x\", \"y\": [2.0], \"yaxis\": \"y\"}, {\"hovertemplate\": \"hashtag=boyac\\u00e1<br>date=%{x}<br>value=%{y}<extra></extra>\", \"legendgroup\": \"boyac\\u00e1\", \"line\": {\"color\": \"#FF97FF\", \"dash\": \"solid\"}, \"mode\": \"lines\", \"name\": \"boyac\\u00e1\", \"showlegend\": true, \"type\": \"scatter\", \"x\": [\"2020-04-10T00:00:00\"], \"xaxis\": \"x\", \"y\": [1.0], \"yaxis\": \"y\"}, {\"hovertemplate\": \"hashtag=br4<br>date=%{x}<br>value=%{y}<extra></extra>\", \"legendgroup\": \"br4\", \"line\": {\"color\": \"#FECB52\", \"dash\": \"solid\"}, \"mode\": \"lines\", \"name\": \"br4\", \"showlegend\": true, \"type\": \"scatter\", \"x\": [\"2020-04-19T00:00:00\"], \"xaxis\": \"x\", \"y\": [1.0], \"yaxis\": \"y\"}, {\"hovertemplate\": \"hashtag=breakingbad<br>date=%{x}<br>value=%{y}<extra></extra>\", \"legendgroup\": \"breakingbad\", \"line\": {\"color\": \"#636efa\", \"dash\": \"solid\"}, \"mode\": \"lines\", \"name\": \"breakingbad\", \"showlegend\": true, \"type\": \"scatter\", \"x\": [\"2020-04-23T00:00:00\"], \"xaxis\": \"x\", \"y\": [1.0], \"yaxis\": \"y\"}, {\"hovertemplate\": \"hashtag=br\\u00fajulaexpr\\u00e9s<br>date=%{x}<br>value=%{y}<extra></extra>\", \"legendgroup\": \"br\\u00fajulaexpr\\u00e9s\", \"line\": {\"color\": \"#EF553B\", \"dash\": \"solid\"}, \"mode\": \"lines\", \"name\": \"br\\u00fajulaexpr\\u00e9s\", \"showlegend\": true, \"type\": \"scatter\", \"x\": [\"2020-04-10T00:00:00\"], \"xaxis\": \"x\", \"y\": [2.0], \"yaxis\": \"y\"}, {\"hovertemplate\": \"hashtag=bthe1challenge<br>date=%{x}<br>value=%{y}<extra></extra>\", \"legendgroup\": \"bthe1challenge\", \"line\": {\"color\": \"#00cc96\", \"dash\": \"solid\"}, \"mode\": \"lines\", \"name\": \"bthe1challenge\", \"showlegend\": true, \"type\": \"scatter\", \"x\": [\"2020-04-24T00:00:00\"], \"xaxis\": \"x\", \"y\": [1.0], \"yaxis\": \"y\"}, {\"hovertemplate\": \"hashtag=buenasnoticias<br>date=%{x}<br>value=%{y}<extra></extra>\", \"legendgroup\": \"buenasnoticias\", \"line\": {\"color\": \"#ab63fa\", \"dash\": \"solid\"}, \"mode\": \"lines\", \"name\": \"buenasnoticias\", \"showlegend\": true, \"type\": \"scatter\", \"x\": [\"2020-04-10T00:00:00\"], \"xaxis\": \"x\", \"y\": [2.0], \"yaxis\": \"y\"}, {\"hovertemplate\": \"hashtag=buenaventura<br>date=%{x}<br>value=%{y}<extra></extra>\", \"legendgroup\": \"buenaventura\", \"line\": {\"color\": \"#FFA15A\", \"dash\": \"solid\"}, \"mode\": \"lines\", \"name\": \"buenaventura\", \"showlegend\": true, \"type\": \"scatter\", \"x\": [\"2020-04-14T00:00:00\"], \"xaxis\": \"x\", \"y\": [1.0], \"yaxis\": \"y\"}, {\"hovertemplate\": \"hashtag=buenosdividendos<br>date=%{x}<br>value=%{y}<extra></extra>\", \"legendgroup\": \"buenosdividendos\", \"line\": {\"color\": \"#19d3f3\", \"dash\": \"solid\"}, \"mode\": \"lines\", \"name\": \"buenosdividendos\", \"showlegend\": true, \"type\": \"scatter\", \"x\": [\"2020-04-09T00:00:00\"], \"xaxis\": \"x\", \"y\": [1.0], \"yaxis\": \"y\"}, {\"hovertemplate\": \"hashtag=buscayalasvacunas<br>date=%{x}<br>value=%{y}<extra></extra>\", \"legendgroup\": \"buscayalasvacunas\", \"line\": {\"color\": \"#FF6692\", \"dash\": \"solid\"}, \"mode\": \"lines\", \"name\": \"buscayalasvacunas\", \"showlegend\": true, \"type\": \"scatter\", \"x\": [\"2020-04-24T00:00:00\"], \"xaxis\": \"x\", \"y\": [1.0], \"yaxis\": \"y\"}, {\"hovertemplate\": \"hashtag=bye<br>date=%{x}<br>value=%{y}<extra></extra>\", \"legendgroup\": \"bye\", \"line\": {\"color\": \"#B6E880\", \"dash\": \"solid\"}, \"mode\": \"lines\", \"name\": \"bye\", \"showlegend\": true, \"type\": \"scatter\", \"x\": [\"2020-04-24T00:00:00\"], \"xaxis\": \"x\", \"y\": [1.0], \"yaxis\": \"y\"}, {\"hovertemplate\": \"hashtag=cacom5<br>date=%{x}<br>value=%{y}<extra></extra>\", \"legendgroup\": \"cacom5\", \"line\": {\"color\": \"#FF97FF\", \"dash\": \"solid\"}, \"mode\": \"lines\", \"name\": \"cacom5\", \"showlegend\": true, \"type\": \"scatter\", \"x\": [\"2020-04-21T00:00:00\"], \"xaxis\": \"x\", \"y\": [1.0], \"yaxis\": \"y\"}, {\"hovertemplate\": \"hashtag=cadenadeoraci\\u00f3nporpetro<br>date=%{x}<br>value=%{y}<extra></extra>\", \"legendgroup\": \"cadenadeoraci\\u00f3nporpetro\", \"line\": {\"color\": \"#FECB52\", \"dash\": \"solid\"}, \"mode\": \"lines\", \"name\": \"cadenadeoraci\\u00f3nporpetro\", \"showlegend\": true, \"type\": \"scatter\", \"x\": [\"2020-04-10T00:00:00\"], \"xaxis\": \"x\", \"y\": [1.0], \"yaxis\": \"y\"}, {\"hovertemplate\": \"hashtag=cadenaperpetua<br>date=%{x}<br>value=%{y}<extra></extra>\", \"legendgroup\": \"cadenaperpetua\", \"line\": {\"color\": \"#636efa\", \"dash\": \"solid\"}, \"mode\": \"lines\", \"name\": \"cadenaperpetua\", \"showlegend\": true, \"type\": \"scatter\", \"x\": [\"2020-04-10T00:00:00\"], \"xaxis\": \"x\", \"y\": [1.0], \"yaxis\": \"y\"}, {\"hovertemplate\": \"hashtag=cadenaperpetuacorruptos<br>date=%{x}<br>value=%{y}<extra></extra>\", \"legendgroup\": \"cadenaperpetuacorruptos\", \"line\": {\"color\": \"#EF553B\", \"dash\": \"solid\"}, \"mode\": \"lines\", \"name\": \"cadenaperpetuacorruptos\", \"showlegend\": true, \"type\": \"scatter\", \"x\": [\"2020-04-09T00:00:00\"], \"xaxis\": \"x\", \"y\": [1.0], \"yaxis\": \"y\"}, {\"hovertemplate\": \"hashtag=cali<br>date=%{x}<br>value=%{y}<extra></extra>\", \"legendgroup\": \"cali\", \"line\": {\"color\": \"#00cc96\", \"dash\": \"solid\"}, \"mode\": \"lines\", \"name\": \"cali\", \"showlegend\": true, \"type\": \"scatter\", \"x\": [\"2020-04-07T00:00:00\"], \"xaxis\": \"x\", \"y\": [1.0], \"yaxis\": \"y\"}, {\"hovertemplate\": \"hashtag=cali_nom\\u00e1scasoscovid19<br>date=%{x}<br>value=%{y}<extra></extra>\", \"legendgroup\": \"cali_nom\\u00e1scasoscovid19\", \"line\": {\"color\": \"#ab63fa\", \"dash\": \"solid\"}, \"mode\": \"lines\", \"name\": \"cali_nom\\u00e1scasoscovid19\", \"showlegend\": true, \"type\": \"scatter\", \"x\": [\"2020-04-19T00:00:00\"], \"xaxis\": \"x\", \"y\": [1.0], \"yaxis\": \"y\"}, {\"hovertemplate\": \"hashtag=calico<br>date=%{x}<br>value=%{y}<extra></extra>\", \"legendgroup\": \"calico\", \"line\": {\"color\": \"#FFA15A\", \"dash\": \"solid\"}, \"mode\": \"lines\", \"name\": \"calico\", \"showlegend\": true, \"type\": \"scatter\", \"x\": [\"2020-04-08T00:00:00\", \"2020-04-19T00:00:00\", \"2020-04-20T00:00:00\", \"2020-04-23T00:00:00\", \"2020-04-24T00:00:00\"], \"xaxis\": \"x\", \"y\": [1.0, 1.0, 1.0, 2.0, 1.0], \"yaxis\": \"y\"}, {\"hovertemplate\": \"hashtag=caliescaracol<br>date=%{x}<br>value=%{y}<extra></extra>\", \"legendgroup\": \"caliescaracol\", \"line\": {\"color\": \"#19d3f3\", \"dash\": \"solid\"}, \"mode\": \"lines\", \"name\": \"caliescaracol\", \"showlegend\": true, \"type\": \"scatter\", \"x\": [\"2020-04-07T00:00:00\"], \"xaxis\": \"x\", \"y\": [1.0], \"yaxis\": \"y\"}, {\"hovertemplate\": \"hashtag=caliunida<br>date=%{x}<br>value=%{y}<extra></extra>\", \"legendgroup\": \"caliunida\", \"line\": {\"color\": \"#FF6692\", \"dash\": \"solid\"}, \"mode\": \"lines\", \"name\": \"caliunida\", \"showlegend\": true, \"type\": \"scatter\", \"x\": [\"2020-04-05T00:00:00\"], \"xaxis\": \"x\", \"y\": [1.0], \"yaxis\": \"y\"}, {\"hovertemplate\": \"hashtag=caliunidaporlavida<br>date=%{x}<br>value=%{y}<extra></extra>\", \"legendgroup\": \"caliunidaporlavida\", \"line\": {\"color\": \"#B6E880\", \"dash\": \"solid\"}, \"mode\": \"lines\", \"name\": \"caliunidaporlavida\", \"showlegend\": true, \"type\": \"scatter\", \"x\": [\"2020-04-05T00:00:00\", \"2020-04-07T00:00:00\"], \"xaxis\": \"x\", \"y\": [1.0, 19.0], \"yaxis\": \"y\"}, {\"hovertemplate\": \"hashtag=cambioclim\\u00e1tico<br>date=%{x}<br>value=%{y}<extra></extra>\", \"legendgroup\": \"cambioclim\\u00e1tico\", \"line\": {\"color\": \"#FF97FF\", \"dash\": \"solid\"}, \"mode\": \"lines\", \"name\": \"cambioclim\\u00e1tico\", \"showlegend\": true, \"type\": \"scatter\", \"x\": [\"2020-04-08T00:00:00\"], \"xaxis\": \"x\", \"y\": [1.0], \"yaxis\": \"y\"}, {\"hovertemplate\": \"hashtag=caracol<br>date=%{x}<br>value=%{y}<extra></extra>\", \"legendgroup\": \"caracol\", \"line\": {\"color\": \"#FECB52\", \"dash\": \"solid\"}, \"mode\": \"lines\", \"name\": \"caracol\", \"showlegend\": true, \"type\": \"scatter\", \"x\": [\"2020-04-09T00:00:00\"], \"xaxis\": \"x\", \"y\": [1.0], \"yaxis\": \"y\"}, {\"hovertemplate\": \"hashtag=cartaaduque<br>date=%{x}<br>value=%{y}<extra></extra>\", \"legendgroup\": \"cartaaduque\", \"line\": {\"color\": \"#636efa\", \"dash\": \"solid\"}, \"mode\": \"lines\", \"name\": \"cartaaduque\", \"showlegend\": true, \"type\": \"scatter\", \"x\": [\"2020-04-09T00:00:00\"], \"xaxis\": \"x\", \"y\": [2.0], \"yaxis\": \"y\"}, {\"hovertemplate\": \"hashtag=carteldelascedulas<br>date=%{x}<br>value=%{y}<extra></extra>\", \"legendgroup\": \"carteldelascedulas\", \"line\": {\"color\": \"#EF553B\", \"dash\": \"solid\"}, \"mode\": \"lines\", \"name\": \"carteldelascedulas\", \"showlegend\": true, \"type\": \"scatter\", \"x\": [\"2020-04-09T00:00:00\"], \"xaxis\": \"x\", \"y\": [1.0], \"yaxis\": \"y\"}, {\"hovertemplate\": \"hashtag=carteldelasc\\u00e9dulas<br>date=%{x}<br>value=%{y}<extra></extra>\", \"legendgroup\": \"carteldelasc\\u00e9dulas\", \"line\": {\"color\": \"#00cc96\", \"dash\": \"solid\"}, \"mode\": \"lines\", \"name\": \"carteldelasc\\u00e9dulas\", \"showlegend\": true, \"type\": \"scatter\", \"x\": [\"2020-04-16T00:00:00\", \"2020-04-17T00:00:00\"], \"xaxis\": \"x\", \"y\": [1.0, 3.0], \"yaxis\": \"y\"}, {\"hovertemplate\": \"hashtag=carteldelossoles<br>date=%{x}<br>value=%{y}<extra></extra>\", \"legendgroup\": \"carteldelossoles\", \"line\": {\"color\": \"#ab63fa\", \"dash\": \"solid\"}, \"mode\": \"lines\", \"name\": \"carteldelossoles\", \"showlegend\": true, \"type\": \"scatter\", \"x\": [\"2020-04-09T00:00:00\"], \"xaxis\": \"x\", \"y\": [1.0], \"yaxis\": \"y\"}, {\"hovertemplate\": \"hashtag=casanare<br>date=%{x}<br>value=%{y}<extra></extra>\", \"legendgroup\": \"casanare\", \"line\": {\"color\": \"#FFA15A\", \"dash\": \"solid\"}, \"mode\": \"lines\", \"name\": \"casanare\", \"showlegend\": true, \"type\": \"scatter\", \"x\": [\"2020-04-10T00:00:00\"], \"xaxis\": \"x\", \"y\": [1.0], \"yaxis\": \"y\"}, {\"hovertemplate\": \"hashtag=cedulasfalsas<br>date=%{x}<br>value=%{y}<extra></extra>\", \"legendgroup\": \"cedulasfalsas\", \"line\": {\"color\": \"#19d3f3\", \"dash\": \"solid\"}, \"mode\": \"lines\", \"name\": \"cedulasfalsas\", \"showlegend\": true, \"type\": \"scatter\", \"x\": [\"2020-04-09T00:00:00\"], \"xaxis\": \"x\", \"y\": [1.0], \"yaxis\": \"y\"}, {\"hovertemplate\": \"hashtag=centro<br>date=%{x}<br>value=%{y}<extra></extra>\", \"legendgroup\": \"centro\", \"line\": {\"color\": \"#FF6692\", \"dash\": \"solid\"}, \"mode\": \"lines\", \"name\": \"centro\", \"showlegend\": true, \"type\": \"scatter\", \"x\": [\"2020-04-25T00:00:00\"], \"xaxis\": \"x\", \"y\": [1.0], \"yaxis\": \"y\"}, {\"hovertemplate\": \"hashtag=chernobyl<br>date=%{x}<br>value=%{y}<extra></extra>\", \"legendgroup\": \"chernobyl\", \"line\": {\"color\": \"#B6E880\", \"dash\": \"solid\"}, \"mode\": \"lines\", \"name\": \"chernobyl\", \"showlegend\": true, \"type\": \"scatter\", \"x\": [\"2020-04-25T00:00:00\"], \"xaxis\": \"x\", \"y\": [1.0], \"yaxis\": \"y\"}, {\"hovertemplate\": \"hashtag=churrias<br>date=%{x}<br>value=%{y}<extra></extra>\", \"legendgroup\": \"churrias\", \"line\": {\"color\": \"#FF97FF\", \"dash\": \"solid\"}, \"mode\": \"lines\", \"name\": \"churrias\", \"showlegend\": true, \"type\": \"scatter\", \"x\": [\"2020-04-25T00:00:00\"], \"xaxis\": \"x\", \"y\": [1.0], \"yaxis\": \"y\"}, {\"hovertemplate\": \"hashtag=ciclovidaxwin<br>date=%{x}<br>value=%{y}<extra></extra>\", \"legendgroup\": \"ciclovidaxwin\", \"line\": {\"color\": \"#FECB52\", \"dash\": \"solid\"}, \"mode\": \"lines\", \"name\": \"ciclovidaxwin\", \"showlegend\": true, \"type\": \"scatter\", \"x\": [\"2020-04-19T00:00:00\"], \"xaxis\": \"x\", \"y\": [2.0], \"yaxis\": \"y\"}, {\"hovertemplate\": \"hashtag=ciudadano<br>date=%{x}<br>value=%{y}<extra></extra>\", \"legendgroup\": \"ciudadano\", \"line\": {\"color\": \"#636efa\", \"dash\": \"solid\"}, \"mode\": \"lines\", \"name\": \"ciudadano\", \"showlegend\": true, \"type\": \"scatter\", \"x\": [\"2020-04-23T00:00:00\"], \"xaxis\": \"x\", \"y\": [1.0], \"yaxis\": \"y\"}, {\"hovertemplate\": \"hashtag=ciudadbol\\u00edvar<br>date=%{x}<br>value=%{y}<extra></extra>\", \"legendgroup\": \"ciudadbol\\u00edvar\", \"line\": {\"color\": \"#EF553B\", \"dash\": \"solid\"}, \"mode\": \"lines\", \"name\": \"ciudadbol\\u00edvar\", \"showlegend\": true, \"type\": \"scatter\", \"x\": [\"2020-04-23T00:00:00\"], \"xaxis\": \"x\", \"y\": [1.0], \"yaxis\": \"y\"}, {\"hovertemplate\": \"hashtag=claudiadaza<br>date=%{x}<br>value=%{y}<extra></extra>\", \"legendgroup\": \"claudiadaza\", \"line\": {\"color\": \"#00cc96\", \"dash\": \"solid\"}, \"mode\": \"lines\", \"name\": \"claudiadaza\", \"showlegend\": true, \"type\": \"scatter\", \"x\": [\"2020-04-10T00:00:00\"], \"xaxis\": \"x\", \"y\": [1.0], \"yaxis\": \"y\"}, {\"hovertemplate\": \"hashtag=claudiairresponsable<br>date=%{x}<br>value=%{y}<extra></extra>\", \"legendgroup\": \"claudiairresponsable\", \"line\": {\"color\": \"#ab63fa\", \"dash\": \"solid\"}, \"mode\": \"lines\", \"name\": \"claudiairresponsable\", \"showlegend\": true, \"type\": \"scatter\", \"x\": [\"2020-04-08T00:00:00\", \"2020-04-09T00:00:00\", \"2020-04-10T00:00:00\"], \"xaxis\": \"x\", \"y\": [1.0, 2.0, 1.0], \"yaxis\": \"y\"}, {\"hovertemplate\": \"hashtag=claudialopez<br>date=%{x}<br>value=%{y}<extra></extra>\", \"legendgroup\": \"claudialopez\", \"line\": {\"color\": \"#FFA15A\", \"dash\": \"solid\"}, \"mode\": \"lines\", \"name\": \"claudialopez\", \"showlegend\": true, \"type\": \"scatter\", \"x\": [\"2020-04-07T00:00:00\"], \"xaxis\": \"x\", \"y\": [1.0], \"yaxis\": \"y\"}, {\"hovertemplate\": \"hashtag=claudialopezoportunista<br>date=%{x}<br>value=%{y}<extra></extra>\", \"legendgroup\": \"claudialopezoportunista\", \"line\": {\"color\": \"#19d3f3\", \"dash\": \"solid\"}, \"mode\": \"lines\", \"name\": \"claudialopezoportunista\", \"showlegend\": true, \"type\": \"scatter\", \"x\": [\"2020-04-06T00:00:00\", \"2020-04-08T00:00:00\", \"2020-04-09T00:00:00\", \"2020-04-10T00:00:00\"], \"xaxis\": \"x\", \"y\": [2.0, 6.0, 3.0, 1.0], \"yaxis\": \"y\"}, {\"hovertemplate\": \"hashtag=claudialopezrenuncie<br>date=%{x}<br>value=%{y}<extra></extra>\", \"legendgroup\": \"claudialopezrenuncie\", \"line\": {\"color\": \"#FF6692\", \"dash\": \"solid\"}, \"mode\": \"lines\", \"name\": \"claudialopezrenuncie\", \"showlegend\": true, \"type\": \"scatter\", \"x\": [\"2020-04-10T00:00:00\"], \"xaxis\": \"x\", \"y\": [1.0], \"yaxis\": \"y\"}, {\"hovertemplate\": \"hashtag=claudial\\u00f3pezrenuncie<br>date=%{x}<br>value=%{y}<extra></extra>\", \"legendgroup\": \"claudial\\u00f3pezrenuncie\", \"line\": {\"color\": \"#B6E880\", \"dash\": \"solid\"}, \"mode\": \"lines\", \"name\": \"claudial\\u00f3pezrenuncie\", \"showlegend\": true, \"type\": \"scatter\", \"x\": [\"2020-04-09T00:00:00\"], \"xaxis\": \"x\", \"y\": [1.0], \"yaxis\": \"y\"}, {\"hovertemplate\": \"hashtag=colombia<br>date=%{x}<br>value=%{y}<extra></extra>\", \"legendgroup\": \"colombia\", \"line\": {\"color\": \"#FF97FF\", \"dash\": \"solid\"}, \"mode\": \"lines\", \"name\": \"colombia\", \"showlegend\": true, \"type\": \"scatter\", \"x\": [\"2020-04-08T00:00:00\", \"2020-04-09T00:00:00\", \"2020-04-10T00:00:00\", \"2020-04-25T00:00:00\"], \"xaxis\": \"x\", \"y\": [1.0, 3.0, 3.0, 1.0], \"yaxis\": \"y\"}, {\"hovertemplate\": \"hashtag=colombiaabsurda<br>date=%{x}<br>value=%{y}<extra></extra>\", \"legendgroup\": \"colombiaabsurda\", \"line\": {\"color\": \"#FECB52\", \"dash\": \"solid\"}, \"mode\": \"lines\", \"name\": \"colombiaabsurda\", \"showlegend\": true, \"type\": \"scatter\", \"x\": [\"2020-04-09T00:00:00\"], \"xaxis\": \"x\", \"y\": [1.0], \"yaxis\": \"y\"}, {\"hovertemplate\": \"hashtag=colombiaconpetro<br>date=%{x}<br>value=%{y}<extra></extra>\", \"legendgroup\": \"colombiaconpetro\", \"line\": {\"color\": \"#636efa\", \"dash\": \"solid\"}, \"mode\": \"lines\", \"name\": \"colombiaconpetro\", \"showlegend\": true, \"type\": \"scatter\", \"x\": [\"2020-04-10T00:00:00\", \"2020-04-11T00:00:00\"], \"xaxis\": \"x\", \"y\": [1.0, 3.0], \"yaxis\": \"y\"}, {\"hovertemplate\": \"hashtag=colombiaenemergencia<br>date=%{x}<br>value=%{y}<extra></extra>\", \"legendgroup\": \"colombiaenemergencia\", \"line\": {\"color\": \"#EF553B\", \"dash\": \"solid\"}, \"mode\": \"lines\", \"name\": \"colombiaenemergencia\", \"showlegend\": true, \"type\": \"scatter\", \"x\": [\"2020-04-09T00:00:00\"], \"xaxis\": \"x\", \"y\": [1.0], \"yaxis\": \"y\"}, {\"hovertemplate\": \"hashtag=colombiaest\\u00e1alaire<br>date=%{x}<br>value=%{y}<extra></extra>\", \"legendgroup\": \"colombiaest\\u00e1alaire\", \"line\": {\"color\": \"#00cc96\", \"dash\": \"solid\"}, \"mode\": \"lines\", \"name\": \"colombiaest\\u00e1alaire\", \"showlegend\": true, \"type\": \"scatter\", \"x\": [\"2020-04-08T00:00:00\", \"2020-04-09T00:00:00\", \"2020-04-10T00:00:00\"], \"xaxis\": \"x\", \"y\": [5.0, 11.0, 1.0], \"yaxis\": \"y\"}, {\"hovertemplate\": \"hashtag=colombiahumana<br>date=%{x}<br>value=%{y}<extra></extra>\", \"legendgroup\": \"colombiahumana\", \"line\": {\"color\": \"#ab63fa\", \"dash\": \"solid\"}, \"mode\": \"lines\", \"name\": \"colombiahumana\", \"showlegend\": true, \"type\": \"scatter\", \"x\": [\"2020-04-10T00:00:00\", \"2020-04-11T00:00:00\"], \"xaxis\": \"x\", \"y\": [1.0, 2.0], \"yaxis\": \"y\"}, {\"hovertemplate\": \"hashtag=colombiano<br>date=%{x}<br>value=%{y}<extra></extra>\", \"legendgroup\": \"colombiano\", \"line\": {\"color\": \"#FFA15A\", \"dash\": \"solid\"}, \"mode\": \"lines\", \"name\": \"colombiano\", \"showlegend\": true, \"type\": \"scatter\", \"x\": [\"2020-04-14T00:00:00\"], \"xaxis\": \"x\", \"y\": [1.0], \"yaxis\": \"y\"}, {\"hovertemplate\": \"hashtag=colombianos<br>date=%{x}<br>value=%{y}<extra></extra>\", \"legendgroup\": \"colombianos\", \"line\": {\"color\": \"#19d3f3\", \"dash\": \"solid\"}, \"mode\": \"lines\", \"name\": \"colombianos\", \"showlegend\": true, \"type\": \"scatter\", \"x\": [\"2020-04-08T00:00:00\"], \"xaxis\": \"x\", \"y\": [1.0], \"yaxis\": \"y\"}, {\"hovertemplate\": \"hashtag=colombiarespondeparatodos<br>date=%{x}<br>value=%{y}<extra></extra>\", \"legendgroup\": \"colombiarespondeparatodos\", \"line\": {\"color\": \"#FF6692\", \"dash\": \"solid\"}, \"mode\": \"lines\", \"name\": \"colombiarespondeparatodos\", \"showlegend\": true, \"type\": \"scatter\", \"x\": [\"2020-04-09T00:00:00\"], \"xaxis\": \"x\", \"y\": [1.0], \"yaxis\": \"y\"}, {\"hovertemplate\": \"hashtag=comuna2<br>date=%{x}<br>value=%{y}<extra></extra>\", \"legendgroup\": \"comuna2\", \"line\": {\"color\": \"#B6E880\", \"dash\": \"solid\"}, \"mode\": \"lines\", \"name\": \"comuna2\", \"showlegend\": true, \"type\": \"scatter\", \"x\": [\"2020-04-19T00:00:00\"], \"xaxis\": \"x\", \"y\": [1.0], \"yaxis\": \"y\"}, {\"hovertemplate\": \"hashtag=conciertoenelaire<br>date=%{x}<br>value=%{y}<extra></extra>\", \"legendgroup\": \"conciertoenelaire\", \"line\": {\"color\": \"#FF97FF\", \"dash\": \"solid\"}, \"mode\": \"lines\", \"name\": \"conciertoenelaire\", \"showlegend\": true, \"type\": \"scatter\", \"x\": [\"2020-04-16T00:00:00\"], \"xaxis\": \"x\", \"y\": [1.0], \"yaxis\": \"y\"}, {\"hovertemplate\": \"hashtag=confidenciales<br>date=%{x}<br>value=%{y}<extra></extra>\", \"legendgroup\": \"confidenciales\", \"line\": {\"color\": \"#FECB52\", \"dash\": \"solid\"}, \"mode\": \"lines\", \"name\": \"confidenciales\", \"showlegend\": true, \"type\": \"scatter\", \"x\": [\"2020-04-07T00:00:00\"], \"xaxis\": \"x\", \"y\": [2.0], \"yaxis\": \"y\"}, {\"hovertemplate\": \"hashtag=confioenti<br>date=%{x}<br>value=%{y}<extra></extra>\", \"legendgroup\": \"confioenti\", \"line\": {\"color\": \"#636efa\", \"dash\": \"solid\"}, \"mode\": \"lines\", \"name\": \"confioenti\", \"showlegend\": true, \"type\": \"scatter\", \"x\": [\"2020-04-24T00:00:00\"], \"xaxis\": \"x\", \"y\": [1.0], \"yaxis\": \"y\"}, {\"hovertemplate\": \"hashtag=conplastilinamejor<br>date=%{x}<br>value=%{y}<extra></extra>\", \"legendgroup\": \"conplastilinamejor\", \"line\": {\"color\": \"#EF553B\", \"dash\": \"solid\"}, \"mode\": \"lines\", \"name\": \"conplastilinamejor\", \"showlegend\": true, \"type\": \"scatter\", \"x\": [\"2020-04-16T00:00:00\"], \"xaxis\": \"x\", \"y\": [1.0], \"yaxis\": \"y\"}, {\"hovertemplate\": \"hashtag=construccion<br>date=%{x}<br>value=%{y}<extra></extra>\", \"legendgroup\": \"construccion\", \"line\": {\"color\": \"#00cc96\", \"dash\": \"solid\"}, \"mode\": \"lines\", \"name\": \"construccion\", \"showlegend\": true, \"type\": \"scatter\", \"x\": [\"2020-04-09T00:00:00\"], \"xaxis\": \"x\", \"y\": [1.0], \"yaxis\": \"y\"}, {\"hovertemplate\": \"hashtag=contodorespetopero<br>date=%{x}<br>value=%{y}<extra></extra>\", \"legendgroup\": \"contodorespetopero\", \"line\": {\"color\": \"#ab63fa\", \"dash\": \"solid\"}, \"mode\": \"lines\", \"name\": \"contodorespetopero\", \"showlegend\": true, \"type\": \"scatter\", \"x\": [\"2020-04-25T00:00:00\"], \"xaxis\": \"x\", \"y\": [2.0], \"yaxis\": \"y\"}, {\"hovertemplate\": \"hashtag=conversacionesencasa<br>date=%{x}<br>value=%{y}<extra></extra>\", \"legendgroup\": \"conversacionesencasa\", \"line\": {\"color\": \"#FFA15A\", \"dash\": \"solid\"}, \"mode\": \"lines\", \"name\": \"conversacionesencasa\", \"showlegend\": true, \"type\": \"scatter\", \"x\": [\"2020-04-14T00:00:00\"], \"xaxis\": \"x\", \"y\": [1.0], \"yaxis\": \"y\"}, {\"hovertemplate\": \"hashtag=cordoba<br>date=%{x}<br>value=%{y}<extra></extra>\", \"legendgroup\": \"cordoba\", \"line\": {\"color\": \"#19d3f3\", \"dash\": \"solid\"}, \"mode\": \"lines\", \"name\": \"cordoba\", \"showlegend\": true, \"type\": \"scatter\", \"x\": [\"2020-04-10T00:00:00\"], \"xaxis\": \"x\", \"y\": [1.0], \"yaxis\": \"y\"}, {\"hovertemplate\": \"hashtag=coreadelsur<br>date=%{x}<br>value=%{y}<extra></extra>\", \"legendgroup\": \"coreadelsur\", \"line\": {\"color\": \"#FF6692\", \"dash\": \"solid\"}, \"mode\": \"lines\", \"name\": \"coreadelsur\", \"showlegend\": true, \"type\": \"scatter\", \"x\": [\"2020-04-03T00:00:00\"], \"xaxis\": \"x\", \"y\": [1.0], \"yaxis\": \"y\"}, {\"hovertemplate\": \"hashtag=coronavirus<br>date=%{x}<br>value=%{y}<extra></extra>\", \"legendgroup\": \"coronavirus\", \"line\": {\"color\": \"#B6E880\", \"dash\": \"solid\"}, \"mode\": \"lines\", \"name\": \"coronavirus\", \"showlegend\": true, \"type\": \"scatter\", \"x\": [\"2020-04-03T00:00:00\", \"2020-04-06T00:00:00\", \"2020-04-07T00:00:00\", \"2020-04-08T00:00:00\", \"2020-04-09T00:00:00\", \"2020-04-10T00:00:00\", \"2020-04-20T00:00:00\", \"2020-04-23T00:00:00\", \"2020-04-24T00:00:00\", \"2020-04-25T00:00:00\"], \"xaxis\": \"x\", \"y\": [1.0, 1.0, 1.0, 5.0, 2.0, 2.0, 1.0, 1.0, 1.0, 1.0], \"yaxis\": \"y\"}, {\"hovertemplate\": \"hashtag=coronaviruscolombia<br>date=%{x}<br>value=%{y}<extra></extra>\", \"legendgroup\": \"coronaviruscolombia\", \"line\": {\"color\": \"#FF97FF\", \"dash\": \"solid\"}, \"mode\": \"lines\", \"name\": \"coronaviruscolombia\", \"showlegend\": true, \"type\": \"scatter\", \"x\": [\"2020-04-06T00:00:00\", \"2020-04-10T00:00:00\"], \"xaxis\": \"x\", \"y\": [1.0, 1.0], \"yaxis\": \"y\"}, {\"hovertemplate\": \"hashtag=coronavirusencolombia<br>date=%{x}<br>value=%{y}<extra></extra>\", \"legendgroup\": \"coronavirusencolombia\", \"line\": {\"color\": \"#FECB52\", \"dash\": \"solid\"}, \"mode\": \"lines\", \"name\": \"coronavirusencolombia\", \"showlegend\": true, \"type\": \"scatter\", \"x\": [\"2020-04-09T00:00:00\", \"2020-04-25T00:00:00\"], \"xaxis\": \"x\", \"y\": [2.0, 1.0], \"yaxis\": \"y\"}, {\"hovertemplate\": \"hashtag=corrupcion<br>date=%{x}<br>value=%{y}<extra></extra>\", \"legendgroup\": \"corrupcion\", \"line\": {\"color\": \"#636efa\", \"dash\": \"solid\"}, \"mode\": \"lines\", \"name\": \"corrupcion\", \"showlegend\": true, \"type\": \"scatter\", \"x\": [\"2020-04-09T00:00:00\", \"2020-04-10T00:00:00\", \"2020-04-25T00:00:00\"], \"xaxis\": \"x\", \"y\": [1.0, 2.0, 1.0], \"yaxis\": \"y\"}, {\"hovertemplate\": \"hashtag=corrupcionconlasayudas<br>date=%{x}<br>value=%{y}<extra></extra>\", \"legendgroup\": \"corrupcionconlasayudas\", \"line\": {\"color\": \"#EF553B\", \"dash\": \"solid\"}, \"mode\": \"lines\", \"name\": \"corrupcionconlasayudas\", \"showlegend\": true, \"type\": \"scatter\", \"x\": [\"2020-04-09T00:00:00\", \"2020-04-10T00:00:00\"], \"xaxis\": \"x\", \"y\": [4.0, 1.0], \"yaxis\": \"y\"}, {\"hovertemplate\": \"hashtag=corrupcionconlasayudases<br>date=%{x}<br>value=%{y}<extra></extra>\", \"legendgroup\": \"corrupcionconlasayudases\", \"line\": {\"color\": \"#00cc96\", \"dash\": \"solid\"}, \"mode\": \"lines\", \"name\": \"corrupcionconlasayudases\", \"showlegend\": true, \"type\": \"scatter\", \"x\": [\"2020-04-08T00:00:00\", \"2020-04-09T00:00:00\", \"2020-04-10T00:00:00\"], \"xaxis\": \"x\", \"y\": [1.0, 9.0, 2.0], \"yaxis\": \"y\"}, {\"hovertemplate\": \"hashtag=corrupcionimparable<br>date=%{x}<br>value=%{y}<extra></extra>\", \"legendgroup\": \"corrupcionimparable\", \"line\": {\"color\": \"#ab63fa\", \"dash\": \"solid\"}, \"mode\": \"lines\", \"name\": \"corrupcionimparable\", \"showlegend\": true, \"type\": \"scatter\", \"x\": [\"2020-04-16T00:00:00\"], \"xaxis\": \"x\", \"y\": [1.0], \"yaxis\": \"y\"}, {\"hovertemplate\": \"hashtag=corrupcionsolidaria<br>date=%{x}<br>value=%{y}<extra></extra>\", \"legendgroup\": \"corrupcionsolidaria\", \"line\": {\"color\": \"#FFA15A\", \"dash\": \"solid\"}, \"mode\": \"lines\", \"name\": \"corrupcionsolidaria\", \"showlegend\": true, \"type\": \"scatter\", \"x\": [\"2020-04-09T00:00:00\", \"2020-04-10T00:00:00\"], \"xaxis\": \"x\", \"y\": [3.0, 1.0], \"yaxis\": \"y\"}, {\"hovertemplate\": \"hashtag=corrupci\\u00f3n<br>date=%{x}<br>value=%{y}<extra></extra>\", \"legendgroup\": \"corrupci\\u00f3n\", \"line\": {\"color\": \"#19d3f3\", \"dash\": \"solid\"}, \"mode\": \"lines\", \"name\": \"corrupci\\u00f3n\", \"showlegend\": true, \"type\": \"scatter\", \"x\": [\"2020-04-08T00:00:00\"], \"xaxis\": \"x\", \"y\": [1.0], \"yaxis\": \"y\"}, {\"hovertemplate\": \"hashtag=corrupci\\u00f3ninfima<br>date=%{x}<br>value=%{y}<extra></extra>\", \"legendgroup\": \"corrupci\\u00f3ninfima\", \"line\": {\"color\": \"#FF6692\", \"dash\": \"solid\"}, \"mode\": \"lines\", \"name\": \"corrupci\\u00f3ninfima\", \"showlegend\": true, \"type\": \"scatter\", \"x\": [\"2020-04-16T00:00:00\", \"2020-04-17T00:00:00\"], \"xaxis\": \"x\", \"y\": [1.0, 3.0], \"yaxis\": \"y\"}, {\"hovertemplate\": \"hashtag=corruptos<br>date=%{x}<br>value=%{y}<extra></extra>\", \"legendgroup\": \"corruptos\", \"line\": {\"color\": \"#B6E880\", \"dash\": \"solid\"}, \"mode\": \"lines\", \"name\": \"corruptos\", \"showlegend\": true, \"type\": \"scatter\", \"x\": [\"2020-04-09T00:00:00\", \"2020-04-10T00:00:00\"], \"xaxis\": \"x\", \"y\": [1.0, 1.0], \"yaxis\": \"y\"}, {\"hovertemplate\": \"hashtag=corruptosdemie<br>date=%{x}<br>value=%{y}<extra></extra>\", \"legendgroup\": \"corruptosdemie\", \"line\": {\"color\": \"#FF97FF\", \"dash\": \"solid\"}, \"mode\": \"lines\", \"name\": \"corruptosdemie\", \"showlegend\": true, \"type\": \"scatter\", \"x\": [\"2020-04-09T00:00:00\"], \"xaxis\": \"x\", \"y\": [1.0], \"yaxis\": \"y\"}, {\"hovertemplate\": \"hashtag=corrupvirus<br>date=%{x}<br>value=%{y}<extra></extra>\", \"legendgroup\": \"corrupvirus\", \"line\": {\"color\": \"#FECB52\", \"dash\": \"solid\"}, \"mode\": \"lines\", \"name\": \"corrupvirus\", \"showlegend\": true, \"type\": \"scatter\", \"x\": [\"2020-04-10T00:00:00\"], \"xaxis\": \"x\", \"y\": [1.0], \"yaxis\": \"y\"}, {\"hovertemplate\": \"hashtag=covid<br>date=%{x}<br>value=%{y}<extra></extra>\", \"legendgroup\": \"covid\", \"line\": {\"color\": \"#636efa\", \"dash\": \"solid\"}, \"mode\": \"lines\", \"name\": \"covid\", \"showlegend\": true, \"type\": \"scatter\", \"x\": [\"2020-04-07T00:00:00\", \"2020-04-08T00:00:00\", \"2020-04-09T00:00:00\"], \"xaxis\": \"x\", \"y\": [1.0, 1.0, 3.0], \"yaxis\": \"y\"}, {\"hovertemplate\": \"hashtag=covid19<br>date=%{x}<br>value=%{y}<extra></extra>\", \"legendgroup\": \"covid19\", \"line\": {\"color\": \"#EF553B\", \"dash\": \"solid\"}, \"mode\": \"lines\", \"name\": \"covid19\", \"showlegend\": true, \"type\": \"scatter\", \"x\": [\"2020-04-01T00:00:00\", \"2020-04-02T00:00:00\", \"2020-04-03T00:00:00\", \"2020-04-04T00:00:00\", \"2020-04-05T00:00:00\", \"2020-04-06T00:00:00\", \"2020-04-09T00:00:00\", \"2020-04-10T00:00:00\", \"2020-04-15T00:00:00\", \"2020-04-19T00:00:00\", \"2020-04-21T00:00:00\", \"2020-04-23T00:00:00\", \"2020-04-25T00:00:00\"], \"xaxis\": \"x\", \"y\": [4.0, 1.0, 1.0, 1.0, 1.0, 1.0, 9.0, 1.0, 1.0, 1.0, 1.0, 2.0, 2.0], \"yaxis\": \"y\"}, {\"hovertemplate\": \"hashtag=covid19bogota<br>date=%{x}<br>value=%{y}<extra></extra>\", \"legendgroup\": \"covid19bogota\", \"line\": {\"color\": \"#00cc96\", \"dash\": \"solid\"}, \"mode\": \"lines\", \"name\": \"covid19bogota\", \"showlegend\": true, \"type\": \"scatter\", \"x\": [\"2020-04-10T00:00:00\"], \"xaxis\": \"x\", \"y\": [1.0], \"yaxis\": \"y\"}, {\"hovertemplate\": \"hashtag=covid19colombia<br>date=%{x}<br>value=%{y}<extra></extra>\", \"legendgroup\": \"covid19colombia\", \"line\": {\"color\": \"#ab63fa\", \"dash\": \"solid\"}, \"mode\": \"lines\", \"name\": \"covid19colombia\", \"showlegend\": true, \"type\": \"scatter\", \"x\": [\"2020-04-06T00:00:00\", \"2020-04-09T00:00:00\", \"2020-04-10T00:00:00\", \"2020-04-15T00:00:00\", \"2020-04-23T00:00:00\", \"2020-04-25T00:00:00\"], \"xaxis\": \"x\", \"y\": [1.0, 3.0, 3.0, 1.0, 1.0, 1.0], \"yaxis\": \"y\"}, {\"hovertemplate\": \"hashtag=covid2019<br>date=%{x}<br>value=%{y}<extra></extra>\", \"legendgroup\": \"covid2019\", \"line\": {\"color\": \"#FFA15A\", \"dash\": \"solid\"}, \"mode\": \"lines\", \"name\": \"covid2019\", \"showlegend\": true, \"type\": \"scatter\", \"x\": [\"2020-04-04T00:00:00\", \"2020-04-10T00:00:00\"], \"xaxis\": \"x\", \"y\": [2.0, 1.0], \"yaxis\": \"y\"}, {\"hovertemplate\": \"hashtag=covid_19<br>date=%{x}<br>value=%{y}<extra></extra>\", \"legendgroup\": \"covid_19\", \"line\": {\"color\": \"#19d3f3\", \"dash\": \"solid\"}, \"mode\": \"lines\", \"name\": \"covid_19\", \"showlegend\": true, \"type\": \"scatter\", \"x\": [\"2020-04-03T00:00:00\", \"2020-04-06T00:00:00\", \"2020-04-07T00:00:00\", \"2020-04-08T00:00:00\", \"2020-04-09T00:00:00\", \"2020-04-10T00:00:00\", \"2020-04-14T00:00:00\", \"2020-04-15T00:00:00\", \"2020-04-16T00:00:00\", \"2020-04-18T00:00:00\", \"2020-04-20T00:00:00\", \"2020-04-22T00:00:00\", \"2020-04-23T00:00:00\", \"2020-04-25T00:00:00\"], \"xaxis\": \"x\", \"y\": [2.0, 4.0, 24.0, 35.0, 30.0, 11.0, 1.0, 1.0, 2.0, 2.0, 1.0, 1.0, 2.0, 3.0], \"yaxis\": \"y\"}, {\"hovertemplate\": \"hashtag=covidiots<br>date=%{x}<br>value=%{y}<extra></extra>\", \"legendgroup\": \"covidiots\", \"line\": {\"color\": \"#FF6692\", \"dash\": \"solid\"}, \"mode\": \"lines\", \"name\": \"covidiots\", \"showlegend\": true, \"type\": \"scatter\", \"x\": [\"2020-04-06T00:00:00\"], \"xaxis\": \"x\", \"y\": [1.0], \"yaxis\": \"y\"}, {\"hovertemplate\": \"hashtag=covid\\u30fc19<br>date=%{x}<br>value=%{y}<extra></extra>\", \"legendgroup\": \"covid\\u30fc19\", \"line\": {\"color\": \"#B6E880\", \"dash\": \"solid\"}, \"mode\": \"lines\", \"name\": \"covid\\u30fc19\", \"showlegend\": true, \"type\": \"scatter\", \"x\": [\"2020-04-01T00:00:00\", \"2020-04-07T00:00:00\", \"2020-04-08T00:00:00\", \"2020-04-09T00:00:00\", \"2020-04-10T00:00:00\", \"2020-04-25T00:00:00\"], \"xaxis\": \"x\", \"y\": [1.0, 1.0, 3.0, 8.0, 4.0, 1.0], \"yaxis\": \"y\"}, {\"hovertemplate\": \"hashtag=ctei<br>date=%{x}<br>value=%{y}<extra></extra>\", \"legendgroup\": \"ctei\", \"line\": {\"color\": \"#FF97FF\", \"dash\": \"solid\"}, \"mode\": \"lines\", \"name\": \"ctei\", \"showlegend\": true, \"type\": \"scatter\", \"x\": [\"2020-04-09T00:00:00\"], \"xaxis\": \"x\", \"y\": [1.0], \"yaxis\": \"y\"}, {\"hovertemplate\": \"hashtag=cuarentena<br>date=%{x}<br>value=%{y}<extra></extra>\", \"legendgroup\": \"cuarentena\", \"line\": {\"color\": \"#FECB52\", \"dash\": \"solid\"}, \"mode\": \"lines\", \"name\": \"cuarentena\", \"showlegend\": true, \"type\": \"scatter\", \"x\": [\"2020-04-07T00:00:00\", \"2020-04-08T00:00:00\", \"2020-04-09T00:00:00\"], \"xaxis\": \"x\", \"y\": [1.0, 1.0, 1.0], \"yaxis\": \"y\"}, {\"hovertemplate\": \"hashtag=cuarentenahastajunioes<br>date=%{x}<br>value=%{y}<extra></extra>\", \"legendgroup\": \"cuarentenahastajunioes\", \"line\": {\"color\": \"#636efa\", \"dash\": \"solid\"}, \"mode\": \"lines\", \"name\": \"cuarentenahastajunioes\", \"showlegend\": true, \"type\": \"scatter\", \"x\": [\"2020-04-08T00:00:00\"], \"xaxis\": \"x\", \"y\": [1.0], \"yaxis\": \"y\"}, {\"hovertemplate\": \"hashtag=cuarentenainteligente<br>date=%{x}<br>value=%{y}<extra></extra>\", \"legendgroup\": \"cuarentenainteligente\", \"line\": {\"color\": \"#EF553B\", \"dash\": \"solid\"}, \"mode\": \"lines\", \"name\": \"cuarentenainteligente\", \"showlegend\": true, \"type\": \"scatter\", \"x\": [\"2020-04-06T00:00:00\", \"2020-04-07T00:00:00\", \"2020-04-10T00:00:00\", \"2020-04-15T00:00:00\"], \"xaxis\": \"x\", \"y\": [2.0, 1.0, 1.0, 1.0], \"yaxis\": \"y\"}, {\"hovertemplate\": \"hashtag=cuarentenanacional<br>date=%{x}<br>value=%{y}<extra></extra>\", \"legendgroup\": \"cuarentenanacional\", \"line\": {\"color\": \"#00cc96\", \"dash\": \"solid\"}, \"mode\": \"lines\", \"name\": \"cuarentenanacional\", \"showlegend\": true, \"type\": \"scatter\", \"x\": [\"2020-04-01T00:00:00\", \"2020-04-04T00:00:00\"], \"xaxis\": \"x\", \"y\": [1.0, 1.0], \"yaxis\": \"y\"}, {\"hovertemplate\": \"hashtag=cuarentenaporlavida<br>date=%{x}<br>value=%{y}<extra></extra>\", \"legendgroup\": \"cuarentenaporlavida\", \"line\": {\"color\": \"#ab63fa\", \"dash\": \"solid\"}, \"mode\": \"lines\", \"name\": \"cuarentenaporlavida\", \"showlegend\": true, \"type\": \"scatter\", \"x\": [\"2020-04-01T00:00:00\", \"2020-04-05T00:00:00\", \"2020-04-07T00:00:00\", \"2020-04-08T00:00:00\", \"2020-04-24T00:00:00\"], \"xaxis\": \"x\", \"y\": [1.0, 1.0, 20.0, 31.0, 1.0], \"yaxis\": \"y\"}, {\"hovertemplate\": \"hashtag=cuarentenatotal<br>date=%{x}<br>value=%{y}<extra></extra>\", \"legendgroup\": \"cuarentenatotal\", \"line\": {\"color\": \"#FFA15A\", \"dash\": \"solid\"}, \"mode\": \"lines\", \"name\": \"cuarentenatotal\", \"showlegend\": true, \"type\": \"scatter\", \"x\": [\"2020-04-06T00:00:00\"], \"xaxis\": \"x\", \"y\": [2.0], \"yaxis\": \"y\"}, {\"hovertemplate\": \"hashtag=cuartarevoluci\\u00f3n<br>date=%{x}<br>value=%{y}<extra></extra>\", \"legendgroup\": \"cuartarevoluci\\u00f3n\", \"line\": {\"color\": \"#19d3f3\", \"dash\": \"solid\"}, \"mode\": \"lines\", \"name\": \"cuartarevoluci\\u00f3n\", \"showlegend\": true, \"type\": \"scatter\", \"x\": [\"2020-04-07T00:00:00\"], \"xaxis\": \"x\", \"y\": [1.0], \"yaxis\": \"y\"}, {\"hovertemplate\": \"hashtag=cuba<br>date=%{x}<br>value=%{y}<extra></extra>\", \"legendgroup\": \"cuba\", \"line\": {\"color\": \"#FF6692\", \"dash\": \"solid\"}, \"mode\": \"lines\", \"name\": \"cuba\", \"showlegend\": true, \"type\": \"scatter\", \"x\": [\"2020-04-10T00:00:00\"], \"xaxis\": \"x\", \"y\": [2.0], \"yaxis\": \"y\"}, {\"hovertemplate\": \"hashtag=cuelloblaco<br>date=%{x}<br>value=%{y}<extra></extra>\", \"legendgroup\": \"cuelloblaco\", \"line\": {\"color\": \"#B6E880\", \"dash\": \"solid\"}, \"mode\": \"lines\", \"name\": \"cuelloblaco\", \"showlegend\": true, \"type\": \"scatter\", \"x\": [\"2020-04-10T00:00:00\"], \"xaxis\": \"x\", \"y\": [1.0], \"yaxis\": \"y\"}, {\"hovertemplate\": \"hashtag=culombia<br>date=%{x}<br>value=%{y}<extra></extra>\", \"legendgroup\": \"culombia\", \"line\": {\"color\": \"#FF97FF\", \"dash\": \"solid\"}, \"mode\": \"lines\", \"name\": \"culombia\", \"showlegend\": true, \"type\": \"scatter\", \"x\": [\"2020-04-09T00:00:00\"], \"xaxis\": \"x\", \"y\": [1.0], \"yaxis\": \"y\"}, {\"hovertemplate\": \"hashtag=curruptusinextremis<br>date=%{x}<br>value=%{y}<extra></extra>\", \"legendgroup\": \"curruptusinextremis\", \"line\": {\"color\": \"#FECB52\", \"dash\": \"solid\"}, \"mode\": \"lines\", \"name\": \"curruptusinextremis\", \"showlegend\": true, \"type\": \"scatter\", \"x\": [\"2020-04-09T00:00:00\"], \"xaxis\": \"x\", \"y\": [1.0], \"yaxis\": \"y\"}, {\"hovertemplate\": \"hashtag=c\\u00f3digocaracol<br>date=%{x}<br>value=%{y}<extra></extra>\", \"legendgroup\": \"c\\u00f3digocaracol\", \"line\": {\"color\": \"#636efa\", \"dash\": \"solid\"}, \"mode\": \"lines\", \"name\": \"c\\u00f3digocaracol\", \"showlegend\": true, \"type\": \"scatter\", \"x\": [\"2020-04-08T00:00:00\"], \"xaxis\": \"x\", \"y\": [1.0], \"yaxis\": \"y\"}, {\"hovertemplate\": \"hashtag=c\\u00facuta<br>date=%{x}<br>value=%{y}<extra></extra>\", \"legendgroup\": \"c\\u00facuta\", \"line\": {\"color\": \"#EF553B\", \"dash\": \"solid\"}, \"mode\": \"lines\", \"name\": \"c\\u00facuta\", \"showlegend\": true, \"type\": \"scatter\", \"x\": [\"2020-04-03T00:00:00\"], \"xaxis\": \"x\", \"y\": [1.0], \"yaxis\": \"y\"}, {\"hovertemplate\": \"hashtag=debateblu<br>date=%{x}<br>value=%{y}<extra></extra>\", \"legendgroup\": \"debateblu\", \"line\": {\"color\": \"#00cc96\", \"dash\": \"solid\"}, \"mode\": \"lines\", \"name\": \"debateblu\", \"showlegend\": true, \"type\": \"scatter\", \"x\": [\"2020-04-08T00:00:00\"], \"xaxis\": \"x\", \"y\": [2.0], \"yaxis\": \"y\"}, {\"hovertemplate\": \"hashtag=deestasalimosjuntos<br>date=%{x}<br>value=%{y}<extra></extra>\", \"legendgroup\": \"deestasalimosjuntos\", \"line\": {\"color\": \"#ab63fa\", \"dash\": \"solid\"}, \"mode\": \"lines\", \"name\": \"deestasalimosjuntos\", \"showlegend\": true, \"type\": \"scatter\", \"x\": [\"2020-04-24T00:00:00\"], \"xaxis\": \"x\", \"y\": [3.0], \"yaxis\": \"y\"}, {\"hovertemplate\": \"hashtag=delepenaporcolombia<br>date=%{x}<br>value=%{y}<extra></extra>\", \"legendgroup\": \"delepenaporcolombia\", \"line\": {\"color\": \"#FFA15A\", \"dash\": \"solid\"}, \"mode\": \"lines\", \"name\": \"delepenaporcolombia\", \"showlegend\": true, \"type\": \"scatter\", \"x\": [\"2020-04-09T00:00:00\"], \"xaxis\": \"x\", \"y\": [1.0], \"yaxis\": \"y\"}, {\"hovertemplate\": \"hashtag=denunciaciudadana<br>date=%{x}<br>value=%{y}<extra></extra>\", \"legendgroup\": \"denunciaciudadana\", \"line\": {\"color\": \"#19d3f3\", \"dash\": \"solid\"}, \"mode\": \"lines\", \"name\": \"denunciaciudadana\", \"showlegend\": true, \"type\": \"scatter\", \"x\": [\"2020-04-25T00:00:00\"], \"xaxis\": \"x\", \"y\": [1.0], \"yaxis\": \"y\"}, {\"hovertemplate\": \"hashtag=deportesblu<br>date=%{x}<br>value=%{y}<extra></extra>\", \"legendgroup\": \"deportesblu\", \"line\": {\"color\": \"#FF6692\", \"dash\": \"solid\"}, \"mode\": \"lines\", \"name\": \"deportesblu\", \"showlegend\": true, \"type\": \"scatter\", \"x\": [\"2020-04-09T00:00:00\"], \"xaxis\": \"x\", \"y\": [2.0], \"yaxis\": \"y\"}, {\"hovertemplate\": \"hashtag=descargacoronapp<br>date=%{x}<br>value=%{y}<extra></extra>\", \"legendgroup\": \"descargacoronapp\", \"line\": {\"color\": \"#B6E880\", \"dash\": \"solid\"}, \"mode\": \"lines\", \"name\": \"descargacoronapp\", \"showlegend\": true, \"type\": \"scatter\", \"x\": [\"2020-04-14T00:00:00\"], \"xaxis\": \"x\", \"y\": [2.0], \"yaxis\": \"y\"}, {\"hovertemplate\": \"hashtag=devolverpensionescotizadasya<br>date=%{x}<br>value=%{y}<extra></extra>\", \"legendgroup\": \"devolverpensionescotizadasya\", \"line\": {\"color\": \"#FF97FF\", \"dash\": \"solid\"}, \"mode\": \"lines\", \"name\": \"devolverpensionescotizadasya\", \"showlegend\": true, \"type\": \"scatter\", \"x\": [\"2020-04-17T00:00:00\"], \"xaxis\": \"x\", \"y\": [1.0], \"yaxis\": \"y\"}, {\"hovertemplate\": \"hashtag=diadelatierra<br>date=%{x}<br>value=%{y}<extra></extra>\", \"legendgroup\": \"diadelatierra\", \"line\": {\"color\": \"#FECB52\", \"dash\": \"solid\"}, \"mode\": \"lines\", \"name\": \"diadelatierra\", \"showlegend\": true, \"type\": \"scatter\", \"x\": [\"2020-04-22T00:00:00\"], \"xaxis\": \"x\", \"y\": [2.0], \"yaxis\": \"y\"}, {\"hovertemplate\": \"hashtag=diamundialdelasalud<br>date=%{x}<br>value=%{y}<extra></extra>\", \"legendgroup\": \"diamundialdelasalud\", \"line\": {\"color\": \"#636efa\", \"dash\": \"solid\"}, \"mode\": \"lines\", \"name\": \"diamundialdelasalud\", \"showlegend\": true, \"type\": \"scatter\", \"x\": [\"2020-04-08T00:00:00\"], \"xaxis\": \"x\", \"y\": [1.0], \"yaxis\": \"y\"}, {\"hovertemplate\": \"hashtag=diamundialdelemprendimiento<br>date=%{x}<br>value=%{y}<extra></extra>\", \"legendgroup\": \"diamundialdelemprendimiento\", \"line\": {\"color\": \"#EF553B\", \"dash\": \"solid\"}, \"mode\": \"lines\", \"name\": \"diamundialdelemprendimiento\", \"showlegend\": true, \"type\": \"scatter\", \"x\": [\"2020-04-17T00:00:00\"], \"xaxis\": \"x\", \"y\": [1.0], \"yaxis\": \"y\"}, {\"hovertemplate\": \"hashtag=dignidadmedica<br>date=%{x}<br>value=%{y}<extra></extra>\", \"legendgroup\": \"dignidadmedica\", \"line\": {\"color\": \"#00cc96\", \"dash\": \"solid\"}, \"mode\": \"lines\", \"name\": \"dignidadmedica\", \"showlegend\": true, \"type\": \"scatter\", \"x\": [\"2020-04-09T00:00:00\"], \"xaxis\": \"x\", \"y\": [1.0], \"yaxis\": \"y\"}, {\"hovertemplate\": \"hashtag=dnpcorrupta<br>date=%{x}<br>value=%{y}<extra></extra>\", \"legendgroup\": \"dnpcorrupta\", \"line\": {\"color\": \"#ab63fa\", \"dash\": \"solid\"}, \"mode\": \"lines\", \"name\": \"dnpcorrupta\", \"showlegend\": true, \"type\": \"scatter\", \"x\": [\"2020-04-09T00:00:00\"], \"xaxis\": \"x\", \"y\": [1.0], \"yaxis\": \"y\"}, {\"hovertemplate\": \"hashtag=donatonbogota<br>date=%{x}<br>value=%{y}<extra></extra>\", \"legendgroup\": \"donatonbogota\", \"line\": {\"color\": \"#FFA15A\", \"dash\": \"solid\"}, \"mode\": \"lines\", \"name\": \"donatonbogota\", \"showlegend\": true, \"type\": \"scatter\", \"x\": [\"2020-04-20T00:00:00\", \"2020-04-22T00:00:00\"], \"xaxis\": \"x\", \"y\": [4.0, 1.0], \"yaxis\": \"y\"}, {\"hovertemplate\": \"hashtag=donat\\u00f3nbogot\\u00e1<br>date=%{x}<br>value=%{y}<extra></extra>\", \"legendgroup\": \"donat\\u00f3nbogot\\u00e1\", \"line\": {\"color\": \"#19d3f3\", \"dash\": \"solid\"}, \"mode\": \"lines\", \"name\": \"donat\\u00f3nbogot\\u00e1\", \"showlegend\": true, \"type\": \"scatter\", \"x\": [\"2020-04-20T00:00:00\"], \"xaxis\": \"x\", \"y\": [1.0], \"yaxis\": \"y\"}, {\"hovertemplate\": \"hashtag=donat\\u00f3nporlosind\\u00edgenas<br>date=%{x}<br>value=%{y}<extra></extra>\", \"legendgroup\": \"donat\\u00f3nporlosind\\u00edgenas\", \"line\": {\"color\": \"#FF6692\", \"dash\": \"solid\"}, \"mode\": \"lines\", \"name\": \"donat\\u00f3nporlosind\\u00edgenas\", \"showlegend\": true, \"type\": \"scatter\", \"x\": [\"2020-04-23T00:00:00\"], \"xaxis\": \"x\", \"y\": [1.0], \"yaxis\": \"y\"}, {\"hovertemplate\": \"hashtag=donat\\u00f3npormedell\\u00edn<br>date=%{x}<br>value=%{y}<extra></extra>\", \"legendgroup\": \"donat\\u00f3npormedell\\u00edn\", \"line\": {\"color\": \"#B6E880\", \"dash\": \"solid\"}, \"mode\": \"lines\", \"name\": \"donat\\u00f3npormedell\\u00edn\", \"showlegend\": true, \"type\": \"scatter\", \"x\": [\"2020-04-10T00:00:00\"], \"xaxis\": \"x\", \"y\": [1.0], \"yaxis\": \"y\"}, {\"hovertemplate\": \"hashtag=dondeestamidinero<br>date=%{x}<br>value=%{y}<extra></extra>\", \"legendgroup\": \"dondeestamidinero\", \"line\": {\"color\": \"#FF97FF\", \"dash\": \"solid\"}, \"mode\": \"lines\", \"name\": \"dondeestamidinero\", \"showlegend\": true, \"type\": \"scatter\", \"x\": [\"2020-04-09T00:00:00\"], \"xaxis\": \"x\", \"y\": [1.0], \"yaxis\": \"y\"}, {\"hovertemplate\": \"hashtag=dondeestanancypatrica<br>date=%{x}<br>value=%{y}<extra></extra>\", \"legendgroup\": \"dondeestanancypatrica\", \"line\": {\"color\": \"#FECB52\", \"dash\": \"solid\"}, \"mode\": \"lines\", \"name\": \"dondeestanancypatrica\", \"showlegend\": true, \"type\": \"scatter\", \"x\": [\"2020-04-25T00:00:00\"], \"xaxis\": \"x\", \"y\": [1.0], \"yaxis\": \"y\"}, {\"hovertemplate\": \"hashtag=dondeestanlasautoridades<br>date=%{x}<br>value=%{y}<extra></extra>\", \"legendgroup\": \"dondeestanlasautoridades\", \"line\": {\"color\": \"#636efa\", \"dash\": \"solid\"}, \"mode\": \"lines\", \"name\": \"dondeestanlasautoridades\", \"showlegend\": true, \"type\": \"scatter\", \"x\": [\"2020-04-15T00:00:00\"], \"xaxis\": \"x\", \"y\": [1.0], \"yaxis\": \"y\"}, {\"hovertemplate\": \"hashtag=dossemanasmasdeaislamiento<br>date=%{x}<br>value=%{y}<extra></extra>\", \"legendgroup\": \"dossemanasmasdeaislamiento\", \"line\": {\"color\": \"#EF553B\", \"dash\": \"solid\"}, \"mode\": \"lines\", \"name\": \"dossemanasmasdeaislamiento\", \"showlegend\": true, \"type\": \"scatter\", \"x\": [\"2020-04-21T00:00:00\"], \"xaxis\": \"x\", \"y\": [2.0], \"yaxis\": \"y\"}, {\"hovertemplate\": \"hashtag=duqueinepto<br>date=%{x}<br>value=%{y}<extra></extra>\", \"legendgroup\": \"duqueinepto\", \"line\": {\"color\": \"#00cc96\", \"dash\": \"solid\"}, \"mode\": \"lines\", \"name\": \"duqueinepto\", \"showlegend\": true, \"type\": \"scatter\", \"x\": [\"2020-04-09T00:00:00\", \"2020-04-25T00:00:00\"], \"xaxis\": \"x\", \"y\": [4.0, 1.0], \"yaxis\": \"y\"}, {\"hovertemplate\": \"hashtag=duquemiserable<br>date=%{x}<br>value=%{y}<extra></extra>\", \"legendgroup\": \"duquemiserable\", \"line\": {\"color\": \"#ab63fa\", \"dash\": \"solid\"}, \"mode\": \"lines\", \"name\": \"duquemiserable\", \"showlegend\": true, \"type\": \"scatter\", \"x\": [\"2020-04-09T00:00:00\", \"2020-04-10T00:00:00\"], \"xaxis\": \"x\", \"y\": [6.0, 5.0], \"yaxis\": \"y\"}, {\"hovertemplate\": \"hashtag=duquenosmiente<br>date=%{x}<br>value=%{y}<extra></extra>\", \"legendgroup\": \"duquenosmiente\", \"line\": {\"color\": \"#FFA15A\", \"dash\": \"solid\"}, \"mode\": \"lines\", \"name\": \"duquenosmiente\", \"showlegend\": true, \"type\": \"scatter\", \"x\": [\"2020-04-15T00:00:00\"], \"xaxis\": \"x\", \"y\": [1.0], \"yaxis\": \"y\"}, {\"hovertemplate\": \"hashtag=duquepresidentedenarcos<br>date=%{x}<br>value=%{y}<extra></extra>\", \"legendgroup\": \"duquepresidentedenarcos\", \"line\": {\"color\": \"#19d3f3\", \"dash\": \"solid\"}, \"mode\": \"lines\", \"name\": \"duquepresidentedenarcos\", \"showlegend\": true, \"type\": \"scatter\", \"x\": [\"2020-04-09T00:00:00\"], \"xaxis\": \"x\", \"y\": [1.0], \"yaxis\": \"y\"}, {\"hovertemplate\": \"hashtag=duquerenuncie<br>date=%{x}<br>value=%{y}<extra></extra>\", \"legendgroup\": \"duquerenuncie\", \"line\": {\"color\": \"#FF6692\", \"dash\": \"solid\"}, \"mode\": \"lines\", \"name\": \"duquerenuncie\", \"showlegend\": true, \"type\": \"scatter\", \"x\": [\"2020-04-09T00:00:00\", \"2020-04-10T00:00:00\"], \"xaxis\": \"x\", \"y\": [5.0, 2.0], \"yaxis\": \"y\"}, {\"hovertemplate\": \"hashtag=duqueresponda<br>date=%{x}<br>value=%{y}<extra></extra>\", \"legendgroup\": \"duqueresponda\", \"line\": {\"color\": \"#B6E880\", \"dash\": \"solid\"}, \"mode\": \"lines\", \"name\": \"duqueresponda\", \"showlegend\": true, \"type\": \"scatter\", \"x\": [\"2020-04-09T00:00:00\"], \"xaxis\": \"x\", \"y\": [8.0], \"yaxis\": \"y\"}, {\"hovertemplate\": \"hashtag=d\\u00edadelani\\u00f1ez<br>date=%{x}<br>value=%{y}<extra></extra>\", \"legendgroup\": \"d\\u00edadelani\\u00f1ez\", \"line\": {\"color\": \"#FF97FF\", \"dash\": \"solid\"}, \"mode\": \"lines\", \"name\": \"d\\u00edadelani\\u00f1ez\", \"showlegend\": true, \"type\": \"scatter\", \"x\": [\"2020-04-25T00:00:00\"], \"xaxis\": \"x\", \"y\": [1.0], \"yaxis\": \"y\"}, {\"hovertemplate\": \"hashtag=d\\u00edadelatierra<br>date=%{x}<br>value=%{y}<extra></extra>\", \"legendgroup\": \"d\\u00edadelatierra\", \"line\": {\"color\": \"#FECB52\", \"dash\": \"solid\"}, \"mode\": \"lines\", \"name\": \"d\\u00edadelatierra\", \"showlegend\": true, \"type\": \"scatter\", \"x\": [\"2020-04-22T00:00:00\"], \"xaxis\": \"x\", \"y\": [1.0], \"yaxis\": \"y\"}, {\"hovertemplate\": \"hashtag=d\\u00edadelni\\u00f1o<br>date=%{x}<br>value=%{y}<extra></extra>\", \"legendgroup\": \"d\\u00edadelni\\u00f1o\", \"line\": {\"color\": \"#636efa\", \"dash\": \"solid\"}, \"mode\": \"lines\", \"name\": \"d\\u00edadelni\\u00f1o\", \"showlegend\": true, \"type\": \"scatter\", \"x\": [\"2020-04-25T00:00:00\"], \"xaxis\": \"x\", \"y\": [3.0], \"yaxis\": \"y\"}, {\"hovertemplate\": \"hashtag=d\\u00edamundialdelasalud<br>date=%{x}<br>value=%{y}<extra></extra>\", \"legendgroup\": \"d\\u00edamundialdelasalud\", \"line\": {\"color\": \"#EF553B\", \"dash\": \"solid\"}, \"mode\": \"lines\", \"name\": \"d\\u00edamundialdelasalud\", \"showlegend\": true, \"type\": \"scatter\", \"x\": [\"2020-04-07T00:00:00\", \"2020-04-08T00:00:00\"], \"xaxis\": \"x\", \"y\": [1.0, 1.0], \"yaxis\": \"y\"}, {\"hovertemplate\": \"hashtag=echenpadentroblablablu<br>date=%{x}<br>value=%{y}<extra></extra>\", \"legendgroup\": \"echenpadentroblablablu\", \"line\": {\"color\": \"#00cc96\", \"dash\": \"solid\"}, \"mode\": \"lines\", \"name\": \"echenpadentroblablablu\", \"showlegend\": true, \"type\": \"scatter\", \"x\": [\"2020-04-08T00:00:00\"], \"xaxis\": \"x\", \"y\": [1.0], \"yaxis\": \"y\"}, {\"hovertemplate\": \"hashtag=eeuu<br>date=%{x}<br>value=%{y}<extra></extra>\", \"legendgroup\": \"eeuu\", \"line\": {\"color\": \"#ab63fa\", \"dash\": \"solid\"}, \"mode\": \"lines\", \"name\": \"eeuu\", \"showlegend\": true, \"type\": \"scatter\", \"x\": [\"2020-04-25T00:00:00\"], \"xaxis\": \"x\", \"y\": [1.0], \"yaxis\": \"y\"}, {\"hovertemplate\": \"hashtag=elcacas<br>date=%{x}<br>value=%{y}<extra></extra>\", \"legendgroup\": \"elcacas\", \"line\": {\"color\": \"#FFA15A\", \"dash\": \"solid\"}, \"mode\": \"lines\", \"name\": \"elcacas\", \"showlegend\": true, \"type\": \"scatter\", \"x\": [\"2020-04-10T00:00:00\"], \"xaxis\": \"x\", \"y\": [1.0], \"yaxis\": \"y\"}, {\"hovertemplate\": \"hashtag=elcarteldelascedulas<br>date=%{x}<br>value=%{y}<extra></extra>\", \"legendgroup\": \"elcarteldelascedulas\", \"line\": {\"color\": \"#19d3f3\", \"dash\": \"solid\"}, \"mode\": \"lines\", \"name\": \"elcarteldelascedulas\", \"showlegend\": true, \"type\": \"scatter\", \"x\": [\"2020-04-09T00:00:00\", \"2020-04-10T00:00:00\"], \"xaxis\": \"x\", \"y\": [1.0, 1.0], \"yaxis\": \"y\"}, {\"hovertemplate\": \"hashtag=elchagualo<br>date=%{x}<br>value=%{y}<extra></extra>\", \"legendgroup\": \"elchagualo\", \"line\": {\"color\": \"#FF6692\", \"dash\": \"solid\"}, \"mode\": \"lines\", \"name\": \"elchagualo\", \"showlegend\": true, \"type\": \"scatter\", \"x\": [\"2020-04-25T00:00:00\"], \"xaxis\": \"x\", \"y\": [1.0], \"yaxis\": \"y\"}, {\"hovertemplate\": \"hashtag=elojodejuandiego<br>date=%{x}<br>value=%{y}<extra></extra>\", \"legendgroup\": \"elojodejuandiego\", \"line\": {\"color\": \"#B6E880\", \"dash\": \"solid\"}, \"mode\": \"lines\", \"name\": \"elojodejuandiego\", \"showlegend\": true, \"type\": \"scatter\", \"x\": [\"2020-04-07T00:00:00\"], \"xaxis\": \"x\", \"y\": [1.0], \"yaxis\": \"y\"}, {\"hovertemplate\": \"hashtag=elparamodesanturbannosetoca<br>date=%{x}<br>value=%{y}<extra></extra>\", \"legendgroup\": \"elparamodesanturbannosetoca\", \"line\": {\"color\": \"#FF97FF\", \"dash\": \"solid\"}, \"mode\": \"lines\", \"name\": \"elparamodesanturbannosetoca\", \"showlegend\": true, \"type\": \"scatter\", \"x\": [\"2020-04-10T00:00:00\"], \"xaxis\": \"x\", \"y\": [1.0], \"yaxis\": \"y\"}, {\"hovertemplate\": \"hashtag=elpeorpresidentedelahistoria<br>date=%{x}<br>value=%{y}<extra></extra>\", \"legendgroup\": \"elpeorpresidentedelahistoria\", \"line\": {\"color\": \"#FECB52\", \"dash\": \"solid\"}, \"mode\": \"lines\", \"name\": \"elpeorpresidentedelahistoria\", \"showlegend\": true, \"type\": \"scatter\", \"x\": [\"2020-04-25T00:00:00\"], \"xaxis\": \"x\", \"y\": [1.0], \"yaxis\": \"y\"}, {\"hovertemplate\": \"hashtag=elperiodistasoyyo<br>date=%{x}<br>value=%{y}<extra></extra>\", \"legendgroup\": \"elperiodistasoyyo\", \"line\": {\"color\": \"#636efa\", \"dash\": \"solid\"}, \"mode\": \"lines\", \"name\": \"elperiodistasoyyo\", \"showlegend\": true, \"type\": \"scatter\", \"x\": [\"2020-04-08T00:00:00\"], \"xaxis\": \"x\", \"y\": [1.0], \"yaxis\": \"y\"}, {\"hovertemplate\": \"hashtag=elquelahacelapaga<br>date=%{x}<br>value=%{y}<extra></extra>\", \"legendgroup\": \"elquelahacelapaga\", \"line\": {\"color\": \"#EF553B\", \"dash\": \"solid\"}, \"mode\": \"lines\", \"name\": \"elquelahacelapaga\", \"showlegend\": true, \"type\": \"scatter\", \"x\": [\"2020-04-10T00:00:00\"], \"xaxis\": \"x\", \"y\": [3.0], \"yaxis\": \"y\"}, {\"hovertemplate\": \"hashtag=elquenoseaisleesunbruto<br>date=%{x}<br>value=%{y}<extra></extra>\", \"legendgroup\": \"elquenoseaisleesunbruto\", \"line\": {\"color\": \"#00cc96\", \"dash\": \"solid\"}, \"mode\": \"lines\", \"name\": \"elquenoseaisleesunbruto\", \"showlegend\": true, \"type\": \"scatter\", \"x\": [\"2020-04-06T00:00:00\"], \"xaxis\": \"x\", \"y\": [1.0], \"yaxis\": \"y\"}, {\"hovertemplate\": \"hashtag=elquenosecomaesecuentoesinteligente<br>date=%{x}<br>value=%{y}<extra></extra>\", \"legendgroup\": \"elquenosecomaesecuentoesinteligente\", \"line\": {\"color\": \"#ab63fa\", \"dash\": \"solid\"}, \"mode\": \"lines\", \"name\": \"elquenosecomaesecuentoesinteligente\", \"showlegend\": true, \"type\": \"scatter\", \"x\": [\"2020-04-06T00:00:00\"], \"xaxis\": \"x\", \"y\": [1.0], \"yaxis\": \"y\"}, {\"hovertemplate\": \"hashtag=elvalordeunalma<br>date=%{x}<br>value=%{y}<extra></extra>\", \"legendgroup\": \"elvalordeunalma\", \"line\": {\"color\": \"#FFA15A\", \"dash\": \"solid\"}, \"mode\": \"lines\", \"name\": \"elvalordeunalma\", \"showlegend\": true, \"type\": \"scatter\", \"x\": [\"2020-04-09T00:00:00\"], \"xaxis\": \"x\", \"y\": [1.0], \"yaxis\": \"y\"}, {\"hovertemplate\": \"hashtag=emergenciasanitaria<br>date=%{x}<br>value=%{y}<extra></extra>\", \"legendgroup\": \"emergenciasanitaria\", \"line\": {\"color\": \"#19d3f3\", \"dash\": \"solid\"}, \"mode\": \"lines\", \"name\": \"emergenciasanitaria\", \"showlegend\": true, \"type\": \"scatter\", \"x\": [\"2020-04-23T00:00:00\"], \"xaxis\": \"x\", \"y\": [1.0], \"yaxis\": \"y\"}, {\"hovertemplate\": \"hashtag=enabrilespero<br>date=%{x}<br>value=%{y}<extra></extra>\", \"legendgroup\": \"enabrilespero\", \"line\": {\"color\": \"#FF6692\", \"dash\": \"solid\"}, \"mode\": \"lines\", \"name\": \"enabrilespero\", \"showlegend\": true, \"type\": \"scatter\", \"x\": [\"2020-04-01T00:00:00\"], \"xaxis\": \"x\", \"y\": [2.0], \"yaxis\": \"y\"}, {\"hovertemplate\": \"hashtag=encasa<br>date=%{x}<br>value=%{y}<extra></extra>\", \"legendgroup\": \"encasa\", \"line\": {\"color\": \"#B6E880\", \"dash\": \"solid\"}, \"mode\": \"lines\", \"name\": \"encasa\", \"showlegend\": true, \"type\": \"scatter\", \"x\": [\"2020-04-25T00:00:00\"], \"xaxis\": \"x\", \"y\": [2.0], \"yaxis\": \"y\"}, {\"hovertemplate\": \"hashtag=encuesta<br>date=%{x}<br>value=%{y}<extra></extra>\", \"legendgroup\": \"encuesta\", \"line\": {\"color\": \"#FF97FF\", \"dash\": \"solid\"}, \"mode\": \"lines\", \"name\": \"encuesta\", \"showlegend\": true, \"type\": \"scatter\", \"x\": [\"2020-04-07T00:00:00\", \"2020-04-08T00:00:00\"], \"xaxis\": \"x\", \"y\": [4.0, 3.0], \"yaxis\": \"y\"}, {\"hovertemplate\": \"hashtag=enerca<br>date=%{x}<br>value=%{y}<extra></extra>\", \"legendgroup\": \"enerca\", \"line\": {\"color\": \"#FECB52\", \"dash\": \"solid\"}, \"mode\": \"lines\", \"name\": \"enerca\", \"showlegend\": true, \"type\": \"scatter\", \"x\": [\"2020-04-10T00:00:00\"], \"xaxis\": \"x\", \"y\": [1.0], \"yaxis\": \"y\"}, {\"hovertemplate\": \"hashtag=ensemanasantayo<br>date=%{x}<br>value=%{y}<extra></extra>\", \"legendgroup\": \"ensemanasantayo\", \"line\": {\"color\": \"#636efa\", \"dash\": \"solid\"}, \"mode\": \"lines\", \"name\": \"ensemanasantayo\", \"showlegend\": true, \"type\": \"scatter\", \"x\": [\"2020-04-09T00:00:00\"], \"xaxis\": \"x\", \"y\": [3.0], \"yaxis\": \"y\"}, {\"hovertemplate\": \"hashtag=entrenandojuntos<br>date=%{x}<br>value=%{y}<extra></extra>\", \"legendgroup\": \"entrenandojuntos\", \"line\": {\"color\": \"#EF553B\", \"dash\": \"solid\"}, \"mode\": \"lines\", \"name\": \"entrenandojuntos\", \"showlegend\": true, \"type\": \"scatter\", \"x\": [\"2020-04-05T00:00:00\"], \"xaxis\": \"x\", \"y\": [1.0], \"yaxis\": \"y\"}, {\"hovertemplate\": \"hashtag=entretenimiento<br>date=%{x}<br>value=%{y}<extra></extra>\", \"legendgroup\": \"entretenimiento\", \"line\": {\"color\": \"#00cc96\", \"dash\": \"solid\"}, \"mode\": \"lines\", \"name\": \"entretenimiento\", \"showlegend\": true, \"type\": \"scatter\", \"x\": [\"2020-04-10T00:00:00\"], \"xaxis\": \"x\", \"y\": [3.0], \"yaxis\": \"y\"}, {\"hovertemplate\": \"hashtag=envivo<br>date=%{x}<br>value=%{y}<extra></extra>\", \"legendgroup\": \"envivo\", \"line\": {\"color\": \"#ab63fa\", \"dash\": \"solid\"}, \"mode\": \"lines\", \"name\": \"envivo\", \"showlegend\": true, \"type\": \"scatter\", \"x\": [\"2020-04-01T00:00:00\", \"2020-04-02T00:00:00\", \"2020-04-03T00:00:00\", \"2020-04-04T00:00:00\", \"2020-04-06T00:00:00\", \"2020-04-07T00:00:00\", \"2020-04-08T00:00:00\", \"2020-04-09T00:00:00\", \"2020-04-10T00:00:00\", \"2020-04-12T00:00:00\", \"2020-04-14T00:00:00\", \"2020-04-16T00:00:00\", \"2020-04-17T00:00:00\", \"2020-04-18T00:00:00\", \"2020-04-19T00:00:00\", \"2020-04-20T00:00:00\", \"2020-04-21T00:00:00\", \"2020-04-22T00:00:00\", \"2020-04-23T00:00:00\", \"2020-04-24T00:00:00\", \"2020-04-25T00:00:00\"], \"xaxis\": \"x\", \"y\": [2.0, 2.0, 1.0, 1.0, 4.0, 4.0, 2.0, 2.0, 1.0, 1.0, 4.0, 2.0, 1.0, 1.0, 2.0, 1.0, 2.0, 3.0, 2.0, 1.0, 1.0], \"yaxis\": \"y\"}, {\"hovertemplate\": \"hashtag=esgratishazlodeuna<br>date=%{x}<br>value=%{y}<extra></extra>\", \"legendgroup\": \"esgratishazlodeuna\", \"line\": {\"color\": \"#FFA15A\", \"dash\": \"solid\"}, \"mode\": \"lines\", \"name\": \"esgratishazlodeuna\", \"showlegend\": true, \"type\": \"scatter\", \"x\": [\"2020-04-24T00:00:00\"], \"xaxis\": \"x\", \"y\": [1.0], \"yaxis\": \"y\"}, {\"hovertemplate\": \"hashtag=esmad<br>date=%{x}<br>value=%{y}<extra></extra>\", \"legendgroup\": \"esmad\", \"line\": {\"color\": \"#19d3f3\", \"dash\": \"solid\"}, \"mode\": \"lines\", \"name\": \"esmad\", \"showlegend\": true, \"type\": \"scatter\", \"x\": [\"2020-04-13T00:00:00\"], \"xaxis\": \"x\", \"y\": [1.0], \"yaxis\": \"y\"}, {\"hovertemplate\": \"hashtag=espaciosseguros<br>date=%{x}<br>value=%{y}<extra></extra>\", \"legendgroup\": \"espaciosseguros\", \"line\": {\"color\": \"#FF6692\", \"dash\": \"solid\"}, \"mode\": \"lines\", \"name\": \"espaciosseguros\", \"showlegend\": true, \"type\": \"scatter\", \"x\": [\"2020-04-22T00:00:00\"], \"xaxis\": \"x\", \"y\": [1.0], \"yaxis\": \"y\"}, {\"hovertemplate\": \"hashtag=estamosjuntos<br>date=%{x}<br>value=%{y}<extra></extra>\", \"legendgroup\": \"estamosjuntos\", \"line\": {\"color\": \"#B6E880\", \"dash\": \"solid\"}, \"mode\": \"lines\", \"name\": \"estamosjuntos\", \"showlegend\": true, \"type\": \"scatter\", \"x\": [\"2020-04-20T00:00:00\"], \"xaxis\": \"x\", \"y\": [2.0], \"yaxis\": \"y\"}, {\"hovertemplate\": \"hashtag=estrato3y4<br>date=%{x}<br>value=%{y}<extra></extra>\", \"legendgroup\": \"estrato3y4\", \"line\": {\"color\": \"#FF97FF\", \"dash\": \"solid\"}, \"mode\": \"lines\", \"name\": \"estrato3y4\", \"showlegend\": true, \"type\": \"scatter\", \"x\": [\"2020-04-09T00:00:00\"], \"xaxis\": \"x\", \"y\": [1.0], \"yaxis\": \"y\"}, {\"hovertemplate\": \"hashtag=est\\u00e1entusmanos<br>date=%{x}<br>value=%{y}<extra></extra>\", \"legendgroup\": \"est\\u00e1entusmanos\", \"line\": {\"color\": \"#FECB52\", \"dash\": \"solid\"}, \"mode\": \"lines\", \"name\": \"est\\u00e1entusmanos\", \"showlegend\": true, \"type\": \"scatter\", \"x\": [\"2020-04-07T00:00:00\", \"2020-04-08T00:00:00\", \"2020-04-09T00:00:00\", \"2020-04-10T00:00:00\"], \"xaxis\": \"x\", \"y\": [7.0, 7.0, 3.0, 1.0], \"yaxis\": \"y\"}, {\"hovertemplate\": \"hashtag=etm<br>date=%{x}<br>value=%{y}<extra></extra>\", \"legendgroup\": \"etm\", \"line\": {\"color\": \"#636efa\", \"dash\": \"solid\"}, \"mode\": \"lines\", \"name\": \"etm\", \"showlegend\": true, \"type\": \"scatter\", \"x\": [\"2020-04-23T00:00:00\"], \"xaxis\": \"x\", \"y\": [1.0], \"yaxis\": \"y\"}, {\"hovertemplate\": \"hashtag=evitaelcontagio<br>date=%{x}<br>value=%{y}<extra></extra>\", \"legendgroup\": \"evitaelcontagio\", \"line\": {\"color\": \"#EF553B\", \"dash\": \"solid\"}, \"mode\": \"lines\", \"name\": \"evitaelcontagio\", \"showlegend\": true, \"type\": \"scatter\", \"x\": [\"2020-04-05T00:00:00\"], \"xaxis\": \"x\", \"y\": [1.0], \"yaxis\": \"y\"}, {\"hovertemplate\": \"hashtag=evitaelcoronavirus<br>date=%{x}<br>value=%{y}<extra></extra>\", \"legendgroup\": \"evitaelcoronavirus\", \"line\": {\"color\": \"#00cc96\", \"dash\": \"solid\"}, \"mode\": \"lines\", \"name\": \"evitaelcoronavirus\", \"showlegend\": true, \"type\": \"scatter\", \"x\": [\"2020-04-01T00:00:00\", \"2020-04-02T00:00:00\", \"2020-04-03T00:00:00\", \"2020-04-04T00:00:00\", \"2020-04-05T00:00:00\", \"2020-04-06T00:00:00\", \"2020-04-07T00:00:00\", \"2020-04-08T00:00:00\", \"2020-04-09T00:00:00\", \"2020-04-10T00:00:00\", \"2020-04-14T00:00:00\", \"2020-04-16T00:00:00\", \"2020-04-18T00:00:00\", \"2020-04-21T00:00:00\", \"2020-04-22T00:00:00\", \"2020-04-23T00:00:00\", \"2020-04-24T00:00:00\"], \"xaxis\": \"x\", \"y\": [5.0, 4.0, 2.0, 4.0, 4.0, 3.0, 2.0, 4.0, 1.0, 16.0, 5.0, 1.0, 5.0, 2.0, 3.0, 3.0, 1.0], \"yaxis\": \"y\"}, {\"hovertemplate\": \"hashtag=exclusivo<br>date=%{x}<br>value=%{y}<extra></extra>\", \"legendgroup\": \"exclusivo\", \"line\": {\"color\": \"#ab63fa\", \"dash\": \"solid\"}, \"mode\": \"lines\", \"name\": \"exclusivo\", \"showlegend\": true, \"type\": \"scatter\", \"x\": [\"2020-04-06T00:00:00\"], \"xaxis\": \"x\", \"y\": [1.0], \"yaxis\": \"y\"}, {\"hovertemplate\": \"hashtag=facebooklive<br>date=%{x}<br>value=%{y}<extra></extra>\", \"legendgroup\": \"facebooklive\", \"line\": {\"color\": \"#FFA15A\", \"dash\": \"solid\"}, \"mode\": \"lines\", \"name\": \"facebooklive\", \"showlegend\": true, \"type\": \"scatter\", \"x\": [\"2020-04-05T00:00:00\", \"2020-04-08T00:00:00\", \"2020-04-19T00:00:00\", \"2020-04-20T00:00:00\"], \"xaxis\": \"x\", \"y\": [1.0, 6.0, 1.0, 1.0], \"yaxis\": \"y\"}, {\"hovertemplate\": \"hashtag=falsospositivos<br>date=%{x}<br>value=%{y}<extra></extra>\", \"legendgroup\": \"falsospositivos\", \"line\": {\"color\": \"#19d3f3\", \"dash\": \"solid\"}, \"mode\": \"lines\", \"name\": \"falsospositivos\", \"showlegend\": true, \"type\": \"scatter\", \"x\": [\"2020-04-09T00:00:00\", \"2020-04-10T00:00:00\"], \"xaxis\": \"x\", \"y\": [1.0, 1.0], \"yaxis\": \"y\"}, {\"hovertemplate\": \"hashtag=fasecolda<br>date=%{x}<br>value=%{y}<extra></extra>\", \"legendgroup\": \"fasecolda\", \"line\": {\"color\": \"#FF6692\", \"dash\": \"solid\"}, \"mode\": \"lines\", \"name\": \"fasecolda\", \"showlegend\": true, \"type\": \"scatter\", \"x\": [\"2020-04-09T00:00:00\"], \"xaxis\": \"x\", \"y\": [2.0], \"yaxis\": \"y\"}, {\"hovertemplate\": \"hashtag=fblive<br>date=%{x}<br>value=%{y}<extra></extra>\", \"legendgroup\": \"fblive\", \"line\": {\"color\": \"#B6E880\", \"dash\": \"solid\"}, \"mode\": \"lines\", \"name\": \"fblive\", \"showlegend\": true, \"type\": \"scatter\", \"x\": [\"2020-04-06T00:00:00\", \"2020-04-21T00:00:00\", \"2020-04-22T00:00:00\"], \"xaxis\": \"x\", \"y\": [2.0, 1.0, 1.0], \"yaxis\": \"y\"}, {\"hovertemplate\": \"hashtag=felizs\\u00e1bado<br>date=%{x}<br>value=%{y}<extra></extra>\", \"legendgroup\": \"felizs\\u00e1bado\", \"line\": {\"color\": \"#FF97FF\", \"dash\": \"solid\"}, \"mode\": \"lines\", \"name\": \"felizs\\u00e1bado\", \"showlegend\": true, \"type\": \"scatter\", \"x\": [\"2020-04-25T00:00:00\"], \"xaxis\": \"x\", \"y\": [1.0], \"yaxis\": \"y\"}, {\"hovertemplate\": \"hashtag=fidesencasa<br>date=%{x}<br>value=%{y}<extra></extra>\", \"legendgroup\": \"fidesencasa\", \"line\": {\"color\": \"#FECB52\", \"dash\": \"solid\"}, \"mode\": \"lines\", \"name\": \"fidesencasa\", \"showlegend\": true, \"type\": \"scatter\", \"x\": [\"2020-04-06T00:00:00\", \"2020-04-08T00:00:00\"], \"xaxis\": \"x\", \"y\": [1.0, 1.0], \"yaxis\": \"y\"}, {\"hovertemplate\": \"hashtag=fosiga<br>date=%{x}<br>value=%{y}<extra></extra>\", \"legendgroup\": \"fosiga\", \"line\": {\"color\": \"#636efa\", \"dash\": \"solid\"}, \"mode\": \"lines\", \"name\": \"fosiga\", \"showlegend\": true, \"type\": \"scatter\", \"x\": [\"2020-04-09T00:00:00\"], \"xaxis\": \"x\", \"y\": [1.0], \"yaxis\": \"y\"}, {\"hovertemplate\": \"hashtag=fotos<br>date=%{x}<br>value=%{y}<extra></extra>\", \"legendgroup\": \"fotos\", \"line\": {\"color\": \"#EF553B\", \"dash\": \"solid\"}, \"mode\": \"lines\", \"name\": \"fotos\", \"showlegend\": true, \"type\": \"scatter\", \"x\": [\"2020-04-08T00:00:00\"], \"xaxis\": \"x\", \"y\": [1.0], \"yaxis\": \"y\"}, {\"hovertemplate\": \"hashtag=fraudedeestado<br>date=%{x}<br>value=%{y}<extra></extra>\", \"legendgroup\": \"fraudedeestado\", \"line\": {\"color\": \"#00cc96\", \"dash\": \"solid\"}, \"mode\": \"lines\", \"name\": \"fraudedeestado\", \"showlegend\": true, \"type\": \"scatter\", \"x\": [\"2020-04-09T00:00:00\", \"2020-04-10T00:00:00\"], \"xaxis\": \"x\", \"y\": [7.0, 1.0], \"yaxis\": \"y\"}, {\"hovertemplate\": \"hashtag=fraudeelectoral<br>date=%{x}<br>value=%{y}<extra></extra>\", \"legendgroup\": \"fraudeelectoral\", \"line\": {\"color\": \"#ab63fa\", \"dash\": \"solid\"}, \"mode\": \"lines\", \"name\": \"fraudeelectoral\", \"showlegend\": true, \"type\": \"scatter\", \"x\": [\"2020-04-09T00:00:00\"], \"xaxis\": \"x\", \"y\": [4.0], \"yaxis\": \"y\"}, {\"hovertemplate\": \"hashtag=fraudesolidario<br>date=%{x}<br>value=%{y}<extra></extra>\", \"legendgroup\": \"fraudesolidario\", \"line\": {\"color\": \"#FFA15A\", \"dash\": \"solid\"}, \"mode\": \"lines\", \"name\": \"fraudesolidario\", \"showlegend\": true, \"type\": \"scatter\", \"x\": [\"2020-04-09T00:00:00\"], \"xaxis\": \"x\", \"y\": [7.0], \"yaxis\": \"y\"}, {\"hovertemplate\": \"hashtag=fuerabolivar<br>date=%{x}<br>value=%{y}<extra></extra>\", \"legendgroup\": \"fuerabolivar\", \"line\": {\"color\": \"#19d3f3\", \"dash\": \"solid\"}, \"mode\": \"lines\", \"name\": \"fuerabolivar\", \"showlegend\": true, \"type\": \"scatter\", \"x\": [\"2020-04-09T00:00:00\"], \"xaxis\": \"x\", \"y\": [1.0], \"yaxis\": \"y\"}, {\"hovertemplate\": \"hashtag=fuersapetro<br>date=%{x}<br>value=%{y}<extra></extra>\", \"legendgroup\": \"fuersapetro\", \"line\": {\"color\": \"#FF6692\", \"dash\": \"solid\"}, \"mode\": \"lines\", \"name\": \"fuersapetro\", \"showlegend\": true, \"type\": \"scatter\", \"x\": [\"2020-04-11T00:00:00\"], \"xaxis\": \"x\", \"y\": [1.0], \"yaxis\": \"y\"}, {\"hovertemplate\": \"hashtag=fuerzagustavopetro<br>date=%{x}<br>value=%{y}<extra></extra>\", \"legendgroup\": \"fuerzagustavopetro\", \"line\": {\"color\": \"#B6E880\", \"dash\": \"solid\"}, \"mode\": \"lines\", \"name\": \"fuerzagustavopetro\", \"showlegend\": true, \"type\": \"scatter\", \"x\": [\"2020-04-11T00:00:00\"], \"xaxis\": \"x\", \"y\": [4.0], \"yaxis\": \"y\"}, {\"hovertemplate\": \"hashtag=fuerzapetro<br>date=%{x}<br>value=%{y}<extra></extra>\", \"legendgroup\": \"fuerzapetro\", \"line\": {\"color\": \"#FF97FF\", \"dash\": \"solid\"}, \"mode\": \"lines\", \"name\": \"fuerzapetro\", \"showlegend\": true, \"type\": \"scatter\", \"x\": [\"2020-04-10T00:00:00\", \"2020-04-11T00:00:00\"], \"xaxis\": \"x\", \"y\": [13.0, 29.0], \"yaxis\": \"y\"}, {\"hovertemplate\": \"hashtag=fuerzapetrocolombiatenecesita<br>date=%{x}<br>value=%{y}<extra></extra>\", \"legendgroup\": \"fuerzapetrocolombiatenecesita\", \"line\": {\"color\": \"#FECB52\", \"dash\": \"solid\"}, \"mode\": \"lines\", \"name\": \"fuerzapetrocolombiatenecesita\", \"showlegend\": true, \"type\": \"scatter\", \"x\": [\"2020-04-11T00:00:00\"], \"xaxis\": \"x\", \"y\": [1.0], \"yaxis\": \"y\"}, {\"hovertemplate\": \"hashtag=fuerzapetroestamoscontigo<br>date=%{x}<br>value=%{y}<extra></extra>\", \"legendgroup\": \"fuerzapetroestamoscontigo\", \"line\": {\"color\": \"#636efa\", \"dash\": \"solid\"}, \"mode\": \"lines\", \"name\": \"fuerzapetroestamoscontigo\", \"showlegend\": true, \"type\": \"scatter\", \"x\": [\"2020-04-11T00:00:00\"], \"xaxis\": \"x\", \"y\": [6.0], \"yaxis\": \"y\"}, {\"hovertemplate\": \"hashtag=genocidas<br>date=%{x}<br>value=%{y}<extra></extra>\", \"legendgroup\": \"genocidas\", \"line\": {\"color\": \"#EF553B\", \"dash\": \"solid\"}, \"mode\": \"lines\", \"name\": \"genocidas\", \"showlegend\": true, \"type\": \"scatter\", \"x\": [\"2020-04-09T00:00:00\"], \"xaxis\": \"x\", \"y\": [1.0], \"yaxis\": \"y\"}, {\"hovertemplate\": \"hashtag=gobiernocorrupto<br>date=%{x}<br>value=%{y}<extra></extra>\", \"legendgroup\": \"gobiernocorrupto\", \"line\": {\"color\": \"#00cc96\", \"dash\": \"solid\"}, \"mode\": \"lines\", \"name\": \"gobiernocorrupto\", \"showlegend\": true, \"type\": \"scatter\", \"x\": [\"2020-04-09T00:00:00\", \"2020-04-10T00:00:00\"], \"xaxis\": \"x\", \"y\": [1.0, 13.0], \"yaxis\": \"y\"}, {\"hovertemplate\": \"hashtag=gobiernodecolombia<br>date=%{x}<br>value=%{y}<extra></extra>\", \"legendgroup\": \"gobiernodecolombia\", \"line\": {\"color\": \"#ab63fa\", \"dash\": \"solid\"}, \"mode\": \"lines\", \"name\": \"gobiernodecolombia\", \"showlegend\": true, \"type\": \"scatter\", \"x\": [\"2020-04-10T00:00:00\"], \"xaxis\": \"x\", \"y\": [1.0], \"yaxis\": \"y\"}, {\"hovertemplate\": \"hashtag=gobiernonacional<br>date=%{x}<br>value=%{y}<extra></extra>\", \"legendgroup\": \"gobiernonacional\", \"line\": {\"color\": \"#FFA15A\", \"dash\": \"solid\"}, \"mode\": \"lines\", \"name\": \"gobiernonacional\", \"showlegend\": true, \"type\": \"scatter\", \"x\": [\"2020-04-09T00:00:00\"], \"xaxis\": \"x\", \"y\": [1.0], \"yaxis\": \"y\"}, {\"hovertemplate\": \"hashtag=graciasporprotegerme<br>date=%{x}<br>value=%{y}<extra></extra>\", \"legendgroup\": \"graciasporprotegerme\", \"line\": {\"color\": \"#19d3f3\", \"dash\": \"solid\"}, \"mode\": \"lines\", \"name\": \"graciasporprotegerme\", \"showlegend\": true, \"type\": \"scatter\", \"x\": [\"2020-04-09T00:00:00\"], \"xaxis\": \"x\", \"y\": [1.0], \"yaxis\": \"y\"}, {\"hovertemplate\": \"hashtag=graciaspresidente<br>date=%{x}<br>value=%{y}<extra></extra>\", \"legendgroup\": \"graciaspresidente\", \"line\": {\"color\": \"#FF6692\", \"dash\": \"solid\"}, \"mode\": \"lines\", \"name\": \"graciaspresidente\", \"showlegend\": true, \"type\": \"scatter\", \"x\": [\"2020-04-08T00:00:00\"], \"xaxis\": \"x\", \"y\": [1.0], \"yaxis\": \"y\"}, {\"hovertemplate\": \"hashtag=grandealpina<br>date=%{x}<br>value=%{y}<extra></extra>\", \"legendgroup\": \"grandealpina\", \"line\": {\"color\": \"#B6E880\", \"dash\": \"solid\"}, \"mode\": \"lines\", \"name\": \"grandealpina\", \"showlegend\": true, \"type\": \"scatter\", \"x\": [\"2020-04-07T00:00:00\"], \"xaxis\": \"x\", \"y\": [6.0], \"yaxis\": \"y\"}, {\"hovertemplate\": \"hashtag=grandeuribe<br>date=%{x}<br>value=%{y}<extra></extra>\", \"legendgroup\": \"grandeuribe\", \"line\": {\"color\": \"#FF97FF\", \"dash\": \"solid\"}, \"mode\": \"lines\", \"name\": \"grandeuribe\", \"showlegend\": true, \"type\": \"scatter\", \"x\": [\"2020-04-10T00:00:00\"], \"xaxis\": \"x\", \"y\": [1.0], \"yaxis\": \"y\"}, {\"hovertemplate\": \"hashtag=granestafa<br>date=%{x}<br>value=%{y}<extra></extra>\", \"legendgroup\": \"granestafa\", \"line\": {\"color\": \"#FECB52\", \"dash\": \"solid\"}, \"mode\": \"lines\", \"name\": \"granestafa\", \"showlegend\": true, \"type\": \"scatter\", \"x\": [\"2020-04-09T00:00:00\"], \"xaxis\": \"x\", \"y\": [1.0], \"yaxis\": \"y\"}, {\"hovertemplate\": \"hashtag=grupoempresarialbios<br>date=%{x}<br>value=%{y}<extra></extra>\", \"legendgroup\": \"grupoempresarialbios\", \"line\": {\"color\": \"#636efa\", \"dash\": \"solid\"}, \"mode\": \"lines\", \"name\": \"grupoempresarialbios\", \"showlegend\": true, \"type\": \"scatter\", \"x\": [\"2020-04-23T00:00:00\"], \"xaxis\": \"x\", \"y\": [1.0], \"yaxis\": \"y\"}, {\"hovertemplate\": \"hashtag=hashtag<br>date=%{x}<br>value=%{y}<extra></extra>\", \"legendgroup\": \"hashtag\", \"line\": {\"color\": \"#EF553B\", \"dash\": \"solid\"}, \"mode\": \"lines\", \"name\": \"hashtag\", \"showlegend\": true, \"type\": \"scatter\", \"x\": [\"2020-04-09T00:00:00\"], \"xaxis\": \"x\", \"y\": [1.0], \"yaxis\": \"y\"}, {\"hovertemplate\": \"hashtag=hdlgp<br>date=%{x}<br>value=%{y}<extra></extra>\", \"legendgroup\": \"hdlgp\", \"line\": {\"color\": \"#00cc96\", \"dash\": \"solid\"}, \"mode\": \"lines\", \"name\": \"hdlgp\", \"showlegend\": true, \"type\": \"scatter\", \"x\": [\"2020-04-19T00:00:00\"], \"xaxis\": \"x\", \"y\": [1.0], \"yaxis\": \"y\"}, {\"hovertemplate\": \"hashtag=heroessincapa<br>date=%{x}<br>value=%{y}<extra></extra>\", \"legendgroup\": \"heroessincapa\", \"line\": {\"color\": \"#ab63fa\", \"dash\": \"solid\"}, \"mode\": \"lines\", \"name\": \"heroessincapa\", \"showlegend\": true, \"type\": \"scatter\", \"x\": [\"2020-04-10T00:00:00\"], \"xaxis\": \"x\", \"y\": [1.0], \"yaxis\": \"y\"}, {\"hovertemplate\": \"hashtag=hilo<br>date=%{x}<br>value=%{y}<extra></extra>\", \"legendgroup\": \"hilo\", \"line\": {\"color\": \"#FFA15A\", \"dash\": \"solid\"}, \"mode\": \"lines\", \"name\": \"hilo\", \"showlegend\": true, \"type\": \"scatter\", \"x\": [\"2020-04-24T00:00:00\"], \"xaxis\": \"x\", \"y\": [1.0], \"yaxis\": \"y\"}, {\"hovertemplate\": \"hashtag=h\\u00e1bitat<br>date=%{x}<br>value=%{y}<extra></extra>\", \"legendgroup\": \"h\\u00e1bitat\", \"line\": {\"color\": \"#19d3f3\", \"dash\": \"solid\"}, \"mode\": \"lines\", \"name\": \"h\\u00e1bitat\", \"showlegend\": true, \"type\": \"scatter\", \"x\": [\"2020-04-08T00:00:00\"], \"xaxis\": \"x\", \"y\": [1.0], \"yaxis\": \"y\"}, {\"hovertemplate\": \"hashtag=impunidad<br>date=%{x}<br>value=%{y}<extra></extra>\", \"legendgroup\": \"impunidad\", \"line\": {\"color\": \"#FF6692\", \"dash\": \"solid\"}, \"mode\": \"lines\", \"name\": \"impunidad\", \"showlegend\": true, \"type\": \"scatter\", \"x\": [\"2020-04-10T00:00:00\"], \"xaxis\": \"x\", \"y\": [1.0], \"yaxis\": \"y\"}, {\"hovertemplate\": \"hashtag=incompetentes<br>date=%{x}<br>value=%{y}<extra></extra>\", \"legendgroup\": \"incompetentes\", \"line\": {\"color\": \"#B6E880\", \"dash\": \"solid\"}, \"mode\": \"lines\", \"name\": \"incompetentes\", \"showlegend\": true, \"type\": \"scatter\", \"x\": [\"2020-04-23T00:00:00\"], \"xaxis\": \"x\", \"y\": [2.0], \"yaxis\": \"y\"}, {\"hovertemplate\": \"hashtag=informaci\\u00f3nald\\u00eda<br>date=%{x}<br>value=%{y}<extra></extra>\", \"legendgroup\": \"informaci\\u00f3nald\\u00eda\", \"line\": {\"color\": \"#FF97FF\", \"dash\": \"solid\"}, \"mode\": \"lines\", \"name\": \"informaci\\u00f3nald\\u00eda\", \"showlegend\": true, \"type\": \"scatter\", \"x\": [\"2020-04-10T00:00:00\"], \"xaxis\": \"x\", \"y\": [1.0], \"yaxis\": \"y\"}, {\"hovertemplate\": \"hashtag=ingreso<br>date=%{x}<br>value=%{y}<extra></extra>\", \"legendgroup\": \"ingreso\", \"line\": {\"color\": \"#FECB52\", \"dash\": \"solid\"}, \"mode\": \"lines\", \"name\": \"ingreso\", \"showlegend\": true, \"type\": \"scatter\", \"x\": [\"2020-04-08T00:00:00\"], \"xaxis\": \"x\", \"y\": [1.0], \"yaxis\": \"y\"}, {\"hovertemplate\": \"hashtag=ingresosolidario<br>date=%{x}<br>value=%{y}<extra></extra>\", \"legendgroup\": \"ingresosolidario\", \"line\": {\"color\": \"#636efa\", \"dash\": \"solid\"}, \"mode\": \"lines\", \"name\": \"ingresosolidario\", \"showlegend\": true, \"type\": \"scatter\", \"x\": [\"2020-04-08T00:00:00\", \"2020-04-09T00:00:00\", \"2020-04-10T00:00:00\"], \"xaxis\": \"x\", \"y\": [67.0, 19.0, 13.0], \"yaxis\": \"y\"}, {\"hovertemplate\": \"hashtag=ingresosolidariocorrupto<br>date=%{x}<br>value=%{y}<extra></extra>\", \"legendgroup\": \"ingresosolidariocorrupto\", \"line\": {\"color\": \"#EF553B\", \"dash\": \"solid\"}, \"mode\": \"lines\", \"name\": \"ingresosolidariocorrupto\", \"showlegend\": true, \"type\": \"scatter\", \"x\": [\"2020-04-09T00:00:00\"], \"xaxis\": \"x\", \"y\": [4.0], \"yaxis\": \"y\"}, {\"hovertemplate\": \"hashtag=ingresosolidarioesfraude<br>date=%{x}<br>value=%{y}<extra></extra>\", \"legendgroup\": \"ingresosolidarioesfraude\", \"line\": {\"color\": \"#00cc96\", \"dash\": \"solid\"}, \"mode\": \"lines\", \"name\": \"ingresosolidarioesfraude\", \"showlegend\": true, \"type\": \"scatter\", \"x\": [\"2020-04-09T00:00:00\", \"2020-04-10T00:00:00\"], \"xaxis\": \"x\", \"y\": [3.0, 2.0], \"yaxis\": \"y\"}, {\"hovertemplate\": \"hashtag=innspiramed<br>date=%{x}<br>value=%{y}<extra></extra>\", \"legendgroup\": \"innspiramed\", \"line\": {\"color\": \"#ab63fa\", \"dash\": \"solid\"}, \"mode\": \"lines\", \"name\": \"innspiramed\", \"showlegend\": true, \"type\": \"scatter\", \"x\": [\"2020-04-23T00:00:00\"], \"xaxis\": \"x\", \"y\": [1.0], \"yaxis\": \"y\"}, {\"hovertemplate\": \"hashtag=investigaci\\u00f3n<br>date=%{x}<br>value=%{y}<extra></extra>\", \"legendgroup\": \"investigaci\\u00f3n\", \"line\": {\"color\": \"#FFA15A\", \"dash\": \"solid\"}, \"mode\": \"lines\", \"name\": \"investigaci\\u00f3n\", \"showlegend\": true, \"type\": \"scatter\", \"x\": [\"2020-04-25T00:00:00\"], \"xaxis\": \"x\", \"y\": [2.0], \"yaxis\": \"y\"}, {\"hovertemplate\": \"hashtag=irresponsables<br>date=%{x}<br>value=%{y}<extra></extra>\", \"legendgroup\": \"irresponsables\", \"line\": {\"color\": \"#19d3f3\", \"dash\": \"solid\"}, \"mode\": \"lines\", \"name\": \"irresponsables\", \"showlegend\": true, \"type\": \"scatter\", \"x\": [\"2020-04-09T00:00:00\"], \"xaxis\": \"x\", \"y\": [1.0], \"yaxis\": \"y\"}, {\"hovertemplate\": \"hashtag=irresponsablesyalgomas<br>date=%{x}<br>value=%{y}<extra></extra>\", \"legendgroup\": \"irresponsablesyalgomas\", \"line\": {\"color\": \"#FF6692\", \"dash\": \"solid\"}, \"mode\": \"lines\", \"name\": \"irresponsablesyalgomas\", \"showlegend\": true, \"type\": \"scatter\", \"x\": [\"2020-04-09T00:00:00\"], \"xaxis\": \"x\", \"y\": [1.0], \"yaxis\": \"y\"}, {\"hovertemplate\": \"hashtag=ivanduque<br>date=%{x}<br>value=%{y}<extra></extra>\", \"legendgroup\": \"ivanduque\", \"line\": {\"color\": \"#B6E880\", \"dash\": \"solid\"}, \"mode\": \"lines\", \"name\": \"ivanduque\", \"showlegend\": true, \"type\": \"scatter\", \"x\": [\"2020-04-09T00:00:00\"], \"xaxis\": \"x\", \"y\": [1.0], \"yaxis\": \"y\"}, {\"hovertemplate\": \"hashtag=jorgeivanospina<br>date=%{x}<br>value=%{y}<extra></extra>\", \"legendgroup\": \"jorgeivanospina\", \"line\": {\"color\": \"#FF97FF\", \"dash\": \"solid\"}, \"mode\": \"lines\", \"name\": \"jorgeivanospina\", \"showlegend\": true, \"type\": \"scatter\", \"x\": [\"2020-04-20T00:00:00\"], \"xaxis\": \"x\", \"y\": [1.0], \"yaxis\": \"y\"}, {\"hovertemplate\": \"hashtag=juntossaldremosadelante<br>date=%{x}<br>value=%{y}<extra></extra>\", \"legendgroup\": \"juntossaldremosadelante\", \"line\": {\"color\": \"#FECB52\", \"dash\": \"solid\"}, \"mode\": \"lines\", \"name\": \"juntossaldremosadelante\", \"showlegend\": true, \"type\": \"scatter\", \"x\": [\"2020-04-09T00:00:00\"], \"xaxis\": \"x\", \"y\": [1.0], \"yaxis\": \"y\"}, {\"hovertemplate\": \"hashtag=justicia<br>date=%{x}<br>value=%{y}<extra></extra>\", \"legendgroup\": \"justicia\", \"line\": {\"color\": \"#636efa\", \"dash\": \"solid\"}, \"mode\": \"lines\", \"name\": \"justicia\", \"showlegend\": true, \"type\": \"scatter\", \"x\": [\"2020-04-09T00:00:00\"], \"xaxis\": \"x\", \"y\": [1.0], \"yaxis\": \"y\"}, {\"hovertemplate\": \"hashtag=kimjongundead<br>date=%{x}<br>value=%{y}<extra></extra>\", \"legendgroup\": \"kimjongundead\", \"line\": {\"color\": \"#EF553B\", \"dash\": \"solid\"}, \"mode\": \"lines\", \"name\": \"kimjongundead\", \"showlegend\": true, \"type\": \"scatter\", \"x\": [\"2020-04-25T00:00:00\"], \"xaxis\": \"x\", \"y\": [1.0], \"yaxis\": \"y\"}, {\"hovertemplate\": \"hashtag=laayudaquenecesitoes<br>date=%{x}<br>value=%{y}<extra></extra>\", \"legendgroup\": \"laayudaquenecesitoes\", \"line\": {\"color\": \"#00cc96\", \"dash\": \"solid\"}, \"mode\": \"lines\", \"name\": \"laayudaquenecesitoes\", \"showlegend\": true, \"type\": \"scatter\", \"x\": [\"2020-04-16T00:00:00\", \"2020-04-17T00:00:00\"], \"xaxis\": \"x\", \"y\": [1.0, 3.0], \"yaxis\": \"y\"}, {\"hovertemplate\": \"hashtag=labolsadepetro<br>date=%{x}<br>value=%{y}<extra></extra>\", \"legendgroup\": \"labolsadepetro\", \"line\": {\"color\": \"#ab63fa\", \"dash\": \"solid\"}, \"mode\": \"lines\", \"name\": \"labolsadepetro\", \"showlegend\": true, \"type\": \"scatter\", \"x\": [\"2020-04-10T00:00:00\"], \"xaxis\": \"x\", \"y\": [1.0], \"yaxis\": \"y\"}, {\"hovertemplate\": \"hashtag=ladrones<br>date=%{x}<br>value=%{y}<extra></extra>\", \"legendgroup\": \"ladrones\", \"line\": {\"color\": \"#FFA15A\", \"dash\": \"solid\"}, \"mode\": \"lines\", \"name\": \"ladrones\", \"showlegend\": true, \"type\": \"scatter\", \"x\": [\"2020-04-09T00:00:00\"], \"xaxis\": \"x\", \"y\": [1.0], \"yaxis\": \"y\"}, {\"hovertemplate\": \"hashtag=laencerrona<br>date=%{x}<br>value=%{y}<extra></extra>\", \"legendgroup\": \"laencerrona\", \"line\": {\"color\": \"#19d3f3\", \"dash\": \"solid\"}, \"mode\": \"lines\", \"name\": \"laencerrona\", \"showlegend\": true, \"type\": \"scatter\", \"x\": [\"2020-04-09T00:00:00\", \"2020-04-10T00:00:00\"], \"xaxis\": \"x\", \"y\": [3.0, 1.0], \"yaxis\": \"y\"}, {\"hovertemplate\": \"hashtag=lafilboencasa<br>date=%{x}<br>value=%{y}<extra></extra>\", \"legendgroup\": \"lafilboencasa\", \"line\": {\"color\": \"#FF6692\", \"dash\": \"solid\"}, \"mode\": \"lines\", \"name\": \"lafilboencasa\", \"showlegend\": true, \"type\": \"scatter\", \"x\": [\"2020-04-09T00:00:00\"], \"xaxis\": \"x\", \"y\": [1.0], \"yaxis\": \"y\"}, {\"hovertemplate\": \"hashtag=lafm<br>date=%{x}<br>value=%{y}<extra></extra>\", \"legendgroup\": \"lafm\", \"line\": {\"color\": \"#B6E880\", \"dash\": \"solid\"}, \"mode\": \"lines\", \"name\": \"lafm\", \"showlegend\": true, \"type\": \"scatter\", \"x\": [\"2020-04-09T00:00:00\"], \"xaxis\": \"x\", \"y\": [2.0], \"yaxis\": \"y\"}, {\"hovertemplate\": \"hashtag=lafmtocaatupuerta<br>date=%{x}<br>value=%{y}<extra></extra>\", \"legendgroup\": \"lafmtocaatupuerta\", \"line\": {\"color\": \"#FF97FF\", \"dash\": \"solid\"}, \"mode\": \"lines\", \"name\": \"lafmtocaatupuerta\", \"showlegend\": true, \"type\": \"scatter\", \"x\": [\"2020-04-07T00:00:00\", \"2020-04-08T00:00:00\"], \"xaxis\": \"x\", \"y\": [2.0, 1.0], \"yaxis\": \"y\"}, {\"hovertemplate\": \"hashtag=laguajirahacepartedecolombia<br>date=%{x}<br>value=%{y}<extra></extra>\", \"legendgroup\": \"laguajirahacepartedecolombia\", \"line\": {\"color\": \"#FECB52\", \"dash\": \"solid\"}, \"mode\": \"lines\", \"name\": \"laguajirahacepartedecolombia\", \"showlegend\": true, \"type\": \"scatter\", \"x\": [\"2020-04-09T00:00:00\"], \"xaxis\": \"x\", \"y\": [1.0], \"yaxis\": \"y\"}, {\"hovertemplate\": \"hashtag=lanube<br>date=%{x}<br>value=%{y}<extra></extra>\", \"legendgroup\": \"lanube\", \"line\": {\"color\": \"#636efa\", \"dash\": \"solid\"}, \"mode\": \"lines\", \"name\": \"lanube\", \"showlegend\": true, \"type\": \"scatter\", \"x\": [\"2020-04-08T00:00:00\", \"2020-04-09T00:00:00\"], \"xaxis\": \"x\", \"y\": [1.0, 1.0], \"yaxis\": \"y\"}, {\"hovertemplate\": \"hashtag=larednayibista<br>date=%{x}<br>value=%{y}<extra></extra>\", \"legendgroup\": \"larednayibista\", \"line\": {\"color\": \"#EF553B\", \"dash\": \"solid\"}, \"mode\": \"lines\", \"name\": \"larednayibista\", \"showlegend\": true, \"type\": \"scatter\", \"x\": [\"2020-04-06T00:00:00\"], \"xaxis\": \"x\", \"y\": [1.0], \"yaxis\": \"y\"}, {\"hovertemplate\": \"hashtag=lasaluddepetro<br>date=%{x}<br>value=%{y}<extra></extra>\", \"legendgroup\": \"lasaluddepetro\", \"line\": {\"color\": \"#00cc96\", \"dash\": \"solid\"}, \"mode\": \"lines\", \"name\": \"lasaluddepetro\", \"showlegend\": true, \"type\": \"scatter\", \"x\": [\"2020-04-23T00:00:00\"], \"xaxis\": \"x\", \"y\": [3.0], \"yaxis\": \"y\"}, {\"hovertemplate\": \"hashtag=lase\\u00f1aldelama\\u00f1ana<br>date=%{x}<br>value=%{y}<extra></extra>\", \"legendgroup\": \"lase\\u00f1aldelama\\u00f1ana\", \"line\": {\"color\": \"#ab63fa\", \"dash\": \"solid\"}, \"mode\": \"lines\", \"name\": \"lase\\u00f1aldelama\\u00f1ana\", \"showlegend\": true, \"type\": \"scatter\", \"x\": [\"2020-04-22T00:00:00\"], \"xaxis\": \"x\", \"y\": [1.0], \"yaxis\": \"y\"}, {\"hovertemplate\": \"hashtag=lasv\\u00edctimasdecovid<br>date=%{x}<br>value=%{y}<extra></extra>\", \"legendgroup\": \"lasv\\u00edctimasdecovid\", \"line\": {\"color\": \"#FFA15A\", \"dash\": \"solid\"}, \"mode\": \"lines\", \"name\": \"lasv\\u00edctimasdecovid\", \"showlegend\": true, \"type\": \"scatter\", \"x\": [\"2020-04-08T00:00:00\"], \"xaxis\": \"x\", \"y\": [17.0], \"yaxis\": \"y\"}, {\"hovertemplate\": \"hashtag=latardeadablu<br>date=%{x}<br>value=%{y}<extra></extra>\", \"legendgroup\": \"latardeadablu\", \"line\": {\"color\": \"#19d3f3\", \"dash\": \"solid\"}, \"mode\": \"lines\", \"name\": \"latardeadablu\", \"showlegend\": true, \"type\": \"scatter\", \"x\": [\"2020-04-25T00:00:00\"], \"xaxis\": \"x\", \"y\": [5.0], \"yaxis\": \"y\"}, {\"hovertemplate\": \"hashtag=lauisquequeremos<br>date=%{x}<br>value=%{y}<extra></extra>\", \"legendgroup\": \"lauisquequeremos\", \"line\": {\"color\": \"#FF6692\", \"dash\": \"solid\"}, \"mode\": \"lines\", \"name\": \"lauisquequeremos\", \"showlegend\": true, \"type\": \"scatter\", \"x\": [\"2020-04-10T00:00:00\"], \"xaxis\": \"x\", \"y\": [1.0], \"yaxis\": \"y\"}, {\"hovertemplate\": \"hashtag=lavidaestaentusmanos<br>date=%{x}<br>value=%{y}<extra></extra>\", \"legendgroup\": \"lavidaestaentusmanos\", \"line\": {\"color\": \"#B6E880\", \"dash\": \"solid\"}, \"mode\": \"lines\", \"name\": \"lavidaestaentusmanos\", \"showlegend\": true, \"type\": \"scatter\", \"x\": [\"2020-04-24T00:00:00\"], \"xaxis\": \"x\", \"y\": [1.0], \"yaxis\": \"y\"}, {\"hovertemplate\": \"hashtag=lavidaest\\u00e1entusmanos<br>date=%{x}<br>value=%{y}<extra></extra>\", \"legendgroup\": \"lavidaest\\u00e1entusmanos\", \"line\": {\"color\": \"#FF97FF\", \"dash\": \"solid\"}, \"mode\": \"lines\", \"name\": \"lavidaest\\u00e1entusmanos\", \"showlegend\": true, \"type\": \"scatter\", \"x\": [\"2020-04-23T00:00:00\"], \"xaxis\": \"x\", \"y\": [2.0], \"yaxis\": \"y\"}, {\"hovertemplate\": \"hashtag=lavidanoesunjuego<br>date=%{x}<br>value=%{y}<extra></extra>\", \"legendgroup\": \"lavidanoesunjuego\", \"line\": {\"color\": \"#FECB52\", \"dash\": \"solid\"}, \"mode\": \"lines\", \"name\": \"lavidanoesunjuego\", \"showlegend\": true, \"type\": \"scatter\", \"x\": [\"2020-04-09T00:00:00\"], \"xaxis\": \"x\", \"y\": [8.0], \"yaxis\": \"y\"}, {\"hovertemplate\": \"hashtag=lavidaprimero<br>date=%{x}<br>value=%{y}<extra></extra>\", \"legendgroup\": \"lavidaprimero\", \"line\": {\"color\": \"#636efa\", \"dash\": \"solid\"}, \"mode\": \"lines\", \"name\": \"lavidaprimero\", \"showlegend\": true, \"type\": \"scatter\", \"x\": [\"2020-04-06T00:00:00\"], \"xaxis\": \"x\", \"y\": [1.0], \"yaxis\": \"y\"}, {\"hovertemplate\": \"hashtag=ley1774de2016<br>date=%{x}<br>value=%{y}<extra></extra>\", \"legendgroup\": \"ley1774de2016\", \"line\": {\"color\": \"#EF553B\", \"dash\": \"solid\"}, \"mode\": \"lines\", \"name\": \"ley1774de2016\", \"showlegend\": true, \"type\": \"scatter\", \"x\": [\"2020-04-09T00:00:00\"], \"xaxis\": \"x\", \"y\": [1.0], \"yaxis\": \"y\"}, {\"hovertemplate\": \"hashtag=lloratonmamerta<br>date=%{x}<br>value=%{y}<extra></extra>\", \"legendgroup\": \"lloratonmamerta\", \"line\": {\"color\": \"#00cc96\", \"dash\": \"solid\"}, \"mode\": \"lines\", \"name\": \"lloratonmamerta\", \"showlegend\": true, \"type\": \"scatter\", \"x\": [\"2020-04-25T00:00:00\"], \"xaxis\": \"x\", \"y\": [1.0], \"yaxis\": \"y\"}, {\"hovertemplate\": \"hashtag=lo<br>date=%{x}<br>value=%{y}<extra></extra>\", \"legendgroup\": \"lo\", \"line\": {\"color\": \"#ab63fa\", \"dash\": \"solid\"}, \"mode\": \"lines\", \"name\": \"lo\", \"showlegend\": true, \"type\": \"scatter\", \"x\": [\"2020-04-09T00:00:00\"], \"xaxis\": \"x\", \"y\": [1.0], \"yaxis\": \"y\"}, {\"hovertemplate\": \"hashtag=losayudarasumadre<br>date=%{x}<br>value=%{y}<extra></extra>\", \"legendgroup\": \"losayudarasumadre\", \"line\": {\"color\": \"#FFA15A\", \"dash\": \"solid\"}, \"mode\": \"lines\", \"name\": \"losayudarasumadre\", \"showlegend\": true, \"type\": \"scatter\", \"x\": [\"2020-04-09T00:00:00\"], \"xaxis\": \"x\", \"y\": [1.0], \"yaxis\": \"y\"}, {\"hovertemplate\": \"hashtag=losdanieles<br>date=%{x}<br>value=%{y}<extra></extra>\", \"legendgroup\": \"losdanieles\", \"line\": {\"color\": \"#19d3f3\", \"dash\": \"solid\"}, \"mode\": \"lines\", \"name\": \"losdanieles\", \"showlegend\": true, \"type\": \"scatter\", \"x\": [\"2020-04-25T00:00:00\"], \"xaxis\": \"x\", \"y\": [1.0], \"yaxis\": \"y\"}, {\"hovertemplate\": \"hashtag=losnegociosdemacaco<br>date=%{x}<br>value=%{y}<extra></extra>\", \"legendgroup\": \"losnegociosdemacaco\", \"line\": {\"color\": \"#FF6692\", \"dash\": \"solid\"}, \"mode\": \"lines\", \"name\": \"losnegociosdemacaco\", \"showlegend\": true, \"type\": \"scatter\", \"x\": [\"2020-04-09T00:00:00\"], \"xaxis\": \"x\", \"y\": [1.0], \"yaxis\": \"y\"}, {\"hovertemplate\": \"hashtag=lo\\u00faltimo<br>date=%{x}<br>value=%{y}<extra></extra>\", \"legendgroup\": \"lo\\u00faltimo\", \"line\": {\"color\": \"#B6E880\", \"dash\": \"solid\"}, \"mode\": \"lines\", \"name\": \"lo\\u00faltimo\", \"showlegend\": true, \"type\": \"scatter\", \"x\": [\"2020-04-08T00:00:00\"], \"xaxis\": \"x\", \"y\": [2.0], \"yaxis\": \"y\"}, {\"hovertemplate\": \"hashtag=lunes<br>date=%{x}<br>value=%{y}<extra></extra>\", \"legendgroup\": \"lunes\", \"line\": {\"color\": \"#FF97FF\", \"dash\": \"solid\"}, \"mode\": \"lines\", \"name\": \"lunes\", \"showlegend\": true, \"type\": \"scatter\", \"x\": [\"2020-04-24T00:00:00\"], \"xaxis\": \"x\", \"y\": [1.0], \"yaxis\": \"y\"}, {\"hovertemplate\": \"hashtag=manodurajiv<br>date=%{x}<br>value=%{y}<extra></extra>\", \"legendgroup\": \"manodurajiv\", \"line\": {\"color\": \"#FECB52\", \"dash\": \"solid\"}, \"mode\": \"lines\", \"name\": \"manodurajiv\", \"showlegend\": true, \"type\": \"scatter\", \"x\": [\"2020-04-23T00:00:00\"], \"xaxis\": \"x\", \"y\": [1.0], \"yaxis\": \"y\"}, {\"hovertemplate\": \"hashtag=masdelomismo<br>date=%{x}<br>value=%{y}<extra></extra>\", \"legendgroup\": \"masdelomismo\", \"line\": {\"color\": \"#636efa\", \"dash\": \"solid\"}, \"mode\": \"lines\", \"name\": \"masdelomismo\", \"showlegend\": true, \"type\": \"scatter\", \"x\": [\"2020-04-09T00:00:00\"], \"xaxis\": \"x\", \"y\": [1.0], \"yaxis\": \"y\"}, {\"hovertemplate\": \"hashtag=maspicarosno<br>date=%{x}<br>value=%{y}<extra></extra>\", \"legendgroup\": \"maspicarosno\", \"line\": {\"color\": \"#EF553B\", \"dash\": \"solid\"}, \"mode\": \"lines\", \"name\": \"maspicarosno\", \"showlegend\": true, \"type\": \"scatter\", \"x\": [\"2020-04-09T00:00:00\"], \"xaxis\": \"x\", \"y\": [1.0], \"yaxis\": \"y\"}, {\"hovertemplate\": \"hashtag=matematecas<br>date=%{x}<br>value=%{y}<extra></extra>\", \"legendgroup\": \"matematecas\", \"line\": {\"color\": \"#00cc96\", \"dash\": \"solid\"}, \"mode\": \"lines\", \"name\": \"matematecas\", \"showlegend\": true, \"type\": \"scatter\", \"x\": [\"2020-04-17T00:00:00\"], \"xaxis\": \"x\", \"y\": [1.0], \"yaxis\": \"y\"}, {\"hovertemplate\": \"hashtag=ma\\u00f1anasblu<br>date=%{x}<br>value=%{y}<extra></extra>\", \"legendgroup\": \"ma\\u00f1anasblu\", \"line\": {\"color\": \"#ab63fa\", \"dash\": \"solid\"}, \"mode\": \"lines\", \"name\": \"ma\\u00f1anasblu\", \"showlegend\": true, \"type\": \"scatter\", \"x\": [\"2020-04-03T00:00:00\", \"2020-04-08T00:00:00\", \"2020-04-09T00:00:00\", \"2020-04-10T00:00:00\"], \"xaxis\": \"x\", \"y\": [1.0, 50.0, 16.0, 1.0], \"yaxis\": \"y\"}, {\"hovertemplate\": \"hashtag=medellin<br>date=%{x}<br>value=%{y}<extra></extra>\", \"legendgroup\": \"medellin\", \"line\": {\"color\": \"#FFA15A\", \"dash\": \"solid\"}, \"mode\": \"lines\", \"name\": \"medellin\", \"showlegend\": true, \"type\": \"scatter\", \"x\": [\"2020-04-19T00:00:00\"], \"xaxis\": \"x\", \"y\": [1.0], \"yaxis\": \"y\"}, {\"hovertemplate\": \"hashtag=medellinmecuida<br>date=%{x}<br>value=%{y}<extra></extra>\", \"legendgroup\": \"medellinmecuida\", \"line\": {\"color\": \"#19d3f3\", \"dash\": \"solid\"}, \"mode\": \"lines\", \"name\": \"medellinmecuida\", \"showlegend\": true, \"type\": \"scatter\", \"x\": [\"2020-04-24T00:00:00\"], \"xaxis\": \"x\", \"y\": [1.0], \"yaxis\": \"y\"}, {\"hovertemplate\": \"hashtag=medellinmecuidaempresa<br>date=%{x}<br>value=%{y}<extra></extra>\", \"legendgroup\": \"medellinmecuidaempresa\", \"line\": {\"color\": \"#FF6692\", \"dash\": \"solid\"}, \"mode\": \"lines\", \"name\": \"medellinmecuidaempresa\", \"showlegend\": true, \"type\": \"scatter\", \"x\": [\"2020-04-24T00:00:00\"], \"xaxis\": \"x\", \"y\": [1.0], \"yaxis\": \"y\"}, {\"hovertemplate\": \"hashtag=medellinnofuturo<br>date=%{x}<br>value=%{y}<extra></extra>\", \"legendgroup\": \"medellinnofuturo\", \"line\": {\"color\": \"#B6E880\", \"dash\": \"solid\"}, \"mode\": \"lines\", \"name\": \"medellinnofuturo\", \"showlegend\": true, \"type\": \"scatter\", \"x\": [\"2020-04-09T00:00:00\"], \"xaxis\": \"x\", \"y\": [1.0], \"yaxis\": \"y\"}, {\"hovertemplate\": \"hashtag=medellinsinhambre<br>date=%{x}<br>value=%{y}<extra></extra>\", \"legendgroup\": \"medellinsinhambre\", \"line\": {\"color\": \"#FF97FF\", \"dash\": \"solid\"}, \"mode\": \"lines\", \"name\": \"medellinsinhambre\", \"showlegend\": true, \"type\": \"scatter\", \"x\": [\"2020-04-15T00:00:00\"], \"xaxis\": \"x\", \"y\": [1.0], \"yaxis\": \"y\"}, {\"hovertemplate\": \"hashtag=medell\\u00edn<br>date=%{x}<br>value=%{y}<extra></extra>\", \"legendgroup\": \"medell\\u00edn\", \"line\": {\"color\": \"#FECB52\", \"dash\": \"solid\"}, \"mode\": \"lines\", \"name\": \"medell\\u00edn\", \"showlegend\": true, \"type\": \"scatter\", \"x\": [\"2020-04-15T00:00:00\"], \"xaxis\": \"x\", \"y\": [1.0], \"yaxis\": \"y\"}, {\"hovertemplate\": \"hashtag=medell\\u00edninsegura<br>date=%{x}<br>value=%{y}<extra></extra>\", \"legendgroup\": \"medell\\u00edninsegura\", \"line\": {\"color\": \"#636efa\", \"dash\": \"solid\"}, \"mode\": \"lines\", \"name\": \"medell\\u00edninsegura\", \"showlegend\": true, \"type\": \"scatter\", \"x\": [\"2020-04-25T00:00:00\"], \"xaxis\": \"x\", \"y\": [1.0], \"yaxis\": \"y\"}, {\"hovertemplate\": \"hashtag=medell\\u00ednmecuida<br>date=%{x}<br>value=%{y}<extra></extra>\", \"legendgroup\": \"medell\\u00ednmecuida\", \"line\": {\"color\": \"#EF553B\", \"dash\": \"solid\"}, \"mode\": \"lines\", \"name\": \"medell\\u00ednmecuida\", \"showlegend\": true, \"type\": \"scatter\", \"x\": [\"2020-04-16T00:00:00\", \"2020-04-17T00:00:00\", \"2020-04-21T00:00:00\", \"2020-04-24T00:00:00\"], \"xaxis\": \"x\", \"y\": [5.0, 1.0, 1.0, 3.0], \"yaxis\": \"y\"}, {\"hovertemplate\": \"hashtag=medell\\u00ednyantioquiasolidaria<br>date=%{x}<br>value=%{y}<extra></extra>\", \"legendgroup\": \"medell\\u00ednyantioquiasolidaria\", \"line\": {\"color\": \"#00cc96\", \"dash\": \"solid\"}, \"mode\": \"lines\", \"name\": \"medell\\u00ednyantioquiasolidaria\", \"showlegend\": true, \"type\": \"scatter\", \"x\": [\"2020-04-09T00:00:00\"], \"xaxis\": \"x\", \"y\": [1.0], \"yaxis\": \"y\"}, {\"hovertemplate\": \"hashtag=medicosenpeligro<br>date=%{x}<br>value=%{y}<extra></extra>\", \"legendgroup\": \"medicosenpeligro\", \"line\": {\"color\": \"#ab63fa\", \"dash\": \"solid\"}, \"mode\": \"lines\", \"name\": \"medicosenpeligro\", \"showlegend\": true, \"type\": \"scatter\", \"x\": [\"2020-04-14T00:00:00\"], \"xaxis\": \"x\", \"y\": [1.0], \"yaxis\": \"y\"}, {\"hovertemplate\": \"hashtag=megaobras<br>date=%{x}<br>value=%{y}<extra></extra>\", \"legendgroup\": \"megaobras\", \"line\": {\"color\": \"#FFA15A\", \"dash\": \"solid\"}, \"mode\": \"lines\", \"name\": \"megaobras\", \"showlegend\": true, \"type\": \"scatter\", \"x\": [\"2020-04-07T00:00:00\"], \"xaxis\": \"x\", \"y\": [1.0], \"yaxis\": \"y\"}, {\"hovertemplate\": \"hashtag=memofantasma<br>date=%{x}<br>value=%{y}<extra></extra>\", \"legendgroup\": \"memofantasma\", \"line\": {\"color\": \"#19d3f3\", \"dash\": \"solid\"}, \"mode\": \"lines\", \"name\": \"memofantasma\", \"showlegend\": true, \"type\": \"scatter\", \"x\": [\"2020-04-10T00:00:00\"], \"xaxis\": \"x\", \"y\": [1.0], \"yaxis\": \"y\"}, {\"hovertemplate\": \"hashtag=menos<br>date=%{x}<br>value=%{y}<extra></extra>\", \"legendgroup\": \"menos\", \"line\": {\"color\": \"#FF6692\", \"dash\": \"solid\"}, \"mode\": \"lines\", \"name\": \"menos\", \"showlegend\": true, \"type\": \"scatter\", \"x\": [\"2020-04-10T00:00:00\"], \"xaxis\": \"x\", \"y\": [1.0], \"yaxis\": \"y\"}, {\"hovertemplate\": \"hashtag=mepasoablu4p0<br>date=%{x}<br>value=%{y}<extra></extra>\", \"legendgroup\": \"mepasoablu4p0\", \"line\": {\"color\": \"#B6E880\", \"dash\": \"solid\"}, \"mode\": \"lines\", \"name\": \"mepasoablu4p0\", \"showlegend\": true, \"type\": \"scatter\", \"x\": [\"2020-04-08T00:00:00\", \"2020-04-09T00:00:00\"], \"xaxis\": \"x\", \"y\": [2.0, 11.0], \"yaxis\": \"y\"}, {\"hovertemplate\": \"hashtag=mequedoencasa<br>date=%{x}<br>value=%{y}<extra></extra>\", \"legendgroup\": \"mequedoencasa\", \"line\": {\"color\": \"#FF97FF\", \"dash\": \"solid\"}, \"mode\": \"lines\", \"name\": \"mequedoencasa\", \"showlegend\": true, \"type\": \"scatter\", \"x\": [\"2020-04-24T00:00:00\"], \"xaxis\": \"x\", \"y\": [1.0], \"yaxis\": \"y\"}, {\"hovertemplate\": \"hashtag=meridianoblu<br>date=%{x}<br>value=%{y}<extra></extra>\", \"legendgroup\": \"meridianoblu\", \"line\": {\"color\": \"#FECB52\", \"dash\": \"solid\"}, \"mode\": \"lines\", \"name\": \"meridianoblu\", \"showlegend\": true, \"type\": \"scatter\", \"x\": [\"2020-04-08T00:00:00\", \"2020-04-09T00:00:00\"], \"xaxis\": \"x\", \"y\": [2.0, 1.0], \"yaxis\": \"y\"}, {\"hovertemplate\": \"hashtag=mesablu<br>date=%{x}<br>value=%{y}<extra></extra>\", \"legendgroup\": \"mesablu\", \"line\": {\"color\": \"#636efa\", \"dash\": \"solid\"}, \"mode\": \"lines\", \"name\": \"mesablu\", \"showlegend\": true, \"type\": \"scatter\", \"x\": [\"2020-04-08T00:00:00\"], \"xaxis\": \"x\", \"y\": [1.0], \"yaxis\": \"y\"}, {\"hovertemplate\": \"hashtag=metrallo<br>date=%{x}<br>value=%{y}<extra></extra>\", \"legendgroup\": \"metrallo\", \"line\": {\"color\": \"#EF553B\", \"dash\": \"solid\"}, \"mode\": \"lines\", \"name\": \"metrallo\", \"showlegend\": true, \"type\": \"scatter\", \"x\": [\"2020-04-15T00:00:00\"], \"xaxis\": \"x\", \"y\": [1.0], \"yaxis\": \"y\"}, {\"hovertemplate\": \"hashtag=metrocali<br>date=%{x}<br>value=%{y}<extra></extra>\", \"legendgroup\": \"metrocali\", \"line\": {\"color\": \"#00cc96\", \"dash\": \"solid\"}, \"mode\": \"lines\", \"name\": \"metrocali\", \"showlegend\": true, \"type\": \"scatter\", \"x\": [\"2020-04-23T00:00:00\"], \"xaxis\": \"x\", \"y\": [1.0], \"yaxis\": \"y\"}, {\"hovertemplate\": \"hashtag=mevaleverga<br>date=%{x}<br>value=%{y}<extra></extra>\", \"legendgroup\": \"mevaleverga\", \"line\": {\"color\": \"#ab63fa\", \"dash\": \"solid\"}, \"mode\": \"lines\", \"name\": \"mevaleverga\", \"showlegend\": true, \"type\": \"scatter\", \"x\": [\"2020-04-10T00:00:00\"], \"xaxis\": \"x\", \"y\": [1.0], \"yaxis\": \"y\"}, {\"hovertemplate\": \"hashtag=micalvarioes<br>date=%{x}<br>value=%{y}<extra></extra>\", \"legendgroup\": \"micalvarioes\", \"line\": {\"color\": \"#FFA15A\", \"dash\": \"solid\"}, \"mode\": \"lines\", \"name\": \"micalvarioes\", \"showlegend\": true, \"type\": \"scatter\", \"x\": [\"2020-04-10T00:00:00\"], \"xaxis\": \"x\", \"y\": [1.0], \"yaxis\": \"y\"}, {\"hovertemplate\": \"hashtag=miorgulloesbolivar<br>date=%{x}<br>value=%{y}<extra></extra>\", \"legendgroup\": \"miorgulloesbolivar\", \"line\": {\"color\": \"#19d3f3\", \"dash\": \"solid\"}, \"mode\": \"lines\", \"name\": \"miorgulloesbolivar\", \"showlegend\": true, \"type\": \"scatter\", \"x\": [\"2020-04-10T00:00:00\"], \"xaxis\": \"x\", \"y\": [1.0], \"yaxis\": \"y\"}, {\"hovertemplate\": \"hashtag=miorgulloesduque<br>date=%{x}<br>value=%{y}<extra></extra>\", \"legendgroup\": \"miorgulloesduque\", \"line\": {\"color\": \"#FF6692\", \"dash\": \"solid\"}, \"mode\": \"lines\", \"name\": \"miorgulloesduque\", \"showlegend\": true, \"type\": \"scatter\", \"x\": [\"2020-04-10T00:00:00\"], \"xaxis\": \"x\", \"y\": [1.0], \"yaxis\": \"y\"}, {\"hovertemplate\": \"hashtag=miorgulloesuribe<br>date=%{x}<br>value=%{y}<extra></extra>\", \"legendgroup\": \"miorgulloesuribe\", \"line\": {\"color\": \"#B6E880\", \"dash\": \"solid\"}, \"mode\": \"lines\", \"name\": \"miorgulloesuribe\", \"showlegend\": true, \"type\": \"scatter\", \"x\": [\"2020-04-10T00:00:00\"], \"xaxis\": \"x\", \"y\": [1.0], \"yaxis\": \"y\"}, {\"hovertemplate\": \"hashtag=miterapia<br>date=%{x}<br>value=%{y}<extra></extra>\", \"legendgroup\": \"miterapia\", \"line\": {\"color\": \"#FF97FF\", \"dash\": \"solid\"}, \"mode\": \"lines\", \"name\": \"miterapia\", \"showlegend\": true, \"type\": \"scatter\", \"x\": [\"2020-04-08T00:00:00\"], \"xaxis\": \"x\", \"y\": [2.0], \"yaxis\": \"y\"}, {\"hovertemplate\": \"hashtag=mitosdelcoronavirus<br>date=%{x}<br>value=%{y}<extra></extra>\", \"legendgroup\": \"mitosdelcoronavirus\", \"line\": {\"color\": \"#FECB52\", \"dash\": \"solid\"}, \"mode\": \"lines\", \"name\": \"mitosdelcoronavirus\", \"showlegend\": true, \"type\": \"scatter\", \"x\": [\"2020-04-01T00:00:00\", \"2020-04-04T00:00:00\"], \"xaxis\": \"x\", \"y\": [1.0, 1.0], \"yaxis\": \"y\"}, {\"hovertemplate\": \"hashtag=monteria<br>date=%{x}<br>value=%{y}<extra></extra>\", \"legendgroup\": \"monteria\", \"line\": {\"color\": \"#636efa\", \"dash\": \"solid\"}, \"mode\": \"lines\", \"name\": \"monteria\", \"showlegend\": true, \"type\": \"scatter\", \"x\": [\"2020-04-10T00:00:00\"], \"xaxis\": \"x\", \"y\": [1.0], \"yaxis\": \"y\"}, {\"hovertemplate\": \"hashtag=movil<br>date=%{x}<br>value=%{y}<extra></extra>\", \"legendgroup\": \"movil\", \"line\": {\"color\": \"#EF553B\", \"dash\": \"solid\"}, \"mode\": \"lines\", \"name\": \"movil\", \"showlegend\": true, \"type\": \"scatter\", \"x\": [\"2020-04-09T00:00:00\"], \"xaxis\": \"x\", \"y\": [2.0], \"yaxis\": \"y\"}, {\"hovertemplate\": \"hashtag=mundo<br>date=%{x}<br>value=%{y}<extra></extra>\", \"legendgroup\": \"mundo\", \"line\": {\"color\": \"#00cc96\", \"dash\": \"solid\"}, \"mode\": \"lines\", \"name\": \"mundo\", \"showlegend\": true, \"type\": \"scatter\", \"x\": [\"2020-04-07T00:00:00\"], \"xaxis\": \"x\", \"y\": [1.0], \"yaxis\": \"y\"}, {\"hovertemplate\": \"hashtag=narcoacuerdopazcolombia<br>date=%{x}<br>value=%{y}<extra></extra>\", \"legendgroup\": \"narcoacuerdopazcolombia\", \"line\": {\"color\": \"#ab63fa\", \"dash\": \"solid\"}, \"mode\": \"lines\", \"name\": \"narcoacuerdopazcolombia\", \"showlegend\": true, \"type\": \"scatter\", \"x\": [\"2020-04-25T00:00:00\"], \"xaxis\": \"x\", \"y\": [1.0], \"yaxis\": \"y\"}, {\"hovertemplate\": \"hashtag=narcodesgobierno<br>date=%{x}<br>value=%{y}<extra></extra>\", \"legendgroup\": \"narcodesgobierno\", \"line\": {\"color\": \"#FFA15A\", \"dash\": \"solid\"}, \"mode\": \"lines\", \"name\": \"narcodesgobierno\", \"showlegend\": true, \"type\": \"scatter\", \"x\": [\"2020-04-09T00:00:00\"], \"xaxis\": \"x\", \"y\": [1.0], \"yaxis\": \"y\"}, {\"hovertemplate\": \"hashtag=necesitamosayuda<br>date=%{x}<br>value=%{y}<extra></extra>\", \"legendgroup\": \"necesitamosayuda\", \"line\": {\"color\": \"#19d3f3\", \"dash\": \"solid\"}, \"mode\": \"lines\", \"name\": \"necesitamosayuda\", \"showlegend\": true, \"type\": \"scatter\", \"x\": [\"2020-04-07T00:00:00\"], \"xaxis\": \"x\", \"y\": [1.0], \"yaxis\": \"y\"}, {\"hovertemplate\": \"hashtag=newyork<br>date=%{x}<br>value=%{y}<extra></extra>\", \"legendgroup\": \"newyork\", \"line\": {\"color\": \"#FF6692\", \"dash\": \"solid\"}, \"mode\": \"lines\", \"name\": \"newyork\", \"showlegend\": true, \"type\": \"scatter\", \"x\": [\"2020-04-25T00:00:00\"], \"xaxis\": \"x\", \"y\": [2.0], \"yaxis\": \"y\"}, {\"hovertemplate\": \"hashtag=ningaloocanyons<br>date=%{x}<br>value=%{y}<extra></extra>\", \"legendgroup\": \"ningaloocanyons\", \"line\": {\"color\": \"#B6E880\", \"dash\": \"solid\"}, \"mode\": \"lines\", \"name\": \"ningaloocanyons\", \"showlegend\": true, \"type\": \"scatter\", \"x\": [\"2020-04-15T00:00:00\"], \"xaxis\": \"x\", \"y\": [1.0], \"yaxis\": \"y\"}, {\"hovertemplate\": \"hashtag=noalacorruccion<br>date=%{x}<br>value=%{y}<extra></extra>\", \"legendgroup\": \"noalacorruccion\", \"line\": {\"color\": \"#FF97FF\", \"dash\": \"solid\"}, \"mode\": \"lines\", \"name\": \"noalacorruccion\", \"showlegend\": true, \"type\": \"scatter\", \"x\": [\"2020-04-09T00:00:00\"], \"xaxis\": \"x\", \"y\": [1.0], \"yaxis\": \"y\"}, {\"hovertemplate\": \"hashtag=noalaspracticasvirtuales<br>date=%{x}<br>value=%{y}<extra></extra>\", \"legendgroup\": \"noalaspracticasvirtuales\", \"line\": {\"color\": \"#FECB52\", \"dash\": \"solid\"}, \"mode\": \"lines\", \"name\": \"noalaspracticasvirtuales\", \"showlegend\": true, \"type\": \"scatter\", \"x\": [\"2020-04-07T00:00:00\"], \"xaxis\": \"x\", \"y\": [1.0], \"yaxis\": \"y\"}, {\"hovertemplate\": \"hashtag=nohayalcalde<br>date=%{x}<br>value=%{y}<extra></extra>\", \"legendgroup\": \"nohayalcalde\", \"line\": {\"color\": \"#636efa\", \"dash\": \"solid\"}, \"mode\": \"lines\", \"name\": \"nohayalcalde\", \"showlegend\": true, \"type\": \"scatter\", \"x\": [\"2020-04-23T00:00:00\"], \"xaxis\": \"x\", \"y\": [4.0], \"yaxis\": \"y\"}, {\"hovertemplate\": \"hashtag=nohaycuarentenaconhambre<br>date=%{x}<br>value=%{y}<extra></extra>\", \"legendgroup\": \"nohaycuarentenaconhambre\", \"line\": {\"color\": \"#EF553B\", \"dash\": \"solid\"}, \"mode\": \"lines\", \"name\": \"nohaycuarentenaconhambre\", \"showlegend\": true, \"type\": \"scatter\", \"x\": [\"2020-04-08T00:00:00\"], \"xaxis\": \"x\", \"y\": [1.0], \"yaxis\": \"y\"}, {\"hovertemplate\": \"hashtag=nomascirco<br>date=%{x}<br>value=%{y}<extra></extra>\", \"legendgroup\": \"nomascirco\", \"line\": {\"color\": \"#00cc96\", \"dash\": \"solid\"}, \"mode\": \"lines\", \"name\": \"nomascirco\", \"showlegend\": true, \"type\": \"scatter\", \"x\": [\"2020-04-09T00:00:00\"], \"xaxis\": \"x\", \"y\": [1.0], \"yaxis\": \"y\"}, {\"hovertemplate\": \"hashtag=nomascorrupccion<br>date=%{x}<br>value=%{y}<extra></extra>\", \"legendgroup\": \"nomascorrupccion\", \"line\": {\"color\": \"#ab63fa\", \"dash\": \"solid\"}, \"mode\": \"lines\", \"name\": \"nomascorrupccion\", \"showlegend\": true, \"type\": \"scatter\", \"x\": [\"2020-04-09T00:00:00\"], \"xaxis\": \"x\", \"y\": [1.0], \"yaxis\": \"y\"}, {\"hovertemplate\": \"hashtag=nomascorrupcionprotegida<br>date=%{x}<br>value=%{y}<extra></extra>\", \"legendgroup\": \"nomascorrupcionprotegida\", \"line\": {\"color\": \"#FFA15A\", \"dash\": \"solid\"}, \"mode\": \"lines\", \"name\": \"nomascorrupcionprotegida\", \"showlegend\": true, \"type\": \"scatter\", \"x\": [\"2020-04-16T00:00:00\"], \"xaxis\": \"x\", \"y\": [1.0], \"yaxis\": \"y\"}, {\"hovertemplate\": \"hashtag=nomasley100<br>date=%{x}<br>value=%{y}<extra></extra>\", \"legendgroup\": \"nomasley100\", \"line\": {\"color\": \"#19d3f3\", \"dash\": \"solid\"}, \"mode\": \"lines\", \"name\": \"nomasley100\", \"showlegend\": true, \"type\": \"scatter\", \"x\": [\"2020-04-12T00:00:00\"], \"xaxis\": \"x\", \"y\": [1.0], \"yaxis\": \"y\"}, {\"hovertemplate\": \"hashtag=nomasley100genocida<br>date=%{x}<br>value=%{y}<extra></extra>\", \"legendgroup\": \"nomasley100genocida\", \"line\": {\"color\": \"#FF6692\", \"dash\": \"solid\"}, \"mode\": \"lines\", \"name\": \"nomasley100genocida\", \"showlegend\": true, \"type\": \"scatter\", \"x\": [\"2020-04-16T00:00:00\"], \"xaxis\": \"x\", \"y\": [2.0], \"yaxis\": \"y\"}, {\"hovertemplate\": \"hashtag=nomasmontonerasen<br>date=%{x}<br>value=%{y}<extra></extra>\", \"legendgroup\": \"nomasmontonerasen\", \"line\": {\"color\": \"#B6E880\", \"dash\": \"solid\"}, \"mode\": \"lines\", \"name\": \"nomasmontonerasen\", \"showlegend\": true, \"type\": \"scatter\", \"x\": [\"2020-04-23T00:00:00\"], \"xaxis\": \"x\", \"y\": [1.0], \"yaxis\": \"y\"}, {\"hovertemplate\": \"hashtag=nomaspetro<br>date=%{x}<br>value=%{y}<extra></extra>\", \"legendgroup\": \"nomaspetro\", \"line\": {\"color\": \"#FF97FF\", \"dash\": \"solid\"}, \"mode\": \"lines\", \"name\": \"nomaspetro\", \"showlegend\": true, \"type\": \"scatter\", \"x\": [\"2020-04-11T00:00:00\"], \"xaxis\": \"x\", \"y\": [1.0], \"yaxis\": \"y\"}, {\"hovertemplate\": \"hashtag=nomejodaspetro<br>date=%{x}<br>value=%{y}<extra></extra>\", \"legendgroup\": \"nomejodaspetro\", \"line\": {\"color\": \"#FECB52\", \"dash\": \"solid\"}, \"mode\": \"lines\", \"name\": \"nomejodaspetro\", \"showlegend\": true, \"type\": \"scatter\", \"x\": [\"2020-04-11T00:00:00\"], \"xaxis\": \"x\", \"y\": [1.0], \"yaxis\": \"y\"}, {\"hovertemplate\": \"hashtag=nom\\u00e1svenezolanosencolombia<br>date=%{x}<br>value=%{y}<extra></extra>\", \"legendgroup\": \"nom\\u00e1svenezolanosencolombia\", \"line\": {\"color\": \"#636efa\", \"dash\": \"solid\"}, \"mode\": \"lines\", \"name\": \"nom\\u00e1svenezolanosencolombia\", \"showlegend\": true, \"type\": \"scatter\", \"x\": [\"2020-04-07T00:00:00\"], \"xaxis\": \"x\", \"y\": [1.0], \"yaxis\": \"y\"}, {\"hovertemplate\": \"hashtag=noolvideloscampesinos<br>date=%{x}<br>value=%{y}<extra></extra>\", \"legendgroup\": \"noolvideloscampesinos\", \"line\": {\"color\": \"#EF553B\", \"dash\": \"solid\"}, \"mode\": \"lines\", \"name\": \"noolvideloscampesinos\", \"showlegend\": true, \"type\": \"scatter\", \"x\": [\"2020-04-24T00:00:00\"], \"xaxis\": \"x\", \"y\": [1.0], \"yaxis\": \"y\"}, {\"hovertemplate\": \"hashtag=noporeconomia<br>date=%{x}<br>value=%{y}<extra></extra>\", \"legendgroup\": \"noporeconomia\", \"line\": {\"color\": \"#00cc96\", \"dash\": \"solid\"}, \"mode\": \"lines\", \"name\": \"noporeconomia\", \"showlegend\": true, \"type\": \"scatter\", \"x\": [\"2020-04-06T00:00:00\"], \"xaxis\": \"x\", \"y\": [1.0], \"yaxis\": \"y\"}, {\"hovertemplate\": \"hashtag=noseantanhptas<br>date=%{x}<br>value=%{y}<extra></extra>\", \"legendgroup\": \"noseantanhptas\", \"line\": {\"color\": \"#ab63fa\", \"dash\": \"solid\"}, \"mode\": \"lines\", \"name\": \"noseantanhptas\", \"showlegend\": true, \"type\": \"scatter\", \"x\": [\"2020-04-09T00:00:00\"], \"xaxis\": \"x\", \"y\": [1.0], \"yaxis\": \"y\"}, {\"hovertemplate\": \"hashtag=noselespuedecreer<br>date=%{x}<br>value=%{y}<extra></extra>\", \"legendgroup\": \"noselespuedecreer\", \"line\": {\"color\": \"#FFA15A\", \"dash\": \"solid\"}, \"mode\": \"lines\", \"name\": \"noselespuedecreer\", \"showlegend\": true, \"type\": \"scatter\", \"x\": [\"2020-04-25T00:00:00\"], \"xaxis\": \"x\", \"y\": [1.0], \"yaxis\": \"y\"}, {\"hovertemplate\": \"hashtag=nosestanmatando<br>date=%{x}<br>value=%{y}<extra></extra>\", \"legendgroup\": \"nosestanmatando\", \"line\": {\"color\": \"#19d3f3\", \"dash\": \"solid\"}, \"mode\": \"lines\", \"name\": \"nosestanmatando\", \"showlegend\": true, \"type\": \"scatter\", \"x\": [\"2020-04-09T00:00:00\"], \"xaxis\": \"x\", \"y\": [3.0], \"yaxis\": \"y\"}, {\"hovertemplate\": \"hashtag=noticia<br>date=%{x}<br>value=%{y}<extra></extra>\", \"legendgroup\": \"noticia\", \"line\": {\"color\": \"#FF6692\", \"dash\": \"solid\"}, \"mode\": \"lines\", \"name\": \"noticia\", \"showlegend\": true, \"type\": \"scatter\", \"x\": [\"2020-04-02T00:00:00\", \"2020-04-03T00:00:00\", \"2020-04-06T00:00:00\", \"2020-04-07T00:00:00\", \"2020-04-09T00:00:00\", \"2020-04-14T00:00:00\", \"2020-04-18T00:00:00\", \"2020-04-21T00:00:00\", \"2020-04-23T00:00:00\", \"2020-04-25T00:00:00\"], \"xaxis\": \"x\", \"y\": [1.0, 1.0, 1.0, 1.0, 1.0, 1.0, 1.0, 2.0, 1.0, 1.0], \"yaxis\": \"y\"}, {\"hovertemplate\": \"hashtag=noticiascaracol<br>date=%{x}<br>value=%{y}<extra></extra>\", \"legendgroup\": \"noticiascaracol\", \"line\": {\"color\": \"#B6E880\", \"dash\": \"solid\"}, \"mode\": \"lines\", \"name\": \"noticiascaracol\", \"showlegend\": true, \"type\": \"scatter\", \"x\": [\"2020-04-07T00:00:00\"], \"xaxis\": \"x\", \"y\": [2.0], \"yaxis\": \"y\"}, {\"hovertemplate\": \"hashtag=noticiascaracolahora<br>date=%{x}<br>value=%{y}<extra></extra>\", \"legendgroup\": \"noticiascaracolahora\", \"line\": {\"color\": \"#FF97FF\", \"dash\": \"solid\"}, \"mode\": \"lines\", \"name\": \"noticiascaracolahora\", \"showlegend\": true, \"type\": \"scatter\", \"x\": [\"2020-04-07T00:00:00\", \"2020-04-08T00:00:00\"], \"xaxis\": \"x\", \"y\": [2.0, 1.0], \"yaxis\": \"y\"}, {\"hovertemplate\": \"hashtag=noticiasdelama\\u00f1ana<br>date=%{x}<br>value=%{y}<extra></extra>\", \"legendgroup\": \"noticiasdelama\\u00f1ana\", \"line\": {\"color\": \"#FECB52\", \"dash\": \"solid\"}, \"mode\": \"lines\", \"name\": \"noticiasdelama\\u00f1ana\", \"showlegend\": true, \"type\": \"scatter\", \"x\": [\"2020-04-09T00:00:00\"], \"xaxis\": \"x\", \"y\": [16.0], \"yaxis\": \"y\"}, {\"hovertemplate\": \"hashtag=noticiasuno<br>date=%{x}<br>value=%{y}<extra></extra>\", \"legendgroup\": \"noticiasuno\", \"line\": {\"color\": \"#636efa\", \"dash\": \"solid\"}, \"mode\": \"lines\", \"name\": \"noticiasuno\", \"showlegend\": true, \"type\": \"scatter\", \"x\": [\"2020-04-03T00:00:00\", \"2020-04-09T00:00:00\"], \"xaxis\": \"x\", \"y\": [1.0, 1.0], \"yaxis\": \"y\"}, {\"hovertemplate\": \"hashtag=noticierow<br>date=%{x}<br>value=%{y}<extra></extra>\", \"legendgroup\": \"noticierow\", \"line\": {\"color\": \"#EF553B\", \"dash\": \"solid\"}, \"mode\": \"lines\", \"name\": \"noticierow\", \"showlegend\": true, \"type\": \"scatter\", \"x\": [\"2020-04-22T00:00:00\"], \"xaxis\": \"x\", \"y\": [1.0], \"yaxis\": \"y\"}, {\"hovertemplate\": \"hashtag=nuestragente<br>date=%{x}<br>value=%{y}<extra></extra>\", \"legendgroup\": \"nuestragente\", \"line\": {\"color\": \"#00cc96\", \"dash\": \"solid\"}, \"mode\": \"lines\", \"name\": \"nuestragente\", \"showlegend\": true, \"type\": \"scatter\", \"x\": [\"2020-04-06T00:00:00\", \"2020-04-07T00:00:00\", \"2020-04-08T00:00:00\"], \"xaxis\": \"x\", \"y\": [2.0, 2.0, 3.0], \"yaxis\": \"y\"}, {\"hovertemplate\": \"hashtag=ojodelanoche<br>date=%{x}<br>value=%{y}<extra></extra>\", \"legendgroup\": \"ojodelanoche\", \"line\": {\"color\": \"#ab63fa\", \"dash\": \"solid\"}, \"mode\": \"lines\", \"name\": \"ojodelanoche\", \"showlegend\": true, \"type\": \"scatter\", \"x\": [\"2020-04-07T00:00:00\", \"2020-04-08T00:00:00\"], \"xaxis\": \"x\", \"y\": [1.0, 1.0], \"yaxis\": \"y\"}, {\"hovertemplate\": \"hashtag=opini\\u00f3nonline<br>date=%{x}<br>value=%{y}<extra></extra>\", \"legendgroup\": \"opini\\u00f3nonline\", \"line\": {\"color\": \"#FFA15A\", \"dash\": \"solid\"}, \"mode\": \"lines\", \"name\": \"opini\\u00f3nonline\", \"showlegend\": true, \"type\": \"scatter\", \"x\": [\"2020-04-07T00:00:00\", \"2020-04-08T00:00:00\"], \"xaxis\": \"x\", \"y\": [1.0, 2.0], \"yaxis\": \"y\"}, {\"hovertemplate\": \"hashtag=organosdecontrol<br>date=%{x}<br>value=%{y}<extra></extra>\", \"legendgroup\": \"organosdecontrol\", \"line\": {\"color\": \"#19d3f3\", \"dash\": \"solid\"}, \"mode\": \"lines\", \"name\": \"organosdecontrol\", \"showlegend\": true, \"type\": \"scatter\", \"x\": [\"2020-04-25T00:00:00\"], \"xaxis\": \"x\", \"y\": [1.0], \"yaxis\": \"y\"}, {\"hovertemplate\": \"hashtag=orgullocolombiano<br>date=%{x}<br>value=%{y}<extra></extra>\", \"legendgroup\": \"orgullocolombiano\", \"line\": {\"color\": \"#FF6692\", \"dash\": \"solid\"}, \"mode\": \"lines\", \"name\": \"orgullocolombiano\", \"showlegend\": true, \"type\": \"scatter\", \"x\": [\"2020-04-06T00:00:00\"], \"xaxis\": \"x\", \"y\": [1.0], \"yaxis\": \"y\"}, {\"hovertemplate\": \"hashtag=otrabajanodonan<br>date=%{x}<br>value=%{y}<extra></extra>\", \"legendgroup\": \"otrabajanodonan\", \"line\": {\"color\": \"#B6E880\", \"dash\": \"solid\"}, \"mode\": \"lines\", \"name\": \"otrabajanodonan\", \"showlegend\": true, \"type\": \"scatter\", \"x\": [\"2020-04-07T00:00:00\"], \"xaxis\": \"x\", \"y\": [9.0], \"yaxis\": \"y\"}, {\"hovertemplate\": \"hashtag=palmira<br>date=%{x}<br>value=%{y}<extra></extra>\", \"legendgroup\": \"palmira\", \"line\": {\"color\": \"#FF97FF\", \"dash\": \"solid\"}, \"mode\": \"lines\", \"name\": \"palmira\", \"showlegend\": true, \"type\": \"scatter\", \"x\": [\"2020-04-06T00:00:00\"], \"xaxis\": \"x\", \"y\": [1.0], \"yaxis\": \"y\"}, {\"hovertemplate\": \"hashtag=paquetazochimborobledo<br>date=%{x}<br>value=%{y}<extra></extra>\", \"legendgroup\": \"paquetazochimborobledo\", \"line\": {\"color\": \"#FECB52\", \"dash\": \"solid\"}, \"mode\": \"lines\", \"name\": \"paquetazochimborobledo\", \"showlegend\": true, \"type\": \"scatter\", \"x\": [\"2020-04-25T00:00:00\"], \"xaxis\": \"x\", \"y\": [1.0], \"yaxis\": \"y\"}, {\"hovertemplate\": \"hashtag=paridos<br>date=%{x}<br>value=%{y}<extra></extra>\", \"legendgroup\": \"paridos\", \"line\": {\"color\": \"#636efa\", \"dash\": \"solid\"}, \"mode\": \"lines\", \"name\": \"paridos\", \"showlegend\": true, \"type\": \"scatter\", \"x\": [\"2020-04-09T00:00:00\", \"2020-04-25T00:00:00\"], \"xaxis\": \"x\", \"y\": [1.0, 1.0], \"yaxis\": \"y\"}, {\"hovertemplate\": \"hashtag=paroagrario<br>date=%{x}<br>value=%{y}<extra></extra>\", \"legendgroup\": \"paroagrario\", \"line\": {\"color\": \"#EF553B\", \"dash\": \"solid\"}, \"mode\": \"lines\", \"name\": \"paroagrario\", \"showlegend\": true, \"type\": \"scatter\", \"x\": [\"2020-04-20T00:00:00\"], \"xaxis\": \"x\", \"y\": [1.0], \"yaxis\": \"y\"}, {\"hovertemplate\": \"hashtag=pazconlegalidad<br>date=%{x}<br>value=%{y}<extra></extra>\", \"legendgroup\": \"pazconlegalidad\", \"line\": {\"color\": \"#00cc96\", \"dash\": \"solid\"}, \"mode\": \"lines\", \"name\": \"pazconlegalidad\", \"showlegend\": true, \"type\": \"scatter\", \"x\": [\"2020-04-09T00:00:00\", \"2020-04-10T00:00:00\"], \"xaxis\": \"x\", \"y\": [1.0, 1.0], \"yaxis\": \"y\"}, {\"hovertemplate\": \"hashtag=penademuerteparacorruptos<br>date=%{x}<br>value=%{y}<extra></extra>\", \"legendgroup\": \"penademuerteparacorruptos\", \"line\": {\"color\": \"#ab63fa\", \"dash\": \"solid\"}, \"mode\": \"lines\", \"name\": \"penademuerteparacorruptos\", \"showlegend\": true, \"type\": \"scatter\", \"x\": [\"2020-04-09T00:00:00\"], \"xaxis\": \"x\", \"y\": [2.0], \"yaxis\": \"y\"}, {\"hovertemplate\": \"hashtag=pendejo<br>date=%{x}<br>value=%{y}<extra></extra>\", \"legendgroup\": \"pendejo\", \"line\": {\"color\": \"#FFA15A\", \"dash\": \"solid\"}, \"mode\": \"lines\", \"name\": \"pendejo\", \"showlegend\": true, \"type\": \"scatter\", \"x\": [\"2020-04-09T00:00:00\"], \"xaxis\": \"x\", \"y\": [1.0], \"yaxis\": \"y\"}, {\"hovertemplate\": \"hashtag=personajedelasemana<br>date=%{x}<br>value=%{y}<extra></extra>\", \"legendgroup\": \"personajedelasemana\", \"line\": {\"color\": \"#19d3f3\", \"dash\": \"solid\"}, \"mode\": \"lines\", \"name\": \"personajedelasemana\", \"showlegend\": true, \"type\": \"scatter\", \"x\": [\"2020-04-25T00:00:00\"], \"xaxis\": \"x\", \"y\": [2.0], \"yaxis\": \"y\"}, {\"hovertemplate\": \"hashtag=petro<br>date=%{x}<br>value=%{y}<extra></extra>\", \"legendgroup\": \"petro\", \"line\": {\"color\": \"#FF6692\", \"dash\": \"solid\"}, \"mode\": \"lines\", \"name\": \"petro\", \"showlegend\": true, \"type\": \"scatter\", \"x\": [\"2020-04-10T00:00:00\"], \"xaxis\": \"x\", \"y\": [2.0], \"yaxis\": \"y\"}, {\"hovertemplate\": \"hashtag=petroparaco<br>date=%{x}<br>value=%{y}<extra></extra>\", \"legendgroup\": \"petroparaco\", \"line\": {\"color\": \"#B6E880\", \"dash\": \"solid\"}, \"mode\": \"lines\", \"name\": \"petroparaco\", \"showlegend\": true, \"type\": \"scatter\", \"x\": [\"2020-04-10T00:00:00\"], \"xaxis\": \"x\", \"y\": [1.0], \"yaxis\": \"y\"}, {\"hovertemplate\": \"hashtag=petroybolivar2022<br>date=%{x}<br>value=%{y}<extra></extra>\", \"legendgroup\": \"petroybolivar2022\", \"line\": {\"color\": \"#FF97FF\", \"dash\": \"solid\"}, \"mode\": \"lines\", \"name\": \"petroybolivar2022\", \"showlegend\": true, \"type\": \"scatter\", \"x\": [\"2020-04-11T00:00:00\"], \"xaxis\": \"x\", \"y\": [1.0], \"yaxis\": \"y\"}, {\"hovertemplate\": \"hashtag=picoyc\\u00e9dula<br>date=%{x}<br>value=%{y}<extra></extra>\", \"legendgroup\": \"picoyc\\u00e9dula\", \"line\": {\"color\": \"#FECB52\", \"dash\": \"solid\"}, \"mode\": \"lines\", \"name\": \"picoyc\\u00e9dula\", \"showlegend\": true, \"type\": \"scatter\", \"x\": [\"2020-04-23T00:00:00\"], \"xaxis\": \"x\", \"y\": [1.0], \"yaxis\": \"y\"}, {\"hovertemplate\": \"hashtag=picoygenero<br>date=%{x}<br>value=%{y}<extra></extra>\", \"legendgroup\": \"picoygenero\", \"line\": {\"color\": \"#636efa\", \"dash\": \"solid\"}, \"mode\": \"lines\", \"name\": \"picoygenero\", \"showlegend\": true, \"type\": \"scatter\", \"x\": [\"2020-04-24T00:00:00\"], \"xaxis\": \"x\", \"y\": [2.0], \"yaxis\": \"y\"}, {\"hovertemplate\": \"hashtag=picoyplaca<br>date=%{x}<br>value=%{y}<extra></extra>\", \"legendgroup\": \"picoyplaca\", \"line\": {\"color\": \"#EF553B\", \"dash\": \"solid\"}, \"mode\": \"lines\", \"name\": \"picoyplaca\", \"showlegend\": true, \"type\": \"scatter\", \"x\": [\"2020-04-08T00:00:00\"], \"xaxis\": \"x\", \"y\": [1.0], \"yaxis\": \"y\"}, {\"hovertemplate\": \"hashtag=picoyvida<br>date=%{x}<br>value=%{y}<extra></extra>\", \"legendgroup\": \"picoyvida\", \"line\": {\"color\": \"#00cc96\", \"dash\": \"solid\"}, \"mode\": \"lines\", \"name\": \"picoyvida\", \"showlegend\": true, \"type\": \"scatter\", \"x\": [\"2020-04-23T00:00:00\"], \"xaxis\": \"x\", \"y\": [2.0], \"yaxis\": \"y\"}, {\"hovertemplate\": \"hashtag=pinturita<br>date=%{x}<br>value=%{y}<extra></extra>\", \"legendgroup\": \"pinturita\", \"line\": {\"color\": \"#ab63fa\", \"dash\": \"solid\"}, \"mode\": \"lines\", \"name\": \"pinturita\", \"showlegend\": true, \"type\": \"scatter\", \"x\": [\"2020-04-08T00:00:00\"], \"xaxis\": \"x\", \"y\": [1.0], \"yaxis\": \"y\"}, {\"hovertemplate\": \"hashtag=polombia<br>date=%{x}<br>value=%{y}<extra></extra>\", \"legendgroup\": \"polombia\", \"line\": {\"color\": \"#FFA15A\", \"dash\": \"solid\"}, \"mode\": \"lines\", \"name\": \"polombia\", \"showlegend\": true, \"type\": \"scatter\", \"x\": [\"2020-04-06T00:00:00\"], \"xaxis\": \"x\", \"y\": [1.0], \"yaxis\": \"y\"}, {\"hovertemplate\": \"hashtag=populista<br>date=%{x}<br>value=%{y}<extra></extra>\", \"legendgroup\": \"populista\", \"line\": {\"color\": \"#19d3f3\", \"dash\": \"solid\"}, \"mode\": \"lines\", \"name\": \"populista\", \"showlegend\": true, \"type\": \"scatter\", \"x\": [\"2020-04-10T00:00:00\"], \"xaxis\": \"x\", \"y\": [1.0], \"yaxis\": \"y\"}, {\"hovertemplate\": \"hashtag=porfavor<br>date=%{x}<br>value=%{y}<extra></extra>\", \"legendgroup\": \"porfavor\", \"line\": {\"color\": \"#FF6692\", \"dash\": \"solid\"}, \"mode\": \"lines\", \"name\": \"porfavor\", \"showlegend\": true, \"type\": \"scatter\", \"x\": [\"2020-04-09T00:00:00\"], \"xaxis\": \"x\", \"y\": [1.0], \"yaxis\": \"y\"}, {\"hovertemplate\": \"hashtag=porlasaludylavida<br>date=%{x}<br>value=%{y}<extra></extra>\", \"legendgroup\": \"porlasaludylavida\", \"line\": {\"color\": \"#B6E880\", \"dash\": \"solid\"}, \"mode\": \"lines\", \"name\": \"porlasaludylavida\", \"showlegend\": true, \"type\": \"scatter\", \"x\": [\"2020-04-21T00:00:00\"], \"xaxis\": \"x\", \"y\": [1.0], \"yaxis\": \"y\"}, {\"hovertemplate\": \"hashtag=porlavida<br>date=%{x}<br>value=%{y}<extra></extra>\", \"legendgroup\": \"porlavida\", \"line\": {\"color\": \"#FF97FF\", \"dash\": \"solid\"}, \"mode\": \"lines\", \"name\": \"porlavida\", \"showlegend\": true, \"type\": \"scatter\", \"x\": [\"2020-04-06T00:00:00\"], \"xaxis\": \"x\", \"y\": [1.0], \"yaxis\": \"y\"}, {\"hovertemplate\": \"hashtag=porqueseescandalizan<br>date=%{x}<br>value=%{y}<extra></extra>\", \"legendgroup\": \"porqueseescandalizan\", \"line\": {\"color\": \"#FECB52\", \"dash\": \"solid\"}, \"mode\": \"lines\", \"name\": \"porqueseescandalizan\", \"showlegend\": true, \"type\": \"scatter\", \"x\": [\"2020-04-23T00:00:00\"], \"xaxis\": \"x\", \"y\": [1.0], \"yaxis\": \"y\"}, {\"hovertemplate\": \"hashtag=portuvidapormivida<br>date=%{x}<br>value=%{y}<extra></extra>\", \"legendgroup\": \"portuvidapormivida\", \"line\": {\"color\": \"#636efa\", \"dash\": \"solid\"}, \"mode\": \"lines\", \"name\": \"portuvidapormivida\", \"showlegend\": true, \"type\": \"scatter\", \"x\": [\"2020-04-14T00:00:00\"], \"xaxis\": \"x\", \"y\": [3.0], \"yaxis\": \"y\"}, {\"hovertemplate\": \"hashtag=prefieroquenomecuidecolombia<br>date=%{x}<br>value=%{y}<extra></extra>\", \"legendgroup\": \"prefieroquenomecuidecolombia\", \"line\": {\"color\": \"#EF553B\", \"dash\": \"solid\"}, \"mode\": \"lines\", \"name\": \"prefieroquenomecuidecolombia\", \"showlegend\": true, \"type\": \"scatter\", \"x\": [\"2020-04-09T00:00:00\"], \"xaxis\": \"x\", \"y\": [1.0], \"yaxis\": \"y\"}, {\"hovertemplate\": \"hashtag=preguntayamid<br>date=%{x}<br>value=%{y}<extra></extra>\", \"legendgroup\": \"preguntayamid\", \"line\": {\"color\": \"#00cc96\", \"dash\": \"solid\"}, \"mode\": \"lines\", \"name\": \"preguntayamid\", \"showlegend\": true, \"type\": \"scatter\", \"x\": [\"2020-04-02T00:00:00\"], \"xaxis\": \"x\", \"y\": [5.0], \"yaxis\": \"y\"}, {\"hovertemplate\": \"hashtag=preparaci\\u00f3n<br>date=%{x}<br>value=%{y}<extra></extra>\", \"legendgroup\": \"preparaci\\u00f3n\", \"line\": {\"color\": \"#ab63fa\", \"dash\": \"solid\"}, \"mode\": \"lines\", \"name\": \"preparaci\\u00f3n\", \"showlegend\": true, \"type\": \"scatter\", \"x\": [\"2020-04-23T00:00:00\"], \"xaxis\": \"x\", \"y\": [3.0], \"yaxis\": \"y\"}, {\"hovertemplate\": \"hashtag=presidenta<br>date=%{x}<br>value=%{y}<extra></extra>\", \"legendgroup\": \"presidenta\", \"line\": {\"color\": \"#FFA15A\", \"dash\": \"solid\"}, \"mode\": \"lines\", \"name\": \"presidenta\", \"showlegend\": true, \"type\": \"scatter\", \"x\": [\"2020-04-07T00:00:00\"], \"xaxis\": \"x\", \"y\": [1.0], \"yaxis\": \"y\"}, {\"hovertemplate\": \"hashtag=presidente<br>date=%{x}<br>value=%{y}<extra></extra>\", \"legendgroup\": \"presidente\", \"line\": {\"color\": \"#19d3f3\", \"dash\": \"solid\"}, \"mode\": \"lines\", \"name\": \"presidente\", \"showlegend\": true, \"type\": \"scatter\", \"x\": [\"2020-04-09T00:00:00\"], \"xaxis\": \"x\", \"y\": [1.0], \"yaxis\": \"y\"}, {\"hovertemplate\": \"hashtag=presidenteleg\\u00edtimo<br>date=%{x}<br>value=%{y}<extra></extra>\", \"legendgroup\": \"presidenteleg\\u00edtimo\", \"line\": {\"color\": \"#FF6692\", \"dash\": \"solid\"}, \"mode\": \"lines\", \"name\": \"presidenteleg\\u00edtimo\", \"showlegend\": true, \"type\": \"scatter\", \"x\": [\"2020-04-10T00:00:00\"], \"xaxis\": \"x\", \"y\": [1.0], \"yaxis\": \"y\"}, {\"hovertemplate\": \"hashtag=prevencionyaccion<br>date=%{x}<br>value=%{y}<extra></extra>\", \"legendgroup\": \"prevencionyaccion\", \"line\": {\"color\": \"#B6E880\", \"dash\": \"solid\"}, \"mode\": \"lines\", \"name\": \"prevencionyaccion\", \"showlegend\": true, \"type\": \"scatter\", \"x\": [\"2020-04-10T00:00:00\"], \"xaxis\": \"x\", \"y\": [2.0], \"yaxis\": \"y\"}, {\"hovertemplate\": \"hashtag=prevenci\\u00f3nyacci\\u00f3n<br>date=%{x}<br>value=%{y}<extra></extra>\", \"legendgroup\": \"prevenci\\u00f3nyacci\\u00f3n\", \"line\": {\"color\": \"#FF97FF\", \"dash\": \"solid\"}, \"mode\": \"lines\", \"name\": \"prevenci\\u00f3nyacci\\u00f3n\", \"showlegend\": true, \"type\": \"scatter\", \"x\": [\"2020-04-01T00:00:00\", \"2020-04-02T00:00:00\", \"2020-04-03T00:00:00\", \"2020-04-04T00:00:00\", \"2020-04-05T00:00:00\", \"2020-04-06T00:00:00\", \"2020-04-07T00:00:00\", \"2020-04-08T00:00:00\", \"2020-04-09T00:00:00\", \"2020-04-10T00:00:00\", \"2020-04-14T00:00:00\", \"2020-04-16T00:00:00\", \"2020-04-17T00:00:00\", \"2020-04-18T00:00:00\", \"2020-04-19T00:00:00\", \"2020-04-20T00:00:00\", \"2020-04-21T00:00:00\", \"2020-04-22T00:00:00\", \"2020-04-23T00:00:00\", \"2020-04-24T00:00:00\", \"2020-04-25T00:00:00\"], \"xaxis\": \"x\", \"y\": [5.0, 4.0, 5.0, 5.0, 2.0, 2.0, 3.0, 3.0, 5.0, 45.0, 4.0, 4.0, 3.0, 6.0, 4.0, 1.0, 7.0, 4.0, 7.0, 4.0, 1.0], \"yaxis\": \"y\"}, {\"hovertemplate\": \"hashtag=primiciablu<br>date=%{x}<br>value=%{y}<extra></extra>\", \"legendgroup\": \"primiciablu\", \"line\": {\"color\": \"#FECB52\", \"dash\": \"solid\"}, \"mode\": \"lines\", \"name\": \"primiciablu\", \"showlegend\": true, \"type\": \"scatter\", \"x\": [\"2020-04-08T00:00:00\", \"2020-04-10T00:00:00\"], \"xaxis\": \"x\", \"y\": [4.0, 1.0], \"yaxis\": \"y\"}, {\"hovertemplate\": \"hashtag=primiciaw<br>date=%{x}<br>value=%{y}<extra></extra>\", \"legendgroup\": \"primiciaw\", \"line\": {\"color\": \"#636efa\", \"dash\": \"solid\"}, \"mode\": \"lines\", \"name\": \"primiciaw\", \"showlegend\": true, \"type\": \"scatter\", \"x\": [\"2020-04-20T00:00:00\"], \"xaxis\": \"x\", \"y\": [1.0], \"yaxis\": \"y\"}, {\"hovertemplate\": \"hashtag=procomunes<br>date=%{x}<br>value=%{y}<extra></extra>\", \"legendgroup\": \"procomunes\", \"line\": {\"color\": \"#EF553B\", \"dash\": \"solid\"}, \"mode\": \"lines\", \"name\": \"procomunes\", \"showlegend\": true, \"type\": \"scatter\", \"x\": [\"2020-04-08T00:00:00\"], \"xaxis\": \"x\", \"y\": [1.0], \"yaxis\": \"y\"}, {\"hovertemplate\": \"hashtag=psdt<br>date=%{x}<br>value=%{y}<extra></extra>\", \"legendgroup\": \"psdt\", \"line\": {\"color\": \"#00cc96\", \"dash\": \"solid\"}, \"mode\": \"lines\", \"name\": \"psdt\", \"showlegend\": true, \"type\": \"scatter\", \"x\": [\"2020-04-24T00:00:00\"], \"xaxis\": \"x\", \"y\": [1.0], \"yaxis\": \"y\"}, {\"hovertemplate\": \"hashtag=purgaparapol\\u00edticoscorruptos<br>date=%{x}<br>value=%{y}<extra></extra>\", \"legendgroup\": \"purgaparapol\\u00edticoscorruptos\", \"line\": {\"color\": \"#ab63fa\", \"dash\": \"solid\"}, \"mode\": \"lines\", \"name\": \"purgaparapol\\u00edticoscorruptos\", \"showlegend\": true, \"type\": \"scatter\", \"x\": [\"2020-04-09T00:00:00\"], \"xaxis\": \"x\", \"y\": [1.0], \"yaxis\": \"y\"}, {\"hovertemplate\": \"hashtag=purocoraz\\u00f3nporcali<br>date=%{x}<br>value=%{y}<extra></extra>\", \"legendgroup\": \"purocoraz\\u00f3nporcali\", \"line\": {\"color\": \"#FFA15A\", \"dash\": \"solid\"}, \"mode\": \"lines\", \"name\": \"purocoraz\\u00f3nporcali\", \"showlegend\": true, \"type\": \"scatter\", \"x\": [\"2020-04-23T00:00:00\", \"2020-04-24T00:00:00\"], \"xaxis\": \"x\", \"y\": [2.0, 1.0], \"yaxis\": \"y\"}, {\"hovertemplate\": \"hashtag=quedanencasa<br>date=%{x}<br>value=%{y}<extra></extra>\", \"legendgroup\": \"quedanencasa\", \"line\": {\"color\": \"#19d3f3\", \"dash\": \"solid\"}, \"mode\": \"lines\", \"name\": \"quedanencasa\", \"showlegend\": true, \"type\": \"scatter\", \"x\": [\"2020-04-07T00:00:00\"], \"xaxis\": \"x\", \"y\": [1.0], \"yaxis\": \"y\"}, {\"hovertemplate\": \"hashtag=quedateencasa<br>date=%{x}<br>value=%{y}<extra></extra>\", \"legendgroup\": \"quedateencasa\", \"line\": {\"color\": \"#FF6692\", \"dash\": \"solid\"}, \"mode\": \"lines\", \"name\": \"quedateencasa\", \"showlegend\": true, \"type\": \"scatter\", \"x\": [\"2020-04-06T00:00:00\", \"2020-04-07T00:00:00\", \"2020-04-09T00:00:00\", \"2020-04-16T00:00:00\", \"2020-04-24T00:00:00\", \"2020-04-25T00:00:00\"], \"xaxis\": \"x\", \"y\": [2.0, 1.0, 2.0, 1.0, 2.0, 2.0], \"yaxis\": \"y\"}, {\"hovertemplate\": \"hashtag=quedateenlacasa<br>date=%{x}<br>value=%{y}<extra></extra>\", \"legendgroup\": \"quedateenlacasa\", \"line\": {\"color\": \"#B6E880\", \"dash\": \"solid\"}, \"mode\": \"lines\", \"name\": \"quedateenlacasa\", \"showlegend\": true, \"type\": \"scatter\", \"x\": [\"2020-04-09T00:00:00\"], \"xaxis\": \"x\", \"y\": [1.0], \"yaxis\": \"y\"}, {\"hovertemplate\": \"hashtag=quedecepci\\u00f3n<br>date=%{x}<br>value=%{y}<extra></extra>\", \"legendgroup\": \"quedecepci\\u00f3n\", \"line\": {\"color\": \"#FF97FF\", \"dash\": \"solid\"}, \"mode\": \"lines\", \"name\": \"quedecepci\\u00f3n\", \"showlegend\": true, \"type\": \"scatter\", \"x\": [\"2020-04-11T00:00:00\"], \"xaxis\": \"x\", \"y\": [1.0], \"yaxis\": \"y\"}, {\"hovertemplate\": \"hashtag=quedios<br>date=%{x}<br>value=%{y}<extra></extra>\", \"legendgroup\": \"quedios\", \"line\": {\"color\": \"#FECB52\", \"dash\": \"solid\"}, \"mode\": \"lines\", \"name\": \"quedios\", \"showlegend\": true, \"type\": \"scatter\", \"x\": [\"2020-04-11T00:00:00\"], \"xaxis\": \"x\", \"y\": [1.0], \"yaxis\": \"y\"}, {\"hovertemplate\": \"hashtag=queremos<br>date=%{x}<br>value=%{y}<extra></extra>\", \"legendgroup\": \"queremos\", \"line\": {\"color\": \"#636efa\", \"dash\": \"solid\"}, \"mode\": \"lines\", \"name\": \"queremos\", \"showlegend\": true, \"type\": \"scatter\", \"x\": [\"2020-04-09T00:00:00\"], \"xaxis\": \"x\", \"y\": [1.0], \"yaxis\": \"y\"}, {\"hovertemplate\": \"hashtag=quetelocreaduque<br>date=%{x}<br>value=%{y}<extra></extra>\", \"legendgroup\": \"quetelocreaduque\", \"line\": {\"color\": \"#EF553B\", \"dash\": \"solid\"}, \"mode\": \"lines\", \"name\": \"quetelocreaduque\", \"showlegend\": true, \"type\": \"scatter\", \"x\": [\"2020-04-10T00:00:00\"], \"xaxis\": \"x\", \"y\": [1.0], \"yaxis\": \"y\"}, {\"hovertemplate\": \"hashtag=quetelocreatumadre<br>date=%{x}<br>value=%{y}<extra></extra>\", \"legendgroup\": \"quetelocreatumadre\", \"line\": {\"color\": \"#00cc96\", \"dash\": \"solid\"}, \"mode\": \"lines\", \"name\": \"quetelocreatumadre\", \"showlegend\": true, \"type\": \"scatter\", \"x\": [\"2020-04-10T00:00:00\"], \"xaxis\": \"x\", \"y\": [1.0], \"yaxis\": \"y\"}, {\"hovertemplate\": \"hashtag=quintabrigada<br>date=%{x}<br>value=%{y}<extra></extra>\", \"legendgroup\": \"quintabrigada\", \"line\": {\"color\": \"#ab63fa\", \"dash\": \"solid\"}, \"mode\": \"lines\", \"name\": \"quintabrigada\", \"showlegend\": true, \"type\": \"scatter\", \"x\": [\"2020-04-25T00:00:00\"], \"xaxis\": \"x\", \"y\": [1.0], \"yaxis\": \"y\"}, {\"hovertemplate\": \"hashtag=qu\\u00e9dateencasa<br>date=%{x}<br>value=%{y}<extra></extra>\", \"legendgroup\": \"qu\\u00e9dateencasa\", \"line\": {\"color\": \"#FFA15A\", \"dash\": \"solid\"}, \"mode\": \"lines\", \"name\": \"qu\\u00e9dateencasa\", \"showlegend\": true, \"type\": \"scatter\", \"x\": [\"2020-04-01T00:00:00\", \"2020-04-05T00:00:00\", \"2020-04-07T00:00:00\", \"2020-04-08T00:00:00\", \"2020-04-09T00:00:00\", \"2020-04-10T00:00:00\"], \"xaxis\": \"x\", \"y\": [1.0, 1.0, 14.0, 9.0, 6.0, 2.0], \"yaxis\": \"y\"}, {\"hovertemplate\": \"hashtag=racionamiento<br>date=%{x}<br>value=%{y}<extra></extra>\", \"legendgroup\": \"racionamiento\", \"line\": {\"color\": \"#19d3f3\", \"dash\": \"solid\"}, \"mode\": \"lines\", \"name\": \"racionamiento\", \"showlegend\": true, \"type\": \"scatter\", \"x\": [\"2020-04-07T00:00:00\"], \"xaxis\": \"x\", \"y\": [1.0], \"yaxis\": \"y\"}, {\"hovertemplate\": \"hashtag=ratadealcantarillaes<br>date=%{x}<br>value=%{y}<extra></extra>\", \"legendgroup\": \"ratadealcantarillaes\", \"line\": {\"color\": \"#FF6692\", \"dash\": \"solid\"}, \"mode\": \"lines\", \"name\": \"ratadealcantarillaes\", \"showlegend\": true, \"type\": \"scatter\", \"x\": [\"2020-04-16T00:00:00\", \"2020-04-17T00:00:00\", \"2020-04-25T00:00:00\"], \"xaxis\": \"x\", \"y\": [4.0, 7.0, 3.0], \"yaxis\": \"y\"}, {\"hovertemplate\": \"hashtag=ratas<br>date=%{x}<br>value=%{y}<extra></extra>\", \"legendgroup\": \"ratas\", \"line\": {\"color\": \"#B6E880\", \"dash\": \"solid\"}, \"mode\": \"lines\", \"name\": \"ratas\", \"showlegend\": true, \"type\": \"scatter\", \"x\": [\"2020-04-17T00:00:00\"], \"xaxis\": \"x\", \"y\": [1.0], \"yaxis\": \"y\"}, {\"hovertemplate\": \"hashtag=ratasdealcantarilla<br>date=%{x}<br>value=%{y}<extra></extra>\", \"legendgroup\": \"ratasdealcantarilla\", \"line\": {\"color\": \"#FF97FF\", \"dash\": \"solid\"}, \"mode\": \"lines\", \"name\": \"ratasdealcantarilla\", \"showlegend\": true, \"type\": \"scatter\", \"x\": [\"2020-04-16T00:00:00\", \"2020-04-25T00:00:00\"], \"xaxis\": \"x\", \"y\": [1.0, 1.0], \"yaxis\": \"y\"}, {\"hovertemplate\": \"hashtag=realidad<br>date=%{x}<br>value=%{y}<extra></extra>\", \"legendgroup\": \"realidad\", \"line\": {\"color\": \"#FECB52\", \"dash\": \"solid\"}, \"mode\": \"lines\", \"name\": \"realidad\", \"showlegend\": true, \"type\": \"scatter\", \"x\": [\"2020-04-23T00:00:00\"], \"xaxis\": \"x\", \"y\": [1.0], \"yaxis\": \"y\"}, {\"hovertemplate\": \"hashtag=regalazodeduquealosbancos<br>date=%{x}<br>value=%{y}<extra></extra>\", \"legendgroup\": \"regalazodeduquealosbancos\", \"line\": {\"color\": \"#636efa\", \"dash\": \"solid\"}, \"mode\": \"lines\", \"name\": \"regalazodeduquealosbancos\", \"showlegend\": true, \"type\": \"scatter\", \"x\": [\"2020-04-21T00:00:00\"], \"xaxis\": \"x\", \"y\": [2.0], \"yaxis\": \"y\"}, {\"hovertemplate\": \"hashtag=regresoacasa<br>date=%{x}<br>value=%{y}<extra></extra>\", \"legendgroup\": \"regresoacasa\", \"line\": {\"color\": \"#EF553B\", \"dash\": \"solid\"}, \"mode\": \"lines\", \"name\": \"regresoacasa\", \"showlegend\": true, \"type\": \"scatter\", \"x\": [\"2020-04-23T00:00:00\"], \"xaxis\": \"x\", \"y\": [4.0], \"yaxis\": \"y\"}, {\"hovertemplate\": \"hashtag=renuncieduque<br>date=%{x}<br>value=%{y}<extra></extra>\", \"legendgroup\": \"renuncieduque\", \"line\": {\"color\": \"#00cc96\", \"dash\": \"solid\"}, \"mode\": \"lines\", \"name\": \"renuncieduque\", \"showlegend\": true, \"type\": \"scatter\", \"x\": [\"2020-04-09T00:00:00\"], \"xaxis\": \"x\", \"y\": [1.0], \"yaxis\": \"y\"}, {\"hovertemplate\": \"hashtag=reporte<br>date=%{x}<br>value=%{y}<extra></extra>\", \"legendgroup\": \"reporte\", \"line\": {\"color\": \"#ab63fa\", \"dash\": \"solid\"}, \"mode\": \"lines\", \"name\": \"reporte\", \"showlegend\": true, \"type\": \"scatter\", \"x\": [\"2020-04-01T00:00:00\", \"2020-04-06T00:00:00\", \"2020-04-07T00:00:00\", \"2020-04-08T00:00:00\", \"2020-04-09T00:00:00\", \"2020-04-10T00:00:00\", \"2020-04-14T00:00:00\", \"2020-04-16T00:00:00\", \"2020-04-18T00:00:00\", \"2020-04-19T00:00:00\"], \"xaxis\": \"x\", \"y\": [1.0, 1.0, 1.0, 1.0, 125.0, 30.0, 1.0, 1.0, 1.0, 1.0], \"yaxis\": \"y\"}, {\"hovertemplate\": \"hashtag=reportecovid19<br>date=%{x}<br>value=%{y}<extra></extra>\", \"legendgroup\": \"reportecovid19\", \"line\": {\"color\": \"#FFA15A\", \"dash\": \"solid\"}, \"mode\": \"lines\", \"name\": \"reportecovid19\", \"showlegend\": true, \"type\": \"scatter\", \"x\": [\"2020-04-21T00:00:00\", \"2020-04-22T00:00:00\", \"2020-04-23T00:00:00\", \"2020-04-24T00:00:00\"], \"xaxis\": \"x\", \"y\": [1.0, 1.0, 1.0, 1.0], \"yaxis\": \"y\"}, {\"hovertemplate\": \"hashtag=responsabilidadsocial<br>date=%{x}<br>value=%{y}<extra></extra>\", \"legendgroup\": \"responsabilidadsocial\", \"line\": {\"color\": \"#19d3f3\", \"dash\": \"solid\"}, \"mode\": \"lines\", \"name\": \"responsabilidadsocial\", \"showlegend\": true, \"type\": \"scatter\", \"x\": [\"2020-04-23T00:00:00\"], \"xaxis\": \"x\", \"y\": [1.0], \"yaxis\": \"y\"}, {\"hovertemplate\": \"hashtag=respuesta<br>date=%{x}<br>value=%{y}<extra></extra>\", \"legendgroup\": \"respuesta\", \"line\": {\"color\": \"#FF6692\", \"dash\": \"solid\"}, \"mode\": \"lines\", \"name\": \"respuesta\", \"showlegend\": true, \"type\": \"scatter\", \"x\": [\"2020-04-09T00:00:00\"], \"xaxis\": \"x\", \"y\": [1.0], \"yaxis\": \"y\"}, {\"hovertemplate\": \"hashtag=riohacha<br>date=%{x}<br>value=%{y}<extra></extra>\", \"legendgroup\": \"riohacha\", \"line\": {\"color\": \"#B6E880\", \"dash\": \"solid\"}, \"mode\": \"lines\", \"name\": \"riohacha\", \"showlegend\": true, \"type\": \"scatter\", \"x\": [\"2020-04-09T00:00:00\"], \"xaxis\": \"x\", \"y\": [1.0], \"yaxis\": \"y\"}, {\"hovertemplate\": \"hashtag=roboingresosolidario<br>date=%{x}<br>value=%{y}<extra></extra>\", \"legendgroup\": \"roboingresosolidario\", \"line\": {\"color\": \"#FF97FF\", \"dash\": \"solid\"}, \"mode\": \"lines\", \"name\": \"roboingresosolidario\", \"showlegend\": true, \"type\": \"scatter\", \"x\": [\"2020-04-09T00:00:00\", \"2020-04-10T00:00:00\"], \"xaxis\": \"x\", \"y\": [3.0, 1.0], \"yaxis\": \"y\"}, {\"hovertemplate\": \"hashtag=robosolidario<br>date=%{x}<br>value=%{y}<extra></extra>\", \"legendgroup\": \"robosolidario\", \"line\": {\"color\": \"#FECB52\", \"dash\": \"solid\"}, \"mode\": \"lines\", \"name\": \"robosolidario\", \"showlegend\": true, \"type\": \"scatter\", \"x\": [\"2020-04-09T00:00:00\", \"2020-04-10T00:00:00\"], \"xaxis\": \"x\", \"y\": [8.0, 1.0], \"yaxis\": \"y\"}, {\"hovertemplate\": \"hashtag=s<br>date=%{x}<br>value=%{y}<extra></extra>\", \"legendgroup\": \"s\", \"line\": {\"color\": \"#636efa\", \"dash\": \"solid\"}, \"mode\": \"lines\", \"name\": \"s\", \"showlegend\": true, \"type\": \"scatter\", \"x\": [\"2020-04-09T00:00:00\"], \"xaxis\": \"x\", \"y\": [1.0], \"yaxis\": \"y\"}, {\"hovertemplate\": \"hashtag=sab\\u00edasque<br>date=%{x}<br>value=%{y}<extra></extra>\", \"legendgroup\": \"sab\\u00edasque\", \"line\": {\"color\": \"#EF553B\", \"dash\": \"solid\"}, \"mode\": \"lines\", \"name\": \"sab\\u00edasque\", \"showlegend\": true, \"type\": \"scatter\", \"x\": [\"2020-04-04T00:00:00\"], \"xaxis\": \"x\", \"y\": [1.0], \"yaxis\": \"y\"}, {\"hovertemplate\": \"hashtag=saladeprensa<br>date=%{x}<br>value=%{y}<extra></extra>\", \"legendgroup\": \"saladeprensa\", \"line\": {\"color\": \"#00cc96\", \"dash\": \"solid\"}, \"mode\": \"lines\", \"name\": \"saladeprensa\", \"showlegend\": true, \"type\": \"scatter\", \"x\": [\"2020-04-08T00:00:00\"], \"xaxis\": \"x\", \"y\": [1.0], \"yaxis\": \"y\"}, {\"hovertemplate\": \"hashtag=saludmental<br>date=%{x}<br>value=%{y}<extra></extra>\", \"legendgroup\": \"saludmental\", \"line\": {\"color\": \"#ab63fa\", \"dash\": \"solid\"}, \"mode\": \"lines\", \"name\": \"saludmental\", \"showlegend\": true, \"type\": \"scatter\", \"x\": [\"2020-04-02T00:00:00\", \"2020-04-09T00:00:00\", \"2020-04-10T00:00:00\", \"2020-04-18T00:00:00\"], \"xaxis\": \"x\", \"y\": [1.0, 1.0, 2.0, 1.0], \"yaxis\": \"y\"}, {\"hovertemplate\": \"hashtag=salvamosvidas<br>date=%{x}<br>value=%{y}<extra></extra>\", \"legendgroup\": \"salvamosvidas\", \"line\": {\"color\": \"#FFA15A\", \"dash\": \"solid\"}, \"mode\": \"lines\", \"name\": \"salvamosvidas\", \"showlegend\": true, \"type\": \"scatter\", \"x\": [\"2020-04-05T00:00:00\"], \"xaxis\": \"x\", \"y\": [1.0], \"yaxis\": \"y\"}, {\"hovertemplate\": \"hashtag=sanclemente<br>date=%{x}<br>value=%{y}<extra></extra>\", \"legendgroup\": \"sanclemente\", \"line\": {\"color\": \"#19d3f3\", \"dash\": \"solid\"}, \"mode\": \"lines\", \"name\": \"sanclemente\", \"showlegend\": true, \"type\": \"scatter\", \"x\": [\"2020-04-09T00:00:00\"], \"xaxis\": \"x\", \"y\": [1.0], \"yaxis\": \"y\"}, {\"hovertemplate\": \"hashtag=santamarta<br>date=%{x}<br>value=%{y}<extra></extra>\", \"legendgroup\": \"santamarta\", \"line\": {\"color\": \"#FF6692\", \"dash\": \"solid\"}, \"mode\": \"lines\", \"name\": \"santamarta\", \"showlegend\": true, \"type\": \"scatter\", \"x\": [\"2020-04-16T00:00:00\"], \"xaxis\": \"x\", \"y\": [1.0], \"yaxis\": \"y\"}, {\"hovertemplate\": \"hashtag=santurban<br>date=%{x}<br>value=%{y}<extra></extra>\", \"legendgroup\": \"santurban\", \"line\": {\"color\": \"#B6E880\", \"dash\": \"solid\"}, \"mode\": \"lines\", \"name\": \"santurban\", \"showlegend\": true, \"type\": \"scatter\", \"x\": [\"2020-04-09T00:00:00\"], \"xaxis\": \"x\", \"y\": [1.0], \"yaxis\": \"y\"}, {\"hovertemplate\": \"hashtag=sarmiento<br>date=%{x}<br>value=%{y}<extra></extra>\", \"legendgroup\": \"sarmiento\", \"line\": {\"color\": \"#FF97FF\", \"dash\": \"solid\"}, \"mode\": \"lines\", \"name\": \"sarmiento\", \"showlegend\": true, \"type\": \"scatter\", \"x\": [\"2020-04-09T00:00:00\"], \"xaxis\": \"x\", \"y\": [1.0], \"yaxis\": \"y\"}, {\"hovertemplate\": \"hashtag=sarscov2<br>date=%{x}<br>value=%{y}<extra></extra>\", \"legendgroup\": \"sarscov2\", \"line\": {\"color\": \"#FECB52\", \"dash\": \"solid\"}, \"mode\": \"lines\", \"name\": \"sarscov2\", \"showlegend\": true, \"type\": \"scatter\", \"x\": [\"2020-04-10T00:00:00\"], \"xaxis\": \"x\", \"y\": [1.0], \"yaxis\": \"y\"}, {\"hovertemplate\": \"hashtag=seguridadalimentaria<br>date=%{x}<br>value=%{y}<extra></extra>\", \"legendgroup\": \"seguridadalimentaria\", \"line\": {\"color\": \"#636efa\", \"dash\": \"solid\"}, \"mode\": \"lines\", \"name\": \"seguridadalimentaria\", \"showlegend\": true, \"type\": \"scatter\", \"x\": [\"2020-04-07T00:00:00\"], \"xaxis\": \"x\", \"y\": [1.0], \"yaxis\": \"y\"}, {\"hovertemplate\": \"hashtag=seloexplicoconplastilina<br>date=%{x}<br>value=%{y}<extra></extra>\", \"legendgroup\": \"seloexplicoconplastilina\", \"line\": {\"color\": \"#EF553B\", \"dash\": \"solid\"}, \"mode\": \"lines\", \"name\": \"seloexplicoconplastilina\", \"showlegend\": true, \"type\": \"scatter\", \"x\": [\"2020-04-12T00:00:00\", \"2020-04-13T00:00:00\"], \"xaxis\": \"x\", \"y\": [1.0, 5.0], \"yaxis\": \"y\"}, {\"hovertemplate\": \"hashtag=semananoticias<br>date=%{x}<br>value=%{y}<extra></extra>\", \"legendgroup\": \"semananoticias\", \"line\": {\"color\": \"#00cc96\", \"dash\": \"solid\"}, \"mode\": \"lines\", \"name\": \"semananoticias\", \"showlegend\": true, \"type\": \"scatter\", \"x\": [\"2020-04-06T00:00:00\", \"2020-04-07T00:00:00\", \"2020-04-08T00:00:00\", \"2020-04-09T00:00:00\", \"2020-04-10T00:00:00\", \"2020-04-22T00:00:00\", \"2020-04-25T00:00:00\"], \"xaxis\": \"x\", \"y\": [8.0, 15.0, 20.0, 74.0, 14.0, 1.0, 1.0], \"yaxis\": \"y\"}, {\"hovertemplate\": \"hashtag=sepasanestoshdpts<br>date=%{x}<br>value=%{y}<extra></extra>\", \"legendgroup\": \"sepasanestoshdpts\", \"line\": {\"color\": \"#ab63fa\", \"dash\": \"solid\"}, \"mode\": \"lines\", \"name\": \"sepasanestoshdpts\", \"showlegend\": true, \"type\": \"scatter\", \"x\": [\"2020-04-09T00:00:00\"], \"xaxis\": \"x\", \"y\": [1.0], \"yaxis\": \"y\"}, {\"hovertemplate\": \"hashtag=sesentiraorgullosasumadre<br>date=%{x}<br>value=%{y}<extra></extra>\", \"legendgroup\": \"sesentiraorgullosasumadre\", \"line\": {\"color\": \"#FFA15A\", \"dash\": \"solid\"}, \"mode\": \"lines\", \"name\": \"sesentiraorgullosasumadre\", \"showlegend\": true, \"type\": \"scatter\", \"x\": [\"2020-04-10T00:00:00\"], \"xaxis\": \"x\", \"y\": [1.0], \"yaxis\": \"y\"}, {\"hovertemplate\": \"hashtag=showcaracol<br>date=%{x}<br>value=%{y}<extra></extra>\", \"legendgroup\": \"showcaracol\", \"line\": {\"color\": \"#19d3f3\", \"dash\": \"solid\"}, \"mode\": \"lines\", \"name\": \"showcaracol\", \"showlegend\": true, \"type\": \"scatter\", \"x\": [\"2020-04-08T00:00:00\", \"2020-04-09T00:00:00\", \"2020-04-10T00:00:00\"], \"xaxis\": \"x\", \"y\": [2.0, 1.0, 1.0], \"yaxis\": \"y\"}, {\"hovertemplate\": \"hashtag=siemprehayuntrino<br>date=%{x}<br>value=%{y}<extra></extra>\", \"legendgroup\": \"siemprehayuntrino\", \"line\": {\"color\": \"#FF6692\", \"dash\": \"solid\"}, \"mode\": \"lines\", \"name\": \"siemprehayuntrino\", \"showlegend\": true, \"type\": \"scatter\", \"x\": [\"2020-04-22T00:00:00\"], \"xaxis\": \"x\", \"y\": [1.0], \"yaxis\": \"y\"}, {\"hovertemplate\": \"hashtag=sigamonoslosbuenos2020<br>date=%{x}<br>value=%{y}<extra></extra>\", \"legendgroup\": \"sigamonoslosbuenos2020\", \"line\": {\"color\": \"#B6E880\", \"dash\": \"solid\"}, \"mode\": \"lines\", \"name\": \"sigamonoslosbuenos2020\", \"showlegend\": true, \"type\": \"scatter\", \"x\": [\"2020-04-09T00:00:00\"], \"xaxis\": \"x\", \"y\": [2.0], \"yaxis\": \"y\"}, {\"hovertemplate\": \"hashtag=signopesos<br>date=%{x}<br>value=%{y}<extra></extra>\", \"legendgroup\": \"signopesos\", \"line\": {\"color\": \"#FF97FF\", \"dash\": \"solid\"}, \"mode\": \"lines\", \"name\": \"signopesos\", \"showlegend\": true, \"type\": \"scatter\", \"x\": [\"2020-04-07T00:00:00\"], \"xaxis\": \"x\", \"y\": [1.0], \"yaxis\": \"y\"}, {\"hovertemplate\": \"hashtag=sinetica<br>date=%{x}<br>value=%{y}<extra></extra>\", \"legendgroup\": \"sinetica\", \"line\": {\"color\": \"#FECB52\", \"dash\": \"solid\"}, \"mode\": \"lines\", \"name\": \"sinetica\", \"showlegend\": true, \"type\": \"scatter\", \"x\": [\"2020-04-09T00:00:00\"], \"xaxis\": \"x\", \"y\": [1.0], \"yaxis\": \"y\"}, {\"hovertemplate\": \"hashtag=sisas<br>date=%{x}<br>value=%{y}<extra></extra>\", \"legendgroup\": \"sisas\", \"line\": {\"color\": \"#636efa\", \"dash\": \"solid\"}, \"mode\": \"lines\", \"name\": \"sisas\", \"showlegend\": true, \"type\": \"scatter\", \"x\": [\"2020-04-09T00:00:00\"], \"xaxis\": \"x\", \"y\": [1.0], \"yaxis\": \"y\"}, {\"hovertemplate\": \"hashtag=sisben<br>date=%{x}<br>value=%{y}<extra></extra>\", \"legendgroup\": \"sisben\", \"line\": {\"color\": \"#EF553B\", \"dash\": \"solid\"}, \"mode\": \"lines\", \"name\": \"sisben\", \"showlegend\": true, \"type\": \"scatter\", \"x\": [\"2020-04-09T00:00:00\"], \"xaxis\": \"x\", \"y\": [2.0], \"yaxis\": \"y\"}, {\"hovertemplate\": \"hashtag=sisb\\u00e9ncuatrounaestafa<br>date=%{x}<br>value=%{y}<extra></extra>\", \"legendgroup\": \"sisb\\u00e9ncuatrounaestafa\", \"line\": {\"color\": \"#00cc96\", \"dash\": \"solid\"}, \"mode\": \"lines\", \"name\": \"sisb\\u00e9ncuatrounaestafa\", \"showlegend\": true, \"type\": \"scatter\", \"x\": [\"2020-04-09T00:00:00\"], \"xaxis\": \"x\", \"y\": [1.0], \"yaxis\": \"y\"}, {\"hovertemplate\": \"hashtag=smallactions_bigchanges<br>date=%{x}<br>value=%{y}<extra></extra>\", \"legendgroup\": \"smallactions_bigchanges\", \"line\": {\"color\": \"#ab63fa\", \"dash\": \"solid\"}, \"mode\": \"lines\", \"name\": \"smallactions_bigchanges\", \"showlegend\": true, \"type\": \"scatter\", \"x\": [\"2020-04-25T00:00:00\"], \"xaxis\": \"x\", \"y\": [1.0], \"yaxis\": \"y\"}, {\"hovertemplate\": \"hashtag=smartclinic<br>date=%{x}<br>value=%{y}<extra></extra>\", \"legendgroup\": \"smartclinic\", \"line\": {\"color\": \"#FFA15A\", \"dash\": \"solid\"}, \"mode\": \"lines\", \"name\": \"smartclinic\", \"showlegend\": true, \"type\": \"scatter\", \"x\": [\"2020-04-22T00:00:00\", \"2020-04-23T00:00:00\"], \"xaxis\": \"x\", \"y\": [3.0, 1.0], \"yaxis\": \"y\"}, {\"hovertemplate\": \"hashtag=sociedadhipocrita<br>date=%{x}<br>value=%{y}<extra></extra>\", \"legendgroup\": \"sociedadhipocrita\", \"line\": {\"color\": \"#19d3f3\", \"dash\": \"solid\"}, \"mode\": \"lines\", \"name\": \"sociedadhipocrita\", \"showlegend\": true, \"type\": \"scatter\", \"x\": [\"2020-04-09T00:00:00\"], \"xaxis\": \"x\", \"y\": [1.0], \"yaxis\": \"y\"}, {\"hovertemplate\": \"hashtag=solidaridad<br>date=%{x}<br>value=%{y}<extra></extra>\", \"legendgroup\": \"solidaridad\", \"line\": {\"color\": \"#FF6692\", \"dash\": \"solid\"}, \"mode\": \"lines\", \"name\": \"solidaridad\", \"showlegend\": true, \"type\": \"scatter\", \"x\": [\"2020-04-23T00:00:00\"], \"xaxis\": \"x\", \"y\": [1.0], \"yaxis\": \"y\"}, {\"hovertemplate\": \"hashtag=somosunosomostodos<br>date=%{x}<br>value=%{y}<extra></extra>\", \"legendgroup\": \"somosunosomostodos\", \"line\": {\"color\": \"#B6E880\", \"dash\": \"solid\"}, \"mode\": \"lines\", \"name\": \"somosunosomostodos\", \"showlegend\": true, \"type\": \"scatter\", \"x\": [\"2020-04-23T00:00:00\"], \"xaxis\": \"x\", \"y\": [1.0], \"yaxis\": \"y\"}, {\"hovertemplate\": \"hashtag=sorpresa<br>date=%{x}<br>value=%{y}<extra></extra>\", \"legendgroup\": \"sorpresa\", \"line\": {\"color\": \"#FF97FF\", \"dash\": \"solid\"}, \"mode\": \"lines\", \"name\": \"sorpresa\", \"showlegend\": true, \"type\": \"scatter\", \"x\": [\"2020-04-09T00:00:00\"], \"xaxis\": \"x\", \"y\": [1.0], \"yaxis\": \"y\"}, {\"hovertemplate\": \"hashtag=sosinternosuis<br>date=%{x}<br>value=%{y}<extra></extra>\", \"legendgroup\": \"sosinternosuis\", \"line\": {\"color\": \"#FECB52\", \"dash\": \"solid\"}, \"mode\": \"lines\", \"name\": \"sosinternosuis\", \"showlegend\": true, \"type\": \"scatter\", \"x\": [\"2020-04-10T00:00:00\"], \"xaxis\": \"x\", \"y\": [1.0], \"yaxis\": \"y\"}, {\"hovertemplate\": \"hashtag=sosnecesitamosviajar<br>date=%{x}<br>value=%{y}<extra></extra>\", \"legendgroup\": \"sosnecesitamosviajar\", \"line\": {\"color\": \"#636efa\", \"dash\": \"solid\"}, \"mode\": \"lines\", \"name\": \"sosnecesitamosviajar\", \"showlegend\": true, \"type\": \"scatter\", \"x\": [\"2020-04-23T00:00:00\"], \"xaxis\": \"x\", \"y\": [4.0], \"yaxis\": \"y\"}, {\"hovertemplate\": \"hashtag=soyyomismatodoeltiempo<br>date=%{x}<br>value=%{y}<extra></extra>\", \"legendgroup\": \"soyyomismatodoeltiempo\", \"line\": {\"color\": \"#EF553B\", \"dash\": \"solid\"}, \"mode\": \"lines\", \"name\": \"soyyomismatodoeltiempo\", \"showlegend\": true, \"type\": \"scatter\", \"x\": [\"2020-04-07T00:00:00\"], \"xaxis\": \"x\", \"y\": [1.0], \"yaxis\": \"y\"}, {\"hovertemplate\": \"hashtag=subpresidente<br>date=%{x}<br>value=%{y}<extra></extra>\", \"legendgroup\": \"subpresidente\", \"line\": {\"color\": \"#00cc96\", \"dash\": \"solid\"}, \"mode\": \"lines\", \"name\": \"subpresidente\", \"showlegend\": true, \"type\": \"scatter\", \"x\": [\"2020-04-10T00:00:00\"], \"xaxis\": \"x\", \"y\": [1.0], \"yaxis\": \"y\"}, {\"hovertemplate\": \"hashtag=subsidiosolidario<br>date=%{x}<br>value=%{y}<extra></extra>\", \"legendgroup\": \"subsidiosolidario\", \"line\": {\"color\": \"#ab63fa\", \"dash\": \"solid\"}, \"mode\": \"lines\", \"name\": \"subsidiosolidario\", \"showlegend\": true, \"type\": \"scatter\", \"x\": [\"2020-04-09T00:00:00\"], \"xaxis\": \"x\", \"y\": [2.0], \"yaxis\": \"y\"}, {\"hovertemplate\": \"hashtag=sueconom\\u00eda<br>date=%{x}<br>value=%{y}<extra></extra>\", \"legendgroup\": \"sueconom\\u00eda\", \"line\": {\"color\": \"#FFA15A\", \"dash\": \"solid\"}, \"mode\": \"lines\", \"name\": \"sueconom\\u00eda\", \"showlegend\": true, \"type\": \"scatter\", \"x\": [\"2020-04-06T00:00:00\"], \"xaxis\": \"x\", \"y\": [1.0], \"yaxis\": \"y\"}, {\"hovertemplate\": \"hashtag=sueltenagaravito<br>date=%{x}<br>value=%{y}<extra></extra>\", \"legendgroup\": \"sueltenagaravito\", \"line\": {\"color\": \"#19d3f3\", \"dash\": \"solid\"}, \"mode\": \"lines\", \"name\": \"sueltenagaravito\", \"showlegend\": true, \"type\": \"scatter\", \"x\": [\"2020-04-10T00:00:00\"], \"xaxis\": \"x\", \"y\": [1.0], \"yaxis\": \"y\"}, {\"hovertemplate\": \"hashtag=sumamoscontigo<br>date=%{x}<br>value=%{y}<extra></extra>\", \"legendgroup\": \"sumamoscontigo\", \"line\": {\"color\": \"#FF6692\", \"dash\": \"solid\"}, \"mode\": \"lines\", \"name\": \"sumamoscontigo\", \"showlegend\": true, \"type\": \"scatter\", \"x\": [\"2020-04-21T00:00:00\", \"2020-04-24T00:00:00\"], \"xaxis\": \"x\", \"y\": [1.0, 1.0], \"yaxis\": \"y\"}, {\"hovertemplate\": \"hashtag=superfinanciera<br>date=%{x}<br>value=%{y}<extra></extra>\", \"legendgroup\": \"superfinanciera\", \"line\": {\"color\": \"#B6E880\", \"dash\": \"solid\"}, \"mode\": \"lines\", \"name\": \"superfinanciera\", \"showlegend\": true, \"type\": \"scatter\", \"x\": [\"2020-04-09T00:00:00\"], \"xaxis\": \"x\", \"y\": [2.0], \"yaxis\": \"y\"}, {\"hovertemplate\": \"hashtag=superluna<br>date=%{x}<br>value=%{y}<extra></extra>\", \"legendgroup\": \"superluna\", \"line\": {\"color\": \"#FF97FF\", \"dash\": \"solid\"}, \"mode\": \"lines\", \"name\": \"superluna\", \"showlegend\": true, \"type\": \"scatter\", \"x\": [\"2020-04-08T00:00:00\"], \"xaxis\": \"x\", \"y\": [1.0], \"yaxis\": \"y\"}, {\"hovertemplate\": \"hashtag=s\\u00famatejugando<br>date=%{x}<br>value=%{y}<extra></extra>\", \"legendgroup\": \"s\\u00famatejugando\", \"line\": {\"color\": \"#FECB52\", \"dash\": \"solid\"}, \"mode\": \"lines\", \"name\": \"s\\u00famatejugando\", \"showlegend\": true, \"type\": \"scatter\", \"x\": [\"2020-04-10T00:00:00\"], \"xaxis\": \"x\", \"y\": [2.0], \"yaxis\": \"y\"}, {\"hovertemplate\": \"hashtag=tel<br>date=%{x}<br>value=%{y}<extra></extra>\", \"legendgroup\": \"tel\", \"line\": {\"color\": \"#636efa\", \"dash\": \"solid\"}, \"mode\": \"lines\", \"name\": \"tel\", \"showlegend\": true, \"type\": \"scatter\", \"x\": [\"2020-04-08T00:00:00\"], \"xaxis\": \"x\", \"y\": [1.0], \"yaxis\": \"y\"}, {\"hovertemplate\": \"hashtag=teletonencorrupcion<br>date=%{x}<br>value=%{y}<extra></extra>\", \"legendgroup\": \"teletonencorrupcion\", \"line\": {\"color\": \"#EF553B\", \"dash\": \"solid\"}, \"mode\": \"lines\", \"name\": \"teletonencorrupcion\", \"showlegend\": true, \"type\": \"scatter\", \"x\": [\"2020-04-09T00:00:00\"], \"xaxis\": \"x\", \"y\": [1.0], \"yaxis\": \"y\"}, {\"hovertemplate\": \"hashtag=telet\\u00f3npormedell\\u00edn<br>date=%{x}<br>value=%{y}<extra></extra>\", \"legendgroup\": \"telet\\u00f3npormedell\\u00edn\", \"line\": {\"color\": \"#00cc96\", \"dash\": \"solid\"}, \"mode\": \"lines\", \"name\": \"telet\\u00f3npormedell\\u00edn\", \"showlegend\": true, \"type\": \"scatter\", \"x\": [\"2020-04-09T00:00:00\"], \"xaxis\": \"x\", \"y\": [2.0], \"yaxis\": \"y\"}, {\"hovertemplate\": \"hashtag=temadeld\\u00eda<br>date=%{x}<br>value=%{y}<extra></extra>\", \"legendgroup\": \"temadeld\\u00eda\", \"line\": {\"color\": \"#ab63fa\", \"dash\": \"solid\"}, \"mode\": \"lines\", \"name\": \"temadeld\\u00eda\", \"showlegend\": true, \"type\": \"scatter\", \"x\": [\"2020-04-07T00:00:00\"], \"xaxis\": \"x\", \"y\": [1.0], \"yaxis\": \"y\"}, {\"hovertemplate\": \"hashtag=tiaenojada<br>date=%{x}<br>value=%{y}<extra></extra>\", \"legendgroup\": \"tiaenojada\", \"line\": {\"color\": \"#FFA15A\", \"dash\": \"solid\"}, \"mode\": \"lines\", \"name\": \"tiaenojada\", \"showlegend\": true, \"type\": \"scatter\", \"x\": [\"2020-04-09T00:00:00\"], \"xaxis\": \"x\", \"y\": [1.0], \"yaxis\": \"y\"}, {\"hovertemplate\": \"hashtag=tibiovirus<br>date=%{x}<br>value=%{y}<extra></extra>\", \"legendgroup\": \"tibiovirus\", \"line\": {\"color\": \"#19d3f3\", \"dash\": \"solid\"}, \"mode\": \"lines\", \"name\": \"tibiovirus\", \"showlegend\": true, \"type\": \"scatter\", \"x\": [\"2020-04-25T00:00:00\"], \"xaxis\": \"x\", \"y\": [1.0], \"yaxis\": \"y\"}, {\"hovertemplate\": \"hashtag=tiendavirtual<br>date=%{x}<br>value=%{y}<extra></extra>\", \"legendgroup\": \"tiendavirtual\", \"line\": {\"color\": \"#FF6692\", \"dash\": \"solid\"}, \"mode\": \"lines\", \"name\": \"tiendavirtual\", \"showlegend\": true, \"type\": \"scatter\", \"x\": [\"2020-04-23T00:00:00\"], \"xaxis\": \"x\", \"y\": [1.0], \"yaxis\": \"y\"}, {\"hovertemplate\": \"hashtag=topblu<br>date=%{x}<br>value=%{y}<extra></extra>\", \"legendgroup\": \"topblu\", \"line\": {\"color\": \"#B6E880\", \"dash\": \"solid\"}, \"mode\": \"lines\", \"name\": \"topblu\", \"showlegend\": true, \"type\": \"scatter\", \"x\": [\"2020-04-08T00:00:00\", \"2020-04-09T00:00:00\", \"2020-04-10T00:00:00\"], \"xaxis\": \"x\", \"y\": [7.0, 40.0, 19.0], \"yaxis\": \"y\"}, {\"hovertemplate\": \"hashtag=transmi<br>date=%{x}<br>value=%{y}<extra></extra>\", \"legendgroup\": \"transmi\", \"line\": {\"color\": \"#FF97FF\", \"dash\": \"solid\"}, \"mode\": \"lines\", \"name\": \"transmi\", \"showlegend\": true, \"type\": \"scatter\", \"x\": [\"2020-04-24T00:00:00\"], \"xaxis\": \"x\", \"y\": [1.0], \"yaxis\": \"y\"}, {\"hovertemplate\": \"hashtag=trumpinepto<br>date=%{x}<br>value=%{y}<extra></extra>\", \"legendgroup\": \"trumpinepto\", \"line\": {\"color\": \"#FECB52\", \"dash\": \"solid\"}, \"mode\": \"lines\", \"name\": \"trumpinepto\", \"showlegend\": true, \"type\": \"scatter\", \"x\": [\"2020-04-25T00:00:00\"], \"xaxis\": \"x\", \"y\": [1.0], \"yaxis\": \"y\"}, {\"hovertemplate\": \"hashtag=ultimahora<br>date=%{x}<br>value=%{y}<extra></extra>\", \"legendgroup\": \"ultimahora\", \"line\": {\"color\": \"#636efa\", \"dash\": \"solid\"}, \"mode\": \"lines\", \"name\": \"ultimahora\", \"showlegend\": true, \"type\": \"scatter\", \"x\": [\"2020-04-09T00:00:00\", \"2020-04-10T00:00:00\", \"2020-04-16T00:00:00\", \"2020-04-23T00:00:00\"], \"xaxis\": \"x\", \"y\": [1.0, 1.0, 1.0, 1.0], \"yaxis\": \"y\"}, {\"hovertemplate\": \"hashtag=un2x3<br>date=%{x}<br>value=%{y}<extra></extra>\", \"legendgroup\": \"un2x3\", \"line\": {\"color\": \"#EF553B\", \"dash\": \"solid\"}, \"mode\": \"lines\", \"name\": \"un2x3\", \"showlegend\": true, \"type\": \"scatter\", \"x\": [\"2020-04-08T00:00:00\"], \"xaxis\": \"x\", \"y\": [1.0], \"yaxis\": \"y\"}, {\"hovertemplate\": \"hashtag=unansealparchedeamor<br>date=%{x}<br>value=%{y}<extra></extra>\", \"legendgroup\": \"unansealparchedeamor\", \"line\": {\"color\": \"#00cc96\", \"dash\": \"solid\"}, \"mode\": \"lines\", \"name\": \"unansealparchedeamor\", \"showlegend\": true, \"type\": \"scatter\", \"x\": [\"2020-04-08T00:00:00\"], \"xaxis\": \"x\", \"y\": [1.0], \"yaxis\": \"y\"}, {\"hovertemplate\": \"hashtag=unaplausoparanuestrosheroes<br>date=%{x}<br>value=%{y}<extra></extra>\", \"legendgroup\": \"unaplausoparanuestrosheroes\", \"line\": {\"color\": \"#ab63fa\", \"dash\": \"solid\"}, \"mode\": \"lines\", \"name\": \"unaplausoparanuestrosheroes\", \"showlegend\": true, \"type\": \"scatter\", \"x\": [\"2020-04-07T00:00:00\"], \"xaxis\": \"x\", \"y\": [1.0], \"yaxis\": \"y\"}, {\"hovertemplate\": \"hashtag=unasolafuerza<br>date=%{x}<br>value=%{y}<extra></extra>\", \"legendgroup\": \"unasolafuerza\", \"line\": {\"color\": \"#FFA15A\", \"dash\": \"solid\"}, \"mode\": \"lines\", \"name\": \"unasolafuerza\", \"showlegend\": true, \"type\": \"scatter\", \"x\": [\"2020-04-14T00:00:00\"], \"xaxis\": \"x\", \"y\": [1.0], \"yaxis\": \"y\"}, {\"hovertemplate\": \"hashtag=unbelievable<br>date=%{x}<br>value=%{y}<extra></extra>\", \"legendgroup\": \"unbelievable\", \"line\": {\"color\": \"#19d3f3\", \"dash\": \"solid\"}, \"mode\": \"lines\", \"name\": \"unbelievable\", \"showlegend\": true, \"type\": \"scatter\", \"x\": [\"2020-04-25T00:00:00\"], \"xaxis\": \"x\", \"y\": [1.0], \"yaxis\": \"y\"}, {\"hovertemplate\": \"hashtag=unidosencasa<br>date=%{x}<br>value=%{y}<extra></extra>\", \"legendgroup\": \"unidosencasa\", \"line\": {\"color\": \"#FF6692\", \"dash\": \"solid\"}, \"mode\": \"lines\", \"name\": \"unidosencasa\", \"showlegend\": true, \"type\": \"scatter\", \"x\": [\"2020-04-08T00:00:00\"], \"xaxis\": \"x\", \"y\": [1.0], \"yaxis\": \"y\"}, {\"hovertemplate\": \"hashtag=urgente<br>date=%{x}<br>value=%{y}<extra></extra>\", \"legendgroup\": \"urgente\", \"line\": {\"color\": \"#B6E880\", \"dash\": \"solid\"}, \"mode\": \"lines\", \"name\": \"urgente\", \"showlegend\": true, \"type\": \"scatter\", \"x\": [\"2020-04-06T00:00:00\", \"2020-04-07T00:00:00\", \"2020-04-08T00:00:00\", \"2020-04-09T00:00:00\", \"2020-04-25T00:00:00\"], \"xaxis\": \"x\", \"y\": [1.0, 1.0, 1.0, 2.0, 2.0], \"yaxis\": \"y\"}, {\"hovertemplate\": \"hashtag=uribeesejemplo<br>date=%{x}<br>value=%{y}<extra></extra>\", \"legendgroup\": \"uribeesejemplo\", \"line\": {\"color\": \"#FF97FF\", \"dash\": \"solid\"}, \"mode\": \"lines\", \"name\": \"uribeesejemplo\", \"showlegend\": true, \"type\": \"scatter\", \"x\": [\"2020-04-10T00:00:00\"], \"xaxis\": \"x\", \"y\": [1.0], \"yaxis\": \"y\"}, {\"hovertemplate\": \"hashtag=uribeespandemia<br>date=%{x}<br>value=%{y}<extra></extra>\", \"legendgroup\": \"uribeespandemia\", \"line\": {\"color\": \"#FECB52\", \"dash\": \"solid\"}, \"mode\": \"lines\", \"name\": \"uribeespandemia\", \"showlegend\": true, \"type\": \"scatter\", \"x\": [\"2020-04-10T00:00:00\"], \"xaxis\": \"x\", \"y\": [1.0], \"yaxis\": \"y\"}, {\"hovertemplate\": \"hashtag=uribeparacu\\u00e1ndo<br>date=%{x}<br>value=%{y}<extra></extra>\", \"legendgroup\": \"uribeparacu\\u00e1ndo\", \"line\": {\"color\": \"#636efa\", \"dash\": \"solid\"}, \"mode\": \"lines\", \"name\": \"uribeparacu\\u00e1ndo\", \"showlegend\": true, \"type\": \"scatter\", \"x\": [\"2020-04-10T00:00:00\"], \"xaxis\": \"x\", \"y\": [1.0], \"yaxis\": \"y\"}, {\"hovertemplate\": \"hashtag=vac\\u00fanate<br>date=%{x}<br>value=%{y}<extra></extra>\", \"legendgroup\": \"vac\\u00fanate\", \"line\": {\"color\": \"#EF553B\", \"dash\": \"solid\"}, \"mode\": \"lines\", \"name\": \"vac\\u00fanate\", \"showlegend\": true, \"type\": \"scatter\", \"x\": [\"2020-04-24T00:00:00\"], \"xaxis\": \"x\", \"y\": [1.0], \"yaxis\": \"y\"}, {\"hovertemplate\": \"hashtag=valledelcauca<br>date=%{x}<br>value=%{y}<extra></extra>\", \"legendgroup\": \"valledelcauca\", \"line\": {\"color\": \"#00cc96\", \"dash\": \"solid\"}, \"mode\": \"lines\", \"name\": \"valledelcauca\", \"showlegend\": true, \"type\": \"scatter\", \"x\": [\"2020-04-07T00:00:00\"], \"xaxis\": \"x\", \"y\": [1.0], \"yaxis\": \"y\"}, {\"hovertemplate\": \"hashtag=vamoscolombia<br>date=%{x}<br>value=%{y}<extra></extra>\", \"legendgroup\": \"vamoscolombia\", \"line\": {\"color\": \"#ab63fa\", \"dash\": \"solid\"}, \"mode\": \"lines\", \"name\": \"vamoscolombia\", \"showlegend\": true, \"type\": \"scatter\", \"x\": [\"2020-04-10T00:00:00\"], \"xaxis\": \"x\", \"y\": [1.0], \"yaxis\": \"y\"}, {\"hovertemplate\": \"hashtag=venezuela<br>date=%{x}<br>value=%{y}<extra></extra>\", \"legendgroup\": \"venezuela\", \"line\": {\"color\": \"#FFA15A\", \"dash\": \"solid\"}, \"mode\": \"lines\", \"name\": \"venezuela\", \"showlegend\": true, \"type\": \"scatter\", \"x\": [\"2020-04-09T00:00:00\", \"2020-04-10T00:00:00\"], \"xaxis\": \"x\", \"y\": [2.0, 1.0], \"yaxis\": \"y\"}, {\"hovertemplate\": \"hashtag=verguenzanacional<br>date=%{x}<br>value=%{y}<extra></extra>\", \"legendgroup\": \"verguenzanacional\", \"line\": {\"color\": \"#19d3f3\", \"dash\": \"solid\"}, \"mode\": \"lines\", \"name\": \"verguenzanacional\", \"showlegend\": true, \"type\": \"scatter\", \"x\": [\"2020-04-10T00:00:00\"], \"xaxis\": \"x\", \"y\": [1.0], \"yaxis\": \"y\"}, {\"hovertemplate\": \"hashtag=vicesalud<br>date=%{x}<br>value=%{y}<extra></extra>\", \"legendgroup\": \"vicesalud\", \"line\": {\"color\": \"#FF6692\", \"dash\": \"solid\"}, \"mode\": \"lines\", \"name\": \"vicesalud\", \"showlegend\": true, \"type\": \"scatter\", \"x\": [\"2020-04-01T00:00:00\", \"2020-04-03T00:00:00\", \"2020-04-06T00:00:00\", \"2020-04-09T00:00:00\"], \"xaxis\": \"x\", \"y\": [5.0, 1.0, 3.0, 7.0], \"yaxis\": \"y\"}, {\"hovertemplate\": \"hashtag=vichada<br>date=%{x}<br>value=%{y}<extra></extra>\", \"legendgroup\": \"vichada\", \"line\": {\"color\": \"#B6E880\", \"dash\": \"solid\"}, \"mode\": \"lines\", \"name\": \"vichada\", \"showlegend\": true, \"type\": \"scatter\", \"x\": [\"2020-04-12T00:00:00\"], \"xaxis\": \"x\", \"y\": [1.0], \"yaxis\": \"y\"}, {\"hovertemplate\": \"hashtag=vickyensemana<br>date=%{x}<br>value=%{y}<extra></extra>\", \"legendgroup\": \"vickyensemana\", \"line\": {\"color\": \"#FF97FF\", \"dash\": \"solid\"}, \"mode\": \"lines\", \"name\": \"vickyensemana\", \"showlegend\": true, \"type\": \"scatter\", \"x\": [\"2020-04-06T00:00:00\", \"2020-04-07T00:00:00\", \"2020-04-08T00:00:00\"], \"xaxis\": \"x\", \"y\": [1.0, 2.0, 2.0], \"yaxis\": \"y\"}, {\"hovertemplate\": \"hashtag=video<br>date=%{x}<br>value=%{y}<extra></extra>\", \"legendgroup\": \"video\", \"line\": {\"color\": \"#FECB52\", \"dash\": \"solid\"}, \"mode\": \"lines\", \"name\": \"video\", \"showlegend\": true, \"type\": \"scatter\", \"x\": [\"2020-04-07T00:00:00\", \"2020-04-08T00:00:00\", \"2020-04-09T00:00:00\", \"2020-04-25T00:00:00\"], \"xaxis\": \"x\", \"y\": [3.0, 8.0, 2.0, 1.0], \"yaxis\": \"y\"}, {\"hovertemplate\": \"hashtag=viernessanto<br>date=%{x}<br>value=%{y}<extra></extra>\", \"legendgroup\": \"viernessanto\", \"line\": {\"color\": \"#636efa\", \"dash\": \"solid\"}, \"mode\": \"lines\", \"name\": \"viernessanto\", \"showlegend\": true, \"type\": \"scatter\", \"x\": [\"2020-04-10T00:00:00\"], \"xaxis\": \"x\", \"y\": [2.0], \"yaxis\": \"y\"}, {\"hovertemplate\": \"hashtag=vivelavidaconintensidad<br>date=%{x}<br>value=%{y}<extra></extra>\", \"legendgroup\": \"vivelavidaconintensidad\", \"line\": {\"color\": \"#EF553B\", \"dash\": \"solid\"}, \"mode\": \"lines\", \"name\": \"vivelavidaconintensidad\", \"showlegend\": true, \"type\": \"scatter\", \"x\": [\"2020-04-25T00:00:00\"], \"xaxis\": \"x\", \"y\": [1.0], \"yaxis\": \"y\"}, {\"hovertemplate\": \"hashtag=vocesysonidos<br>date=%{x}<br>value=%{y}<extra></extra>\", \"legendgroup\": \"vocesysonidos\", \"line\": {\"color\": \"#00cc96\", \"dash\": \"solid\"}, \"mode\": \"lines\", \"name\": \"vocesysonidos\", \"showlegend\": true, \"type\": \"scatter\", \"x\": [\"2020-04-08T00:00:00\", \"2020-04-09T00:00:00\", \"2020-04-10T00:00:00\", \"2020-04-25T00:00:00\"], \"xaxis\": \"x\", \"y\": [72.0, 90.0, 5.0, 8.0], \"yaxis\": \"y\"}, {\"hovertemplate\": \"hashtag=wilfridovargas<br>date=%{x}<br>value=%{y}<extra></extra>\", \"legendgroup\": \"wilfridovargas\", \"line\": {\"color\": \"#ab63fa\", \"dash\": \"solid\"}, \"mode\": \"lines\", \"name\": \"wilfridovargas\", \"showlegend\": true, \"type\": \"scatter\", \"x\": [\"2020-04-25T00:00:00\"], \"xaxis\": \"x\", \"y\": [1.0], \"yaxis\": \"y\"}, {\"hovertemplate\": \"hashtag=yoaplaudoalosni\\u00f1os<br>date=%{x}<br>value=%{y}<extra></extra>\", \"legendgroup\": \"yoaplaudoalosni\\u00f1os\", \"line\": {\"color\": \"#FFA15A\", \"dash\": \"solid\"}, \"mode\": \"lines\", \"name\": \"yoaplaudoalosni\\u00f1os\", \"showlegend\": true, \"type\": \"scatter\", \"x\": [\"2020-04-25T00:00:00\"], \"xaxis\": \"x\", \"y\": [3.0], \"yaxis\": \"y\"}, {\"hovertemplate\": \"hashtag=yoheaprendidoque<br>date=%{x}<br>value=%{y}<extra></extra>\", \"legendgroup\": \"yoheaprendidoque\", \"line\": {\"color\": \"#19d3f3\", \"dash\": \"solid\"}, \"mode\": \"lines\", \"name\": \"yoheaprendidoque\", \"showlegend\": true, \"type\": \"scatter\", \"x\": [\"2020-04-08T00:00:00\", \"2020-04-09T00:00:00\"], \"xaxis\": \"x\", \"y\": [18.0, 1.0], \"yaxis\": \"y\"}, {\"hovertemplate\": \"hashtag=yomecuidoyotecuido<br>date=%{x}<br>value=%{y}<extra></extra>\", \"legendgroup\": \"yomecuidoyotecuido\", \"line\": {\"color\": \"#FF6692\", \"dash\": \"solid\"}, \"mode\": \"lines\", \"name\": \"yomecuidoyotecuido\", \"showlegend\": true, \"type\": \"scatter\", \"x\": [\"2020-04-08T00:00:00\"], \"xaxis\": \"x\", \"y\": [1.0], \"yaxis\": \"y\"}, {\"hovertemplate\": \"hashtag=yomequedoencasa<br>date=%{x}<br>value=%{y}<extra></extra>\", \"legendgroup\": \"yomequedoencasa\", \"line\": {\"color\": \"#B6E880\", \"dash\": \"solid\"}, \"mode\": \"lines\", \"name\": \"yomequedoencasa\", \"showlegend\": true, \"type\": \"scatter\", \"x\": [\"2020-04-01T00:00:00\", \"2020-04-03T00:00:00\", \"2020-04-08T00:00:00\"], \"xaxis\": \"x\", \"y\": [2.0, 1.0, 1.0], \"yaxis\": \"y\"}, {\"hovertemplate\": \"hashtag=yomequedoenminegocio<br>date=%{x}<br>value=%{y}<extra></extra>\", \"legendgroup\": \"yomequedoenminegocio\", \"line\": {\"color\": \"#FF97FF\", \"dash\": \"solid\"}, \"mode\": \"lines\", \"name\": \"yomequedoenminegocio\", \"showlegend\": true, \"type\": \"scatter\", \"x\": [\"2020-04-19T00:00:00\"], \"xaxis\": \"x\", \"y\": [1.0], \"yaxis\": \"y\"}, {\"hovertemplate\": \"hashtag=yoquierocarcelparacorruptos<br>date=%{x}<br>value=%{y}<extra></extra>\", \"legendgroup\": \"yoquierocarcelparacorruptos\", \"line\": {\"color\": \"#FECB52\", \"dash\": \"solid\"}, \"mode\": \"lines\", \"name\": \"yoquierocarcelparacorruptos\", \"showlegend\": true, \"type\": \"scatter\", \"x\": [\"2020-04-09T00:00:00\"], \"xaxis\": \"x\", \"y\": [1.0], \"yaxis\": \"y\"}, {\"hovertemplate\": \"hashtag=yorespiropor<br>date=%{x}<br>value=%{y}<extra></extra>\", \"legendgroup\": \"yorespiropor\", \"line\": {\"color\": \"#636efa\", \"dash\": \"solid\"}, \"mode\": \"lines\", \"name\": \"yorespiropor\", \"showlegend\": true, \"type\": \"scatter\", \"x\": [\"2020-04-06T00:00:00\"], \"xaxis\": \"x\", \"y\": [1.0], \"yaxis\": \"y\"}, {\"hovertemplate\": \"hashtag=yotambi\\u00e9ndonomedell\\u00edn<br>date=%{x}<br>value=%{y}<extra></extra>\", \"legendgroup\": \"yotambi\\u00e9ndonomedell\\u00edn\", \"line\": {\"color\": \"#EF553B\", \"dash\": \"solid\"}, \"mode\": \"lines\", \"name\": \"yotambi\\u00e9ndonomedell\\u00edn\", \"showlegend\": true, \"type\": \"scatter\", \"x\": [\"2020-04-08T00:00:00\", \"2020-04-09T00:00:00\"], \"xaxis\": \"x\", \"y\": [2.0, 1.0], \"yaxis\": \"y\"}, {\"hovertemplate\": \"hashtag=yovoteadyqyeymearrepiento<br>date=%{x}<br>value=%{y}<extra></extra>\", \"legendgroup\": \"yovoteadyqyeymearrepiento\", \"line\": {\"color\": \"#00cc96\", \"dash\": \"solid\"}, \"mode\": \"lines\", \"name\": \"yovoteadyqyeymearrepiento\", \"showlegend\": true, \"type\": \"scatter\", \"x\": [\"2020-04-25T00:00:00\"], \"xaxis\": \"x\", \"y\": [1.0], \"yaxis\": \"y\"}, {\"hovertemplate\": \"hashtag=zoologicosantacruz<br>date=%{x}<br>value=%{y}<extra></extra>\", \"legendgroup\": \"zoologicosantacruz\", \"line\": {\"color\": \"#ab63fa\", \"dash\": \"solid\"}, \"mode\": \"lines\", \"name\": \"zoologicosantacruz\", \"showlegend\": true, \"type\": \"scatter\", \"x\": [\"2020-04-09T00:00:00\"], \"xaxis\": \"x\", \"y\": [1.0], \"yaxis\": \"y\"}, {\"hovertemplate\": \"hashtag=zool\\u00f3gicosantacruz<br>date=%{x}<br>value=%{y}<extra></extra>\", \"legendgroup\": \"zool\\u00f3gicosantacruz\", \"line\": {\"color\": \"#FFA15A\", \"dash\": \"solid\"}, \"mode\": \"lines\", \"name\": \"zool\\u00f3gicosantacruz\", \"showlegend\": true, \"type\": \"scatter\", \"x\": [\"2020-04-09T00:00:00\"], \"xaxis\": \"x\", \"y\": [1.0], \"yaxis\": \"y\"}, {\"hovertemplate\": \"hashtag=\\u00f1e\\u00f1e<br>date=%{x}<br>value=%{y}<extra></extra>\", \"legendgroup\": \"\\u00f1e\\u00f1e\", \"line\": {\"color\": \"#19d3f3\", \"dash\": \"solid\"}, \"mode\": \"lines\", \"name\": \"\\u00f1e\\u00f1e\", \"showlegend\": true, \"type\": \"scatter\", \"x\": [\"2020-04-10T00:00:00\"], \"xaxis\": \"x\", \"y\": [1.0], \"yaxis\": \"y\"}, {\"hovertemplate\": \"hashtag=\\u00f1e\\u00f1evirus<br>date=%{x}<br>value=%{y}<extra></extra>\", \"legendgroup\": \"\\u00f1e\\u00f1evirus\", \"line\": {\"color\": \"#FF6692\", \"dash\": \"solid\"}, \"mode\": \"lines\", \"name\": \"\\u00f1e\\u00f1evirus\", \"showlegend\": true, \"type\": \"scatter\", \"x\": [\"2020-04-09T00:00:00\"], \"xaxis\": \"x\", \"y\": [1.0], \"yaxis\": \"y\"}, {\"hovertemplate\": \"hashtag=\\u00faltimahora<br>date=%{x}<br>value=%{y}<extra></extra>\", \"legendgroup\": \"\\u00faltimahora\", \"line\": {\"color\": \"#B6E880\", \"dash\": \"solid\"}, \"mode\": \"lines\", \"name\": \"\\u00faltimahora\", \"showlegend\": true, \"type\": \"scatter\", \"x\": [\"2020-04-21T00:00:00\"], \"xaxis\": \"x\", \"y\": [1.0], \"yaxis\": \"y\"}, {\"hovertemplate\": \"hashtag=\\u00faltimahoracaracol<br>date=%{x}<br>value=%{y}<extra></extra>\", \"legendgroup\": \"\\u00faltimahoracaracol\", \"line\": {\"color\": \"#FF97FF\", \"dash\": \"solid\"}, \"mode\": \"lines\", \"name\": \"\\u00faltimahoracaracol\", \"showlegend\": true, \"type\": \"scatter\", \"x\": [\"2020-04-03T00:00:00\"], \"xaxis\": \"x\", \"y\": [1.0], \"yaxis\": \"y\"}],\n",
       "                        {\"legend\": {\"title\": {\"text\": \"hashtag\"}, \"tracegroupgap\": 0}, \"margin\": {\"t\": 60}, \"template\": {\"data\": {\"bar\": [{\"error_x\": {\"color\": \"#2a3f5f\"}, \"error_y\": {\"color\": \"#2a3f5f\"}, \"marker\": {\"line\": {\"color\": \"#E5ECF6\", \"width\": 0.5}}, \"type\": \"bar\"}], \"barpolar\": [{\"marker\": {\"line\": {\"color\": \"#E5ECF6\", \"width\": 0.5}}, \"type\": \"barpolar\"}], \"carpet\": [{\"aaxis\": {\"endlinecolor\": \"#2a3f5f\", \"gridcolor\": \"white\", \"linecolor\": \"white\", \"minorgridcolor\": \"white\", \"startlinecolor\": \"#2a3f5f\"}, \"baxis\": {\"endlinecolor\": \"#2a3f5f\", \"gridcolor\": \"white\", \"linecolor\": \"white\", \"minorgridcolor\": \"white\", \"startlinecolor\": \"#2a3f5f\"}, \"type\": \"carpet\"}], \"choropleth\": [{\"colorbar\": {\"outlinewidth\": 0, \"ticks\": \"\"}, \"type\": \"choropleth\"}], \"contour\": [{\"colorbar\": {\"outlinewidth\": 0, \"ticks\": \"\"}, \"colorscale\": [[0.0, \"#0d0887\"], [0.1111111111111111, \"#46039f\"], [0.2222222222222222, \"#7201a8\"], [0.3333333333333333, \"#9c179e\"], [0.4444444444444444, \"#bd3786\"], [0.5555555555555556, \"#d8576b\"], [0.6666666666666666, \"#ed7953\"], [0.7777777777777778, \"#fb9f3a\"], [0.8888888888888888, \"#fdca26\"], [1.0, \"#f0f921\"]], \"type\": \"contour\"}], \"contourcarpet\": [{\"colorbar\": {\"outlinewidth\": 0, \"ticks\": \"\"}, \"type\": \"contourcarpet\"}], \"heatmap\": [{\"colorbar\": {\"outlinewidth\": 0, \"ticks\": \"\"}, \"colorscale\": [[0.0, \"#0d0887\"], [0.1111111111111111, \"#46039f\"], [0.2222222222222222, \"#7201a8\"], [0.3333333333333333, \"#9c179e\"], [0.4444444444444444, \"#bd3786\"], [0.5555555555555556, \"#d8576b\"], [0.6666666666666666, \"#ed7953\"], [0.7777777777777778, \"#fb9f3a\"], [0.8888888888888888, \"#fdca26\"], [1.0, \"#f0f921\"]], \"type\": \"heatmap\"}], \"heatmapgl\": [{\"colorbar\": {\"outlinewidth\": 0, \"ticks\": \"\"}, \"colorscale\": [[0.0, \"#0d0887\"], [0.1111111111111111, \"#46039f\"], [0.2222222222222222, \"#7201a8\"], [0.3333333333333333, \"#9c179e\"], [0.4444444444444444, \"#bd3786\"], [0.5555555555555556, \"#d8576b\"], [0.6666666666666666, \"#ed7953\"], [0.7777777777777778, \"#fb9f3a\"], [0.8888888888888888, \"#fdca26\"], [1.0, \"#f0f921\"]], \"type\": \"heatmapgl\"}], \"histogram\": [{\"marker\": {\"colorbar\": {\"outlinewidth\": 0, \"ticks\": \"\"}}, \"type\": \"histogram\"}], \"histogram2d\": [{\"colorbar\": {\"outlinewidth\": 0, \"ticks\": \"\"}, \"colorscale\": [[0.0, \"#0d0887\"], [0.1111111111111111, \"#46039f\"], [0.2222222222222222, \"#7201a8\"], [0.3333333333333333, \"#9c179e\"], [0.4444444444444444, \"#bd3786\"], [0.5555555555555556, \"#d8576b\"], [0.6666666666666666, \"#ed7953\"], [0.7777777777777778, \"#fb9f3a\"], [0.8888888888888888, \"#fdca26\"], [1.0, \"#f0f921\"]], \"type\": \"histogram2d\"}], \"histogram2dcontour\": [{\"colorbar\": {\"outlinewidth\": 0, \"ticks\": \"\"}, \"colorscale\": [[0.0, \"#0d0887\"], [0.1111111111111111, \"#46039f\"], [0.2222222222222222, \"#7201a8\"], [0.3333333333333333, \"#9c179e\"], [0.4444444444444444, \"#bd3786\"], [0.5555555555555556, \"#d8576b\"], [0.6666666666666666, \"#ed7953\"], [0.7777777777777778, \"#fb9f3a\"], [0.8888888888888888, \"#fdca26\"], [1.0, \"#f0f921\"]], \"type\": \"histogram2dcontour\"}], \"mesh3d\": [{\"colorbar\": {\"outlinewidth\": 0, \"ticks\": \"\"}, \"type\": \"mesh3d\"}], \"parcoords\": [{\"line\": {\"colorbar\": {\"outlinewidth\": 0, \"ticks\": \"\"}}, \"type\": \"parcoords\"}], \"pie\": [{\"automargin\": true, \"type\": \"pie\"}], \"scatter\": [{\"marker\": {\"colorbar\": {\"outlinewidth\": 0, \"ticks\": \"\"}}, \"type\": \"scatter\"}], \"scatter3d\": [{\"line\": {\"colorbar\": {\"outlinewidth\": 0, \"ticks\": \"\"}}, \"marker\": {\"colorbar\": {\"outlinewidth\": 0, \"ticks\": \"\"}}, \"type\": \"scatter3d\"}], \"scattercarpet\": [{\"marker\": {\"colorbar\": {\"outlinewidth\": 0, \"ticks\": \"\"}}, \"type\": \"scattercarpet\"}], \"scattergeo\": [{\"marker\": {\"colorbar\": {\"outlinewidth\": 0, \"ticks\": \"\"}}, \"type\": \"scattergeo\"}], \"scattergl\": [{\"marker\": {\"colorbar\": {\"outlinewidth\": 0, \"ticks\": \"\"}}, \"type\": \"scattergl\"}], \"scattermapbox\": [{\"marker\": {\"colorbar\": {\"outlinewidth\": 0, \"ticks\": \"\"}}, \"type\": \"scattermapbox\"}], \"scatterpolar\": [{\"marker\": {\"colorbar\": {\"outlinewidth\": 0, \"ticks\": \"\"}}, \"type\": \"scatterpolar\"}], \"scatterpolargl\": [{\"marker\": {\"colorbar\": {\"outlinewidth\": 0, \"ticks\": \"\"}}, \"type\": \"scatterpolargl\"}], \"scatterternary\": [{\"marker\": {\"colorbar\": {\"outlinewidth\": 0, \"ticks\": \"\"}}, \"type\": \"scatterternary\"}], \"surface\": [{\"colorbar\": {\"outlinewidth\": 0, \"ticks\": \"\"}, \"colorscale\": [[0.0, \"#0d0887\"], [0.1111111111111111, \"#46039f\"], [0.2222222222222222, \"#7201a8\"], [0.3333333333333333, \"#9c179e\"], [0.4444444444444444, \"#bd3786\"], [0.5555555555555556, \"#d8576b\"], [0.6666666666666666, \"#ed7953\"], [0.7777777777777778, \"#fb9f3a\"], [0.8888888888888888, \"#fdca26\"], [1.0, \"#f0f921\"]], \"type\": \"surface\"}], \"table\": [{\"cells\": {\"fill\": {\"color\": \"#EBF0F8\"}, \"line\": {\"color\": \"white\"}}, \"header\": {\"fill\": {\"color\": \"#C8D4E3\"}, \"line\": {\"color\": \"white\"}}, \"type\": \"table\"}]}, \"layout\": {\"annotationdefaults\": {\"arrowcolor\": \"#2a3f5f\", \"arrowhead\": 0, \"arrowwidth\": 1}, \"coloraxis\": {\"colorbar\": {\"outlinewidth\": 0, \"ticks\": \"\"}}, \"colorscale\": {\"diverging\": [[0, \"#8e0152\"], [0.1, \"#c51b7d\"], [0.2, \"#de77ae\"], [0.3, \"#f1b6da\"], [0.4, \"#fde0ef\"], [0.5, \"#f7f7f7\"], [0.6, \"#e6f5d0\"], [0.7, \"#b8e186\"], [0.8, \"#7fbc41\"], [0.9, \"#4d9221\"], [1, \"#276419\"]], \"sequential\": [[0.0, \"#0d0887\"], [0.1111111111111111, \"#46039f\"], [0.2222222222222222, \"#7201a8\"], [0.3333333333333333, \"#9c179e\"], [0.4444444444444444, \"#bd3786\"], [0.5555555555555556, \"#d8576b\"], [0.6666666666666666, \"#ed7953\"], [0.7777777777777778, \"#fb9f3a\"], [0.8888888888888888, \"#fdca26\"], [1.0, \"#f0f921\"]], \"sequentialminus\": [[0.0, \"#0d0887\"], [0.1111111111111111, \"#46039f\"], [0.2222222222222222, \"#7201a8\"], [0.3333333333333333, \"#9c179e\"], [0.4444444444444444, \"#bd3786\"], [0.5555555555555556, \"#d8576b\"], [0.6666666666666666, \"#ed7953\"], [0.7777777777777778, \"#fb9f3a\"], [0.8888888888888888, \"#fdca26\"], [1.0, \"#f0f921\"]]}, \"colorway\": [\"#636efa\", \"#EF553B\", \"#00cc96\", \"#ab63fa\", \"#FFA15A\", \"#19d3f3\", \"#FF6692\", \"#B6E880\", \"#FF97FF\", \"#FECB52\"], \"font\": {\"color\": \"#2a3f5f\"}, \"geo\": {\"bgcolor\": \"white\", \"lakecolor\": \"white\", \"landcolor\": \"#E5ECF6\", \"showlakes\": true, \"showland\": true, \"subunitcolor\": \"white\"}, \"hoverlabel\": {\"align\": \"left\"}, \"hovermode\": \"closest\", \"mapbox\": {\"style\": \"light\"}, \"paper_bgcolor\": \"white\", \"plot_bgcolor\": \"#E5ECF6\", \"polar\": {\"angularaxis\": {\"gridcolor\": \"white\", \"linecolor\": \"white\", \"ticks\": \"\"}, \"bgcolor\": \"#E5ECF6\", \"radialaxis\": {\"gridcolor\": \"white\", \"linecolor\": \"white\", \"ticks\": \"\"}}, \"scene\": {\"xaxis\": {\"backgroundcolor\": \"#E5ECF6\", \"gridcolor\": \"white\", \"gridwidth\": 2, \"linecolor\": \"white\", \"showbackground\": true, \"ticks\": \"\", \"zerolinecolor\": \"white\"}, \"yaxis\": {\"backgroundcolor\": \"#E5ECF6\", \"gridcolor\": \"white\", \"gridwidth\": 2, \"linecolor\": \"white\", \"showbackground\": true, \"ticks\": \"\", \"zerolinecolor\": \"white\"}, \"zaxis\": {\"backgroundcolor\": \"#E5ECF6\", \"gridcolor\": \"white\", \"gridwidth\": 2, \"linecolor\": \"white\", \"showbackground\": true, \"ticks\": \"\", \"zerolinecolor\": \"white\"}}, \"shapedefaults\": {\"line\": {\"color\": \"#2a3f5f\"}}, \"ternary\": {\"aaxis\": {\"gridcolor\": \"white\", \"linecolor\": \"white\", \"ticks\": \"\"}, \"baxis\": {\"gridcolor\": \"white\", \"linecolor\": \"white\", \"ticks\": \"\"}, \"bgcolor\": \"#E5ECF6\", \"caxis\": {\"gridcolor\": \"white\", \"linecolor\": \"white\", \"ticks\": \"\"}}, \"title\": {\"x\": 0.05}, \"xaxis\": {\"automargin\": true, \"gridcolor\": \"white\", \"linecolor\": \"white\", \"ticks\": \"\", \"title\": {\"standoff\": 15}, \"zerolinecolor\": \"white\", \"zerolinewidth\": 2}, \"yaxis\": {\"automargin\": true, \"gridcolor\": \"white\", \"linecolor\": \"white\", \"ticks\": \"\", \"title\": {\"standoff\": 15}, \"zerolinecolor\": \"white\", \"zerolinewidth\": 2}}}, \"xaxis\": {\"anchor\": \"y\", \"domain\": [0.0, 1.0], \"title\": {\"text\": \"date\"}}, \"yaxis\": {\"anchor\": \"x\", \"domain\": [0.0, 1.0], \"title\": {\"text\": \"value\"}}},\n",
       "                        {\"responsive\": true}\n",
       "                    ).then(function(){\n",
       "                            \n",
       "var gd = document.getElementById('ee79bf29-dcbe-4718-9309-32099484277f');\n",
       "var x = new MutationObserver(function (mutations, observer) {{\n",
       "        var display = window.getComputedStyle(gd).display;\n",
       "        if (!display || display === 'none') {{\n",
       "            console.log([gd, 'removed!']);\n",
       "            Plotly.purge(gd);\n",
       "            observer.disconnect();\n",
       "        }}\n",
       "}});\n",
       "\n",
       "// Listen for the removal of the full notebook cells\n",
       "var notebookContainer = gd.closest('#notebook-container');\n",
       "if (notebookContainer) {{\n",
       "    x.observe(notebookContainer, {childList: true});\n",
       "}}\n",
       "\n",
       "// Listen for the clearing of the current output cell\n",
       "var outputEl = gd.closest('.output');\n",
       "if (outputEl) {{\n",
       "    x.observe(outputEl, {childList: true});\n",
       "}}\n",
       "\n",
       "                        })\n",
       "                };\n",
       "                });\n",
       "            </script>\n",
       "        </div>"
      ]
     },
     "metadata": {},
     "output_type": "display_data"
    }
   ],
   "source": [
    "import plotly.express as px\n",
    "\n",
    "fig = px.line(df_hashtags, x=\"date\", y=\"value\", color='hashtag')\n",
    "fig.show()"
   ]
  },
  {
   "cell_type": "code",
   "execution_count": null,
   "metadata": {},
   "outputs": [],
   "source": []
  },
  {
   "cell_type": "code",
   "execution_count": null,
   "metadata": {},
   "outputs": [],
   "source": []
  },
  {
   "cell_type": "code",
   "execution_count": null,
   "metadata": {},
   "outputs": [],
   "source": []
  }
 ],
 "metadata": {
  "kernelspec": {
   "display_name": "Python 3",
   "language": "python",
   "name": "python3"
  },
  "language_info": {
   "codemirror_mode": {
    "name": "ipython",
    "version": 3
   },
   "file_extension": ".py",
   "mimetype": "text/x-python",
   "name": "python",
   "nbconvert_exporter": "python",
   "pygments_lexer": "ipython3",
   "version": "3.7.4"
  }
 },
 "nbformat": 4,
 "nbformat_minor": 2
}
