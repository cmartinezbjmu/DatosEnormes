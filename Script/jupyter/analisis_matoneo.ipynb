{
 "cells": [
  {
   "cell_type": "code",
   "execution_count": 59,
   "metadata": {},
   "outputs": [
    {
     "ename": "ModuleNotFoundError",
     "evalue": "No module named 'pandas_profiling'",
     "output_type": "error",
     "traceback": [
      "\u001b[0;31m---------------------------------------------------------------------------\u001b[0m",
      "\u001b[0;31mModuleNotFoundError\u001b[0m                       Traceback (most recent call last)",
      "\u001b[0;32m<ipython-input-59-7080606dccc6>\u001b[0m in \u001b[0;36m<module>\u001b[0;34m\u001b[0m\n\u001b[1;32m      1\u001b[0m \u001b[0;32mimport\u001b[0m \u001b[0mpandas\u001b[0m \u001b[0;32mas\u001b[0m \u001b[0mpd\u001b[0m\u001b[0;34m\u001b[0m\u001b[0;34m\u001b[0m\u001b[0m\n\u001b[1;32m      2\u001b[0m \u001b[0;32mfrom\u001b[0m \u001b[0mpymongo\u001b[0m \u001b[0;32mimport\u001b[0m \u001b[0mMongoClient\u001b[0m\u001b[0;34m,\u001b[0m \u001b[0merrors\u001b[0m\u001b[0;34m\u001b[0m\u001b[0;34m\u001b[0m\u001b[0m\n\u001b[0;32m----> 3\u001b[0;31m \u001b[0;32mimport\u001b[0m \u001b[0mpandas_profiling\u001b[0m\u001b[0;34m\u001b[0m\u001b[0;34m\u001b[0m\u001b[0m\n\u001b[0m",
      "\u001b[0;31mModuleNotFoundError\u001b[0m: No module named 'pandas_profiling'"
     ]
    }
   ],
   "source": [
    "import pandas as pd\n",
    "from pymongo import MongoClient, errors\n",
    "import pandas_profiling"
   ]
  },
  {
   "cell_type": "code",
   "execution_count": 47,
   "metadata": {},
   "outputs": [
    {
     "name": "stdout",
     "output_type": "stream",
     "text": [
      "1373\n"
     ]
    }
   ],
   "source": [
    "while True:\n",
    "    try:\n",
    "        client = MongoClient(\"mongodb://bigdata-mongodb-04.virtual.uniandes.edu.co:8087/\", retryWrites=False, serverSelectionTimeoutMS=10, connectTimeoutMS=20000)\n",
    "        client.server_info() # force connection on a request as the\n",
    "    except errors.ServerSelectionTimeoutError as err:\n",
    "        print(err)\n",
    "    finally:\n",
    "        if client.server_info():            \n",
    "            break\n",
    "\n",
    "database = client[\"Grupo03\"]\n",
    "collection = database[\"COL_dataset\"]\n",
    "query = {}\n",
    "query[\"tendencia\"] = {\n",
    "    u\"$ne\": u\"\"\n",
    "}\n",
    "query[\"$and\"] = [\n",
    "    {\n",
    "        u\"tendencia\": {\n",
    "            u\"$exists\": True\n",
    "        }\n",
    "    }\n",
    "]\n",
    "\n",
    "cursor = collection.find(query)\n",
    "data = []\n",
    "\n",
    "try:\n",
    "    for doc in cursor:\n",
    "        data.append([doc['reply_or_quote'].lower(), doc['tendencia']])\n",
    "finally:\n",
    "    client.close()\n",
    "   \n",
    "print(len(data))"
   ]
  },
  {
   "cell_type": "code",
   "execution_count": 48,
   "metadata": {},
   "outputs": [
    {
     "data": {
      "text/html": [
       "<div>\n",
       "<style scoped>\n",
       "    .dataframe tbody tr th:only-of-type {\n",
       "        vertical-align: middle;\n",
       "    }\n",
       "\n",
       "    .dataframe tbody tr th {\n",
       "        vertical-align: top;\n",
       "    }\n",
       "\n",
       "    .dataframe thead th {\n",
       "        text-align: right;\n",
       "    }\n",
       "</style>\n",
       "<table border=\"1\" class=\"dataframe\">\n",
       "  <thead>\n",
       "    <tr style=\"text-align: right;\">\n",
       "      <th></th>\n",
       "      <th>tweet</th>\n",
       "      <th>tendencia</th>\n",
       "    </tr>\n",
       "  </thead>\n",
       "  <tbody>\n",
       "    <tr>\n",
       "      <td>0</td>\n",
       "      <td>@claudialopez @infopresidencia @bogota claudia...</td>\n",
       "      <td>1</td>\n",
       "    </tr>\n",
       "    <tr>\n",
       "      <td>1</td>\n",
       "      <td>@claudialopez @infopresidencia @bogota dios la...</td>\n",
       "      <td>0</td>\n",
       "    </tr>\n",
       "    <tr>\n",
       "      <td>2</td>\n",
       "      <td>@claudialopez @infopresidencia @bogota no clau...</td>\n",
       "      <td>1</td>\n",
       "    </tr>\n",
       "    <tr>\n",
       "      <td>3</td>\n",
       "      <td>@claudialopez @infopresidencia @bogota el giro...</td>\n",
       "      <td>1</td>\n",
       "    </tr>\n",
       "    <tr>\n",
       "      <td>4</td>\n",
       "      <td>@claudialopez @infopresidencia @bogota ganando...</td>\n",
       "      <td>1</td>\n",
       "    </tr>\n",
       "  </tbody>\n",
       "</table>\n",
       "</div>"
      ],
      "text/plain": [
       "                                               tweet  tendencia\n",
       "0  @claudialopez @infopresidencia @bogota claudia...          1\n",
       "1  @claudialopez @infopresidencia @bogota dios la...          0\n",
       "2  @claudialopez @infopresidencia @bogota no clau...          1\n",
       "3  @claudialopez @infopresidencia @bogota el giro...          1\n",
       "4  @claudialopez @infopresidencia @bogota ganando...          1"
      ]
     },
     "execution_count": 48,
     "metadata": {},
     "output_type": "execute_result"
    }
   ],
   "source": [
    "df = pd.DataFrame(data,columns=['tweet', 'tendencia'])\n",
    "df.head()"
   ]
  },
  {
   "cell_type": "code",
   "execution_count": 49,
   "metadata": {},
   "outputs": [],
   "source": [
    "from sklearn.feature_extraction.text import TfidfVectorizer\n",
    "from sklearn.model_selection import train_test_split\n",
    "from sklearn.feature_extraction.text import CountVectorizer\n",
    "from sklearn.feature_extraction.text import TfidfTransformer\n",
    "from sklearn.naive_bayes import MultinomialNB\n",
    "from sklearn.linear_model import LogisticRegression\n",
    "from sklearn.ensemble import RandomForestClassifier\n",
    "from sklearn.svm import LinearSVC\n",
    "from sklearn.model_selection import cross_val_score\n",
    "from imblearn.datasets import make_imbalance\n",
    "import sys\n",
    "import os\n",
    "\n",
    "def quitar_cuentas(a):\n",
    "    texto=\" \".join(filter(lambda x:x[0]!='@', a.split()))\n",
    "    return texto\n",
    "\n",
    "## Función de correr el modelo\n",
    "def correr_modelo(val, X_train_tfidf, y_train):\n",
    "    if val=='NB':\n",
    "        clf = MultinomialNB().fit(X_train_tfidf, y_train)\n",
    "    elif val=='RF':\n",
    "        clf = RandomForestClassifier(n_estimators=200, max_depth=3, random_state=0).fit(X_train_tfidf, y_train)\n",
    "    elif val=='LR':\n",
    "        clf = LogisticRegression(random_state=0).fit(X_train_tfidf, y_train)\n",
    "    elif val=='SV':\n",
    "        clf = LinearSVC()().fit(X_train_tfidf, y_train)\n",
    "    return clf"
   ]
  },
  {
   "cell_type": "code",
   "execution_count": 61,
   "metadata": {},
   "outputs": [],
   "source": [
    "df['tendencia'] = df['tendencia'].astype('int')\n",
    "df['tweet']=df['tweet'].apply(lambda x: quitar_cuentas(x))\n",
    "\n",
    "\n",
    "## Train y test para el modelo\n",
    "X_train, X_test, y_train, y_test = train_test_split(df['tweet'], df['tendencia'], random_state = 0)\n",
    "count_vect = CountVectorizer()\n",
    "X_train_counts = count_vect.fit_transform(X_train)\n",
    "tfidf_transformer = TfidfTransformer()\n",
    "X_train_tfidf = tfidf_transformer.fit_transform(X_train_counts)\n",
    "\n",
    "clf=correr_modelo('NB', X_train_tfidf, y_train)\n",
    "cwd = os.getcwd()\n"
   ]
  },
  {
   "cell_type": "code",
   "execution_count": null,
   "metadata": {},
   "outputs": [],
   "source": []
  }
 ],
 "metadata": {
  "kernelspec": {
   "display_name": "Python 3",
   "language": "python",
   "name": "python3"
  },
  "language_info": {
   "codemirror_mode": {
    "name": "ipython",
    "version": 3
   },
   "file_extension": ".py",
   "mimetype": "text/x-python",
   "name": "python",
   "nbconvert_exporter": "python",
   "pygments_lexer": "ipython3",
   "version": "3.7.4"
  }
 },
 "nbformat": 4,
 "nbformat_minor": 2
}
